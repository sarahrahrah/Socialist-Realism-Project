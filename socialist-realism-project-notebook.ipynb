{
 "cells": [
  {
   "cell_type": "markdown",
   "metadata": {},
   "source": [
    "# <center> Exploring Pre-WWII Soviet Socialist Realism with Text Analysis"
   ]
  },
  {
   "cell_type": "markdown",
   "metadata": {},
   "source": [
    "<img src=\"image.png\">"
   ]
  },
  {
   "cell_type": "markdown",
   "metadata": {},
   "source": [
    "About: This notebook uses logistic regression and topic modeling to explore the particularities of the Soviet literary genre of socialist realism in the pre-WII Soviet Union.  \n",
    "\n",
    "The python modules nltk, gensim, pymystem, and pyLDAvis are used in this notebook."
   ]
  },
  {
   "cell_type": "code",
   "execution_count": 1,
   "metadata": {},
   "outputs": [],
   "source": [
    "import numpy as np\n",
    "import pandas as pd\n",
    "from nltk.corpus import stopwords \n",
    "import string\n",
    "import gensim\n",
    "import scipy\n",
    "from sklearn.utils import shuffle\n",
    "from sklearn.feature_extraction.text import CountVectorizer\n",
    "from sklearn.linear_model import LogisticRegression\n",
    "from sklearn.linear_model import LogisticRegression\n",
    "from sklearn import model_selection\n",
    "from sklearn.model_selection import train_test_split\n",
    "from sklearn.model_selection import cross_val_score\n",
    "from sklearn.metrics import confusion_matrix\n",
    "from sklearn.metrics import classification_report\n",
    "\n",
    "from gensim import corpora\n",
    "from gensim import models\n",
    "from gensim.models.coherencemodel import CoherenceModel\n",
    "import matplotlib.pyplot as plt\n",
    "from pymystem3 import Mystem\n",
    "import pyLDAvis\n",
    "import re"
   ]
  },
  {
   "cell_type": "markdown",
   "metadata": {},
   "source": [
    "# Section 1 : Predictive Analysis"
   ]
  },
  {
   "cell_type": "markdown",
   "metadata": {},
   "source": [
    "This section splits the corpus (both socialist realism and banned literature) into training and testing data and uses logistic regression to predict the values of the testing data.   "
   ]
  },
  {
   "cell_type": "markdown",
   "metadata": {},
   "source": [
    "Load .csv with both socialist realism and banned literature. "
   ]
  },
  {
   "cell_type": "code",
   "execution_count": 2,
   "metadata": {},
   "outputs": [],
   "source": [
    "df = pd.read_csv(\"csv_files/data_for_log_reg_smaller_chunks.csv\")\n",
    "df = shuffle(df)\n",
    "\n",
    "y = df['bannedorsoclit']\n"
   ]
  },
  {
   "cell_type": "markdown",
   "metadata": {},
   "source": [
    "Clean and lemmatize the text."
   ]
  },
  {
   "cell_type": "code",
   "execution_count": 3,
   "metadata": {},
   "outputs": [
    {
     "data": {
      "text/html": [
       "<div>\n",
       "<style>\n",
       "    .dataframe thead tr:only-child th {\n",
       "        text-align: right;\n",
       "    }\n",
       "\n",
       "    .dataframe thead th {\n",
       "        text-align: left;\n",
       "    }\n",
       "\n",
       "    .dataframe tbody tr th {\n",
       "        vertical-align: top;\n",
       "    }\n",
       "</style>\n",
       "<table border=\"1\" class=\"dataframe\">\n",
       "  <thead>\n",
       "    <tr style=\"text-align: right;\">\n",
       "      <th></th>\n",
       "      <th>source</th>\n",
       "      <th>title</th>\n",
       "      <th>date</th>\n",
       "      <th>text</th>\n",
       "      <th>bannedorsoclit</th>\n",
       "      <th>cleanedtext</th>\n",
       "    </tr>\n",
       "  </thead>\n",
       "  <tbody>\n",
       "    <tr>\n",
       "      <th>222</th>\n",
       "      <td>\\n\\nhttp://www.lib.ru/PROZA/SHOLOHOW/tihijdon1...</td>\n",
       "      <td>\\nТихий Дон\\n</td>\n",
       "      <td>4</td>\n",
       "      <td>в рубке , постарше - отвиливали от занятий . Л...</td>\n",
       "      <td>1</td>\n",
       "      <td>рубка старший отвиливать занятие человек хрипн...</td>\n",
       "    </tr>\n",
       "    <tr>\n",
       "      <th>187</th>\n",
       "      <td>\\n\\nhttp://lib.ru/RUSSLIT/OSTROWSKIJ/rozhdenn_...</td>\n",
       "      <td>\\n\\nРожденные бурей\\n\\n</td>\n",
       "      <td>4</td>\n",
       "      <td>даже тогда были далеки от Черного моря ) , и п...</td>\n",
       "      <td>1</td>\n",
       "      <td>далекий черный море погибать оттого каждый уез...</td>\n",
       "    </tr>\n",
       "    <tr>\n",
       "      <th>197</th>\n",
       "      <td>\\n\\nhttp://lib.ru/RUSSLIT/OSTROWSKIJ/kak_zakal...</td>\n",
       "      <td>\\n\\nКак закалялась сталь\\n\\n</td>\n",
       "      <td>5</td>\n",
       "      <td>это время со стороны мельницы в город въезжал ...</td>\n",
       "      <td>1</td>\n",
       "      <td>время сторона мельница город въезжать вооружен...</td>\n",
       "    </tr>\n",
       "    <tr>\n",
       "      <th>135</th>\n",
       "      <td>\\n\\nhttp://librebook.me/cement\\n\\n</td>\n",
       "      <td>\\nЦемент\\n</td>\n",
       "      <td>2</td>\n",
       "      <td>проклятых… Вишь , морды какие нахолили ! .. Мо...</td>\n",
       "      <td>1</td>\n",
       "      <td>проклятый … вишь морда нахолить    чертол коза...</td>\n",
       "    </tr>\n",
       "    <tr>\n",
       "      <th>136</th>\n",
       "      <td>\\n\\nhttp://librebook.me/cement\\n\\n</td>\n",
       "      <td>\\nЦемент\\n</td>\n",
       "      <td>3</td>\n",
       "      <td>Здравствуйте , товарищ Чумалова ! Заведующий с...</td>\n",
       "      <td>1</td>\n",
       "      <td>здравствовать товарищ чумалов заведующий прийт...</td>\n",
       "    </tr>\n",
       "  </tbody>\n",
       "</table>\n",
       "</div>"
      ],
      "text/plain": [
       "                                                source  \\\n",
       "222  \\n\\nhttp://www.lib.ru/PROZA/SHOLOHOW/tihijdon1...   \n",
       "187  \\n\\nhttp://lib.ru/RUSSLIT/OSTROWSKIJ/rozhdenn_...   \n",
       "197  \\n\\nhttp://lib.ru/RUSSLIT/OSTROWSKIJ/kak_zakal...   \n",
       "135                \\n\\nhttp://librebook.me/cement\\n\\n    \n",
       "136                \\n\\nhttp://librebook.me/cement\\n\\n    \n",
       "\n",
       "                             title date  \\\n",
       "222                 \\nТихий Дон\\n     4   \n",
       "187       \\n\\nРожденные бурей\\n\\n     4   \n",
       "197  \\n\\nКак закалялась сталь\\n\\n     5   \n",
       "135                    \\nЦемент\\n     2   \n",
       "136                    \\nЦемент\\n     3   \n",
       "\n",
       "                                                  text  bannedorsoclit  \\\n",
       "222  в рубке , постарше - отвиливали от занятий . Л...               1   \n",
       "187  даже тогда были далеки от Черного моря ) , и п...               1   \n",
       "197  это время со стороны мельницы в город въезжал ...               1   \n",
       "135  проклятых… Вишь , морды какие нахолили ! .. Мо...               1   \n",
       "136  Здравствуйте , товарищ Чумалова ! Заведующий с...               1   \n",
       "\n",
       "                                           cleanedtext  \n",
       "222  рубка старший отвиливать занятие человек хрипн...  \n",
       "187  далекий черный море погибать оттого каждый уез...  \n",
       "197  время сторона мельница город въезжать вооружен...  \n",
       "135  проклятый … вишь морда нахолить    чертол коза...  \n",
       "136  здравствовать товарищ чумалов заведующий прийт...  "
      ]
     },
     "execution_count": 3,
     "metadata": {},
     "output_type": "execute_result"
    }
   ],
   "source": [
    "stop = list(stopwords.words('russian'))\n",
    "stop.extend(['это', 'свой', 'то', ' ', 'то', 'который'])\n",
    "mystem = Mystem() \n",
    "exclude = list(string.punctuation)\n",
    "exclude.extend\n",
    "\n",
    "def clean(text):\n",
    "    tokens = text.split(\" \")\n",
    "    tokens = [i.strip().lower() for i in tokens]\n",
    "    tokens = [i for i in tokens if i not in exclude]\n",
    "    tokens = [re.sub(r'[!|,|?|.|:|;]|\\.{1,}$\\)', \"\", item) for item in tokens]\n",
    "    tokens = [i for i in tokens if i not in stop]\n",
    "    cleanedtext = \" \".join(tokens)\n",
    "    lemmatized = mystem.lemmatize(cleanedtext.lower())\n",
    "    lemmatized = [i for i in lemmatized if i not in exclude]\n",
    "    lemmatized = [i for i in lemmatized if i not in stop]\n",
    "    lemmatized = \" \".join(str(x) for x in lemmatized)\n",
    "    return lemmatized\n",
    "\n",
    "\n",
    "df[\"cleanedtext\"] = df[\"text\"].apply(clean)\n",
    "\n",
    "df.head()\n"
   ]
  },
  {
   "cell_type": "markdown",
   "metadata": {},
   "source": [
    "Vectorize the text and split it into training and testing data"
   ]
  },
  {
   "cell_type": "code",
   "execution_count": 4,
   "metadata": {},
   "outputs": [
    {
     "name": "stdout",
     "output_type": "stream",
     "text": [
      "(163, 120538) (110, 120538) (163,) (110,)\n"
     ]
    }
   ],
   "source": [
    "count_vectorizer = CountVectorizer(stop_words=None)\n",
    "# count_vectorizer = TfidfVectorizer()\n",
    "features = count_vectorizer.fit_transform(\n",
    "    df['text'])\n",
    "\n",
    "features_nd = features.toarray()\n",
    "\n",
    "X_train, X_test, y_train, y_test = train_test_split(\n",
    "                                             features_nd[0:len(df['text'])], y, \n",
    "                                             test_size=0.4, \n",
    "                                             random_state=53)\n",
    "\n",
    "print(X_train.shape, X_test.shape, y_train.shape, y_test.shape)"
   ]
  },
  {
   "cell_type": "markdown",
   "metadata": {},
   "source": [
    "Apply logistic regression."
   ]
  },
  {
   "cell_type": "code",
   "execution_count": 5,
   "metadata": {},
   "outputs": [
    {
     "name": "stdout",
     "output_type": "stream",
     "text": [
      "Accuracy of logistic regression classifier on test set: 0.95\n",
      "10-fold cross validation average accuracy: 0.951\n",
      "confusion_matrix [[30  6]\n",
      " [ 0 74]]\n",
      "             precision    recall  f1-score   support\n",
      "\n",
      "          0       1.00      0.83      0.91        36\n",
      "          1       0.93      1.00      0.96        74\n",
      "\n",
      "avg / total       0.95      0.95      0.94       110\n",
      "\n"
     ]
    }
   ],
   "source": [
    "log_model = LogisticRegression()\n",
    "log_model = log_model.fit(X=X_train, y=y_train)\n",
    "y_pred = log_model.predict(X_test)\n",
    "print('Accuracy of logistic regression classifier on test set: {:.2f}'.format(log_model.score(X_test, y_test)))\n",
    "\n",
    "kfold = model_selection.KFold(n_splits=10, random_state=7)\n",
    "modelCV = LogisticRegression()\n",
    "scoring = 'accuracy'\n",
    "results = model_selection.cross_val_score(modelCV, X_train, y_train, cv=kfold, scoring=scoring)\n",
    "print(\"10-fold cross validation average accuracy: %.3f\" % (results.mean()))\n",
    "\n",
    "confusion_matrix = confusion_matrix(y_test, y_pred)\n",
    "print('confusion_matrix', confusion_matrix)\n",
    "\n",
    "print(classification_report(y_test, y_pred))\n",
    "\n",
    "\n"
   ]
  },
  {
   "cell_type": "markdown",
   "metadata": {},
   "source": [
    "Results indicate that, logistic regression, with a certain degree of accuracy can differentiate between the socialist realism and banned literature corpora.  It is likely that accuracy might be even higher, were deep learning techniques to be applied. "
   ]
  },
  {
   "cell_type": "markdown",
   "metadata": {},
   "source": [
    "# Section 2: Topic Modeling"
   ]
  },
  {
   "cell_type": "markdown",
   "metadata": {},
   "source": [
    "Import .csv with data from entire socialist realist literature corpus. "
   ]
  },
  {
   "cell_type": "code",
   "execution_count": 6,
   "metadata": {},
   "outputs": [
    {
     "data": {
      "text/plain": [
       "0     СОДЕРЖАНИЕ I. Морозка II . Мечик III . Шестое...\n",
       "1     . Многие открыто роптали на `` подлость и нес...\n",
       "2     бровей на тоненькую девушку с длинными косами...\n",
       "3     время люди очнулись и поняли , что наступило ...\n",
       "4     кричал Рябец , навалившись на одно слово и вс...\n",
       "Name: text, dtype: object"
      ]
     },
     "execution_count": 6,
     "metadata": {},
     "output_type": "execute_result"
    }
   ],
   "source": [
    "litdata = pd.read_csv(\"csv_files/socialist_realism_for_tm.csv\")\n",
    "litdata['text'].head(5)"
   ]
  },
  {
   "cell_type": "markdown",
   "metadata": {},
   "source": [
    "Define stopwords, punctuation, read in output from named entity recognition (NER) script."
   ]
  },
  {
   "cell_type": "code",
   "execution_count": 7,
   "metadata": {},
   "outputs": [],
   "source": [
    "with open('NERoutput.txt') as fp:\n",
    "    lines = fp.read().splitlines()\n",
    "\n",
    "lines = [i.lower() for i in lines]\n",
    "\n",
    "stop = list(stopwords.words('russian'))\n",
    "stop.extend(['это', 'свой', 'то', ' ','который'])\n",
    "stop.extend(lines)\n",
    "\n",
    "punctuation = list(string.punctuation)\n",
    "punctuation.extend(['--', '—', '«', '»',\" -- \", \"\\n\", \"\\r\", \"\\t\",\"-\" ,\"-\", \"...\", \"…\", \" - \", \" « \", \" \", \"..\", \"``\", \"\\\"\\\"\",\"\\'\\'\"])\n"
   ]
  },
  {
   "cell_type": "markdown",
   "metadata": {},
   "source": [
    "Use function to create a new column in pandas df with cleaned text."
   ]
  },
  {
   "cell_type": "code",
   "execution_count": 8,
   "metadata": {},
   "outputs": [
    {
     "data": {
      "text/plain": [
       "0    [содержание, i, ii, iii, шестое, чувство, iv, ...\n",
       "1    [многие, открыто, роптали, подлость, несознани...\n",
       "2    [бровей, тоненькую, девушку, длинными, косами,...\n",
       "3    [время, люди, очнулись, поняли, наступило, утр...\n",
       "4    [кричал, рябец, навалившись, одно, слово, веря...\n",
       "Name: no_punc_or_stop, dtype: object"
      ]
     },
     "execution_count": 8,
     "metadata": {},
     "output_type": "execute_result"
    }
   ],
   "source": [
    "# Create new column in dataframe that is literary texts without stopwords and punctuation, as well as without\n",
    "# named entities for people, as identified in NERoutput.txt, which was created with NERscript.py\n",
    "\n",
    "def cleantext(text):\n",
    "    tokens = text.split(\" \")\n",
    "    tokenslower = [i.strip().lower() for i in tokens]\n",
    "#the following list comprehension gets rid of word-final punctuation, while retaining word-medial punctuation in words like \"кто-то\"\n",
    "    tokens_no_word_final_punc = [re.sub(r'[!|,|?|.|:|;]|\\.{1,}$\\)', \"\", item) for item in tokenslower]\n",
    "    tokens_no_stop_or_punc = [i for i in tokens_no_word_final_punc if i not in stop if i not in punctuation]\n",
    "#the following line gets rid of blank, empty spaces in each list    \n",
    "    tokens_no_stop_or_punc = list(filter(None, tokens_no_stop_or_punc))\n",
    "    return tokens_no_stop_or_punc\n",
    "    \n",
    "litdata[\"no_punc_or_stop\"] = litdata[\"text\"].apply(cleantext)\n",
    "no_punc_or_stop = litdata[\"no_punc_or_stop\"]\n",
    "\n",
    "# Print first five rows of new column\n",
    "\n",
    "no_punc_or_stop.head(5)"
   ]
  },
  {
   "cell_type": "markdown",
   "metadata": {},
   "source": [
    "Use pymystem to lemmatize the text. "
   ]
  },
  {
   "cell_type": "code",
   "execution_count": 9,
   "metadata": {},
   "outputs": [
    {
     "data": {
      "text/plain": [
       "0    [содержание, i, ii, iii, шестой, чувство, iv, ...\n",
       "1    [многие, открыто, роптать, подлость, несознани...\n",
       "2    [бровь, тоненький, девушка, длинный, коса, под...\n",
       "3    [время, человек, очнуться, понимать, наступать...\n",
       "4    [кричать, рябец, наваливаться, слово, верить, ...\n",
       "Name: lemmatized, dtype: object"
      ]
     },
     "execution_count": 9,
     "metadata": {},
     "output_type": "execute_result"
    }
   ],
   "source": [
    "mystem = Mystem() \n",
    "\n",
    "\n",
    "def lemmatize(text):\n",
    "    joinedtokens = \" \".join(text)\n",
    "    lemmatized = mystem.lemmatize(joinedtokens)\n",
    "    lemmatized = [i for i in lemmatized if i not in stop if i not in punctuation]\n",
    "    return lemmatized\n",
    "    \n",
    "litdata[\"lemmatized\"] = litdata[\"no_punc_or_stop\"].apply(lemmatize)\n",
    "\n",
    "litdata[\"lemmatized\"].head(5)"
   ]
  },
  {
   "cell_type": "markdown",
   "metadata": {},
   "source": [
    "Topic modeling with gensim, using Latent Semantic Indexing (LSI)"
   ]
  },
  {
   "cell_type": "code",
   "execution_count": 10,
   "metadata": {},
   "outputs": [
    {
     "name": "stdout",
     "output_type": "stream",
     "text": [
      "[(0, '0.286*\"сказать\" + 0.255*\"человек\" + 0.228*\"рука\" + 0.204*\"говорить\"'), (1, '0.324*\"мать\" + 0.322*\"сказать\" + -0.246*\"казак\" + 0.227*\"человек\"'), (2, '-0.202*\"знать\" + -0.183*\"дело\" + 0.177*\"глаз\" + 0.168*\"голова\"'), (3, '-0.286*\"казак\" + 0.228*\"человек\" + -0.223*\"мать\" + -0.157*\"говорить\"')]\n"
     ]
    }
   ],
   "source": [
    "dictionary = corpora.Dictionary(litdata[\"lemmatized\"] )\n",
    "doc_term_matrix = [dictionary.doc2bow(item) for item in litdata[\"lemmatized\"] ]\n",
    "lsi = models.LsiModel(doc_term_matrix, num_topics=4, id2word=dictionary)\n",
    "output = lsi.print_topics(num_topics=4, num_words = 4)\n",
    "print (output)"
   ]
  },
  {
   "cell_type": "markdown",
   "metadata": {},
   "source": [
    "Results are skewed because of the length of certain works in the corpus, primarily \"Quiet Flows the Don\".  Next step, try to rectify these results by using a smaller, more even amount of text from each work in the corpus."
   ]
  },
  {
   "cell_type": "markdown",
   "metadata": {},
   "source": [
    "## What are the results with smaller chunked files?"
   ]
  },
  {
   "cell_type": "code",
   "execution_count": 11,
   "metadata": {},
   "outputs": [
    {
     "data": {
      "text/html": [
       "<div>\n",
       "<style>\n",
       "    .dataframe thead tr:only-child th {\n",
       "        text-align: right;\n",
       "    }\n",
       "\n",
       "    .dataframe thead th {\n",
       "        text-align: left;\n",
       "    }\n",
       "\n",
       "    .dataframe tbody tr th {\n",
       "        vertical-align: top;\n",
       "    }\n",
       "</style>\n",
       "<table border=\"1\" class=\"dataframe\">\n",
       "  <thead>\n",
       "    <tr style=\"text-align: right;\">\n",
       "      <th></th>\n",
       "      <th>title</th>\n",
       "      <th>name</th>\n",
       "      <th>date</th>\n",
       "      <th>english metadata</th>\n",
       "      <th>source</th>\n",
       "      <th>text</th>\n",
       "    </tr>\n",
       "  </thead>\n",
       "  <tbody>\n",
       "    <tr>\n",
       "      <th>0</th>\n",
       "      <td>Разгром</td>\n",
       "      <td>Фадеев , Александр Александрович</td>\n",
       "      <td>1926</td>\n",
       "      <td>Aleksandr Fadeev , The Rout , 1926</td>\n",
       "      <td>http : //lib.ru/RUSSLIT/FADEEW/razgrom.txt</td>\n",
       "      <td>СОДЕРЖАНИЕ I. Морозка II . Мечик III . Шестое...</td>\n",
       "    </tr>\n",
       "    <tr>\n",
       "      <th>1</th>\n",
       "      <td>\\n\\nРазгром\\n\\n</td>\n",
       "      <td>Фадеев, Александр Александрович\\n\\n</td>\n",
       "      <td>2</td>\n",
       "      <td>\\n\\nAleksandr Fadeev, The Rout, 1926\\n\\n</td>\n",
       "      <td>\\n\\nhttp://lib.ru/RUSSLIT/FADEEW/razgrom.txt\\n\\n</td>\n",
       "      <td>пыльным , сумасшедшим карьером . -- Обожди-и ,...</td>\n",
       "    </tr>\n",
       "    <tr>\n",
       "      <th>2</th>\n",
       "      <td>\\n\\nРазгром\\n\\n</td>\n",
       "      <td>Фадеев, Александр Александрович\\n\\n</td>\n",
       "      <td>3</td>\n",
       "      <td>\\n\\nAleksandr Fadeev, The Rout, 1926\\n\\n</td>\n",
       "      <td>\\n\\nhttp://lib.ru/RUSSLIT/FADEEW/razgrom.txt\\n\\n</td>\n",
       "      <td>.. -- снова повторил Дубов . -- Блуди ! Посмот...</td>\n",
       "    </tr>\n",
       "    <tr>\n",
       "      <th>3</th>\n",
       "      <td>\\n\\nРазгром\\n\\n</td>\n",
       "      <td>Фадеев, Александр Александрович\\n\\n</td>\n",
       "      <td>4</td>\n",
       "      <td>\\n\\nAleksandr Fadeev, The Rout, 1926\\n\\n</td>\n",
       "      <td>\\n\\nhttp://lib.ru/RUSSLIT/FADEEW/razgrom.txt\\n\\n</td>\n",
       "      <td>Ведь надо как-то , умеют же другие ... '' В мы...</td>\n",
       "    </tr>\n",
       "    <tr>\n",
       "      <th>4</th>\n",
       "      <td>\\n\\nРазгром\\n\\n</td>\n",
       "      <td>Фадеев, Александр Александрович\\n\\n</td>\n",
       "      <td>5</td>\n",
       "      <td>\\n\\nAleksandr Fadeev, The Rout, 1926\\n\\n</td>\n",
       "      <td>\\n\\nhttp://lib.ru/RUSSLIT/FADEEW/razgrom.txt\\n\\n</td>\n",
       "      <td>ребят , вернувшихся из-за реки . Дубов узнал ,...</td>\n",
       "    </tr>\n",
       "  </tbody>\n",
       "</table>\n",
       "</div>"
      ],
      "text/plain": [
       "              title                                 name    date  \\\n",
       "0          Разгром     Фадеев , Александр Александрович    1926    \n",
       "1  \\n\\nРазгром\\n\\n   Фадеев, Александр Александрович\\n\\n       2   \n",
       "2  \\n\\nРазгром\\n\\n   Фадеев, Александр Александрович\\n\\n       3   \n",
       "3  \\n\\nРазгром\\n\\n   Фадеев, Александр Александрович\\n\\n       4   \n",
       "4  \\n\\nРазгром\\n\\n   Фадеев, Александр Александрович\\n\\n       5   \n",
       "\n",
       "                            english metadata  \\\n",
       "0        Aleksandr Fadeev , The Rout , 1926    \n",
       "1  \\n\\nAleksandr Fadeev, The Rout, 1926\\n\\n    \n",
       "2  \\n\\nAleksandr Fadeev, The Rout, 1926\\n\\n    \n",
       "3  \\n\\nAleksandr Fadeev, The Rout, 1926\\n\\n    \n",
       "4  \\n\\nAleksandr Fadeev, The Rout, 1926\\n\\n    \n",
       "\n",
       "                                              source  \\\n",
       "0        http : //lib.ru/RUSSLIT/FADEEW/razgrom.txt    \n",
       "1  \\n\\nhttp://lib.ru/RUSSLIT/FADEEW/razgrom.txt\\n\\n    \n",
       "2  \\n\\nhttp://lib.ru/RUSSLIT/FADEEW/razgrom.txt\\n\\n    \n",
       "3  \\n\\nhttp://lib.ru/RUSSLIT/FADEEW/razgrom.txt\\n\\n    \n",
       "4  \\n\\nhttp://lib.ru/RUSSLIT/FADEEW/razgrom.txt\\n\\n    \n",
       "\n",
       "                                                text  \n",
       "0   СОДЕРЖАНИЕ I. Морозка II . Мечик III . Шестое...  \n",
       "1  пыльным , сумасшедшим карьером . -- Обожди-и ,...  \n",
       "2  .. -- снова повторил Дубов . -- Блуди ! Посмот...  \n",
       "3  Ведь надо как-то , умеют же другие ... '' В мы...  \n",
       "4  ребят , вернувшихся из-за реки . Дубов узнал ,...  "
      ]
     },
     "execution_count": 11,
     "metadata": {},
     "output_type": "execute_result"
    }
   ],
   "source": [
    "import pandas as pd\n",
    "\n",
    "newsocreal = pd.read_csv(\"csv_files/socreal_files_chunked_smaller.csv\")\n",
    "newsocreal.head(5)"
   ]
  },
  {
   "cell_type": "markdown",
   "metadata": {},
   "source": [
    "Apply all of the same steps to the .csv with smaller chunks of each individual work in the corpus.  "
   ]
  },
  {
   "cell_type": "code",
   "execution_count": 12,
   "metadata": {},
   "outputs": [
    {
     "name": "stdout",
     "output_type": "stream",
     "text": [
      "[(0, '-0.268*\"человек\" + -0.246*\"рука\" + -0.218*\"глаз\" + -0.158*\"голова\"'), (1, '0.416*\"мать\" + 0.205*\"человек\" + -0.173*\"крепость\" + -0.165*\"дело\"'), (2, '0.177*\"крепость\" + 0.167*\"дело\" + -0.158*\"голова\" + -0.155*\"казак\"'), (3, '0.288*\"товарищ\" + 0.165*\"завод\" + 0.163*\"рабочий\" + -0.142*\"двор\"')]\n"
     ]
    }
   ],
   "source": [
    "with open('NERoutput.txt') as fp:\n",
    "    lines = fp.read().splitlines()\n",
    "\n",
    "lines = [i.lower() for i in lines]\n",
    "lines = \" \".join(lines)\n",
    "mystem = Mystem() \n",
    "lemmatizedlines = mystem.lemmatize(lines)\n",
    "lemmatizedlines = [i for i in lemmatizedlines if i != \" \"]\n",
    "\n",
    "stop = list(stopwords.words('russian'))\n",
    "stop.extend(['это', 'свой', 'то', ' ','который', 'говорить', 'сказать', 'знать', 'спрашивать', 'вопрос'])\n",
    "stop.extend(lemmatizedlines)\n",
    "\n",
    "punctuation = list(string.punctuation)\n",
    "punctuation.extend(['--', '—', \" – \", ' —', '«', '»',\" -- \", \" – – \", \"\\n\", \"\\r\", \"\\t\",\"-\" ,\"-\", \"...\", \"…\", \" - \", \" « \", \" \", \"..\", \"``\", \"\\\"\\\"\",\"\\'\\'\"])\n",
    "\n",
    "def cleantext(text):\n",
    "    tokens = text.split(\" \")\n",
    "    tokenslower = [i.strip().lower() for i in tokens]\n",
    "#the following list comprehension gets rid of word-final punctuation, while retaining word-medial punctuation in words like \"кто-то\"\n",
    "    tokens_no_word_final_punc = [re.sub(r'[!|,|?|.|:|;]|\\.{1,}$\\)', \"\", item) for item in tokenslower]\n",
    "    tokens_no_stop_or_punc = [i for i in tokens_no_word_final_punc if i not in stop if i not in punctuation]\n",
    "#the following line gets rid of blank, empty spaces in each list    \n",
    "    tokens_no_stop_or_punc = list(filter(None, tokens_no_stop_or_punc))\n",
    "    return tokens_no_stop_or_punc\n",
    "\n",
    "newsocreal[\"no_punc_or_stop\"] = newsocreal[\"text\"].apply(cleantext)\n",
    "cleaned = newsocreal[\"no_punc_or_stop\"]\n",
    "\n",
    "mystem = Mystem() \n",
    "\n",
    "def lemmatize(text):\n",
    "    joinedtokens = \" \".join(text)\n",
    "    lemmatized = mystem.lemmatize(joinedtokens)\n",
    "    lemmatized = [i for i in lemmatized if i not in stop if i not in punctuation]\n",
    "    return lemmatized\n",
    "\n",
    "newsocreal[\"lemmatized\"] = newsocreal[\"no_punc_or_stop\"].apply(lemmatize)\n",
    "\n",
    "#Topic Modeling with Gensim, using Latent Semantic Indexing\n",
    "dictionary = corpora.Dictionary(newsocreal[\"lemmatized\"] )\n",
    "doc_term_matrix = [dictionary.doc2bow(item) for item in newsocreal[\"lemmatized\"] ]\n",
    "lsi = models.LsiModel(doc_term_matrix, num_topics=4, id2word=dictionary)\n",
    "output = lsi.print_topics(num_topics=4, num_words = 4)\n",
    "\n",
    "print (output)\n",
    "\n",
    "\n"
   ]
  },
  {
   "cell_type": "markdown",
   "metadata": {},
   "source": [
    "What happens with Latent Dirichlet Allocation (LDA) as opposed to LSI?"
   ]
  },
  {
   "cell_type": "code",
   "execution_count": 13,
   "metadata": {},
   "outputs": [
    {
     "name": "stdout",
     "output_type": "stream",
     "text": [
      "[(0, '0.005*\"глаз\" + 0.004*\"рука\" + 0.004*\"голова\" + 0.004*\"становиться\"'), (1, '0.006*\"товарищ\" + 0.005*\"рука\" + 0.004*\"глаз\" + 0.003*\"человек\"'), (2, '0.007*\"человек\" + 0.005*\"рука\" + 0.005*\"глаз\" + 0.004*\"лицо\"')]\n"
     ]
    }
   ],
   "source": [
    "import warnings\n",
    "warnings.filterwarnings(\"ignore\", category=DeprecationWarning) \n",
    "\n",
    "ldamodel = gensim.models.ldamodel.LdaModel(doc_term_matrix, num_topics=3, id2word = dictionary, passes=20)\n",
    "ldaoutput = ldamodel.print_topics(num_topics=3, num_words=4)\n",
    "print (ldaoutput)"
   ]
  },
  {
   "cell_type": "code",
   "execution_count": 14,
   "metadata": {},
   "outputs": [
    {
     "data": {
      "text/html": [
       "\n",
       "<link rel=\"stylesheet\" type=\"text/css\" href=\"https://cdn.rawgit.com/bmabey/pyLDAvis/files/ldavis.v1.0.0.css\">\n",
       "\n",
       "\n",
       "<div id=\"ldavis_el650458106246963635871068\"></div>\n",
       "<script type=\"text/javascript\">\n",
       "\n",
       "var ldavis_el650458106246963635871068_data = {\"mdsDat\": {\"Freq\": [66.26247242635387, 19.87112957958172, 13.866397994064423], \"cluster\": [1, 1, 1], \"topics\": [1, 2, 3], \"x\": [0.03529718440627065, -0.08903416174793945, 0.05373697734166873], \"y\": [0.06337748463462811, -0.0081856018021641, -0.055191882832463984]}, \"tinfo\": {\"Category\": [\"Default\", \"Default\", \"Default\", \"Default\", \"Default\", \"Default\", \"Default\", \"Default\", \"Default\", \"Default\", \"Default\", \"Default\", \"Default\", \"Default\", \"Default\", \"Default\", \"Default\", \"Default\", \"Default\", \"Default\", \"Default\", \"Default\", \"Default\", \"Default\", \"Default\", \"Default\", \"Default\", \"Default\", \"Default\", \"Default\", \"Topic1\", \"Topic1\", \"Topic1\", \"Topic1\", \"Topic1\", \"Topic1\", \"Topic1\", \"Topic1\", \"Topic1\", \"Topic1\", \"Topic1\", \"Topic1\", \"Topic1\", \"Topic1\", \"Topic1\", \"Topic1\", \"Topic1\", \"Topic1\", \"Topic1\", \"Topic1\", \"Topic1\", \"Topic1\", \"Topic1\", \"Topic1\", \"Topic1\", \"Topic1\", \"Topic1\", \"Topic1\", \"Topic1\", \"Topic1\", \"Topic1\", \"Topic1\", \"Topic1\", \"Topic1\", \"Topic1\", \"Topic1\", \"Topic1\", \"Topic1\", \"Topic1\", \"Topic1\", \"Topic1\", \"Topic1\", \"Topic1\", \"Topic1\", \"Topic1\", \"Topic1\", \"Topic1\", \"Topic1\", \"Topic1\", \"Topic1\", \"Topic1\", \"Topic1\", \"Topic1\", \"Topic1\", \"Topic1\", \"Topic1\", \"Topic1\", \"Topic1\", \"Topic1\", \"Topic1\", \"Topic1\", \"Topic1\", \"Topic1\", \"Topic1\", \"Topic1\", \"Topic1\", \"Topic1\", \"Topic1\", \"Topic1\", \"Topic1\", \"Topic1\", \"Topic1\", \"Topic1\", \"Topic1\", \"Topic1\", \"Topic1\", \"Topic1\", \"Topic1\", \"Topic1\", \"Topic1\", \"Topic1\", \"Topic1\", \"Topic1\", \"Topic1\", \"Topic1\", \"Topic1\", \"Topic1\", \"Topic1\", \"Topic1\", \"Topic1\", \"Topic2\", \"Topic2\", \"Topic2\", \"Topic2\", \"Topic2\", \"Topic2\", \"Topic2\", \"Topic2\", \"Topic2\", \"Topic2\", \"Topic2\", \"Topic2\", \"Topic2\", \"Topic2\", \"Topic2\", \"Topic2\", \"Topic2\", \"Topic2\", \"Topic2\", \"Topic2\", \"Topic2\", \"Topic2\", \"Topic2\", \"Topic2\", \"Topic2\", \"Topic2\", \"Topic2\", \"Topic2\", \"Topic2\", \"Topic2\", \"Topic2\", \"Topic2\", \"Topic2\", \"Topic2\", \"Topic2\", \"Topic2\", \"Topic2\", \"Topic2\", \"Topic2\", \"Topic2\", \"Topic2\", \"Topic2\", \"Topic2\", \"Topic2\", \"Topic2\", \"Topic2\", \"Topic2\", \"Topic2\", \"Topic2\", \"Topic2\", \"Topic2\", \"Topic2\", \"Topic2\", \"Topic2\", \"Topic2\", \"Topic2\", \"Topic2\", \"Topic2\", \"Topic2\", \"Topic2\", \"Topic2\", \"Topic2\", \"Topic2\", \"Topic2\", \"Topic2\", \"Topic2\", \"Topic2\", \"Topic2\", \"Topic2\", \"Topic2\", \"Topic2\", \"Topic2\", \"Topic2\", \"Topic2\", \"Topic2\", \"Topic2\", \"Topic2\", \"Topic2\", \"Topic2\", \"Topic2\", \"Topic2\", \"Topic2\", \"Topic2\", \"Topic3\", \"Topic3\", \"Topic3\", \"Topic3\", \"Topic3\", \"Topic3\", \"Topic3\", \"Topic3\", \"Topic3\", \"Topic3\", \"Topic3\", \"Topic3\", \"Topic3\", \"Topic3\", \"Topic3\", \"Topic3\", \"Topic3\", \"Topic3\", \"Topic3\", \"Topic3\", \"Topic3\", \"Topic3\", \"Topic3\", \"Topic3\", \"Topic3\", \"Topic3\", \"Topic3\", \"Topic3\", \"Topic3\", \"Topic3\", \"Topic3\", \"Topic3\", \"Topic3\", \"Topic3\", \"Topic3\", \"Topic3\", \"Topic3\", \"Topic3\", \"Topic3\", \"Topic3\", \"Topic3\", \"Topic3\", \"Topic3\", \"Topic3\", \"Topic3\", \"Topic3\", \"Topic3\", \"Topic3\", \"Topic3\", \"Topic3\", \"Topic3\", \"Topic3\", \"Topic3\", \"Topic3\", \"Topic3\", \"Topic3\", \"Topic3\", \"Topic3\", \"Topic3\", \"Topic3\", \"Topic3\", \"Topic3\", \"Topic3\", \"Topic3\", \"Topic3\", \"Topic3\", \"Topic3\", \"Topic3\", \"Topic3\", \"Topic3\", \"Topic3\", \"Topic3\", \"Topic3\", \"Topic3\", \"Topic3\"], \"Freq\": [859.0, 1967.0, 1737.0, 460.0, 387.0, 278.0, 367.0, 1273.0, 1221.0, 385.0, 767.0, 264.0, 1244.0, 569.0, 968.0, 570.0, 170.0, 725.0, 1091.0, 610.0, 591.0, 778.0, 768.0, 816.0, 372.0, 867.0, 1212.0, 576.0, 287.0, 126.0, 149.13975655860415, 144.31140542050395, 75.70347792072086, 67.96759909726937, 81.32772145651661, 71.71294308146597, 62.14739698317766, 63.06665681991072, 54.435718882390915, 50.57956551302629, 57.22068422642056, 47.68155562669961, 46.704979449838, 45.746321292461126, 43.81359783374748, 42.848682706907525, 43.77505240200815, 40.91457697996937, 40.91178303355812, 43.75490657788497, 39.9469634890954, 39.941805716970435, 45.63182830952458, 39.91786600772041, 39.90023841161263, 37.043108372776786, 37.033006050752974, 36.07520445852586, 36.06047006745183, 35.08893402286628, 229.52441816645825, 208.14591959162053, 83.9343999333014, 47.382327642300694, 45.49021198892731, 162.81310972051403, 89.11428834986052, 70.74727432434403, 91.8863905116626, 156.89569297629217, 206.56307542474545, 78.60773374777477, 99.38846013543633, 81.35066122705103, 154.50517772185094, 262.0592918112031, 169.68296809134776, 102.3236552427495, 1755.2946565266361, 90.57461061411202, 465.54752627550704, 709.6940335752469, 351.14615537129004, 691.252987322323, 311.40888491284903, 272.9817106316213, 318.73567116177003, 611.8632059165694, 472.72396879754086, 303.4862528292776, 730.1147820252913, 419.0436411186183, 603.3693735466909, 319.91442244769263, 411.5406009660912, 901.9478389299022, 329.6803239136293, 1378.964309353829, 268.8041137276431, 613.8339674851741, 806.26435025302, 597.4084447633592, 613.2851775900814, 1155.093794670069, 864.5508956253678, 604.4824817969303, 473.2448192285212, 839.7784138850191, 810.9930016191822, 502.0818165680983, 658.7001000757161, 593.6699680053417, 552.1800402581465, 495.13012497737736, 513.6151685337877, 461.69035090995516, 516.6081027494364, 483.87452069492775, 486.75119732990646, 463.12608644578773, 47.31468130454367, 25.99967695340596, 24.21450629017451, 25.905498951982352, 45.66460281393468, 23.284143261197528, 20.695309882612698, 19.802586744589345, 26.638739285684515, 18.91464163033124, 37.75386677479885, 18.877839602335982, 17.96249306198531, 18.81206736010373, 22.21234235013968, 16.234404017695518, 20.47792192825787, 15.343837274338716, 25.507381752604026, 18.703292903984263, 14.458703410796202, 13.580300012202196, 13.552339643320293, 15.174715738642458, 11.811097253035312, 11.810497519549319, 10.938333995092668, 11.760537735753829, 16.76184205734488, 21.761459628506575, 54.65432113164262, 47.970582477383, 66.08497237656243, 103.38290499805021, 72.81488168963344, 38.664870759632386, 89.84834017641128, 60.5980768602877, 107.09357955043043, 93.16313771037557, 131.0030926992447, 22.157810700964752, 231.81466683492997, 210.7299425031934, 59.03222564602037, 201.76473829172545, 27.718435952673765, 34.263043052890566, 57.621013065233335, 86.16968080865098, 65.51097451280656, 48.35840278198343, 43.59613965996483, 120.4051405309909, 240.62342880265464, 87.68794140688274, 194.23610744985294, 91.71161510168072, 118.7891145549322, 362.50068573189617, 294.00321926085104, 184.69260140490607, 269.93965398262736, 195.29925852831684, 251.49963084957892, 313.8117107343944, 194.73129327786125, 134.1872100705331, 123.68676751141373, 107.91370627291585, 148.61240557770196, 129.4275487334905, 180.57010397907058, 222.8475223092426, 180.15369490836946, 118.48616094840483, 136.19898959046654, 139.6811656846834, 146.91911981727122, 133.53530859086877, 132.05611004571733, 129.45983732602318, 123.07254340604588, 41.36677408105741, 33.47274926135687, 28.71497652054365, 27.14649506059475, 25.5602502684683, 24.7731092456264, 24.77067669229832, 23.98102310804924, 23.191421836774953, 22.399832672458366, 21.611034559208914, 20.82300729302927, 21.58773682202118, 19.23847344290208, 18.44635345575299, 18.4455872245339, 17.652036323662408, 16.076640319338804, 16.072239874988195, 16.060355598007742, 14.490649399001814, 13.70430691833403, 13.703957652296411, 13.703422213613191, 41.13165803168101, 12.913964033711148, 12.913348586948825, 12.91169149654127, 12.91075909469635, 12.123591146058601, 40.59338829335343, 17.334622733228194, 34.26540468718918, 45.190904851725385, 20.031219647131834, 21.620583215726352, 20.024606671670675, 19.89183634163476, 26.36270822260751, 129.41513584856386, 293.5733738522967, 42.03946354674393, 43.48919147666883, 145.25978812669578, 90.16633563749392, 32.72916956035218, 274.40503826104583, 219.6157026349782, 87.53849489726008, 158.73345637084932, 62.20025012351379, 104.89205646598185, 73.26456122805811, 137.95074237734931, 129.040365697115, 117.50377921056696, 114.76814296991228, 108.35297209816355, 139.22481564683966, 168.57603795303888, 130.4958234363971, 88.53098280958481, 86.8766557579933, 78.51187263255818, 98.65273719763165, 96.02793060993606, 110.34613336475192, 87.80878680633704, 83.08992260983787, 84.6317029120034, 85.4349778717196, 85.49508240252804, 73.6313305715968, 82.17656884221262, 78.67163030312196], \"Term\": [\"\\u0442\\u043e\\u0432\\u0430\\u0440\\u0438\\u0449\", \"\\u0440\\u0443\\u043a\\u0430\", \"\\u0433\\u043b\\u0430\\u0437\", \"\\u0440\\u0430\\u0431\\u043e\\u0447\\u0438\\u0439\", \"\\u0431\\u0430\\u0431\\u0430\", \"\\u0437\\u0430\\u0432\\u043e\\u0434\", \"\\u043a\\u0430\\u0437\\u0430\\u043a\", \"\\u0433\\u043e\\u043b\\u043e\\u0432\\u0430\", \"\\u0438\\u0434\\u0442\\u0438\", \"\\u043b\\u043e\\u0448\\u0430\\u0434\\u044c\", \"\\u043d\\u043e\\u0433\\u0430\", \"\\u0433\\u043e\\u0440\\u0430\", \"\\u0441\\u0442\\u0430\\u043d\\u043e\\u0432\\u0438\\u0442\\u044c\\u0441\\u044f\", \"\\u0437\\u0435\\u043c\\u043b\\u044f\", \"\\u0441\\u0442\\u043e\\u044f\\u0442\\u044c\", \"\\u043e\\u0447\\u0435\\u043d\\u044c\", \"\\u0445\\u0443\\u0442\\u043e\\u0440\", \"\\u0434\\u0430\\u0432\\u0430\\u0442\\u044c\", \"\\u0434\\u0435\\u043b\\u043e\", \"\\u0433\\u043b\\u044f\\u0434\\u0435\\u0442\\u044c\", \"\\u0441\\u043c\\u043e\\u0442\\u0440\\u0435\\u0442\\u044c\", \"\\u0432\\u0440\\u0435\\u043c\\u044f\", \"\\u0433\\u043e\\u043b\\u043e\\u0441\", \"\\u0432\\u0438\\u0434\\u0435\\u0442\\u044c\", \"\\u0440\\u0430\\u0431\\u043e\\u0442\\u0430\", \"\\u043f\\u043e\\u0439\\u0442\\u0438\", \"\\u043b\\u0438\\u0446\\u043e\", \"\\u043d\\u043e\\u0447\\u044c\", \"\\u0441\\u043e\\u043b\\u0434\\u0430\\u0442\", \"\\u043f\\u043e\\u0432\\u043e\\u0437\\u043a\\u0430\", \"\\u0434\\u0440\\u043e\\u043d\\u043e\\u0432\", \"\\u0432\\u0430\\u0440\\u0430\\u0432\\u043a\\u0430\", \"\\u0431\\u0435\\u0441\\u0441\\u043e\\u043d\\u043e\\u0432\", \"\\u0442\\u0430\\u0448\\u043a\\u0435\\u043d\\u0442\", \"\\u0441\\u0442\\u0440\\u0435\\u043b\\u0435\\u0446\", \"\\u043a\\u043e\\u043c\\u0438\\u0441\\u0441\\u0430\\u0440\", \"\\u0441\\u0443\\u0434\\u043d\\u043e\", \"\\u0444\\u0430\\u0431\\u0440\\u0438\\u043a\\u0430\", \"\\u0436\\u0430\\u043d\\u0434\\u0430\\u0440\\u043c\", \"\\u0432\\u0440\\u043e\\u043d\", \"\\u0434\\u0435\\u0440\\u0431\\u0435\\u043d\\u0442\", \"\\u0441\\u0442\\u0435\\u0444\\u0430\\u043d\\u0438\\u044f\", \"\\u043a\\u0440\\u0435\\u043f\\u043e\\u0441\\u0442\\u043d\\u0438\\u043a\", \"\\u043f\\u0442\\u0430\\u0445\\u0430\", \"\\u043c\\u043e\\u0433\\u0435\\u043b\\u044c\\u043d\\u0438\\u0446\\u043a\\u0438\\u0439\", \"\\u0432\\u043b\\u0430\\u0434\\u0438\\u0441\\u043b\\u0430\\u0432\", \"\\u043a\\u043b\\u0438\\u043c\\u043a\\u0430\", \"\\u043a\\u0430\\u0440\\u0430\\u0432\\u0430\\u0439\", \"\\u043b\\u0435\\u0439\\u0442\\u0435\\u043d\\u0430\\u043d\\u0442\", \"\\u0442\\u0440\\u0438\\u0431\\u0443\\u043d\\u0430\\u043b\", \"\\u0431\\u0435\\u043b\\u043e\\u0432\", \"\\u0441\\u0430\\u0440\\u0440\\u0430\", \"\\u0432\\u043e\\u043e\\u0440\\u0443\\u0436\\u0435\\u043d\\u043d\\u044b\\u0439\", \"\\u0441\\u0442\\u0438\\u0445\", \"\\u0432\\u043e\\u0435\\u043d\\u0441\\u043e\\u0432\\u0435\\u0442\", \"\\u0448\\u0442\\u0430\\u0434\\u0438\\u0432\\u044b\\u0439\", \"\\u043a\\u043e\\u0447\\u0435\\u0433\\u0430\\u0440\", \"\\u043b\\u0435\\u0449\\u0438\\u043d\\u0441\\u043a\\u0438\\u0439\", \"\\u0430\\u043b\\u044f\\u0432\\u0434\\u0438\\u043d\", \"\\u0447\\u0438\\u0436\", \"\\u043d\\u0435\\u043c\\u0435\\u0446\", \"\\u043a\\u0440\\u0435\\u043f\\u043e\\u0441\\u0442\\u044c\", \"\\u043a\\u043b\\u0435\\u043e\\u043f\\u0430\\u0442\\u0440\\u0430\", \"\\u0442\\u0430\\u043d\\u043a\\u0435\\u0440\", \"\\u0441\\u0430\\u0431\\u043b\\u044f\", \"\\u0437\\u0430\\u0442\\u0435\\u043c\", \"\\u0434\\u0438\\u0432\\u0438\\u0437\\u0438\\u044f\", \"\\u043c\\u0435\\u0442\\u0435\\u043b\\u0438\\u0446\\u0430\", \"\\u0434\\u043e\\u043a\\u0442\\u043e\\u0440\", \"\\u0445\\u043e\\u0445\\u043e\\u043b\", \"\\u0432\\u043e\\u0435\\u043d\\u043d\\u044b\\u0439\", \"\\u043a\\u0430\\u043f\\u0438\\u0442\\u0430\\u043d\", \"\\u0442\\u044e\\u0440\\u044c\\u043c\\u0430\", \"\\u0430\\u043b\\u0435\\u0448\\u043a\\u0430\", \"\\u043f\\u0440\\u043e\\u0433\\u043e\\u0432\\u0430\\u0440\\u0438\\u0432\\u0430\\u0442\\u044c\", \"\\u0434\\u0435\\u0432\\u0443\\u0448\\u043a\\u0430\", \"\\u0445\\u043e\\u0442\\u044f\", \"\\u0443\\u0447\\u0438\\u0442\\u0435\\u043b\\u044c\", \"\\u0447\\u0435\\u043b\\u043e\\u0432\\u0435\\u043a\", \"\\u0432\\u044b\\u0440\\u0430\\u0436\\u0435\\u043d\\u0438\\u0435\", \"\\u043e\\u0442\\u0432\\u0435\\u0447\\u0430\\u0442\\u044c\", \"\\u043c\\u0430\\u0442\\u044c\", \"\\u043d\\u0435\\u0441\\u043a\\u043e\\u043b\\u044c\\u043a\\u043e\", \"\\u043f\\u043e\\u043d\\u0438\\u043c\\u0430\\u0442\\u044c\", \"\\u043a\\u0430\\u043a\\u043e\\u0439-\\u0442\\u043e\", \"\\u0442\\u043e\\u0447\\u043d\\u043e\", \"\\u0442\\u0438\\u0445\\u043e\", \"\\u043c\\u043e\\u0447\\u044c\", \"\\u043e\\u0447\\u0435\\u043d\\u044c\", \"\\u0440\\u0430\\u0441\\u0441\\u043a\\u0430\\u0437\\u044b\\u0432\\u0430\\u0442\\u044c\", \"\\u0432\\u0435\\u0441\\u044c\", \"\\u043e\\u0442\\u0435\\u0446\", \"\\u0434\\u0443\\u043c\\u0430\\u0442\\u044c\", \"\\u043a\\u0430\\u0437\\u0430\\u0442\\u044c\\u0441\\u044f\", \"\\u0447\\u0442\\u043e-\\u0442\\u043e\", \"\\u043b\\u0438\\u0446\\u043e\", \"\\u0441\\u043b\\u0443\\u0448\\u0430\\u0442\\u044c\", \"\\u0440\\u0443\\u043a\\u0430\", \"\\u043f\\u043e\\u0434\\u0443\\u043c\\u0430\\u0442\\u044c\", \"\\u0445\\u043e\\u0442\\u0435\\u0442\\u044c\", \"\\u0434\\u0435\\u043b\\u043e\", \"\\u0432\\u0440\\u0435\\u043c\\u044f\", \"\\u0432\\u0438\\u0434\\u0435\\u0442\\u044c\", \"\\u0433\\u043b\\u0430\\u0437\", \"\\u0441\\u0442\\u0430\\u043d\\u043e\\u0432\\u0438\\u0442\\u044c\\u0441\\u044f\", \"\\u0441\\u043b\\u043e\\u0432\\u043e\", \"\\u0436\\u0438\\u0437\\u043d\\u044c\", \"\\u0433\\u043e\\u043b\\u043e\\u0432\\u0430\", \"\\u0438\\u0434\\u0442\\u0438\", \"\\u0443\\u0445\\u043e\\u0434\\u0438\\u0442\\u044c\", \"\\u0441\\u0442\\u043e\\u044f\\u0442\\u044c\", \"\\u043f\\u043e\\u0439\\u0442\\u0438\", \"\\u0434\\u0435\\u043d\\u044c\", \"\\u0441\\u0430\\u043c\\u044b\\u0439\", \"\\u043d\\u0430\\u0448\", \"\\u0434\\u0432\\u0435\\u0440\\u044c\", \"\\u0433\\u043e\\u043b\\u043e\\u0441\", \"\\u0434\\u0430\\u0432\\u0430\\u0442\\u044c\", \"\\u0442\\u043e\\u0432\\u0430\\u0440\\u0438\\u0449\", \"\\u043d\\u043e\\u0433\\u0430\", \"\\u0432\\u0438\\u0440\\u0438\\u043d\\u0435\\u044f\", \"\\u0434\\u0443\\u043d\\u044f\\u0448\\u043a\\u0430\", \"\\u0430\\u0440\\u0431\\u0430\", \"\\u0438\\u0448\\u043e\", \"\\u0434\\u0430\\u043a\", \"\\u0431\\u0430\\u0440\\u043a\\u0430\\u0441\", \"\\u043f\\u0440\\u043e\\u043a\\u043e\\u0444\\u0438\\u0439\", \"\\u0432\\u043e\\u043b\\u043e\\u0441\\u0442\\u044c\", \"\\u043a\\u043e\\u0437\\u0430\\u043a\", \"\\u0431\\u0440\\u0435\\u0434\\u0435\\u043d\\u044c\", \"\\u043a\\u0443\\u0440\\u0435\\u043d\\u044c\", \"\\u043b\\u0430\\u043f\\u0448\\u0438\\u043d\", \"\\u0437\", \"\\u0445\\u043e\\u0447\\u044c\", \"\\u0444\\u0440\\u043e\\u043b\", \"\\u0437\\u0430\\u0439\\u043c\\u0438\\u0449\\u0435\", \"\\u043a\\u043e\\u0440\\u0448\\u0443\\u043d\\u043e\\u0432\", \"\\u0433\\u0443\\u0442\\u0430\\u0440\\u0438\\u0432\\u0430\\u0442\\u044c\", \"\\u0434\\u044e\\u0436\\u0435\", \"\\u0447\\u043e\\u0433\\u043e\", \"\\u0434\\u044d\", \"\\u043a\\u043e\\u0441\\u0438\\u043b\\u043a\\u0430\", \"\\u0441\\u043c\\u043e\\u043b\\u043e\\u043a\\u0443\\u0440\", \"\\u0449\\u043e\\u0431\\u0430\", \"\\u043a\\u0443\\u0431\\u0430\\u043d\\u0435\\u0446\", \"\\u0434\\u0438\\u0442\\u0430\", \"\\u043c\\u0435\\u043b\\u0435\\u0445\\u043e\\u0432\\u0441\\u043a\\u0438\\u0439\", \"\\u043e\\u0432\\u0435\\u0447\\u0438\\u0439\", \"\\u043f\\u043e\\u0447\\u0435\\u0440\\u043d\\u0435\\u043b\\u044b\\u0439\", \"\\u0445\\u0443\\u0447\\u044c\", \"\\u0433\\u0440\\u0438\\u0448\\u043a\\u0430\", \"\\u0440\\u0430\\u0437\\u043c\\u0435\\u0442\\u043d\\u043e\\u0432\", \"\\u0431\\u0430\\u0437\\u0430\", \"\\u043a\\u043e\\u043b\\u0445\\u043e\\u0437\", \"\\u0437\\u0430\\u0440\\u0430\\u0437\", \"\\u0442\\u0438\\u0442\\u043e\\u043a\", \"\\u0431\\u044b\\u043a\", \"\\u0449\\u043e\", \"\\u043f\\u043e\\u0432\\u043e\\u0437\\u043a\\u0430\", \"\\u044f\\u043a\", \"\\u0445\\u0443\\u0442\\u043e\\u0440\", \"\\u043a\\u043e\\u0441\\u0442\\u044b\\u043b\\u044c\", \"\\u0431\\u0430\\u0431\\u0430\", \"\\u043a\\u0430\\u0437\\u0430\\u043a\", \"\\u043a\\u043e\\u0440\\u043e\\u0432\\u0430\", \"\\u043b\\u043e\\u0448\\u0430\\u0434\\u044c\", \"\\u0444\\u0435\\u0434\\u043e\\u0442\", \"\\u0433\\u043e\\u0440\\u043d\\u0438\\u0446\\u0430\", \"\\u0445\\u043e\\u0437\\u044f\\u0439\\u0441\\u0442\\u0432\\u043e\", \"\\u0448\\u043e\\u0441\\u0441\\u0435\", \"\\u0441\\u0442\\u0430\\u0440\\u0443\\u0445\\u0430\", \"\\u0433\\u043b\\u044f\\u043d\\u0443\\u0442\\u044c\", \"\\u0431\\u0440\\u0438\\u0447\\u043a\\u0430\", \"\\u0433\\u043e\\u0440\\u0430\", \"\\u043d\\u043e\\u0433\\u0430\", \"\\u0442\\u0435\\u043c\\u043d\\u043e\\u0442\\u0430\", \"\\u0437\\u0435\\u043c\\u043b\\u044f\", \"\\u0441\\u0442\\u0430\\u043d\\u0438\\u0446\\u0430\", \"\\u0441\\u043e\\u043b\\u0434\\u0430\\u0442\", \"\\u0433\\u043b\\u0430\\u0437\", \"\\u0433\\u043e\\u043b\\u043e\\u0432\\u0430\", \"\\u0433\\u043b\\u044f\\u0434\\u0435\\u0442\\u044c\", \"\\u0441\\u0442\\u0430\\u043d\\u043e\\u0432\\u0438\\u0442\\u044c\\u0441\\u044f\", \"\\u0433\\u043e\\u043b\\u043e\\u0441\", \"\\u0438\\u0434\\u0442\\u0438\", \"\\u0440\\u0443\\u043a\\u0430\", \"\\u043f\\u043e\\u0439\\u0442\\u0438\", \"\\u043a\\u043e\\u043d\\u044c\", \"\\u0434\\u0432\\u043e\\u0440\", \"\\u043c\\u0443\\u0436\\u0438\\u043a\", \"\\u043d\\u043e\\u0447\\u044c\", \"\\u0431\\u0435\\u043b\\u044b\\u0439\", \"\\u0441\\u0442\\u043e\\u044f\\u0442\\u044c\", \"\\u0447\\u0435\\u043b\\u043e\\u0432\\u0435\\u043a\", \"\\u043b\\u0438\\u0446\\u043e\", \"\\u0432\\u043e\\u0434\\u0430\", \"\\u0443\\u0445\\u043e\\u0434\\u0438\\u0442\\u044c\", \"\\u0434\\u0435\\u043d\\u044c\", \"\\u0434\\u0435\\u043b\\u043e\", \"\\u0434\\u0430\\u0432\\u0430\\u0442\\u044c\", \"\\u0441\\u043b\\u043e\\u0432\\u043e\", \"\\u0432\\u0435\\u0441\\u044c\", \"\\u043d\\u0430\\u0448\", \"\\u0437\\u0430\\u043c\\u0435\\u0441\", \"\\u0441\\u0430\\u0432\\u0447\\u0443\\u043a\", \"\\u0440\\u0443\\u043f\", \"\\u0441\\u0435\\u043c\\u0435\\u0447\\u043a\\u0438\\u043d\", \"\\u0432\\u0438\\u043d\\u043a\\u0438\\u0447\", \"\\u043f\\u0440\\u0435\\u0434\\u0438\\u0441\\u043f\\u043e\\u043b\\u043a\\u043e\\u043c\", \"\\u0440\\u0435\\u043a\\u043e\\u0440\\u0434\", \"\\u0444\\u0438\\u043b\\u043e\\u043d\\u043e\\u0432\", \"\\u0431\\u0440\\u0435\\u043c\\u0441\\u0431\\u0435\\u0440\\u0433\", \"\\u0442\\u0435\\u043f\\u043b\\u044f\\u043a\", \"\\u0442\\u0435\\u0445\\u043d\\u043e\\u0440\\u0443\\u043a\", \"\\u044f\\u043a\\u043e\\u0431\", \"\\u0441\\u0435\\u0440\\u043e\\u0448\\u0435\\u0432\\u0441\\u043a\\u0438\\u0439\", \"\\u043b\\u0443\\u0445\\u0430\\u0432\\u0430\", \"\\u043c\\u0435\\u0445\\u043e\\u0432\", \"\\u043b\\u043e\\u0448\\u0430\\u043a\", \"\\u0431\\u0435\\u0442\\u043e\\u043d\\u043e\\u043c\\u0435\\u0448\\u0430\\u043b\\u043a\\u0430\", \"\\u043f\\u0435\\u0440\\u0435\\u043c\\u0435\\u0448\\u0438\\u0432\\u0430\\u043d\\u0438\\u0435\", \"\\u0441\\u043e\\u0432\\u043d\\u0430\\u0440\\u0445\\u043e\\u0437\", \"\\u043f\\u0440\\u043e\\u0440\\u0430\\u0431\", \"\\u043d\\u0430\\u043b\\u0431\\u0430\\u043d\\u0434\\u043e\\u0432\\u043e\", \"\\u0433\\u0435\\u0440\\u043c\\u0430\\u043d\\u043e\\u0432\\u0438\\u0447\", \"\\u0433\\u0435\\u0440\\u043c\\u0430\\u043d\", \"\\u0437\\u0430\\u0432\\u043a\\u043e\\u043c\", \"\\u0441\\u043c\\u0435\\u0442\\u0430\\u043d\\u0430\", \"\\u0431\\u0440\\u044b\\u043d\\u0437\\u0430\", \"\\u0448\\u0440\\u0430\\u043c\\u043c\", \"\\u0430\\u043d\\u0430\\u043b\\u0438\\u0442\\u0438\\u0447\\u0435\\u0441\\u043a\\u0438\\u0439\", \"\\u043e\\u0442\\u0435\\u043b\\u044c\", \"\\u0431\\u043e\\u0440\\u0449\\u0438\\u0439\", \"\\u043c\\u0438\\u0441\\u0442\\u0435\\u0440\", \"\\u0441\\u0430\\u0435\\u043d\\u043a\\u043e\", \"\\u0431\\u0435\\u0442\\u043e\\u043d\", \"\\u0441\\u0442\\u0440\\u043e\\u0438\\u0442\\u0435\\u043b\\u044c\\u0441\\u0442\\u0432\\u043e\", \"\\u0436\\u0443\\u043a\", \"\\u0446\\u0435\\u043c\\u0435\\u043d\\u0442\", \"\\u0447\\u0438\\u0431\\u0438\\u0441\", \"\\u0431\\u0440\\u0438\\u0433\\u0430\\u0434\\u0438\\u0440\", \"\\u0440\\u0430\\u0439\", \"\\u0437\\u0430\\u0432\\u043e\\u0434\", \"\\u0442\\u043e\\u0432\\u0430\\u0440\\u0438\\u0449\", \"\\u0441\\u043c\\u0435\\u043d\\u0430\", \"\\u0443\\u0447\\u0430\\u0441\\u0442\\u043e\\u043a\", \"\\u0440\\u0430\\u0431\\u043e\\u0447\\u0438\\u0439\", \"\\u0433\\u043e\\u0440\\u0430\", \"\\u0436\\u0438\\u0434\\u043a\\u0438\\u0439\", \"\\u0440\\u0443\\u043a\\u0430\", \"\\u0433\\u043b\\u0430\\u0437\", \"\\u0440\\u0430\\u0431\\u043e\\u0442\\u0430\", \"\\u0438\\u0434\\u0442\\u0438\", \"\\u043f\\u044b\\u043b\\u044c\", \"\\u0441\\u043c\\u043e\\u0442\\u0440\\u0435\\u0442\\u044c\", \"\\u0431\\u0438\\u0442\\u044c\", \"\\u0434\\u0435\\u043b\\u043e\", \"\\u0441\\u0442\\u043e\\u044f\\u0442\\u044c\", \"\\u0432\\u0438\\u0434\\u0435\\u0442\\u044c\", \"\\u0432\\u0440\\u0435\\u043c\\u044f\", \"\\u0434\\u0430\\u0432\\u0430\\u0442\\u044c\", \"\\u0433\\u043e\\u043b\\u043e\\u0432\\u0430\", \"\\u0447\\u0435\\u043b\\u043e\\u0432\\u0435\\u043a\", \"\\u043b\\u0438\\u0446\\u043e\", \"\\u0434\\u0440\\u0443\\u0433\", \"\\u043e\\u0447\\u0435\\u043d\\u044c\", \"\\u043e\\u043a\\u043d\\u043e\", \"\\u043f\\u043e\\u043d\\u0438\\u043c\\u0430\\u0442\\u044c\", \"\\u0434\\u0435\\u043d\\u044c\", \"\\u0441\\u0442\\u0430\\u043d\\u043e\\u0432\\u0438\\u0442\\u044c\\u0441\\u044f\", \"\\u0441\\u0430\\u043c\\u044b\\u0439\", \"\\u0433\\u043e\\u0434\", \"\\u0434\\u0432\\u0435\\u0440\\u044c\", \"\\u043d\\u0430\\u0448\", \"\\u043c\\u043e\\u0447\\u044c\", \"\\u0443\\u043b\\u044b\\u0431\\u0430\\u0442\\u044c\\u0441\\u044f\", \"\\u0441\\u043b\\u043e\\u0432\\u043e\", \"\\u043f\\u043e\\u0439\\u0442\\u0438\"], \"Total\": [859.0, 1967.0, 1737.0, 460.0, 387.0, 278.0, 367.0, 1273.0, 1221.0, 385.0, 767.0, 264.0, 1244.0, 569.0, 968.0, 570.0, 170.0, 725.0, 1091.0, 610.0, 591.0, 778.0, 768.0, 816.0, 372.0, 867.0, 1212.0, 576.0, 287.0, 126.0, 149.74457106969365, 144.9121552616967, 76.28067710275383, 68.54664973400986, 82.05451238599613, 72.39335647309348, 62.74311028467238, 63.70230693975086, 55.01302567007842, 51.14821626606635, 57.892468282901824, 48.24855325945225, 47.28016998970208, 46.3147957822611, 44.38160956331402, 43.41510602533122, 44.377298875226295, 41.481497083196324, 41.48126806248542, 44.37579907264669, 40.51459898491732, 40.51448415675699, 46.303855401130605, 40.509655839471726, 40.51035380402732, 37.614091070498205, 37.61339042460177, 36.64732477643827, 36.64448151205227, 35.677128622076275, 234.22541885952393, 213.46681551088759, 85.68639381324478, 48.19429671188786, 46.2805456105322, 168.33319782464136, 91.5274339429447, 72.32470808926031, 94.46096447003565, 164.38459996234803, 218.68509999598248, 80.86001035531187, 103.05328973614253, 83.83815164197595, 162.4328006472088, 280.3904250429283, 183.3864371581646, 107.74699333552536, 2146.7182167889177, 94.92054418101695, 536.0323390200382, 840.6396227285948, 400.7483162984061, 823.806349950201, 358.10860277417953, 310.82643170085765, 369.3842511020346, 752.3479839439515, 570.378729386802, 352.15819495303873, 929.0683321121527, 507.79669503857014, 763.5478680268509, 377.4253942421004, 502.1151199145922, 1212.5973572746689, 392.251097453286, 1967.1810583492693, 313.8629835229785, 799.0425775187769, 1091.1342124476405, 778.6519072327246, 816.8942279968257, 1737.2101830369431, 1244.8366829727472, 818.7151606848603, 615.3157946614515, 1273.0064487927098, 1221.2260888396106, 672.4184779474676, 968.3105697519018, 867.0728915863249, 787.889136552766, 678.6046226762078, 722.1226898115532, 623.0023192543332, 768.4946876931415, 725.7628013839601, 859.5746505040076, 767.6589471934734, 47.92174187122983, 26.617910249116107, 24.84163640356999, 26.607691970470793, 46.95228392249427, 23.950291590993018, 21.29426700550403, 20.40813786163344, 27.478029622514565, 19.5191058908995, 38.97171946065562, 19.514977837588823, 18.625664208854737, 19.507718883984236, 23.042468905323837, 16.854410466645607, 21.271361865453983, 15.966676663773974, 26.565237311896983, 19.495653092282442, 15.07885057928682, 14.192291119259492, 14.18925846219266, 15.948116287207267, 12.417641118691199, 12.418421600128072, 11.531985404672712, 12.412456738914731, 17.702251536792257, 22.995508792102363, 57.89016461225102, 51.15788082992938, 70.90498657663849, 112.89856134732342, 81.03396998711474, 42.23471394027209, 102.05533897293634, 68.79029709611008, 126.26516647359016, 110.15056395816522, 170.84010327422965, 23.831731585270926, 387.0484394666054, 367.9150934397342, 78.11432405898258, 385.58000070026003, 31.55140469661348, 41.318632671028936, 84.32500760591432, 146.517167597889, 101.27767006688629, 68.3468022602887, 59.65615892314472, 264.06349921178014, 767.6589471934734, 170.28204424965122, 569.3235906495199, 185.85816591569238, 287.7450885748544, 1737.2101830369431, 1273.0064487927098, 610.2921329249273, 1244.8366829727472, 768.4946876931415, 1221.2260888396106, 1967.1810583492693, 867.0728915863249, 407.8426383634403, 356.8958978033892, 284.9888105726543, 576.4830404073766, 427.2020185582777, 968.3105697519018, 2146.7182167889177, 1212.5973572746689, 375.9172501446962, 672.4184779474676, 787.889136552766, 1091.1342124476405, 725.7628013839601, 818.7151606848603, 929.0683321121527, 722.1226898115532, 42.0137332849593, 34.10139843087631, 29.358790567031534, 27.77408063471564, 26.193152101330526, 25.40153504742931, 25.402076240441502, 24.6108609236243, 23.819629086401044, 23.028872176860897, 22.237556910137016, 21.44606234892728, 22.242574549083066, 19.864813368700723, 19.0740947922865, 19.074271359656642, 18.284021099497824, 16.700790356509547, 16.70182734786156, 16.7044961808734, 15.119927642968328, 14.327994663573898, 14.3280964473332, 14.328191087196785, 43.03267314882915, 13.537049071395595, 13.537159891178817, 13.537539074285375, 13.537718227825305, 12.746002910567638, 43.15231663285719, 18.35459517340275, 37.79194571777756, 51.79716485166348, 21.62195531270433, 24.08966321569337, 22.432045036883444, 22.619504709904337, 32.66928227580311, 278.41675977389855, 859.5746505040076, 65.05359481050505, 68.8218799085482, 460.10864822453516, 264.06349921178014, 51.156277792784124, 1967.1810583492693, 1737.2101830369431, 372.8611354008832, 1221.2260888396106, 195.60764442000607, 591.8444009455671, 283.0417148876883, 1091.1342124476405, 968.3105697519018, 816.8942279968257, 778.6519072327246, 725.7628013839601, 1273.0064487927098, 2146.7182167889177, 1212.5973572746689, 512.07340112012, 570.378729386802, 438.82139087953476, 823.806349950201, 787.889136552766, 1244.8366829727472, 678.6046226762078, 574.3178091365722, 623.0023192543332, 722.1226898115532, 752.3479839439515, 408.73781544041196, 818.7151606848603, 867.0728915863249], \"loglift\": [30.0, 29.0, 28.0, 27.0, 26.0, 25.0, 24.0, 23.0, 22.0, 21.0, 20.0, 19.0, 18.0, 17.0, 16.0, 15.0, 14.0, 13.0, 12.0, 11.0, 10.0, 9.0, 8.0, 7.0, 6.0, 5.0, 4.0, 3.0, 2.0, 1.0, 0.4075, 0.4074, 0.404, 0.4031, 0.4026, 0.4021, 0.402, 0.4015, 0.401, 0.4004, 0.3999, 0.3997, 0.3993, 0.3992, 0.3987, 0.3984, 0.3979, 0.3978, 0.3977, 0.3975, 0.3974, 0.3973, 0.3969, 0.3968, 0.3964, 0.3963, 0.396, 0.3958, 0.3955, 0.3949, 0.3913, 0.3863, 0.3909, 0.3946, 0.3943, 0.3782, 0.3848, 0.3895, 0.3839, 0.3649, 0.3545, 0.3833, 0.3753, 0.3814, 0.3615, 0.3439, 0.3339, 0.3599, 0.2102, 0.3647, 0.2706, 0.2422, 0.2794, 0.2361, 0.2718, 0.2817, 0.2641, 0.2049, 0.2238, 0.2628, 0.1706, 0.2194, 0.1761, 0.2462, 0.2126, 0.1156, 0.2378, 0.0563, 0.2566, 0.1479, 0.109, 0.1466, 0.1249, 0.0034, 0.047, 0.1082, 0.149, -0.0045, 0.0022, 0.1194, 0.0263, 0.0327, 0.0561, 0.0963, 0.0708, 0.1119, 0.0144, 0.0061, -0.1571, -0.0938, 1.6032, 1.5924, 1.5903, 1.5892, 1.5881, 1.5877, 1.5874, 1.5858, 1.5849, 1.5844, 1.5842, 1.5827, 1.5796, 1.5796, 1.5792, 1.5784, 1.5779, 1.5761, 1.5753, 1.5744, 1.5739, 1.5718, 1.57, 1.5662, 1.5658, 1.5657, 1.5631, 1.562, 1.5613, 1.5607, 1.5584, 1.5516, 1.5455, 1.5279, 1.509, 1.5276, 1.4885, 1.4891, 1.4512, 1.4484, 1.3504, 1.5431, 1.1033, 1.0586, 1.3358, 0.9683, 1.4864, 1.4287, 1.2351, 1.0851, 1.1803, 1.2699, 1.3023, 0.8306, 0.4558, 0.9522, 0.5405, 0.9096, 0.7312, 0.0489, 0.1504, 0.4207, 0.0873, 0.246, 0.0357, -0.2197, 0.1224, 0.5043, 0.5562, 0.6448, 0.2603, 0.4218, -0.0635, -0.6493, -0.2908, 0.4613, 0.0191, -0.1141, -0.3892, -0.077, -0.2086, -0.3549, -0.1535, 1.9602, 1.9571, 1.9535, 1.9528, 1.9512, 1.9507, 1.9505, 1.9498, 1.949, 1.948, 1.9471, 1.9462, 1.9458, 1.9437, 1.9422, 1.9422, 1.9405, 1.9376, 1.9373, 1.9364, 1.9332, 1.9312, 1.9312, 1.9311, 1.9305, 1.9286, 1.9285, 1.9284, 1.9283, 1.9256, 1.9146, 1.9185, 1.8777, 1.8393, 1.8993, 1.8676, 1.8622, 1.8472, 1.7612, 1.2096, 0.9014, 1.5391, 1.5167, 0.8228, 0.9012, 1.5291, 0.006, -0.0925, 0.5266, -0.0647, 0.8299, 0.2454, 0.6242, -0.0924, -0.0397, 0.0367, 0.0611, 0.0739, -0.2373, -0.5686, -0.2535, 0.2206, 0.0939, 0.2549, -0.1466, -0.129, -0.4474, -0.0692, 0.0424, -0.0205, -0.1587, -0.199, 0.2617, -0.3232, -0.4241], \"logprob\": [30.0, 29.0, 28.0, 27.0, 26.0, 25.0, 24.0, 23.0, 22.0, 21.0, 20.0, 19.0, 18.0, 17.0, 16.0, 15.0, 14.0, 13.0, 12.0, 11.0, 10.0, 9.0, 8.0, 7.0, 6.0, 5.0, 4.0, 3.0, 2.0, 1.0, -7.434800148010254, -7.467700004577637, -8.112899780273438, -8.220600128173828, -8.041199684143066, -8.166999816894531, -8.310199737548828, -8.295499801635742, -8.442700386047363, -8.51609992980957, -8.392800331115723, -8.57509994506836, -8.595800399780273, -8.616600036621094, -8.659700393676758, -8.682000160217285, -8.660599708557129, -8.72819995880127, -8.728300094604492, -8.661100387573242, -8.752099990844727, -8.752300262451172, -8.619099617004395, -8.752900123596191, -8.753299713134766, -8.82759952545166, -8.827899932861328, -8.854100227355957, -8.854499816894531, -8.881799697875977, -7.003699779510498, -7.101399898529053, -8.009599685668945, -8.581399917602539, -8.622200012207031, -7.347099781036377, -7.94980001449585, -8.1806001663208, -7.919099807739258, -7.384099960327148, -7.109099864959717, -8.075200080871582, -7.84060001373291, -8.040900230407715, -7.399499893188477, -6.871099948883057, -7.305699825286865, -7.811500072479248, -4.969299793243408, -7.933499813079834, -6.296500205993652, -5.874800205230713, -6.578499794006348, -5.901199817657471, -6.698599815368652, -6.8302998542785645, -6.675300121307373, -6.023200035095215, -6.281199932098389, -6.724299907684326, -5.846499919891357, -6.401700019836426, -6.037199974060059, -6.671599864959717, -6.4197998046875, -5.6350998878479, -6.641600131988525, -5.210599899291992, -6.845699787139893, -6.019999980926514, -5.747300148010254, -6.047100067138672, -6.0208001136779785, -5.387700080871582, -5.677499771118164, -6.035299777984619, -6.280099868774414, -5.706500053405762, -5.741399765014648, -6.220900058746338, -5.949399948120117, -6.053400039672852, -6.125800132751465, -6.234899997711182, -6.198200225830078, -6.304800033569336, -6.192399978637695, -6.257900238037109, -6.2519001960754395, -6.301700115203857, -7.378499984741211, -7.977200031280518, -8.048399925231934, -7.980899810791016, -7.414000034332275, -8.087599754333496, -8.205400466918945, -8.249500274658203, -7.953000068664551, -8.29539966583252, -7.6041998863220215, -8.297300338745117, -8.347000122070312, -8.300800323486328, -8.134699821472168, -8.448200225830078, -8.215999603271484, -8.504599571228027, -7.996399879455566, -8.306599617004395, -8.564000129699707, -8.626700401306152, -8.628800392150879, -8.515700340270996, -8.766300201416016, -8.766300201416016, -8.843099594116211, -8.770600318908691, -8.416199684143066, -8.155200004577637, -7.234300136566162, -7.364699840545654, -7.044400215148926, -6.59689998626709, -6.947400093078613, -7.580399990081787, -6.737199783325195, -7.131100177764893, -6.561600208282471, -6.701000213623047, -6.360099792480469, -8.137100219726562, -5.789400100708008, -5.884699821472168, -7.157199859619141, -5.928199768066406, -7.9131999015808105, -7.701300144195557, -7.181399822235107, -6.7789998054504395, -7.053100109100342, -7.3566999435424805, -7.460400104522705, -6.444499969482422, -5.752099990844727, -6.761499881744385, -5.96619987487793, -6.716700077056885, -6.458000183105469, -5.342299938201904, -5.551700115203857, -6.016600131988525, -5.6371002197265625, -5.9608001708984375, -5.707900047302246, -5.486499786376953, -5.963699817657471, -6.336100101470947, -6.417600154876709, -6.553999900817871, -6.234000205993652, -6.372200012207031, -6.0391998291015625, -5.828800201416016, -6.041500091552734, -6.4604997634887695, -6.321199893951416, -6.296000003814697, -6.2453999519348145, -6.341000080108643, -6.352099895477295, -6.372000217437744, -6.422599792480469, -7.1529998779296875, -7.364799976348877, -7.518099784851074, -7.5742998123168945, -7.634500026702881, -7.665800094604492, -7.665900230407715, -7.698299884796143, -7.7316999435424805, -7.766499996185303, -7.802299976348877, -7.8394999504089355, -7.803400039672852, -7.918600082397461, -7.960700035095215, -7.960700035095215, -8.00469970703125, -8.098199844360352, -8.098400115966797, -8.099200248718262, -8.20199966430664, -8.257800102233887, -8.257800102233887, -8.25790023803711, -7.158699989318848, -8.31719970703125, -8.317299842834473, -8.317399978637695, -8.317500114440918, -8.380399703979492, -7.171899795532227, -8.02280044555664, -7.341400146484375, -7.064599990844727, -7.878200054168701, -7.8018999099731445, -7.878600120544434, -7.885200023651123, -7.603600025177002, -6.012499809265137, -5.193399906158447, -7.136899948120117, -7.103000164031982, -5.896999835968018, -6.373899936676025, -7.38730001449585, -5.260900020599365, -5.48360013961792, -6.40339994430542, -5.808300018310547, -6.745200157165527, -6.222599983215332, -6.581399917602539, -5.948599815368652, -6.015399932861328, -6.109099864959717, -6.132599830627441, -6.190100193023682, -5.9394001960754395, -5.7480998039245605, -6.004199981689453, -6.392199993133545, -6.410999774932861, -6.51230001449585, -6.283899784088135, -6.3109002113342285, -6.171899795532227, -6.400400161743164, -6.455599784851074, -6.43720006942749, -6.427800178527832, -6.42710018157959, -6.576499938964844, -6.466700077056885, -6.510200023651123]}, \"token.table\": {\"Topic\": [1, 2, 1, 3, 2, 1, 2, 3, 1, 2, 3, 2, 1, 1, 2, 3, 1, 1, 3, 3, 1, 2, 3, 3, 2, 3, 1, 3, 1, 2, 3, 3, 1, 2, 3, 1, 1, 2, 3, 1, 2, 3, 3, 2, 1, 1, 2, 3, 1, 2, 3, 1, 2, 1, 1, 2, 3, 1, 1, 2, 3, 3, 3, 1, 2, 3, 1, 2, 3, 1, 2, 3, 1, 2, 3, 1, 2, 3, 1, 2, 3, 1, 2, 3, 1, 2, 1, 2, 2, 1, 2, 3, 2, 3, 1, 2, 3, 1, 2, 3, 1, 2, 3, 1, 2, 3, 1, 2, 3, 1, 1, 2, 3, 2, 1, 2, 1, 1, 2, 3, 1, 2, 3, 2, 2, 2, 3, 1, 1, 2, 3, 1, 2, 3, 1, 3, 2, 3, 1, 2, 3, 2, 3, 1, 2, 3, 1, 2, 3, 1, 2, 3, 1, 2, 3, 2, 1, 2, 3, 1, 2, 3, 1, 2, 3, 1, 2, 3, 1, 1, 3, 1, 2, 3, 1, 2, 3, 1, 1, 2, 3, 1, 2, 3, 2, 2, 2, 3, 1, 1, 1, 3, 2, 2, 3, 2, 1, 1, 1, 2, 3, 1, 2, 3, 3, 3, 1, 2, 3, 2, 1, 2, 3, 1, 3, 1, 1, 2, 3, 1, 2, 3, 3, 1, 2, 3, 1, 2, 3, 1, 2, 3, 1, 2, 3, 1, 2, 3, 2, 1, 2, 3, 1, 2, 3, 3, 1, 2, 3, 1, 2, 3, 3, 1, 2, 3, 1, 2, 3, 1, 2, 3, 1, 2, 3, 2, 3, 3, 1, 2, 3, 2, 3, 1, 1, 2, 3, 1, 2, 3, 1, 2, 3, 2, 3, 1, 2, 3, 1, 2, 3, 3, 1, 2, 3, 3, 1, 3, 1, 3, 1, 2, 3, 1, 3, 3, 1, 2, 3, 1, 2, 3, 1, 3, 1, 3, 2, 1, 2, 3, 3, 1, 2, 3, 1, 2, 3, 1, 2, 3, 1, 2, 3, 1, 1, 1, 2, 3, 1, 1, 3, 1, 1, 3, 1, 1, 2, 3, 3, 3, 2, 3, 1, 2, 3, 1, 2, 3, 1, 2, 3, 1, 1, 2, 1, 2, 3, 1, 2, 3, 1, 2, 3, 1, 2, 1, 2, 3, 3, 2, 1, 2, 3, 1, 2, 3, 1, 2, 3, 1, 2, 3, 2, 1, 2, 3, 2, 3, 1, 2, 3, 1, 2, 3, 2, 3, 1, 2, 1, 2, 3, 1, 2, 3, 3, 1, 1, 2, 3, 2, 1, 2, 3, 3], \"Freq\": [0.9661472541272611, 0.02385548775622867, 0.9824125902329849, 0.9602927037672281, 0.9661199290619583, 0.2635329059602127, 0.5994081782624446, 0.13693376486167916, 0.028206760857902094, 0.9308231083107691, 0.028206760857902094, 0.9603223373134048, 0.9872984307432268, 0.5828624144621922, 0.30196486532378636, 0.11235901965536237, 0.9963204691749689, 0.07938199378257421, 0.8996625962025077, 0.9844661577476727, 0.5758868443285077, 0.16605326186159425, 0.2579125131041783, 0.9414716193145436, 0.9734052423404534, 0.9655901826418876, 0.08841926583495287, 0.8841926583495286, 0.25144092866127304, 0.737560057406401, 0.016762728577418205, 0.960327463647125, 0.0685902381046062, 0.8818744899163654, 0.048993027217575855, 0.9937054606630517, 0.785733379094314, 0.13884877520981712, 0.0742679495308324, 0.7504031476672179, 0.10527678743781524, 0.1444495455542116, 0.9926258550103745, 0.9807656851517077, 0.9904386730026867, 0.5905555010166436, 0.3138988699097475, 0.09576575692161789, 0.9465665470752367, 0.032009496760998346, 0.02286392625785596, 0.9874018922052322, 0.9800012198858807, 0.9934377947905568, 0.7667097382727758, 0.08476188061307069, 0.1476911556136838, 0.9971022202358857, 0.9586965686422917, 0.010535127127937272, 0.03160538138381182, 0.977101183779771, 0.9771081249487229, 0.6648591006880127, 0.20895571735908972, 0.1266398287024786, 0.6505081395975252, 0.3031335159333556, 0.04751822682198547, 0.23410019885153316, 0.7023005965545994, 0.05852504971288329, 0.6703605458079176, 0.18456679962503705, 0.14451928649884976, 0.6598552590182374, 0.23094934065638306, 0.10919033452801785, 0.6727437525325317, 0.2537428080151715, 0.0741709746505886, 0.20070929968815476, 0.4544361502373315, 0.34082711267799864, 0.16941509308240335, 0.8228733092573878, 0.05182227447605364, 0.9500750320609835, 0.9394566142892328, 0.6668845510917043, 0.184633326128695, 0.14880894941715717, 0.9797180489863659, 0.021298218456225346, 0.7415702730496483, 0.1235950455082747, 0.1364360891974461, 0.6248320627177641, 0.3474402501210886, 0.02801937500976521, 0.9344113657229461, 0.057063289509798235, 0.007132911188724779, 0.738680898101412, 0.13472219853710615, 0.12647390066748743, 0.7006061822544647, 0.17768997376019033, 0.12184455343555908, 0.9845840346875414, 0.9723860504543346, 0.021851371920322125, 0.010925685960161063, 0.9663063782498932, 0.973947286227251, 0.021172767091896763, 0.995027725784148, 0.722552663720971, 0.1035007869654364, 0.1738032083004498, 0.7897343771756755, 0.12965788281988702, 0.07989021062639504, 0.9767859218348433, 0.9284527309549183, 0.9787226703356477, 0.037643179628294145, 0.9815857125155469, 0.23457531544041826, 0.11728765772020913, 0.6450821174611503, 0.7687109677726475, 0.12026344950354316, 0.11051235900325587, 0.04624928622493424, 0.9249857244986848, 0.9664084887476232, 0.9770947298790532, 0.48847634068597456, 0.04669259138910051, 0.4633341760918435, 0.9493064163628588, 0.9758713828622744, 0.07404302172229824, 0.9008567642879618, 0.02468100724076608, 0.9683176111809083, 0.017821796524801994, 0.017821796524801994, 0.5515316862977154, 0.3407552456743847, 0.1089011609887209, 0.6640866973048366, 0.20553114799446853, 0.13019702203633665, 0.9771610415835688, 0.23918562072913355, 0.5735018860664453, 0.18754327079897973, 0.8478496807099716, 0.050341074792154564, 0.10068214958430913, 0.868451630568937, 0.04467918356624757, 0.08656591815960465, 0.9769971541292329, 0.01236705258391434, 0.01236705258391434, 0.988392485395823, 0.9803190012066524, 0.011670464300079196, 0.9914979305908832, 0.9826032059401055, 0.03639271133111502, 0.01771501758864012, 0.9123234058149662, 0.06200256156024042, 0.9945664009481356, 0.6105295929801948, 0.32855809421424137, 0.06129815190564205, 0.140819243237567, 0.7553032137287685, 0.10241399508186691, 0.9402312896797288, 0.9864510164254914, 0.9231389637502037, 0.04196086198864562, 0.9836922325353429, 0.994074260101791, 0.9743903262068911, 0.023422844379973343, 0.9663671131498107, 0.9750660357278659, 0.025659632519154367, 0.9736111492477897, 0.9883979423733995, 0.9823363702429255, 0.7438577979645765, 0.1484416891725319, 0.10720788662460637, 0.40199180382411226, 0.5238860927256173, 0.07261787423919447, 0.943679559790221, 0.9564650645012686, 0.8445949736409551, 0.12728403123884818, 0.028549689249835104, 0.9538687063844918, 0.9816838792128216, 0.01382653351003974, 0.9436882953564403, 0.04634745376513929, 0.9501228021853555, 0.9914016285783952, 0.8134533660763991, 0.0731044691735326, 0.11297963417727766, 0.557916641290255, 0.3789622469141355, 0.06316037448568924, 0.9259303569822861, 0.7117904024510497, 0.1703311663452901, 0.11770852958820861, 0.9819600328602331, 0.012808174341655215, 0.008538782894436811, 0.8758614465110756, 0.034934644590185346, 0.08733661147546337, 0.6031324218817578, 0.31394149821491063, 0.0833703563724244, 0.622741650381093, 0.2584638047542698, 0.11969129213452762, 0.9667707410716185, 0.6973224331354511, 0.1230568999650796, 0.1800276869859498, 0.8693505336859532, 0.07648792249168258, 0.054101213469726704, 0.9602799955815239, 0.8251333734422484, 0.1536047807362658, 0.021662212667934923, 0.829273560934695, 0.019285431649644066, 0.152530232138094, 0.9580384914995118, 0.10295792864391544, 0.8474229511460732, 0.05543888465441601, 0.8570618840762597, 0.07009428048207329, 0.07328038414034935, 0.6850635116884657, 0.2248945871704559, 0.09111114044341546, 0.8387893587391877, 0.04127183530699332, 0.12017387339389231, 0.9603298181967022, 0.05648998930568836, 0.9841924888917315, 0.9542407653036024, 0.036938352205300735, 0.012312784068433578, 0.9861809281611822, 0.9578259545666487, 0.9932031270581211, 0.38342059801589873, 0.296511929132295, 0.31696102769314294, 0.6436712685058018, 0.12068836284483783, 0.2360127984521273, 0.6454997121789865, 0.039121194677514334, 0.31514295712442103, 0.9382718600008565, 0.05864199125005353, 0.15304896990967287, 0.06121958796386915, 0.795854643530299, 0.8604087718032684, 0.09370788603797972, 0.04543412656386896, 0.9841715206018721, 0.7010030897497393, 0.15961926771676443, 0.1392856030394696, 0.987779109421679, 0.9723308013412706, 0.96770225030188, 0.05448226945637453, 0.926198580758367, 0.7294380018336337, 0.14146676399197747, 0.129677866992646, 0.9873012289934047, 0.972129387651158, 0.9890941334804668, 0.7377413159110798, 0.16122823460308366, 0.10015693361706714, 0.8412978373866765, 0.07648162158060696, 0.08158039635264742, 0.3535546354816643, 0.6456215082708653, 0.04647631331390848, 0.9527644229351239, 0.986661849687428, 0.7011978137107834, 0.1216535965956058, 0.17741149503525847, 0.957979008329803, 0.5664736131807059, 0.413560490604319, 0.02085178944223457, 0.33358771025494777, 0.49500111844282574, 0.17217430206706982, 0.6948702683908112, 0.2168959219254555, 0.08836500522888928, 0.3060891900408731, 0.6516737594418588, 0.04936922420014082, 0.9948484826453619, 0.9874189047299896, 0.6805667732913908, 0.18692349918928944, 0.1332217204166759, 0.9871486362500632, 0.11583645585975172, 0.8687734189481379, 0.9881563046316829, 0.9752191277107428, 0.020749343142781762, 0.992025142933592, 0.46393617335353204, 0.5167896614570989, 0.017617829367855647, 0.9553225112823939, 0.9893173107505921, 0.9234110133941812, 0.07103161641493702, 0.8635993522958372, 0.09475228003245863, 0.04331532801483823, 0.5665592857053774, 0.09190592108978402, 0.3420296303847658, 0.8783036838473821, 0.05147567377860115, 0.07077905144557659, 0.9915314409993726, 0.9606680218892519, 0.02911115217846218, 0.6532304815308304, 0.16636581552096055, 0.18104515218457473, 0.7465589011359954, 0.20225500110457245, 0.05056375027614311, 0.08718157667260633, 0.29060525557535444, 0.624801299487012, 0.9466621465934631, 0.04640500718595408, 0.9889751725880964, 0.8874406787665252, 0.09508292986784199, 0.9751792135382827, 0.9547588016888685, 0.23717756532520318, 0.6878149394430892, 0.07115326959756095, 0.7684196277833161, 0.14642523851897066, 0.0851018480281197, 0.9270042138033401, 0.032717795781294357, 0.038170761744843414, 0.9550773006471441, 0.03649976945148322, 0.012166589817161072, 0.9739734365148622, 0.17560279714795365, 0.7667988808793976, 0.05853426571598455, 0.9567085555226217, 0.043486752523755536, 0.04151158075753186, 0.04151158075753186, 0.913254776665701, 0.8175269517324665, 0.10387949301215955, 0.07872481757423751, 0.0891581662176382, 0.8915816621763819, 0.9810206524956361, 0.9745762252776927, 0.8205289656883457, 0.10555348345019981, 0.07567985605863382, 0.34125693814408947, 0.5869619336078339, 0.07507652639169969, 0.9603196020807256, 0.9836739090851021, 0.10175853711199966, 0.8867529662617113, 0.014536933873142808, 0.9405499514718365, 0.13617724195853365, 0.8442989001429085, 0.01815696559447115, 0.9792007343040484], \"Term\": [\"\\u0430\\u043b\\u0435\\u0448\\u043a\\u0430\", \"\\u0430\\u043b\\u0435\\u0448\\u043a\\u0430\", \"\\u0430\\u043b\\u044f\\u0432\\u0434\\u0438\\u043d\", \"\\u0430\\u043d\\u0430\\u043b\\u0438\\u0442\\u0438\\u0447\\u0435\\u0441\\u043a\\u0438\\u0439\", \"\\u0430\\u0440\\u0431\\u0430\", \"\\u0431\\u0430\\u0431\\u0430\", \"\\u0431\\u0430\\u0431\\u0430\", \"\\u0431\\u0430\\u0431\\u0430\", \"\\u0431\\u0430\\u0437\\u0430\", \"\\u0431\\u0430\\u0437\\u0430\", \"\\u0431\\u0430\\u0437\\u0430\", \"\\u0431\\u0430\\u0440\\u043a\\u0430\\u0441\", \"\\u0431\\u0435\\u043b\\u043e\\u0432\", \"\\u0431\\u0435\\u043b\\u044b\\u0439\", \"\\u0431\\u0435\\u043b\\u044b\\u0439\", \"\\u0431\\u0435\\u043b\\u044b\\u0439\", \"\\u0431\\u0435\\u0441\\u0441\\u043e\\u043d\\u043e\\u0432\", \"\\u0431\\u0435\\u0442\\u043e\\u043d\", \"\\u0431\\u0435\\u0442\\u043e\\u043d\", \"\\u0431\\u0435\\u0442\\u043e\\u043d\\u043e\\u043c\\u0435\\u0448\\u0430\\u043b\\u043a\\u0430\", \"\\u0431\\u0438\\u0442\\u044c\", \"\\u0431\\u0438\\u0442\\u044c\", \"\\u0431\\u0438\\u0442\\u044c\", \"\\u0431\\u043e\\u0440\\u0449\\u0438\\u0439\", \"\\u0431\\u0440\\u0435\\u0434\\u0435\\u043d\\u044c\", \"\\u0431\\u0440\\u0435\\u043c\\u0441\\u0431\\u0435\\u0440\\u0433\", \"\\u0431\\u0440\\u0438\\u0433\\u0430\\u0434\\u0438\\u0440\", \"\\u0431\\u0440\\u0438\\u0433\\u0430\\u0434\\u0438\\u0440\", \"\\u0431\\u0440\\u0438\\u0447\\u043a\\u0430\", \"\\u0431\\u0440\\u0438\\u0447\\u043a\\u0430\", \"\\u0431\\u0440\\u0438\\u0447\\u043a\\u0430\", \"\\u0431\\u0440\\u044b\\u043d\\u0437\\u0430\", \"\\u0431\\u044b\\u043a\", \"\\u0431\\u044b\\u043a\", \"\\u0431\\u044b\\u043a\", \"\\u0432\\u0430\\u0440\\u0430\\u0432\\u043a\\u0430\", \"\\u0432\\u0435\\u0441\\u044c\", \"\\u0432\\u0435\\u0441\\u044c\", \"\\u0432\\u0435\\u0441\\u044c\", \"\\u0432\\u0438\\u0434\\u0435\\u0442\\u044c\", \"\\u0432\\u0438\\u0434\\u0435\\u0442\\u044c\", \"\\u0432\\u0438\\u0434\\u0435\\u0442\\u044c\", \"\\u0432\\u0438\\u043d\\u043a\\u0438\\u0447\", \"\\u0432\\u0438\\u0440\\u0438\\u043d\\u0435\\u044f\", \"\\u0432\\u043b\\u0430\\u0434\\u0438\\u0441\\u043b\\u0430\\u0432\", \"\\u0432\\u043e\\u0434\\u0430\", \"\\u0432\\u043e\\u0434\\u0430\", \"\\u0432\\u043e\\u0434\\u0430\", \"\\u0432\\u043e\\u0435\\u043d\\u043d\\u044b\\u0439\", \"\\u0432\\u043e\\u0435\\u043d\\u043d\\u044b\\u0439\", \"\\u0432\\u043e\\u0435\\u043d\\u043d\\u044b\\u0439\", \"\\u0432\\u043e\\u0435\\u043d\\u0441\\u043e\\u0432\\u0435\\u0442\", \"\\u0432\\u043e\\u043b\\u043e\\u0441\\u0442\\u044c\", \"\\u0432\\u043e\\u043e\\u0440\\u0443\\u0436\\u0435\\u043d\\u043d\\u044b\\u0439\", \"\\u0432\\u0440\\u0435\\u043c\\u044f\", \"\\u0432\\u0440\\u0435\\u043c\\u044f\", \"\\u0432\\u0440\\u0435\\u043c\\u044f\", \"\\u0432\\u0440\\u043e\\u043d\", \"\\u0432\\u044b\\u0440\\u0430\\u0436\\u0435\\u043d\\u0438\\u0435\", \"\\u0432\\u044b\\u0440\\u0430\\u0436\\u0435\\u043d\\u0438\\u0435\", \"\\u0432\\u044b\\u0440\\u0430\\u0436\\u0435\\u043d\\u0438\\u0435\", \"\\u0433\\u0435\\u0440\\u043c\\u0430\\u043d\", \"\\u0433\\u0435\\u0440\\u043c\\u0430\\u043d\\u043e\\u0432\\u0438\\u0447\", \"\\u0433\\u043b\\u0430\\u0437\", \"\\u0433\\u043b\\u0430\\u0437\", \"\\u0433\\u043b\\u0430\\u0437\", \"\\u0433\\u043b\\u044f\\u0434\\u0435\\u0442\\u044c\", \"\\u0433\\u043b\\u044f\\u0434\\u0435\\u0442\\u044c\", \"\\u0433\\u043b\\u044f\\u0434\\u0435\\u0442\\u044c\", \"\\u0433\\u043b\\u044f\\u043d\\u0443\\u0442\\u044c\", \"\\u0433\\u043b\\u044f\\u043d\\u0443\\u0442\\u044c\", \"\\u0433\\u043b\\u044f\\u043d\\u0443\\u0442\\u044c\", \"\\u0433\\u043e\\u0434\", \"\\u0433\\u043e\\u0434\", \"\\u0433\\u043e\\u0434\", \"\\u0433\\u043e\\u043b\\u043e\\u0432\\u0430\", \"\\u0433\\u043e\\u043b\\u043e\\u0432\\u0430\", \"\\u0433\\u043e\\u043b\\u043e\\u0432\\u0430\", \"\\u0433\\u043e\\u043b\\u043e\\u0441\", \"\\u0433\\u043e\\u043b\\u043e\\u0441\", \"\\u0433\\u043e\\u043b\\u043e\\u0441\", \"\\u0433\\u043e\\u0440\\u0430\", \"\\u0433\\u043e\\u0440\\u0430\", \"\\u0433\\u043e\\u0440\\u0430\", \"\\u0433\\u043e\\u0440\\u043d\\u0438\\u0446\\u0430\", \"\\u0433\\u043e\\u0440\\u043d\\u0438\\u0446\\u0430\", \"\\u0433\\u0440\\u0438\\u0448\\u043a\\u0430\", \"\\u0433\\u0440\\u0438\\u0448\\u043a\\u0430\", \"\\u0433\\u0443\\u0442\\u0430\\u0440\\u0438\\u0432\\u0430\\u0442\\u044c\", \"\\u0434\\u0430\\u0432\\u0430\\u0442\\u044c\", \"\\u0434\\u0430\\u0432\\u0430\\u0442\\u044c\", \"\\u0434\\u0430\\u0432\\u0430\\u0442\\u044c\", \"\\u0434\\u0430\\u043a\", \"\\u0434\\u0430\\u043a\", \"\\u0434\\u0432\\u0435\\u0440\\u044c\", \"\\u0434\\u0432\\u0435\\u0440\\u044c\", \"\\u0434\\u0432\\u0435\\u0440\\u044c\", \"\\u0434\\u0432\\u043e\\u0440\", \"\\u0434\\u0432\\u043e\\u0440\", \"\\u0434\\u0432\\u043e\\u0440\", \"\\u0434\\u0435\\u0432\\u0443\\u0448\\u043a\\u0430\", \"\\u0434\\u0435\\u0432\\u0443\\u0448\\u043a\\u0430\", \"\\u0434\\u0435\\u0432\\u0443\\u0448\\u043a\\u0430\", \"\\u0434\\u0435\\u043b\\u043e\", \"\\u0434\\u0435\\u043b\\u043e\", \"\\u0434\\u0435\\u043b\\u043e\", \"\\u0434\\u0435\\u043d\\u044c\", \"\\u0434\\u0435\\u043d\\u044c\", \"\\u0434\\u0435\\u043d\\u044c\", \"\\u0434\\u0435\\u0440\\u0431\\u0435\\u043d\\u0442\", \"\\u0434\\u0438\\u0432\\u0438\\u0437\\u0438\\u044f\", \"\\u0434\\u0438\\u0432\\u0438\\u0437\\u0438\\u044f\", \"\\u0434\\u0438\\u0432\\u0438\\u0437\\u0438\\u044f\", \"\\u0434\\u0438\\u0442\\u0430\", \"\\u0434\\u043e\\u043a\\u0442\\u043e\\u0440\", \"\\u0434\\u043e\\u043a\\u0442\\u043e\\u0440\", \"\\u0434\\u0440\\u043e\\u043d\\u043e\\u0432\", \"\\u0434\\u0440\\u0443\\u0433\", \"\\u0434\\u0440\\u0443\\u0433\", \"\\u0434\\u0440\\u0443\\u0433\", \"\\u0434\\u0443\\u043c\\u0430\\u0442\\u044c\", \"\\u0434\\u0443\\u043c\\u0430\\u0442\\u044c\", \"\\u0434\\u0443\\u043c\\u0430\\u0442\\u044c\", \"\\u0434\\u0443\\u043d\\u044f\\u0448\\u043a\\u0430\", \"\\u0434\\u044d\", \"\\u0434\\u044e\\u0436\\u0435\", \"\\u0434\\u044e\\u0436\\u0435\", \"\\u0436\\u0430\\u043d\\u0434\\u0430\\u0440\\u043c\", \"\\u0436\\u0438\\u0434\\u043a\\u0438\\u0439\", \"\\u0436\\u0438\\u0434\\u043a\\u0438\\u0439\", \"\\u0436\\u0438\\u0434\\u043a\\u0438\\u0439\", \"\\u0436\\u0438\\u0437\\u043d\\u044c\", \"\\u0436\\u0438\\u0437\\u043d\\u044c\", \"\\u0436\\u0438\\u0437\\u043d\\u044c\", \"\\u0436\\u0443\\u043a\", \"\\u0436\\u0443\\u043a\", \"\\u0437\", \"\\u0437\\u0430\\u0432\\u043a\\u043e\\u043c\", \"\\u0437\\u0430\\u0432\\u043e\\u0434\", \"\\u0437\\u0430\\u0432\\u043e\\u0434\", \"\\u0437\\u0430\\u0432\\u043e\\u0434\", \"\\u0437\\u0430\\u0439\\u043c\\u0438\\u0449\\u0435\", \"\\u0437\\u0430\\u043c\\u0435\\u0441\", \"\\u0437\\u0430\\u0440\\u0430\\u0437\", \"\\u0437\\u0430\\u0440\\u0430\\u0437\", \"\\u0437\\u0430\\u0440\\u0430\\u0437\", \"\\u0437\\u0430\\u0442\\u0435\\u043c\", \"\\u0437\\u0430\\u0442\\u0435\\u043c\", \"\\u0437\\u0430\\u0442\\u0435\\u043c\", \"\\u0437\\u0435\\u043c\\u043b\\u044f\", \"\\u0437\\u0435\\u043c\\u043b\\u044f\", \"\\u0437\\u0435\\u043c\\u043b\\u044f\", \"\\u0438\\u0434\\u0442\\u0438\", \"\\u0438\\u0434\\u0442\\u0438\", \"\\u0438\\u0434\\u0442\\u0438\", \"\\u0438\\u0448\\u043e\", \"\\u043a\\u0430\\u0437\\u0430\\u043a\", \"\\u043a\\u0430\\u0437\\u0430\\u043a\", \"\\u043a\\u0430\\u0437\\u0430\\u043a\", \"\\u043a\\u0430\\u0437\\u0430\\u0442\\u044c\\u0441\\u044f\", \"\\u043a\\u0430\\u0437\\u0430\\u0442\\u044c\\u0441\\u044f\", \"\\u043a\\u0430\\u0437\\u0430\\u0442\\u044c\\u0441\\u044f\", \"\\u043a\\u0430\\u043a\\u043e\\u0439-\\u0442\\u043e\", \"\\u043a\\u0430\\u043a\\u043e\\u0439-\\u0442\\u043e\", \"\\u043a\\u0430\\u043a\\u043e\\u0439-\\u0442\\u043e\", \"\\u043a\\u0430\\u043f\\u0438\\u0442\\u0430\\u043d\", \"\\u043a\\u0430\\u043f\\u0438\\u0442\\u0430\\u043d\", \"\\u043a\\u0430\\u043f\\u0438\\u0442\\u0430\\u043d\", \"\\u043a\\u0430\\u0440\\u0430\\u0432\\u0430\\u0439\", \"\\u043a\\u043b\\u0435\\u043e\\u043f\\u0430\\u0442\\u0440\\u0430\", \"\\u043a\\u043b\\u0435\\u043e\\u043f\\u0430\\u0442\\u0440\\u0430\", \"\\u043a\\u043b\\u0438\\u043c\\u043a\\u0430\", \"\\u043a\\u043e\\u0437\\u0430\\u043a\", \"\\u043a\\u043e\\u0437\\u0430\\u043a\", \"\\u043a\\u043e\\u043b\\u0445\\u043e\\u0437\", \"\\u043a\\u043e\\u043b\\u0445\\u043e\\u0437\", \"\\u043a\\u043e\\u043b\\u0445\\u043e\\u0437\", \"\\u043a\\u043e\\u043c\\u0438\\u0441\\u0441\\u0430\\u0440\", \"\\u043a\\u043e\\u043d\\u044c\", \"\\u043a\\u043e\\u043d\\u044c\", \"\\u043a\\u043e\\u043d\\u044c\", \"\\u043a\\u043e\\u0440\\u043e\\u0432\\u0430\", \"\\u043a\\u043e\\u0440\\u043e\\u0432\\u0430\", \"\\u043a\\u043e\\u0440\\u043e\\u0432\\u0430\", \"\\u043a\\u043e\\u0440\\u0448\\u0443\\u043d\\u043e\\u0432\", \"\\u043a\\u043e\\u0441\\u0438\\u043b\\u043a\\u0430\", \"\\u043a\\u043e\\u0441\\u0442\\u044b\\u043b\\u044c\", \"\\u043a\\u043e\\u0441\\u0442\\u044b\\u043b\\u044c\", \"\\u043a\\u043e\\u0447\\u0435\\u0433\\u0430\\u0440\", \"\\u043a\\u0440\\u0435\\u043f\\u043e\\u0441\\u0442\\u043d\\u0438\\u043a\", \"\\u043a\\u0440\\u0435\\u043f\\u043e\\u0441\\u0442\\u044c\", \"\\u043a\\u0440\\u0435\\u043f\\u043e\\u0441\\u0442\\u044c\", \"\\u043a\\u0443\\u0431\\u0430\\u043d\\u0435\\u0446\", \"\\u043a\\u0443\\u0440\\u0435\\u043d\\u044c\", \"\\u043a\\u0443\\u0440\\u0435\\u043d\\u044c\", \"\\u043b\\u0430\\u043f\\u0448\\u0438\\u043d\", \"\\u043b\\u0435\\u0439\\u0442\\u0435\\u043d\\u0430\\u043d\\u0442\", \"\\u043b\\u0435\\u0449\\u0438\\u043d\\u0441\\u043a\\u0438\\u0439\", \"\\u043b\\u0438\\u0446\\u043e\", \"\\u043b\\u0438\\u0446\\u043e\", \"\\u043b\\u0438\\u0446\\u043e\", \"\\u043b\\u043e\\u0448\\u0430\\u0434\\u044c\", \"\\u043b\\u043e\\u0448\\u0430\\u0434\\u044c\", \"\\u043b\\u043e\\u0448\\u0430\\u0434\\u044c\", \"\\u043b\\u043e\\u0448\\u0430\\u043a\", \"\\u043b\\u0443\\u0445\\u0430\\u0432\\u0430\", \"\\u043c\\u0430\\u0442\\u044c\", \"\\u043c\\u0430\\u0442\\u044c\", \"\\u043c\\u0430\\u0442\\u044c\", \"\\u043c\\u0435\\u043b\\u0435\\u0445\\u043e\\u0432\\u0441\\u043a\\u0438\\u0439\", \"\\u043c\\u0435\\u0442\\u0435\\u043b\\u0438\\u0446\\u0430\", \"\\u043c\\u0435\\u0442\\u0435\\u043b\\u0438\\u0446\\u0430\", \"\\u043c\\u0435\\u0445\\u043e\\u0432\", \"\\u043c\\u0438\\u0441\\u0442\\u0435\\u0440\", \"\\u043c\\u0438\\u0441\\u0442\\u0435\\u0440\", \"\\u043c\\u043e\\u0433\\u0435\\u043b\\u044c\\u043d\\u0438\\u0446\\u043a\\u0438\\u0439\", \"\\u043c\\u043e\\u0447\\u044c\", \"\\u043c\\u043e\\u0447\\u044c\", \"\\u043c\\u043e\\u0447\\u044c\", \"\\u043c\\u0443\\u0436\\u0438\\u043a\", \"\\u043c\\u0443\\u0436\\u0438\\u043a\", \"\\u043c\\u0443\\u0436\\u0438\\u043a\", \"\\u043d\\u0430\\u043b\\u0431\\u0430\\u043d\\u0434\\u043e\\u0432\\u043e\", \"\\u043d\\u0430\\u0448\", \"\\u043d\\u0430\\u0448\", \"\\u043d\\u0430\\u0448\", \"\\u043d\\u0435\\u043c\\u0435\\u0446\", \"\\u043d\\u0435\\u043c\\u0435\\u0446\", \"\\u043d\\u0435\\u043c\\u0435\\u0446\", \"\\u043d\\u0435\\u0441\\u043a\\u043e\\u043b\\u044c\\u043a\\u043e\", \"\\u043d\\u0435\\u0441\\u043a\\u043e\\u043b\\u044c\\u043a\\u043e\", \"\\u043d\\u0435\\u0441\\u043a\\u043e\\u043b\\u044c\\u043a\\u043e\", \"\\u043d\\u043e\\u0433\\u0430\", \"\\u043d\\u043e\\u0433\\u0430\", \"\\u043d\\u043e\\u0433\\u0430\", \"\\u043d\\u043e\\u0447\\u044c\", \"\\u043d\\u043e\\u0447\\u044c\", \"\\u043d\\u043e\\u0447\\u044c\", \"\\u043e\\u0432\\u0435\\u0447\\u0438\\u0439\", \"\\u043e\\u043a\\u043d\\u043e\", \"\\u043e\\u043a\\u043d\\u043e\", \"\\u043e\\u043a\\u043d\\u043e\", \"\\u043e\\u0442\\u0432\\u0435\\u0447\\u0430\\u0442\\u044c\", \"\\u043e\\u0442\\u0432\\u0435\\u0447\\u0430\\u0442\\u044c\", \"\\u043e\\u0442\\u0432\\u0435\\u0447\\u0430\\u0442\\u044c\", \"\\u043e\\u0442\\u0435\\u043b\\u044c\", \"\\u043e\\u0442\\u0435\\u0446\", \"\\u043e\\u0442\\u0435\\u0446\", \"\\u043e\\u0442\\u0435\\u0446\", \"\\u043e\\u0447\\u0435\\u043d\\u044c\", \"\\u043e\\u0447\\u0435\\u043d\\u044c\", \"\\u043e\\u0447\\u0435\\u043d\\u044c\", \"\\u043f\\u0435\\u0440\\u0435\\u043c\\u0435\\u0448\\u0438\\u0432\\u0430\\u043d\\u0438\\u0435\", \"\\u043f\\u043e\\u0432\\u043e\\u0437\\u043a\\u0430\", \"\\u043f\\u043e\\u0432\\u043e\\u0437\\u043a\\u0430\", \"\\u043f\\u043e\\u0432\\u043e\\u0437\\u043a\\u0430\", \"\\u043f\\u043e\\u0434\\u0443\\u043c\\u0430\\u0442\\u044c\", \"\\u043f\\u043e\\u0434\\u0443\\u043c\\u0430\\u0442\\u044c\", \"\\u043f\\u043e\\u0434\\u0443\\u043c\\u0430\\u0442\\u044c\", \"\\u043f\\u043e\\u0439\\u0442\\u0438\", \"\\u043f\\u043e\\u0439\\u0442\\u0438\", \"\\u043f\\u043e\\u0439\\u0442\\u0438\", \"\\u043f\\u043e\\u043d\\u0438\\u043c\\u0430\\u0442\\u044c\", \"\\u043f\\u043e\\u043d\\u0438\\u043c\\u0430\\u0442\\u044c\", \"\\u043f\\u043e\\u043d\\u0438\\u043c\\u0430\\u0442\\u044c\", \"\\u043f\\u043e\\u0447\\u0435\\u0440\\u043d\\u0435\\u043b\\u044b\\u0439\", \"\\u043f\\u043e\\u0447\\u0435\\u0440\\u043d\\u0435\\u043b\\u044b\\u0439\", \"\\u043f\\u0440\\u0435\\u0434\\u0438\\u0441\\u043f\\u043e\\u043b\\u043a\\u043e\\u043c\", \"\\u043f\\u0440\\u043e\\u0433\\u043e\\u0432\\u0430\\u0440\\u0438\\u0432\\u0430\\u0442\\u044c\", \"\\u043f\\u0440\\u043e\\u0433\\u043e\\u0432\\u0430\\u0440\\u0438\\u0432\\u0430\\u0442\\u044c\", \"\\u043f\\u0440\\u043e\\u0433\\u043e\\u0432\\u0430\\u0440\\u0438\\u0432\\u0430\\u0442\\u044c\", \"\\u043f\\u0440\\u043e\\u043a\\u043e\\u0444\\u0438\\u0439\", \"\\u043f\\u0440\\u043e\\u0440\\u0430\\u0431\", \"\\u043f\\u0442\\u0430\\u0445\\u0430\", \"\\u043f\\u044b\\u043b\\u044c\", \"\\u043f\\u044b\\u043b\\u044c\", \"\\u043f\\u044b\\u043b\\u044c\", \"\\u0440\\u0430\\u0431\\u043e\\u0442\\u0430\", \"\\u0440\\u0430\\u0431\\u043e\\u0442\\u0430\", \"\\u0440\\u0430\\u0431\\u043e\\u0442\\u0430\", \"\\u0440\\u0430\\u0431\\u043e\\u0447\\u0438\\u0439\", \"\\u0440\\u0430\\u0431\\u043e\\u0447\\u0438\\u0439\", \"\\u0440\\u0430\\u0431\\u043e\\u0447\\u0438\\u0439\", \"\\u0440\\u0430\\u0437\\u043c\\u0435\\u0442\\u043d\\u043e\\u0432\", \"\\u0440\\u0430\\u0437\\u043c\\u0435\\u0442\\u043d\\u043e\\u0432\", \"\\u0440\\u0430\\u0439\", \"\\u0440\\u0430\\u0439\", \"\\u0440\\u0430\\u0439\", \"\\u0440\\u0430\\u0441\\u0441\\u043a\\u0430\\u0437\\u044b\\u0432\\u0430\\u0442\\u044c\", \"\\u0440\\u0430\\u0441\\u0441\\u043a\\u0430\\u0437\\u044b\\u0432\\u0430\\u0442\\u044c\", \"\\u0440\\u0430\\u0441\\u0441\\u043a\\u0430\\u0437\\u044b\\u0432\\u0430\\u0442\\u044c\", \"\\u0440\\u0435\\u043a\\u043e\\u0440\\u0434\", \"\\u0440\\u0443\\u043a\\u0430\", \"\\u0440\\u0443\\u043a\\u0430\", \"\\u0440\\u0443\\u043a\\u0430\", \"\\u0440\\u0443\\u043f\", \"\\u0441\\u0430\\u0431\\u043b\\u044f\", \"\\u0441\\u0430\\u0432\\u0447\\u0443\\u043a\", \"\\u0441\\u0430\\u0435\\u043d\\u043a\\u043e\", \"\\u0441\\u0430\\u0435\\u043d\\u043a\\u043e\", \"\\u0441\\u0430\\u043c\\u044b\\u0439\", \"\\u0441\\u0430\\u043c\\u044b\\u0439\", \"\\u0441\\u0430\\u043c\\u044b\\u0439\", \"\\u0441\\u0430\\u0440\\u0440\\u0430\", \"\\u0441\\u0435\\u043c\\u0435\\u0447\\u043a\\u0438\\u043d\", \"\\u0441\\u0435\\u0440\\u043e\\u0448\\u0435\\u0432\\u0441\\u043a\\u0438\\u0439\", \"\\u0441\\u043b\\u043e\\u0432\\u043e\", \"\\u0441\\u043b\\u043e\\u0432\\u043e\", \"\\u0441\\u043b\\u043e\\u0432\\u043e\", \"\\u0441\\u043b\\u0443\\u0448\\u0430\\u0442\\u044c\", \"\\u0441\\u043b\\u0443\\u0448\\u0430\\u0442\\u044c\", \"\\u0441\\u043b\\u0443\\u0448\\u0430\\u0442\\u044c\", \"\\u0441\\u043c\\u0435\\u043d\\u0430\", \"\\u0441\\u043c\\u0435\\u043d\\u0430\", \"\\u0441\\u043c\\u0435\\u0442\\u0430\\u043d\\u0430\", \"\\u0441\\u043c\\u0435\\u0442\\u0430\\u043d\\u0430\", \"\\u0441\\u043c\\u043e\\u043b\\u043e\\u043a\\u0443\\u0440\", \"\\u0441\\u043c\\u043e\\u0442\\u0440\\u0435\\u0442\\u044c\", \"\\u0441\\u043c\\u043e\\u0442\\u0440\\u0435\\u0442\\u044c\", \"\\u0441\\u043c\\u043e\\u0442\\u0440\\u0435\\u0442\\u044c\", \"\\u0441\\u043e\\u0432\\u043d\\u0430\\u0440\\u0445\\u043e\\u0437\", \"\\u0441\\u043e\\u043b\\u0434\\u0430\\u0442\", \"\\u0441\\u043e\\u043b\\u0434\\u0430\\u0442\", \"\\u0441\\u043e\\u043b\\u0434\\u0430\\u0442\", \"\\u0441\\u0442\\u0430\\u043d\\u0438\\u0446\\u0430\", \"\\u0441\\u0442\\u0430\\u043d\\u0438\\u0446\\u0430\", \"\\u0441\\u0442\\u0430\\u043d\\u0438\\u0446\\u0430\", \"\\u0441\\u0442\\u0430\\u043d\\u043e\\u0432\\u0438\\u0442\\u044c\\u0441\\u044f\", \"\\u0441\\u0442\\u0430\\u043d\\u043e\\u0432\\u0438\\u0442\\u044c\\u0441\\u044f\", \"\\u0441\\u0442\\u0430\\u043d\\u043e\\u0432\\u0438\\u0442\\u044c\\u0441\\u044f\", \"\\u0441\\u0442\\u0430\\u0440\\u0443\\u0445\\u0430\", \"\\u0441\\u0442\\u0430\\u0440\\u0443\\u0445\\u0430\", \"\\u0441\\u0442\\u0430\\u0440\\u0443\\u0445\\u0430\", \"\\u0441\\u0442\\u0435\\u0444\\u0430\\u043d\\u0438\\u044f\", \"\\u0441\\u0442\\u0438\\u0445\", \"\\u0441\\u0442\\u043e\\u044f\\u0442\\u044c\", \"\\u0441\\u0442\\u043e\\u044f\\u0442\\u044c\", \"\\u0441\\u0442\\u043e\\u044f\\u0442\\u044c\", \"\\u0441\\u0442\\u0440\\u0435\\u043b\\u0435\\u0446\", \"\\u0441\\u0442\\u0440\\u043e\\u0438\\u0442\\u0435\\u043b\\u044c\\u0441\\u0442\\u0432\\u043e\", \"\\u0441\\u0442\\u0440\\u043e\\u0438\\u0442\\u0435\\u043b\\u044c\\u0441\\u0442\\u0432\\u043e\", \"\\u0441\\u0443\\u0434\\u043d\\u043e\", \"\\u0442\\u0430\\u043d\\u043a\\u0435\\u0440\", \"\\u0442\\u0430\\u043d\\u043a\\u0435\\u0440\", \"\\u0442\\u0430\\u0448\\u043a\\u0435\\u043d\\u0442\", \"\\u0442\\u0435\\u043c\\u043d\\u043e\\u0442\\u0430\", \"\\u0442\\u0435\\u043c\\u043d\\u043e\\u0442\\u0430\", \"\\u0442\\u0435\\u043c\\u043d\\u043e\\u0442\\u0430\", \"\\u0442\\u0435\\u043f\\u043b\\u044f\\u043a\", \"\\u0442\\u0435\\u0445\\u043d\\u043e\\u0440\\u0443\\u043a\", \"\\u0442\\u0438\\u0442\\u043e\\u043a\", \"\\u0442\\u0438\\u0442\\u043e\\u043a\", \"\\u0442\\u0438\\u0445\\u043e\", \"\\u0442\\u0438\\u0445\\u043e\", \"\\u0442\\u0438\\u0445\\u043e\", \"\\u0442\\u043e\\u0432\\u0430\\u0440\\u0438\\u0449\", \"\\u0442\\u043e\\u0432\\u0430\\u0440\\u0438\\u0449\", \"\\u0442\\u043e\\u0432\\u0430\\u0440\\u0438\\u0449\", \"\\u0442\\u043e\\u0447\\u043d\\u043e\", \"\\u0442\\u043e\\u0447\\u043d\\u043e\", \"\\u0442\\u043e\\u0447\\u043d\\u043e\", \"\\u0442\\u0440\\u0438\\u0431\\u0443\\u043d\\u0430\\u043b\", \"\\u0442\\u044e\\u0440\\u044c\\u043c\\u0430\", \"\\u0442\\u044e\\u0440\\u044c\\u043c\\u0430\", \"\\u0443\\u043b\\u044b\\u0431\\u0430\\u0442\\u044c\\u0441\\u044f\", \"\\u0443\\u043b\\u044b\\u0431\\u0430\\u0442\\u044c\\u0441\\u044f\", \"\\u0443\\u043b\\u044b\\u0431\\u0430\\u0442\\u044c\\u0441\\u044f\", \"\\u0443\\u0445\\u043e\\u0434\\u0438\\u0442\\u044c\", \"\\u0443\\u0445\\u043e\\u0434\\u0438\\u0442\\u044c\", \"\\u0443\\u0445\\u043e\\u0434\\u0438\\u0442\\u044c\", \"\\u0443\\u0447\\u0430\\u0441\\u0442\\u043e\\u043a\", \"\\u0443\\u0447\\u0430\\u0441\\u0442\\u043e\\u043a\", \"\\u0443\\u0447\\u0430\\u0441\\u0442\\u043e\\u043a\", \"\\u0443\\u0447\\u0438\\u0442\\u0435\\u043b\\u044c\", \"\\u0443\\u0447\\u0438\\u0442\\u0435\\u043b\\u044c\", \"\\u0444\\u0430\\u0431\\u0440\\u0438\\u043a\\u0430\", \"\\u0444\\u0435\\u0434\\u043e\\u0442\", \"\\u0444\\u0435\\u0434\\u043e\\u0442\", \"\\u0444\\u0438\\u043b\\u043e\\u043d\\u043e\\u0432\", \"\\u0444\\u0440\\u043e\\u043b\", \"\\u0445\\u043e\\u0437\\u044f\\u0439\\u0441\\u0442\\u0432\\u043e\", \"\\u0445\\u043e\\u0437\\u044f\\u0439\\u0441\\u0442\\u0432\\u043e\", \"\\u0445\\u043e\\u0437\\u044f\\u0439\\u0441\\u0442\\u0432\\u043e\", \"\\u0445\\u043e\\u0442\\u0435\\u0442\\u044c\", \"\\u0445\\u043e\\u0442\\u0435\\u0442\\u044c\", \"\\u0445\\u043e\\u0442\\u0435\\u0442\\u044c\", \"\\u0445\\u043e\\u0442\\u044f\", \"\\u0445\\u043e\\u0442\\u044f\", \"\\u0445\\u043e\\u0442\\u044f\", \"\\u0445\\u043e\\u0445\\u043e\\u043b\", \"\\u0445\\u043e\\u0445\\u043e\\u043b\", \"\\u0445\\u043e\\u0445\\u043e\\u043b\", \"\\u0445\\u043e\\u0447\\u044c\", \"\\u0445\\u0443\\u0442\\u043e\\u0440\", \"\\u0445\\u0443\\u0442\\u043e\\u0440\", \"\\u0445\\u0443\\u0442\\u043e\\u0440\", \"\\u0445\\u0443\\u0447\\u044c\", \"\\u0445\\u0443\\u0447\\u044c\", \"\\u0446\\u0435\\u043c\\u0435\\u043d\\u0442\", \"\\u0446\\u0435\\u043c\\u0435\\u043d\\u0442\", \"\\u0446\\u0435\\u043c\\u0435\\u043d\\u0442\", \"\\u0447\\u0435\\u043b\\u043e\\u0432\\u0435\\u043a\", \"\\u0447\\u0435\\u043b\\u043e\\u0432\\u0435\\u043a\", \"\\u0447\\u0435\\u043b\\u043e\\u0432\\u0435\\u043a\", \"\\u0447\\u0438\\u0431\\u0438\\u0441\", \"\\u0447\\u0438\\u0431\\u0438\\u0441\", \"\\u0447\\u0438\\u0436\", \"\\u0447\\u043e\\u0433\\u043e\", \"\\u0447\\u0442\\u043e-\\u0442\\u043e\", \"\\u0447\\u0442\\u043e-\\u0442\\u043e\", \"\\u0447\\u0442\\u043e-\\u0442\\u043e\", \"\\u0448\\u043e\\u0441\\u0441\\u0435\", \"\\u0448\\u043e\\u0441\\u0441\\u0435\", \"\\u0448\\u043e\\u0441\\u0441\\u0435\", \"\\u0448\\u0440\\u0430\\u043c\\u043c\", \"\\u0448\\u0442\\u0430\\u0434\\u0438\\u0432\\u044b\\u0439\", \"\\u0449\\u043e\", \"\\u0449\\u043e\", \"\\u0449\\u043e\", \"\\u0449\\u043e\\u0431\\u0430\", \"\\u044f\\u043a\", \"\\u044f\\u043a\", \"\\u044f\\u043a\", \"\\u044f\\u043a\\u043e\\u0431\"]}, \"R\": 30, \"lambda.step\": 0.01, \"plot.opts\": {\"xlab\": \"PC1\", \"ylab\": \"PC2\"}, \"topic.order\": [3, 1, 2]};\n",
       "\n",
       "function LDAvis_load_lib(url, callback){\n",
       "  var s = document.createElement('script');\n",
       "  s.src = url;\n",
       "  s.async = true;\n",
       "  s.onreadystatechange = s.onload = callback;\n",
       "  s.onerror = function(){console.warn(\"failed to load library \" + url);};\n",
       "  document.getElementsByTagName(\"head\")[0].appendChild(s);\n",
       "}\n",
       "\n",
       "if(typeof(LDAvis) !== \"undefined\"){\n",
       "   // already loaded: just create the visualization\n",
       "   !function(LDAvis){\n",
       "       new LDAvis(\"#\" + \"ldavis_el650458106246963635871068\", ldavis_el650458106246963635871068_data);\n",
       "   }(LDAvis);\n",
       "}else if(typeof define === \"function\" && define.amd){\n",
       "   // require.js is available: use it to load d3/LDAvis\n",
       "   require.config({paths: {d3: \"https://cdnjs.cloudflare.com/ajax/libs/d3/3.5.5/d3.min\"}});\n",
       "   require([\"d3\"], function(d3){\n",
       "      window.d3 = d3;\n",
       "      LDAvis_load_lib(\"https://cdn.rawgit.com/bmabey/pyLDAvis/files/ldavis.v1.0.0.js\", function(){\n",
       "        new LDAvis(\"#\" + \"ldavis_el650458106246963635871068\", ldavis_el650458106246963635871068_data);\n",
       "      });\n",
       "    });\n",
       "}else{\n",
       "    // require.js not available: dynamically load d3 & LDAvis\n",
       "    LDAvis_load_lib(\"https://cdnjs.cloudflare.com/ajax/libs/d3/3.5.5/d3.min.js\", function(){\n",
       "         LDAvis_load_lib(\"https://cdn.rawgit.com/bmabey/pyLDAvis/files/ldavis.v1.0.0.js\", function(){\n",
       "                 new LDAvis(\"#\" + \"ldavis_el650458106246963635871068\", ldavis_el650458106246963635871068_data);\n",
       "            })\n",
       "         });\n",
       "}\n",
       "</script>"
      ],
      "text/plain": [
       "PreparedData(topic_coordinates=            Freq  cluster  topics         x         y\n",
       "topic                                                \n",
       "2      66.262472        1       1  0.035297  0.063377\n",
       "0      19.871130        1       2 -0.089034 -0.008186\n",
       "1      13.866398        1       3  0.053737 -0.055192, topic_info=      Category         Freq         Term        Total  loglift  logprob\n",
       "term                                                                   \n",
       "1368   Default   859.000000      товарищ   859.000000  30.0000  30.0000\n",
       "1167   Default  1967.000000         рука  1967.000000  29.0000  29.0000\n",
       "224    Default  1737.000000         глаз  1737.000000  28.0000  28.0000\n",
       "3012   Default   460.000000      рабочий   460.000000  27.0000  27.0000\n",
       "26     Default   387.000000         баба   387.000000  26.0000  26.0000\n",
       "6010   Default   278.000000        завод   278.000000  25.0000  25.0000\n",
       "5609   Default   367.000000        казак   367.000000  24.0000  24.0000\n",
       "232    Default  1273.000000       голова  1273.000000  23.0000  23.0000\n",
       "426    Default  1221.000000         идти  1221.000000  22.0000  22.0000\n",
       "575    Default   385.000000       лошадь   385.000000  21.0000  21.0000\n",
       "736    Default   767.000000         нога   767.000000  20.0000  20.0000\n",
       "3942   Default   264.000000         гора   264.000000  19.0000  19.0000\n",
       "1293   Default  1244.000000  становиться  1244.000000  18.0000  18.0000\n",
       "412    Default   569.000000        земля   569.000000  17.0000  17.0000\n",
       "1310   Default   968.000000       стоять   968.000000  16.0000  16.0000\n",
       "854    Default   570.000000        очень   570.000000  15.0000  15.0000\n",
       "2444   Default   170.000000        хутор   170.000000  14.0000  14.0000\n",
       "254    Default   725.000000       давать   725.000000  13.0000  13.0000\n",
       "269    Default  1091.000000         дело  1091.000000  12.0000  12.0000\n",
       "227    Default   610.000000      глядеть   610.000000  11.0000  11.0000\n",
       "1255   Default   591.000000     смотреть   591.000000  10.0000  10.0000\n",
       "175    Default   778.000000        время   778.000000   9.0000   9.0000\n",
       "233    Default   768.000000        голос   768.000000   8.0000   8.0000\n",
       "130    Default   816.000000       видеть   816.000000   7.0000   7.0000\n",
       "1099   Default   372.000000       работа   372.000000   6.0000   6.0000\n",
       "2097   Default   867.000000        пойти   867.000000   5.0000   5.0000\n",
       "567    Default  1212.000000         лицо  1212.000000   4.0000   4.0000\n",
       "743    Default   576.000000         ночь   576.000000   3.0000   3.0000\n",
       "3768   Default   287.000000       солдат   287.000000   2.0000   2.0000\n",
       "6200   Default   126.000000      повозка   126.000000   1.0000   1.0000\n",
       "...        ...          ...          ...          ...      ...      ...\n",
       "10071   Topic3    32.729170       жидкий    51.156278   1.5291  -7.3873\n",
       "1167    Topic3   274.405038         рука  1967.181058   0.0060  -5.2609\n",
       "224     Topic3   219.615703         глаз  1737.210183  -0.0925  -5.4836\n",
       "1099    Topic3    87.538495       работа   372.861135   0.5266  -6.4034\n",
       "426     Topic3   158.733456         идти  1221.226089  -0.0647  -5.8083\n",
       "2197    Topic3    62.200250         пыль   195.607644   0.8299  -6.7452\n",
       "1255    Topic3   104.892056     смотреть   591.844401   0.2454  -6.2226\n",
       "58      Topic3    73.264561         бить   283.041715   0.6242  -6.5814\n",
       "269     Topic3   137.950742         дело  1091.134212  -0.0924  -5.9486\n",
       "1310    Topic3   129.040366       стоять   968.310570  -0.0397  -6.0154\n",
       "130     Topic3   117.503779       видеть   816.894228   0.0367  -6.1091\n",
       "175     Topic3   114.768143        время   778.651907   0.0611  -6.1326\n",
       "254     Topic3   108.352972       давать   725.762801   0.0739  -6.1901\n",
       "232     Topic3   139.224816       голова  1273.006449  -0.2373  -5.9394\n",
       "1484    Topic3   168.576038      человек  2146.718217  -0.5686  -5.7481\n",
       "567     Topic3   130.495823         лицо  1212.597357  -0.2535  -6.0042\n",
       "302     Topic3    88.530983         друг   512.073401   0.2206  -6.3922\n",
       "854     Topic3    86.876656        очень   570.378729   0.0939  -6.4110\n",
       "2028    Topic3    78.511873         окно   438.821391   0.2549  -6.5123\n",
       "973     Topic3    98.652737     понимать   823.806350  -0.1466  -6.2839\n",
       "271     Topic3    96.027931         день   787.889137  -0.1290  -6.3109\n",
       "1293    Topic3   110.346133  становиться  1244.836683  -0.4474  -6.1719\n",
       "1179    Topic3    87.808787        самый   678.604623  -0.0692  -6.4004\n",
       "231     Topic3    83.089923          год   574.317809   0.0424  -6.4556\n",
       "1698    Topic3    84.631703        дверь   623.002319  -0.0205  -6.4372\n",
       "1956    Topic3    85.434978          наш   722.122690  -0.1587  -6.4278\n",
       "627     Topic3    85.495082         мочь   752.347984  -0.1990  -6.4271\n",
       "2398    Topic3    73.631331    улыбаться   408.737815   0.2617  -6.5765\n",
       "1244    Topic3    82.176569        слово   818.715161  -0.3232  -6.4667\n",
       "2097    Topic3    78.671630        пойти   867.072892  -0.4241  -6.5102\n",
       "\n",
       "[278 rows x 6 columns], token_table=       Topic      Freq           Term\n",
       "term                                 \n",
       "12401      1  0.966147         алешка\n",
       "12401      2  0.023855         алешка\n",
       "20296      1  0.982413        алявдин\n",
       "18870      3  0.960293  аналитический\n",
       "23946      2  0.966120           арба\n",
       "26         1  0.263533           баба\n",
       "26         2  0.599408           баба\n",
       "26         3  0.136934           баба\n",
       "7780       1  0.028207           база\n",
       "7780       2  0.930823           база\n",
       "7780       3  0.028207           база\n",
       "25416      2  0.960322         баркас\n",
       "11615      1  0.987298          белов\n",
       "44         1  0.582862          белый\n",
       "44         2  0.301965          белый\n",
       "44         3  0.112359          белый\n",
       "31611      1  0.996320       бессонов\n",
       "13523      1  0.079382          бетон\n",
       "13523      3  0.899663          бетон\n",
       "18249      3  0.984466  бетономешалка\n",
       "58         1  0.575887           бить\n",
       "58         2  0.166053           бить\n",
       "58         3  0.257913           бить\n",
       "14726      3  0.941472         борщий\n",
       "25708      2  0.973405        бредень\n",
       "13535      3  0.965590      бремсберг\n",
       "18252      1  0.088419       бригадир\n",
       "18252      3  0.884193       бригадир\n",
       "7208       1  0.251441         бричка\n",
       "7208       2  0.737560         бричка\n",
       "...      ...       ...            ...\n",
       "2444       2  0.766799          хутор\n",
       "2444       3  0.058534          хутор\n",
       "2445       2  0.956709           хучь\n",
       "2445       3  0.043487           хучь\n",
       "13853      1  0.041512         цемент\n",
       "13853      2  0.041512         цемент\n",
       "13853      3  0.913255         цемент\n",
       "1484       1  0.817527        человек\n",
       "1484       2  0.103879        человек\n",
       "1484       3  0.078725        человек\n",
       "14312      2  0.089158          чибис\n",
       "14312      3  0.891582          чибис\n",
       "2460       1  0.981021            чиж\n",
       "24147      2  0.974576           чого\n",
       "1504       1  0.820529         что-то\n",
       "1504       2  0.105553         что-то\n",
       "1504       3  0.075680         что-то\n",
       "6415       1  0.341257          шоссе\n",
       "6415       2  0.586962          шоссе\n",
       "6415       3  0.075077          шоссе\n",
       "14898      3  0.960320          шрамм\n",
       "11588      1  0.983674       штадивый\n",
       "6834       1  0.101759             що\n",
       "6834       2  0.886753             що\n",
       "6834       3  0.014537             що\n",
       "22599      2  0.940550           щоба\n",
       "6429       1  0.136177             як\n",
       "6429       2  0.844299             як\n",
       "6429       3  0.018157             як\n",
       "14712      3  0.979201           якоб\n",
       "\n",
       "[424 rows x 3 columns], R=30, lambda_step=0.01, plot_opts={'xlab': 'PC1', 'ylab': 'PC2'}, topic_order=[3, 1, 2])"
      ]
     },
     "execution_count": 14,
     "metadata": {},
     "output_type": "execute_result"
    }
   ],
   "source": [
    "import pyLDAvis.gensim\n",
    "pyLDAvis.enable_notebook()\n",
    "\n",
    "pyLDAvis.gensim.prepare(ldamodel, doc_term_matrix, dictionary)"
   ]
  },
  {
   "cell_type": "markdown",
   "metadata": {},
   "source": [
    "## Now, let's examine the banned literature corpus. "
   ]
  },
  {
   "cell_type": "code",
   "execution_count": 15,
   "metadata": {},
   "outputs": [
    {
     "data": {
      "text/html": [
       "<div>\n",
       "<style>\n",
       "    .dataframe thead tr:only-child th {\n",
       "        text-align: right;\n",
       "    }\n",
       "\n",
       "    .dataframe thead th {\n",
       "        text-align: left;\n",
       "    }\n",
       "\n",
       "    .dataframe tbody tr th {\n",
       "        vertical-align: top;\n",
       "    }\n",
       "</style>\n",
       "<table border=\"1\" class=\"dataframe\">\n",
       "  <thead>\n",
       "    <tr style=\"text-align: right;\">\n",
       "      <th></th>\n",
       "      <th>title</th>\n",
       "      <th>name</th>\n",
       "      <th>date</th>\n",
       "      <th>english metadata</th>\n",
       "      <th>source</th>\n",
       "      <th>text</th>\n",
       "    </tr>\n",
       "  </thead>\n",
       "  <tbody>\n",
       "    <tr>\n",
       "      <th>0</th>\n",
       "      <td>Собачье сердце</td>\n",
       "      <td>Булгаков , Михаил</td>\n",
       "      <td>1925</td>\n",
       "      <td>Mikhail Bulgakov , A Dog ’ s Heart , 1924</td>\n",
       "      <td>http : //bulgakov.lit-info.ru/bulgakov/proza/...</td>\n",
       "      <td>У-у-у-у-у-гу-гуг-гуу ! О , гляньте на меня , ...</td>\n",
       "    </tr>\n",
       "    <tr>\n",
       "      <th>1</th>\n",
       "      <td>\\n\\nСобачье сердце\\n\\n</td>\n",
       "      <td>Булгаков, Михаил\\n</td>\n",
       "      <td>2</td>\n",
       "      <td>\\n\\nMikhail Bulgakov, A Dog’s Heart, 1924\\n\\n\\n</td>\n",
       "      <td>\\n\\nhttp://bulgakov.lit-info.ru/bulgakov/proza...</td>\n",
       "      <td>, дорогой профессор , только в виде опыта . - ...</td>\n",
       "    </tr>\n",
       "    <tr>\n",
       "      <th>2</th>\n",
       "      <td>\\n\\nСобачье сердце\\n\\n</td>\n",
       "      <td>Булгаков, Михаил\\n</td>\n",
       "      <td>3</td>\n",
       "      <td>\\n\\nMikhail Bulgakov, A Dog’s Heart, 1924\\n\\n\\n</td>\n",
       "      <td>\\n\\nhttp://bulgakov.lit-info.ru/bulgakov/proza...</td>\n",
       "      <td>Ястребиные ноздри его раздувались . Набравшись...</td>\n",
       "    </tr>\n",
       "    <tr>\n",
       "      <th>3</th>\n",
       "      <td>\\n\\nСобачье сердце\\n\\n</td>\n",
       "      <td>Булгаков, Михаил\\n</td>\n",
       "      <td>4</td>\n",
       "      <td>\\n\\nMikhail Bulgakov, A Dog’s Heart, 1924\\n\\n\\n</td>\n",
       "      <td>\\n\\nhttp://bulgakov.lit-info.ru/bulgakov/proza...</td>\n",
       "      <td>правом боку следы совершенно зажившего ожога ....</td>\n",
       "    </tr>\n",
       "    <tr>\n",
       "      <th>4</th>\n",
       "      <td>\\n\\nСобачье сердце\\n\\n</td>\n",
       "      <td>Булгаков, Михаил\\n</td>\n",
       "      <td>5</td>\n",
       "      <td>\\n\\nMikhail Bulgakov, A Dog’s Heart, 1924\\n\\n\\n</td>\n",
       "      <td>\\n\\nhttp://bulgakov.lit-info.ru/bulgakov/proza...</td>\n",
       "      <td>трубку в рогульки . Голубая радость разлилась ...</td>\n",
       "    </tr>\n",
       "  </tbody>\n",
       "</table>\n",
       "</div>"
      ],
      "text/plain": [
       "                     title                name    date  \\\n",
       "0          Собачье сердце   Булгаков , Михаил    1925    \n",
       "1  \\n\\nСобачье сердце\\n\\n   Булгаков, Михаил\\n       2   \n",
       "2  \\n\\nСобачье сердце\\n\\n   Булгаков, Михаил\\n       3   \n",
       "3  \\n\\nСобачье сердце\\n\\n   Булгаков, Михаил\\n       4   \n",
       "4  \\n\\nСобачье сердце\\n\\n   Булгаков, Михаил\\n       5   \n",
       "\n",
       "                                   english metadata  \\\n",
       "0        Mikhail Bulgakov , A Dog ’ s Heart , 1924    \n",
       "1  \\n\\nMikhail Bulgakov, A Dog’s Heart, 1924\\n\\n\\n    \n",
       "2  \\n\\nMikhail Bulgakov, A Dog’s Heart, 1924\\n\\n\\n    \n",
       "3  \\n\\nMikhail Bulgakov, A Dog’s Heart, 1924\\n\\n\\n    \n",
       "4  \\n\\nMikhail Bulgakov, A Dog’s Heart, 1924\\n\\n\\n    \n",
       "\n",
       "                                              source  \\\n",
       "0   http : //bulgakov.lit-info.ru/bulgakov/proza/...   \n",
       "1  \\n\\nhttp://bulgakov.lit-info.ru/bulgakov/proza...   \n",
       "2  \\n\\nhttp://bulgakov.lit-info.ru/bulgakov/proza...   \n",
       "3  \\n\\nhttp://bulgakov.lit-info.ru/bulgakov/proza...   \n",
       "4  \\n\\nhttp://bulgakov.lit-info.ru/bulgakov/proza...   \n",
       "\n",
       "                                                text  \n",
       "0   У-у-у-у-у-гу-гуг-гуу ! О , гляньте на меня , ...  \n",
       "1  , дорогой профессор , только в виде опыта . - ...  \n",
       "2  Ястребиные ноздри его раздувались . Набравшись...  \n",
       "3  правом боку следы совершенно зажившего ожога ....  \n",
       "4  трубку в рогульки . Голубая радость разлилась ...  "
      ]
     },
     "execution_count": 15,
     "metadata": {},
     "output_type": "execute_result"
    }
   ],
   "source": [
    "bannedlit = pd.read_csv(\"csv_files/banned_lit_for_tm_smaller_chunks.csv\")\n",
    "bannedlit.head(5)"
   ]
  },
  {
   "cell_type": "code",
   "execution_count": 19,
   "metadata": {},
   "outputs": [
    {
     "name": "stdout",
     "output_type": "stream",
     "text": [
      "[(0, '0.333*\"человек\" + 0.184*\"рука\" + 0.177*\"глаз\" + 0.155*\"жизнь\"'), (1, '-0.269*\"человек\" + 0.227*\"профессор\" + 0.178*\"глаз\" + -0.159*\"жизнь\"'), (2, '-0.359*\"профессор\" + -0.214*\"отвечать\" + -0.213*\"человек\" + -0.138*\"кабинет\"'), (3, '-0.203*\"год\" + -0.192*\"человек\" + -0.143*\"отец\" + -0.136*\"дом\"')]\n"
     ]
    }
   ],
   "source": [
    "with open('NERoutputBanned.txt') as fp:\n",
    "    lines = fp.read().splitlines()\n",
    "\n",
    "lines = [i.lower() for i in lines]\n",
    "joinedlines = \" \".join(lines)\n",
    "mystem = Mystem() \n",
    "lemmatizedlines = mystem.lemmatize(joinedlines)\n",
    "lemmatizedlines = [i for i in lemmatizedlines if i != \" \"]\n",
    "\n",
    "stop = list(stopwords.words('russian'))\n",
    "stop.extend(['это', 'свой', 'то', ' ','который', 'говорить', 'сказать', 'знать', 'спрашивать', 'вопрос','наш'])\n",
    "stop.extend(lemmatizedlines)\n",
    "\n",
    "punctuation = list(string.punctuation)\n",
    "punctuation.extend(['--', '—', \" – \", ' —', '«', '»',\" -- \", \" – – \", \"\\n\", \"\\r\", \"\\t\",\"-\" ,\"-\", \"...\", \"…\", \" - \", \" « \", \" \", \"..\", \"``\", \"\\\"\\\"\",\"\\'\\'\"])\n",
    "\n",
    "def cleantext(text):\n",
    "    tokens = text.split(\" \")\n",
    "    tokenslower = [i.strip().lower() for i in tokens]\n",
    "#the following list comprehension gets rid of word-final punctuation, while retaining word-medial punctuation in words like \"кто-то\"\n",
    "    tokens_no_word_final_punc = [re.sub(r'[!|,|?|.|:|;]|\\.{1,}$\\)', \"\", item) for item in tokenslower]\n",
    "    tokens_no_stop_or_punc = [i for i in tokens_no_word_final_punc if i not in stop if i not in punctuation]\n",
    "#the following line gets rid of blank, empty spaces in each list    \n",
    "    tokens_no_stop_or_punc = list(filter(None, tokens_no_stop_or_punc))\n",
    "    return tokens_no_stop_or_punc\n",
    "\n",
    "bannedlit[\"no_punc_or_stop\"] = bannedlit[\"text\"].apply(cleantext)\n",
    "cleaned = bannedlit[\"no_punc_or_stop\"]\n",
    "\n",
    "mystem = Mystem() \n",
    "\n",
    "def lemmatize(text):\n",
    "    joinedtokens = \" \".join(text)\n",
    "    lemmatized = mystem.lemmatize(joinedtokens)\n",
    "    lemmatized = [i for i in lemmatized if i not in stop if i not in punctuation]\n",
    "    return lemmatized\n",
    "\n",
    "bannedlit[\"lemmatized\"] = bannedlit[\"no_punc_or_stop\"].apply(lemmatize)\n",
    "\n",
    "#Topic Modeling with Gensim, using Latent Semantic Indexing\n",
    "dictionaryb = corpora.Dictionary(bannedlit[\"lemmatized\"] )\n",
    "doc_term_matrixb = [dictionaryb.doc2bow(item) for item in bannedlit[\"lemmatized\"] ]\n",
    "lsi = models.LsiModel(doc_term_matrixb, num_topics=4, id2word=dictionaryb)\n",
    "output = lsi.print_topics(num_topics=4, num_words = 4)\n",
    "\n",
    "print (output)\n"
   ]
  },
  {
   "cell_type": "markdown",
   "metadata": {},
   "source": [
    "Now, what happens with LDA?"
   ]
  },
  {
   "cell_type": "code",
   "execution_count": 22,
   "metadata": {},
   "outputs": [
    {
     "name": "stdout",
     "output_type": "stream",
     "text": [
      "[(3, '0.007*\"человек\" + 0.004*\"жизнь\" + 0.004*\"рука\" + 0.004*\"весь\"'), (1, '0.007*\"человек\" + 0.004*\"рука\" + 0.004*\"жизнь\" + 0.003*\"год\"'), (2, '0.007*\"человек\" + 0.004*\"рука\" + 0.003*\"глаз\" + 0.003*\"идти\"')]\n"
     ]
    }
   ],
   "source": [
    "import warnings\n",
    "warnings.filterwarnings(\"ignore\", category=DeprecationWarning) \n",
    "\n",
    "ldamodel = gensim.models.ldamodel.LdaModel(doc_term_matrixb, num_topics=4, id2word = dictionaryb, passes=20)\n",
    "ldaoutput = ldamodel.print_topics(num_topics=3, num_words=4)\n",
    "print (ldaoutput)"
   ]
  },
  {
   "cell_type": "code",
   "execution_count": 23,
   "metadata": {},
   "outputs": [
    {
     "data": {
      "text/html": [
       "\n",
       "<link rel=\"stylesheet\" type=\"text/css\" href=\"https://cdn.rawgit.com/bmabey/pyLDAvis/files/ldavis.v1.0.0.css\">\n",
       "\n",
       "\n",
       "<div id=\"ldavis_el65045696328112613994223\"></div>\n",
       "<script type=\"text/javascript\">\n",
       "\n",
       "var ldavis_el65045696328112613994223_data = {\"mdsDat\": {\"Freq\": [34.20791730085477, 29.833048368293056, 28.064040654503366, 7.8949936763488076], \"cluster\": [1, 1, 1, 1], \"topics\": [1, 2, 3, 4], \"x\": [0.04286945084198139, 0.0812401005551195, -0.06343002226733788, -0.06067952912976297], \"y\": [0.021806104737295474, -0.01734648003457592, -0.07409802895161695, 0.06963840424889739]}, \"tinfo\": {\"Category\": [\"Default\", \"Default\", \"Default\", \"Default\", \"Default\", \"Default\", \"Default\", \"Default\", \"Default\", \"Default\", \"Default\", \"Default\", \"Default\", \"Default\", \"Default\", \"Default\", \"Default\", \"Default\", \"Default\", \"Default\", \"Default\", \"Default\", \"Default\", \"Default\", \"Default\", \"Default\", \"Default\", \"Default\", \"Default\", \"Default\", \"Topic1\", \"Topic1\", \"Topic1\", \"Topic1\", \"Topic1\", \"Topic1\", \"Topic1\", \"Topic1\", \"Topic1\", \"Topic1\", \"Topic1\", \"Topic1\", \"Topic1\", \"Topic1\", \"Topic1\", \"Topic1\", \"Topic1\", \"Topic1\", \"Topic1\", \"Topic1\", \"Topic1\", \"Topic1\", \"Topic1\", \"Topic1\", \"Topic1\", \"Topic1\", \"Topic1\", \"Topic1\", \"Topic1\", \"Topic1\", \"Topic1\", \"Topic1\", \"Topic1\", \"Topic1\", \"Topic1\", \"Topic1\", \"Topic1\", \"Topic1\", \"Topic1\", \"Topic1\", \"Topic1\", \"Topic1\", \"Topic1\", \"Topic1\", \"Topic1\", \"Topic1\", \"Topic1\", \"Topic1\", \"Topic1\", \"Topic1\", \"Topic1\", \"Topic1\", \"Topic1\", \"Topic1\", \"Topic1\", \"Topic1\", \"Topic1\", \"Topic1\", \"Topic1\", \"Topic1\", \"Topic1\", \"Topic1\", \"Topic1\", \"Topic1\", \"Topic1\", \"Topic1\", \"Topic1\", \"Topic1\", \"Topic1\", \"Topic1\", \"Topic1\", \"Topic1\", \"Topic1\", \"Topic1\", \"Topic1\", \"Topic1\", \"Topic1\", \"Topic1\", \"Topic1\", \"Topic1\", \"Topic1\", \"Topic1\", \"Topic1\", \"Topic1\", \"Topic2\", \"Topic2\", \"Topic2\", \"Topic2\", \"Topic2\", \"Topic2\", \"Topic2\", \"Topic2\", \"Topic2\", \"Topic2\", \"Topic2\", \"Topic2\", \"Topic2\", \"Topic2\", \"Topic2\", \"Topic2\", \"Topic2\", \"Topic2\", \"Topic2\", \"Topic2\", \"Topic2\", \"Topic2\", \"Topic2\", \"Topic2\", \"Topic2\", \"Topic2\", \"Topic2\", \"Topic2\", \"Topic2\", \"Topic2\", \"Topic2\", \"Topic2\", \"Topic2\", \"Topic2\", \"Topic2\", \"Topic2\", \"Topic2\", \"Topic2\", \"Topic2\", \"Topic2\", \"Topic2\", \"Topic2\", \"Topic2\", \"Topic2\", \"Topic2\", \"Topic2\", \"Topic2\", \"Topic2\", \"Topic2\", \"Topic2\", \"Topic2\", \"Topic2\", \"Topic2\", \"Topic2\", \"Topic2\", \"Topic2\", \"Topic2\", \"Topic2\", \"Topic2\", \"Topic2\", \"Topic2\", \"Topic2\", \"Topic2\", \"Topic2\", \"Topic2\", \"Topic2\", \"Topic2\", \"Topic2\", \"Topic2\", \"Topic2\", \"Topic2\", \"Topic2\", \"Topic2\", \"Topic2\", \"Topic2\", \"Topic2\", \"Topic2\", \"Topic3\", \"Topic3\", \"Topic3\", \"Topic3\", \"Topic3\", \"Topic3\", \"Topic3\", \"Topic3\", \"Topic3\", \"Topic3\", \"Topic3\", \"Topic3\", \"Topic3\", \"Topic3\", \"Topic3\", \"Topic3\", \"Topic3\", \"Topic3\", \"Topic3\", \"Topic3\", \"Topic3\", \"Topic3\", \"Topic3\", \"Topic3\", \"Topic3\", \"Topic3\", \"Topic3\", \"Topic3\", \"Topic3\", \"Topic3\", \"Topic3\", \"Topic3\", \"Topic3\", \"Topic3\", \"Topic3\", \"Topic3\", \"Topic3\", \"Topic3\", \"Topic3\", \"Topic3\", \"Topic3\", \"Topic3\", \"Topic3\", \"Topic3\", \"Topic3\", \"Topic3\", \"Topic3\", \"Topic3\", \"Topic3\", \"Topic3\", \"Topic3\", \"Topic3\", \"Topic3\", \"Topic3\", \"Topic3\", \"Topic3\", \"Topic3\", \"Topic3\", \"Topic3\", \"Topic3\", \"Topic3\", \"Topic3\", \"Topic3\", \"Topic3\", \"Topic3\", \"Topic3\", \"Topic3\", \"Topic3\", \"Topic3\", \"Topic3\", \"Topic3\", \"Topic3\", \"Topic3\", \"Topic3\", \"Topic3\", \"Topic3\", \"Topic3\", \"Topic3\", \"Topic3\", \"Topic3\", \"Topic3\", \"Topic4\", \"Topic4\", \"Topic4\", \"Topic4\", \"Topic4\", \"Topic4\", \"Topic4\", \"Topic4\", \"Topic4\", \"Topic4\", \"Topic4\", \"Topic4\", \"Topic4\", \"Topic4\", \"Topic4\", \"Topic4\", \"Topic4\", \"Topic4\", \"Topic4\", \"Topic4\", \"Topic4\", \"Topic4\", \"Topic4\", \"Topic4\", \"Topic4\", \"Topic4\", \"Topic4\", \"Topic4\", \"Topic4\", \"Topic4\", \"Topic4\", \"Topic4\", \"Topic4\", \"Topic4\", \"Topic4\", \"Topic4\", \"Topic4\", \"Topic4\", \"Topic4\", \"Topic4\", \"Topic4\", \"Topic4\", \"Topic4\", \"Topic4\", \"Topic4\", \"Topic4\", \"Topic4\", \"Topic4\", \"Topic4\", \"Topic4\", \"Topic4\", \"Topic4\", \"Topic4\", \"Topic4\", \"Topic4\", \"Topic4\", \"Topic4\", \"Topic4\", \"Topic4\", \"Topic4\", \"Topic4\", \"Topic4\", \"Topic4\", \"Topic4\", \"Topic4\", \"Topic4\", \"Topic4\", \"Topic4\", \"Topic4\", \"Topic4\", \"Topic4\", \"Topic4\", \"Topic4\"], \"Freq\": [299.0, 1354.0, 803.0, 261.0, 95.0, 95.0, 519.0, 564.0, 143.0, 94.0, 201.0, 79.0, 86.0, 233.0, 202.0, 67.0, 105.0, 99.0, 143.0, 74.0, 129.0, 90.0, 36.0, 264.0, 126.0, 30.0, 175.0, 104.0, 636.0, 63.0, 44.74687806938524, 33.948302744715534, 33.93595207071076, 31.22197062914988, 29.392391429954014, 29.363930737003404, 24.836404519669223, 87.65363851500611, 22.09477554781346, 21.185794544773934, 20.282146090808425, 20.26346173782685, 19.368100187709707, 41.2375213944062, 19.343472392101187, 18.457335538945422, 20.217548694611768, 18.435948135226326, 17.547700736785707, 17.546495294657866, 20.148225556649514, 16.634239166650655, 16.632198087522323, 95.51211597239849, 15.721521293014813, 15.713020882891266, 15.706252018875087, 14.812577066175797, 23.446969017549534, 14.795307575352751, 31.11876843802847, 27.600904201998006, 116.42701906733447, 78.28548985416953, 23.925695035205706, 25.430139931932917, 22.097605272130515, 121.27065715927874, 20.626330465141507, 82.33164012428853, 50.50794751799743, 48.508462272443154, 34.44771946140335, 25.73744594964299, 64.7637063478553, 73.50045668086096, 31.456118568433354, 84.51795255468055, 148.5353308618652, 141.6794134928335, 96.82515709044665, 84.1099982486623, 71.80057079588755, 244.3549694229323, 201.3333364718947, 481.88394913155946, 271.0120594306406, 62.72661130791231, 111.71295578852214, 130.721862825846, 225.5048456744347, 154.43039235391507, 227.62884287618397, 275.8487999418669, 198.7112097204755, 215.09049583396498, 242.98300465917734, 147.51623782825277, 113.49396997182167, 150.40704332811256, 155.7128029831825, 160.52656245533424, 145.26424310374904, 178.8389200825006, 135.3424328304717, 155.13968267442718, 143.88296170253142, 120.341673989406, 133.18250936706818, 144.5208735040972, 134.1591054578685, 134.45190939384392, 120.80666409617152, 120.84438013291727, 94.74792649727873, 94.7396944600146, 62.6217703075473, 41.522766580095606, 46.91407033046953, 35.99489653879713, 35.09224474365481, 29.589890454222616, 84.66930429236571, 22.24729808909445, 22.245694445471567, 21.33056273929074, 21.324549075704937, 91.04970335646023, 15.831018389851085, 13.988010465253144, 13.075513189179459, 12.156127372832376, 11.242030016788307, 10.322253089579865, 10.320043625032785, 10.317682705254654, 39.643713201420915, 9.407738786193846, 21.398156317995177, 8.48820062370259, 8.488041150253427, 11.900224159884878, 8.486582725469729, 8.485325647052015, 41.32600663487308, 31.89622933073523, 43.460103495330785, 15.094862221115026, 83.87863671323542, 59.23970016150106, 42.69007302780073, 91.31307153047223, 51.02254114654597, 77.5416001727036, 127.71000152552566, 54.29778368174086, 85.53373235084352, 76.95686894397122, 136.0445721992431, 39.04262480773514, 73.1613153262013, 118.34520029733444, 257.6080286647202, 75.28266500168336, 262.2499568774268, 199.138155842557, 440.07125578818994, 115.34317943530104, 197.09582659750555, 261.8684464958909, 197.31289579829874, 199.4665392926931, 244.6231908314572, 140.4187275634535, 156.8699301788864, 152.9574958865759, 137.2320524837241, 162.97914241539422, 148.90354182637245, 176.33675255427468, 183.45858377462454, 149.7604434507802, 135.55767748611643, 111.36595081332119, 134.25570417426675, 123.33721460387345, 117.0080751172712, 120.44501125713495, 114.29939274673521, 118.84592910944782, 115.62855672712396, 44.88667135124377, 45.78449140270578, 77.61129854706735, 33.864140824852, 29.399643382718153, 22.11471092190858, 22.113249302148823, 37.15654325620274, 22.97515574699102, 20.292044262784703, 20.29024908530455, 19.38014103561002, 23.76845657627506, 19.356689748845444, 40.341972553301794, 72.19190748372424, 17.55548141101098, 17.5528280347728, 16.643683782511598, 15.694091885270332, 14.81377104285858, 14.79319271053003, 13.903956322817672, 13.901474753948044, 29.411869362681045, 13.900645050070661, 13.899226172631863, 12.996764807964853, 12.99306550199034, 12.991907268900903, 56.521178048237665, 13.854557094893845, 40.960539422178414, 37.576695242692814, 45.9775391905158, 256.7886768896262, 25.76296077499803, 26.639169973750754, 49.414719081876804, 34.12760784356428, 113.04336179814489, 67.14887009916207, 112.7627576229834, 52.57106683903122, 64.8382571040034, 26.85872470523135, 69.07238181703113, 46.99456841320909, 38.99224045662515, 46.53922357296238, 102.15821682449216, 189.25799550395635, 59.88687266492669, 61.10527353291502, 142.9208676814911, 144.34042229274607, 253.79726420627878, 182.84375093973364, 325.99122332140894, 192.15724568630569, 106.25973642005015, 111.83350939434779, 125.75301721731567, 201.29027732529272, 157.76098810809202, 130.0821338053718, 132.10187776366172, 142.77042812108124, 125.78017116239367, 153.44171398704194, 123.61779188864965, 88.71997747847321, 89.66095218857585, 120.315013968408, 125.26025021794482, 111.25287088776899, 107.45889486276099, 117.03390556680635, 98.37585330142862, 101.32787600271841, 91.40401420821553, 16.836441098419545, 15.386322223800715, 8.870841486287818, 8.146435604873947, 8.146362044470118, 28.422025515627073, 6.697929400646716, 8.027296986218762, 5.972616274252307, 5.967868798959142, 5.241034481136867, 5.23326631387628, 4.526103274044167, 4.5259622832701645, 4.525846284171822, 4.525690675625264, 22.623792666386386, 4.519569129711888, 4.517858850322902, 10.307453539065428, 15.215002872533134, 3.8015241012943557, 3.8012965827376464, 3.800894829762897, 3.800720831115382, 3.7936786013015396, 13.209606688048899, 7.422913862929153, 3.0777067031111023, 3.077644223921954, 17.60013578013402, 6.699327048319436, 14.653531399432627, 26.97487923578855, 5.462541832538805, 9.586474818004229, 5.951859037223591, 11.068277478866436, 6.697367795255957, 25.804301212698828, 6.670076413894963, 19.32099655028569, 5.789478689644182, 8.87098294860287, 106.44562385396976, 38.974569117095804, 27.35708589092602, 32.38937009223239, 64.94713692430338, 30.86389518546715, 24.451268867982684, 47.376344200639664, 48.06393027069165, 31.485386289598168, 45.41316037096712, 48.48112338558793, 33.46067363494661, 32.50673477345682, 22.537732652400997, 27.768007509854964, 24.37361171551142, 26.85146185364407, 27.085483904517663, 29.867387484131733, 27.751239510110732, 27.555187830761458, 29.513597778842026, 26.712715615040498, 24.171486587435886, 25.386291388703647, 25.456984822945923, 25.95633736426054, 24.236457399493236], \"Term\": [\"\\u043f\\u0440\\u043e\\u0444\\u0435\\u0441\\u0441\\u043e\\u0440\", \"\\u0447\\u0435\\u043b\\u043e\\u0432\\u0435\\u043a\", \"\\u0440\\u0443\\u043a\\u0430\", \"\\u0441\\u0442\\u043e\\u043b\", \"\\u043f\\u0440\\u0443\\u0448\\u0435\\u0432\\u0441\\u043a\\u0438\\u0439\", \"\\u0430\\u043a\\u0442\\u0438\\u0432\\u0438\\u0441\\u0442\", \"\\u0433\\u043e\\u0434\", \"\\u0438\\u0434\\u0442\\u0438\", \"\\u043a\\u0430\\u0431\\u0438\\u043d\\u0435\\u0442\", \"i\", \"\\u0440\\u0430\\u0431\\u043e\\u0442\\u0430\", \"\\u043a\\u043e\\u0442\", \"\\u0441\\u0430\\u0444\\u0440\\u043e\\u043d\\u043e\\u0432\", \"\\u043c\\u0430\\u0442\\u044c\", \"\\u043e\\u043a\\u043d\\u043e\", \"\\u043a\\u043e\\u043c\\u0430\\u043d\\u0434\\u0438\\u0440\", \"\\u043a\\u043e\\u0440\\u043e\\u0432\\u0430\", \"\\u0444\\u0435\\u0434\\u0435\\u0440\\u0430\\u0442\\u043e\\u0432\\u043d\\u0430\", \"\\u0432\\u043e\\u0439\\u043d\\u0430\", \"\\u0441\\u0442\\u0435\\u043f\\u0430\", \"\\u0433\\u043e\\u0440\\u0430\", \"\\u0431\\u0430\\u043b\\u043a\\u0430\", \"\\u0431\\u0435\\u0440\\u0435\\u0437\\u043a\\u0438\\u043d\", \"\\u043f\\u0435\\u0440\\u0432\\u044b\\u0439\", \"\\u0431\\u0435\\u0436\\u0430\\u0442\\u044c\", \"\\u043b\\u043e\\u0437\\u043e\\u0432\\u0441\\u043a\\u0438\\u0439\", \"\\u043c\\u0443\\u0436\\u0438\\u043a\", \"\\u0441\\u0435\\u043a\\u0440\\u0435\\u0442\\u0430\\u0440\\u044c\", \"\\u0441\\u0442\\u0430\\u043d\\u043e\\u0432\\u0438\\u0442\\u044c\\u0441\\u044f\", \"\\u0435\\u043b\\u0438\\u0441\\u0435\\u0439\", \"\\u0432\\u0438\\u0441\\u043e\\u043a\\u043e\\u0432\\u0441\\u043a\\u0438\\u0439\", \"\\u0432\\u0438\\u043d\\u043e\\u0433\\u0440\\u0430\\u0434\\u043d\\u0438\\u043a\", \"\\u0430\\u043a\\u0438\\u043c\", \"\\u043a\\u0443\\u043b\\u0435\\u0448\\u0430\", \"\\u043f\\u0430\\u0432\\u043b\\u0438\\u043d\", \"\\u0433\\u0443\\u0440\\u0442\", \"\\u043a\\u0443\\u0440\\u043e\\u0447\\u043a\\u0430\", \"\\u0431\\u0430\\u043b\\u043a\\u0430\", \"\\u043a\\u043b\\u0430\\u0432\\u0434\\u0438\\u044f\", \"\\u043e\\u0445\\u043b\\u043e\\u043c\\u043e\\u043d\", \"\\u043b\\u044f\\u043b\\u044f\", \"\\u0440\\u0438\\u043c\\u043c\\u0430\", \"\\u043d\\u0435\\u0432\\u044b\\u044f\\u0441\\u043d\\u0435\\u043d\\u043d\\u044b\\u0439\", \"\\u0430\\u0440\\u0435\\u0441\\u0442\\u0430\\u043d\\u0442\", \"\\u043c\\u0430\\u0440\\u0438\\u044f\", \"\\u043c\\u0438\\u043d\\u0434\\u0430\\u043b\\u044c\\u043d\\u044b\\u0439\", \"\\u0431\\u043e\\u0431\\u044b\\u043b\\u044c\", \"\\u043a\\u043b\\u0438\\u043c\\u043e\\u0432\\u043d\\u0430\", \"\\u0430\\u0439\\u043d\\u0430\", \"\\u043e\\u043b\\u044c\\u0433\\u0430\", \"\\u043a\\u0438\\u043f\\u0430\\u0440\\u0438\\u0441\", \"\\u043c\\u0438\\u043d\\u0434\\u0430\\u043b\\u044c\", \"\\u043f\\u0448\\u0435\\u043d\\u0438\\u0446\\u0430\", \"\\u0444\\u0435\\u0434\\u0435\\u0440\\u0430\\u0442\\u043e\\u0432\\u043d\\u0430\", \"\\u0438\\u0433\\u0435\\u043c\\u043e\\u043d\", \"\\u0444\\u0435\\u043a\\u043b\\u0430\", \"\\u043a\\u0430\\u0438\\u0444\\u0430\", \"\\u0434\\u043e\\u044f\\u0440\\u043a\\u0430\", \"\\u0432\\u043e\\u043b\", \"\\u0430\\u0440\\u0435\\u0441\\u0442\\u043e\\u0432\\u0430\\u043d\\u043d\\u044b\\u0439\", \"\\u0441\\u043e\\u0432\\u0430\\u0442\\u044c\\u0441\\u044f\", \"\\u0431\\u044b\\u043a\", \"\\u0433\\u043e\\u0440\\u0430\", \"\\u043f\\u0440\\u043e\\u043a\\u0443\\u0440\\u0430\\u0442\\u043e\\u0440\", \"\\u0434\\u0440\\u043e\\u0437\\u0434\", \"\\u0442\\u0430\\u0442\\u0430\\u0440\\u0438\\u043d\", \"\\u0431\\u0435\\u0437\\u0434\\u0435\\u0442\\u043e\\u0432\", \"\\u043c\\u043e\\u0440\\u0435\", \"\\u0434\\u0435\\u0434\\u0443\\u0448\\u043a\\u0430\", \"\\u043a\\u043e\\u0440\\u043e\\u0432\\u0430\", \"\\u0441\\u0442\\u0430\\u0440\\u0443\\u0448\\u043a\\u0430\", \"\\u0441\\u0442\\u0435\\u043f\\u044c\", \"\\u0434\\u0432\\u043e\\u0440\\u0438\\u043a\", \"\\u0433\\u043e\\u0440\\u043a\\u0430\", \"\\u043b\\u0435\\u0441\", \"\\u0441\\u0435\\u043a\\u0440\\u0435\\u0442\\u0430\\u0440\\u044c\", \"\\u0440\\u043e\\u0434\\u0438\\u0442\\u0435\\u043b\\u044c\\u0441\\u043a\\u0438\\u0439\", \"\\u0441\\u0430\\u0434\", \"\\u0441\\u043e\\u043b\\u043d\\u0446\\u0435\", \"\\u0445\\u043e\\u0434\\u0438\\u0442\\u044c\", \"\\u0445\\u043b\\u0435\\u0431\", \"\\u043a\\u0430\\u043c\\u0435\\u043d\\u044c\", \"\\u043c\\u0430\\u043c\\u0430\", \"\\u0433\\u043e\\u0434\", \"\\u0434\\u0430\\u0432\\u0430\\u0442\\u044c\", \"\\u0447\\u0435\\u043b\\u043e\\u0432\\u0435\\u043a\", \"\\u0436\\u0438\\u0437\\u043d\\u044c\", \"\\u0441\\u043e\\u0432\\u0445\\u043e\\u0437\", \"\\u0441\\u043e\\u043d\", \"\\u0441\\u043c\\u043e\\u0442\\u0440\\u0435\\u0442\\u044c\", \"\\u0438\\u0434\\u0442\\u0438\", \"\\u0434\\u0443\\u043c\\u0430\\u0442\\u044c\", \"\\u0434\\u0435\\u043d\\u044c\", \"\\u0440\\u0443\\u043a\\u0430\", \"\\u043c\\u043e\\u0447\\u044c\", \"\\u0441\\u0442\\u0430\\u043d\\u043e\\u0432\\u0438\\u0442\\u044c\\u0441\\u044f\", \"\\u0433\\u043b\\u0430\\u0437\", \"\\u0443\\u0445\\u043e\\u0434\\u0438\\u0442\\u044c\", \"\\u0432\\u043e\\u0434\\u0430\", \"\\u043d\\u043e\\u0447\\u044c\", \"\\u0445\\u043e\\u0442\\u0435\\u0442\\u044c\", \"\\u0436\\u0438\\u0442\\u044c\", \"\\u0441\\u0438\\u0434\\u0435\\u0442\\u044c\", \"\\u0432\\u0435\\u0441\\u044c\", \"\\u0437\\u0435\\u043c\\u043b\\u044f\", \"\\u043b\\u0438\\u0446\\u043e\", \"\\u0441\\u0442\\u043e\\u044f\\u0442\\u044c\", \"\\u043b\\u0435\\u0436\\u0430\\u0442\\u044c\", \"\\u0434\\u0435\\u043b\\u043e\", \"\\u0433\\u043e\\u043b\\u043e\\u0432\\u0430\", \"\\u0441\\u0430\\u043c\\u044b\\u0439\", \"\\u0432\\u0440\\u0435\\u043c\\u044f\", \"\\u0432\\u044b\\u0445\\u043e\\u0434\\u0438\\u0442\\u044c\", \"\\u0441\\u043b\\u043e\\u0432\\u043e\", \"\\u0430\\u043a\\u0442\\u0438\\u0432\\u0438\\u0441\\u0442\", \"\\u043f\\u0440\\u0443\\u0448\\u0435\\u0432\\u0441\\u043a\\u0438\\u0439\", \"\\u0435\\u043b\\u0438\\u0441\\u0435\\u0439\", \"r\", \"\\u043d\\u0443\\u043c\\u0435\\u0440\", \"\\u043c\\u043e\\u043b\\u043e\\u0442\\u043e\\u0431\\u043e\\u0435\\u0446\", \"\\u0438\\u043d\\u0442\\u0435\\u0433\\u0440\\u0430\\u043b\", \"\\u043a\\u043e\\u043d\\u0441\\u043f\\u0435\\u043a\\u0442\", \"\\u0441\\u0430\\u0444\\u0440\\u043e\\u043d\\u043e\\u0432\", \"\\u043e\\u0440\\u0433\\u0434\\u0432\\u043e\\u0440\", \"\\u043c\\u0430\\u0441\\u0442\\u0435\\u0440\\u043e\\u0432\\u043e\\u0439\", \"s\", \"\\u0430\\u044d\\u0440\\u043e\", \"i\", \"\\u044e\\u043d\\u0438\\u0444\\u0430\", \"330\", \"\\u0430\\u0443\\u0434\\u0438\\u0442\\u043e\\u0440\\u0438\\u0443\\u043c\", \"\\u044e\\u043d\\u0438\\u0444\", \"\\u043d\\u043e\\u043b\\u044c\", \"503\", \"\\u043c\\u0430\\u0440\\u0448\", \"\\u043d\\u0435\\u043f\\u0440\\u043e\\u0437\\u0440\\u0430\\u0447\\u043d\\u044b\\u0439\", \"\\u043a\\u043e\\u0442\\u043b\\u043e\\u0432\\u0430\\u043d\", \"\\u0435\\u0434\\u0438\\u043d\\u043e\\u0433\\u043b\\u0430\\u0441\\u0438\\u0435\", \"\\u0430\\u043a\\u0442\\u0438\\u0432\", \"\\u0436\\u0430\\u0431\\u0440\\u0430\", \"\\u0440\\u0430\\u0437\\u0443\\u043c\\u0435\\u0435\\u0442\\u0441\\u044f\", \"\\u0431\\u043e\\u043b\\u0442\", \"\\u043c\\u0435\\u0444\\u0438\", \"\\u0443\\u0440\\u0430\\u0432\\u043d\\u0435\\u043d\\u0438\\u0435\", \"\\u043d\\u0438\\u043a\\u0438\\u0442\\u0430\", \"\\u0445\\u0440\\u0430\\u043d\\u0438\\u0442\\u0435\\u043b\\u044c\", \"\\u043d\\u0430\\u0441\\u0442\\u0430\\u0432\\u043d\\u0438\\u043a\", \"\\u043a\\u0443\\u0437\\u043d\\u044f\", \"\\u043f\\u0430\\u0440\\u043e\\u0432\\u043e\\u0437\", \"\\u0435\\u0434\\u0438\\u043d\\u044b\\u0439\", \"\\u0437\\u0430\\u043f\\u0438\\u0441\\u044c\", \"\\u0434\\u0440\\u0435\\u0432\\u043d\\u0438\\u0439\", \"\\u043c\\u0435\\u0434\\u0432\\u0435\\u0434\\u044c\", \"\\u0434\\u0435\\u0432\\u043e\\u0447\\u043a\\u0430\", \"\\u043c\\u0443\\u0436\\u0438\\u043a\", \"\\u0433\\u043e\\u0441\\u0443\\u0434\\u0430\\u0440\\u0441\\u0442\\u0432\\u043e\", \"\\u043a\\u043e\\u043b\\u0445\\u043e\\u0437\", \"\\u0440\\u043e\\u0437\\u043e\\u0432\\u044b\\u0439\", \"\\u0442\\u0435\\u043b\\u043e\", \"\\u0432\\u043d\\u0443\\u0442\\u0440\\u0438\", \"\\u044f\\u0441\\u043d\\u043e\", \"\\u0447\\u0443\\u0432\\u0441\\u0442\\u0432\\u043e\\u0432\\u0430\\u0442\\u044c\", \"\\u0432\\u0435\\u0441\\u044c\", \"\\u0441\\u0447\\u0430\\u0441\\u0442\\u0438\\u0435\", \"\\u0436\\u0438\\u0437\\u043d\\u044c\", \"\\u0436\\u0438\\u0442\\u044c\", \"\\u0447\\u0435\\u043b\\u043e\\u0432\\u0435\\u043a\", \"\\u0441\\u0442\\u0435\\u043d\\u0430\", \"\\u043c\\u043e\\u0447\\u044c\", \"\\u0440\\u0443\\u043a\\u0430\", \"\\u0432\\u0440\\u0435\\u043c\\u044f\", \"\\u0438\\u0434\\u0442\\u0438\", \"\\u0433\\u043b\\u0430\\u0437\", \"\\u0437\\u0435\\u043c\\u043b\\u044f\", \"\\u043a\\u0430\\u043a\\u043e\\u0439-\\u0442\\u043e\", \"\\u0445\\u043e\\u0442\\u0435\\u0442\\u044c\", \"\\u043f\\u043e\\u0439\\u0442\\u0438\", \"\\u043b\\u0438\\u0446\\u043e\", \"\\u0441\\u0430\\u043c\\u044b\\u0439\", \"\\u0434\\u0435\\u043d\\u044c\", \"\\u0441\\u0442\\u0430\\u043d\\u043e\\u0432\\u0438\\u0442\\u044c\\u0441\\u044f\", \"\\u0441\\u0442\\u043e\\u044f\\u0442\\u044c\", \"\\u043f\\u043e\\u043d\\u0438\\u043c\\u0430\\u0442\\u044c\", \"\\u0441\\u043f\\u0430\\u0442\\u044c\", \"\\u0433\\u043e\\u043b\\u043e\\u0432\\u0430\", \"\\u043d\\u043e\\u0447\\u044c\", \"\\u0434\\u0443\\u043c\\u0430\\u0442\\u044c\", \"\\u0434\\u043e\\u043c\", \"\\u0442\\u043e\\u0432\\u0430\\u0440\\u0438\\u0449\", \"\\u0441\\u043b\\u043e\\u0432\\u043e\", \"\\u0432\\u044b\\u0445\\u043e\\u0434\\u0438\\u0442\\u044c\", \"\\u0448\\u0430\\u0440\\u0438\\u043a\\u043e\\u0432\", \"\\u043f\\u0435\\u0440\\u0441\\u0438\\u043a\\u043e\\u0432\\u044b\\u0439\", \"\\u043a\\u043e\\u0442\", \"\\u043a\\u0430\\u043b\\u043e\\u0448\\u0430\", \"\\u0448\\u0432\\u043e\\u043d\\u0434\\u0435\\u0440\", \"\\u0449\\u0443\\u043a\\u0438\\u043d\", \"\\u0433\\u0440\\u0438\\u0431\\u043e\\u0435\\u0434\\u043e\\u0432\", \"\\u0431\\u0435\\u0437\\u0434\\u043e\\u043c\\u043d\\u044b\\u0439\", \"\\u043f\\u043e\\u043d\\u0442\\u0438\\u0439\", \"\\u043e\\u0440\\u0430\\u043d\\u0436\\u0435\\u0440\\u0435\\u044f\", \"\\u0431\\u0440\\u043e\\u043d\\u0441\\u043a\\u0438\\u0439\", \"\\u0440\\u043e\\u0434\\u0438\\u043c\\u0446\\u0435\\u0432\", \"\\u043e\\u0441\\u0432\\u0435\\u0434\\u043e\\u043c\\u043b\\u044f\\u0442\\u044c\\u0441\\u044f\", \"\\u043a\\u043e\\u043d\\u0441\\u0443\\u043b\\u044c\\u0442\\u0430\\u043d\\u0442\", \"\\u043a\\u0430\\u043c\\u0435\\u0440\\u0430\", \"\\u0441\\u0442\\u0435\\u043f\\u0430\", \"\\u043f\\u043e\\u043b\\u0430\\u0439\\u0442\\u0438\\u0441\", \"\\u0448\\u0430\\u0440\\u043e\\u0433\\u043e\\u0440\\u043e\\u0434\\u0441\\u043a\\u0438\\u0439\", \"\\u0431\\u0435\\u043d\\u0433\\u0430\\u043b\\u044c\\u0441\\u043a\\u0438\\u0439\", \"n\", \"\\u043b\\u0438\\u043c\\u043e\\u043d\\u043e\\u0432\", \"\\u0440\\u0435\\u0433\\u0435\\u043d\\u0442\", \"\\u0433\\u0435\\u0442\\u0442\\u043e\", \"\\u043c\\u0430\\u0441\\u0441\\u043e\\u043b\\u0438\\u0442\", \"\\u0435\\u0440\\u0435\\u043c\\u0435\\u043d\\u043a\\u043e\", \"\\u0440\\u0438\\u0437\\u0438\\u043d\", \"\\u043d\\u0430\\u0436\\u0438\\u043c\\u0430\\u0442\\u044c\", \"\\u043a\\u0440\\u044b\\u043b\\u043e\\u0432\", \"\\u0432\\u0438\\u0442\\u0435\\u043d\\u044c\\u043a\\u0430\", \"\\u043a\\u0443\\u0439\\u0431\\u044b\\u0448\\u0435\\u0432\", \"\\u044f\\u0439\\u0446\\u043e\", \"\\u0447\\u0435\\u0440\\u0432\\u043e\\u043d\\u0435\\u0446\", \"\\u0438\\u043d\\u043e\\u0441\\u0442\\u0440\\u0430\\u043d\\u0435\\u0446\", \"\\u043c\\u0438\\u043b\\u0438\\u0446\\u0438\\u044f\", \"\\u0438\\u0432\\u0430\\u043d\\u043e\\u0432\", \"\\u043f\\u0440\\u043e\\u0444\\u0435\\u0441\\u0441\\u043e\\u0440\", \"\\u0431\\u043b\\u0438\\u043d\\u0434\\u0430\\u0436\", \"\\u043a\\u0443\\u0440\\u0438\\u043d\\u044b\\u0439\", \"\\u043a\\u043e\\u043c\\u0430\\u043d\\u0434\\u0430\\u0440\\u043c\", \"\\u043f\\u0435\\u0440\\u0435\\u0434\\u043d\\u044f\\u044f\", \"\\u043a\\u0430\\u0431\\u0438\\u043d\\u0435\\u0442\", \"\\u043b\\u0443\\u0447\", \"\\u043a\\u0432\\u0430\\u0440\\u0442\\u0438\\u0440\\u0430\", \"\\u0448\\u0442\\u0430\\u0431\", \"\\u0442\\u0435\\u043b\\u0435\\u0444\\u043e\\u043d\", \"\\u0430\\u043b\\u0435\\u043a\\u0441\\u0430\\u043d\\u0434\\u0440\\u043e\\u0432\\u0438\\u0447\", \"\\u043f\\u043e\\u044d\\u0442\", \"\\u0440\\u0438\\u043c\\u0441\\u043a\\u0438\\u0439\", \"\\u0432\\u043e\\u0441\\u043a\\u043b\\u0438\\u0446\\u0430\\u0442\\u044c\", \"\\u043e\\u0442\\u0437\\u044b\\u0432\\u0430\\u0442\\u044c\\u0441\\u044f\", \"\\u0441\\u043e\\u0432\\u0435\\u0440\\u0448\\u0435\\u043d\\u043d\\u043e\", \"\\u043e\\u0442\\u0432\\u0435\\u0447\\u0430\\u0442\\u044c\", \"\\u0437\\u0430\\u0433\\u043e\\u0432\\u0430\\u0440\\u0438\\u0432\\u0430\\u0442\\u044c\", \"\\u0442\\u0440\\u0443\\u0431\\u043a\\u0430\", \"\\u0434\\u0432\\u0435\\u0440\\u044c\", \"\\u0433\\u043e\\u043b\\u043e\\u0441\", \"\\u0433\\u043b\\u0430\\u0437\", \"\\u0433\\u043e\\u043b\\u043e\\u0432\\u0430\", \"\\u0447\\u0435\\u043b\\u043e\\u0432\\u0435\\u043a\", \"\\u0441\\u0442\\u0430\\u043d\\u043e\\u0432\\u0438\\u0442\\u044c\\u0441\\u044f\", \"\\u0431\\u0435\\u043b\\u044b\\u0439\", \"\\u043f\\u0435\\u0440\\u0432\\u044b\\u0439\", \"\\u043e\\u0447\\u0435\\u043d\\u044c\", \"\\u0440\\u0443\\u043a\\u0430\", \"\\u0432\\u0440\\u0435\\u043c\\u044f\", \"\\u0441\\u043b\\u043e\\u0432\\u043e\", \"\\u043a\\u0430\\u043a\\u043e\\u0439-\\u0442\\u043e\", \"\\u043b\\u0438\\u0446\\u043e\", \"\\u043f\\u043e\\u043d\\u0438\\u043c\\u0430\\u0442\\u044c\", \"\\u0434\\u0435\\u043d\\u044c\", \"\\u0434\\u0435\\u043b\\u043e\", \"\\u043a\\u0440\\u0430\\u0441\\u043d\\u044b\\u0439\", \"\\u0447\\u0435\\u0440\\u043d\\u044b\\u0439\", \"\\u0441\\u0442\\u043e\\u044f\\u0442\\u044c\", \"\\u0433\\u043e\\u0434\", \"\\u0441\\u0430\\u043c\\u044b\\u0439\", \"\\u0434\\u043e\\u043c\", \"\\u0432\\u0435\\u0441\\u044c\", \"\\u043d\\u0430\\u0447\\u0438\\u043d\\u0430\\u0442\\u044c\", \"\\u0441\\u0438\\u0434\\u0435\\u0442\\u044c\", \"\\u0441\\u0442\\u043e\\u043b\", \"\\u043f\\u043e\\u0434\\u0447\\u0443\\u0444\\u0430\\u0440\\u043e\\u0432\", \"\\u043a\\u043e\\u043a\\u043e\\u0441\\u043e\\u0432\", \"\\u0444\\u0435\\u044f\", \"\\u0445\\u043b\\u043e\\u0440\\u043e\\u0444\\u043e\\u0440\\u043c\\u0430\\u0442\\u043e\\u0440\", \"\\u044d\\u043b\\u044c\\u0432\\u0438\\u0440\\u0430\", \"\\u043b\\u043e\\u0437\\u043e\\u0432\\u0441\\u043a\\u0438\\u0439\", \"\\u0432\\u0430\\u0441\\u044e\\u0442\\u043a\\u0430\", \"\\u043a\\u0438\\u043b\\u043e\\u043c\\u0435\\u0442\\u0440\", \"\\u043f\\u0430\\u0440\\u0442\\u0438\\u0439\\u043d\\u043e\\u0441\\u0442\\u044c\", \"\\u0433\\u0430\\u0440\\u0434\\u0438\", \"\\u0447\\u0435\\u0440\\u0442\\u0435\\u0436\\u043d\\u0438\\u0446\\u0430\", \"\\u0441\\u0430\\u0432\\u0435\\u043b\\u0438\\u0435\\u0432\\u0438\\u0447\", \"\\u043e\\u0442\\u043a\\u0443\\u0441\\u044b\\u0432\\u0430\\u0442\\u044c\", \"\\u0440\\u044b\\u0431\\u043a\\u0430\", \"\\u043f\\u043e\\u043f\\u0435\\u0447\\u0438\\u0442\\u0435\\u043b\\u044c\", \"\\u0432\\u0430\\u0441\\u044c\\u043a\\u0430\", \"\\u043b\\u0430\\u0433\\u0435\\u0440\\u044c\", \"\\u043d\\u0430\\u0446\\u0438\\u043e\\u043d\\u0430\\u043b-\\u0441\\u043e\\u0446\\u0438\\u0430\\u043b\\u0438\\u0437\\u043c\", \"\\u0448\\u0435\\u0444\\u0441\\u0442\\u0432\\u043e\", \"\\u043b\\u0430\\u0433\\u0435\\u0440\\u043d\\u044b\\u0439\", \"\\u0430\\u0434\\u043c\\u0438\\u043d\\u0438\\u0441\\u0442\\u0440\\u0430\\u0442\\u043e\\u0440\", \"\\u043a\\u0440\\u0435\\u043c\", \"\\u043a\\u043e\\u043c\\u043a\\u043e\\u0440\", \"\\u043a\\u0443\\u0440\\u0441\\u0438\\u043d\", \"\\u043d\\u0435\\u0443\\u0434\\u043e\\u0431\\u043d\\u043e\\u0432\", \"\\u043b\\u0435\\u0441\\u043f\\u0440\\u043e\\u043c\\u0445\\u043e\\u0437\", \"\\u044e\\u043b\\u044f\", \"\\u0432\\u043e\\u0436\\u0436\\u0430\", \"\\u0441\\u043e\\u0448\\u043a\\u0438\\u043d\", \"\\u0431\\u043e\\u043b\\u044c\\u043d\\u0438\\u0447\\u043d\\u044b\\u0439\", \"\\u043c\\u0430\\u0449\\u0443\\u043a\", \"\\u0445\\u043b\\u043e\\u0440\\u043e\\u0444\\u043e\\u0440\\u043c\", \"\\u043b\\u0435\\u043b\\u044f\", \"\\u0431\\u0435\\u0440\\u0435\\u0437\\u043a\\u0438\\u043d\", \"\\u0442\\u0430\\u0442\\u0430\", \"\\u043d\\u0430\\u0440\\u044b\", \"\\u0443\\u0433\\u0440\\u043e\\u0437\\u044b\\u0441\\u043a\", \"\\u043f\\u0430\\u043b\\u0430\\u0442\\u0430\", \"\\u0434\\u043e\\u0432\\u0435\\u0440\\u0438\\u0435\", \"\\u043a\\u043e\\u043c\\u0430\\u043d\\u0434\\u0438\\u0440\", \"\\u043f\\u043e\\u0440\\u0443\\u0447\\u0438\\u043a\", \"\\u043f\\u043e\\u043b\\u043a\", \"\\u0438\\u0441\\u043f\\u043e\\u043b\\u043d\\u0438\\u0442\\u0435\\u043b\\u044c\", \"\\u0440\\u043e\\u0442\\u0430\", \"\\u0447\\u0435\\u043b\\u043e\\u0432\\u0435\\u043a\", \"\\u0441\\u0442\\u043e\\u043b\", \"\\u0432\\u043e\\u0439\\u043d\\u0430\", \"\\u0440\\u0430\\u0431\\u043e\\u0442\\u0430\", \"\\u0440\\u0443\\u043a\\u0430\", \"\\u043e\\u043a\\u043d\\u043e\", \"\\u0431\\u0435\\u0436\\u0430\\u0442\\u044c\", \"\\u0433\\u043e\\u0434\", \"\\u0438\\u0434\\u0442\\u0438\", \"\\u043c\\u0430\\u0442\\u044c\", \"\\u0441\\u0442\\u0430\\u043d\\u043e\\u0432\\u0438\\u0442\\u044c\\u0441\\u044f\", \"\\u0433\\u043b\\u0430\\u0437\", \"\\u0434\\u043e\\u043c\", \"\\u0434\\u0435\\u043b\\u043e\", \"\\u0434\\u0440\\u0443\\u0433\", \"\\u043f\\u0435\\u0440\\u0432\\u044b\\u0439\", \"\\u0440\\u0443\\u0441\\u0441\\u043a\\u0438\\u0439\", \"\\u0447\\u0430\\u0441\", \"\\u0442\\u043e\\u0432\\u0430\\u0440\\u0438\\u0449\", \"\\u0441\\u0442\\u043e\\u044f\\u0442\\u044c\", \"\\u0443\\u0445\\u043e\\u0434\\u0438\\u0442\\u044c\", \"\\u0441\\u0438\\u0434\\u0435\\u0442\\u044c\", \"\\u0432\\u0440\\u0435\\u043c\\u044f\", \"\\u043b\\u0438\\u0446\\u043e\", \"\\u0440\\u0435\\u0431\\u0435\\u043d\\u043e\\u043a\", \"\\u0445\\u043e\\u0442\\u0435\\u0442\\u044c\", \"\\u043c\\u043e\\u0447\\u044c\", \"\\u0436\\u0438\\u0437\\u043d\\u044c\", \"\\u0441\\u043b\\u043e\\u0432\\u043e\"], \"Total\": [299.0, 1354.0, 803.0, 261.0, 95.0, 95.0, 519.0, 564.0, 143.0, 94.0, 201.0, 79.0, 86.0, 233.0, 202.0, 67.0, 105.0, 99.0, 143.0, 74.0, 129.0, 90.0, 36.0, 264.0, 126.0, 30.0, 175.0, 104.0, 636.0, 63.0, 45.51541408552636, 34.60363780782371, 34.60318140685065, 31.86842529361504, 30.044556933914144, 30.037626818990432, 25.485703384767056, 90.23088099004427, 22.749986633682973, 21.838234721029224, 20.92645580364267, 20.92643581073905, 20.014423558083344, 42.62277518064141, 20.01483616733541, 19.102973464177737, 20.92698409368335, 19.10286965244759, 18.190923869572483, 18.190991976662037, 20.92655811077793, 17.279330021891862, 17.27937925744494, 99.41639850957561, 16.367550665368444, 16.36764920587188, 16.367482577470724, 15.455551057809902, 24.4750926398915, 15.453017742174973, 32.759668494953154, 29.0672796368283, 129.47445423335643, 89.31814369400504, 25.486080884350823, 27.31552982552025, 23.474460301313027, 149.4071849735134, 21.838608754218143, 105.60841237299134, 60.834330989598335, 58.148325016260266, 39.42808120421599, 28.227958768585978, 87.96846295433238, 104.76826944131986, 36.31527140276855, 126.93281500360067, 259.7704032047253, 245.1085523943432, 152.93132032952707, 128.77241159366707, 105.15795425768502, 519.2061690838098, 408.0678239606701, 1354.3920520951278, 637.9993704218994, 89.59402270486011, 201.23737885333415, 254.24584469768902, 564.3713574225287, 330.2187329997779, 580.6842732019329, 803.9546606873539, 505.4602385302183, 636.1194856658624, 789.8845830825013, 350.09707836262817, 233.17352215082235, 375.9892642787747, 406.68625286023246, 438.6902982764459, 369.26173371173337, 565.1019599185444, 341.02575385463155, 487.6019688259431, 443.8258066058513, 279.67734093337134, 376.14071040994554, 485.4356395025299, 416.5988110460648, 519.0393910790767, 336.15705166816997, 394.00890044723013, 95.44098289458113, 95.44355395597, 63.30266647040643, 42.18729186394855, 47.69584438545855, 36.67168198650698, 35.75939535937403, 30.25015029855425, 86.79322197946026, 22.902160417103886, 22.90432936107701, 21.98608208135448, 21.98597042516172, 94.50770655442908, 16.476675240105102, 14.640102282873583, 13.72193201964144, 12.803730327098632, 11.885618575968044, 10.967248114635824, 10.967192494099843, 10.967238258758709, 42.16519596958645, 10.049074411471686, 22.896986181831586, 9.13083912445388, 9.130830160185045, 12.801996284030476, 9.130829124531447, 9.130770581996414, 45.08423127326363, 34.82525688647177, 48.5835219913387, 16.470036670285467, 96.78532052962126, 67.6576094544748, 48.20361687194766, 113.47260049615099, 61.3897153436356, 97.4508152782321, 175.07601918084032, 69.42303884543578, 117.27838873059831, 105.3525968952541, 206.36008386084012, 48.03668493689655, 104.52750893106867, 195.59804828498002, 565.1019599185444, 116.75405966757981, 637.9993704218994, 438.6902982764459, 1354.3920520951278, 210.99403684070555, 505.4602385302183, 803.9546606873539, 519.0393910790767, 564.3713574225287, 789.8845830825013, 341.02575385463155, 415.8719277908884, 406.68625286023246, 337.6122452464679, 487.6019688259431, 416.5988110460648, 580.6842732019329, 636.1194856658624, 443.8258066058513, 381.0022775688627, 242.09672002985775, 485.4356395025299, 375.9892642787747, 330.2187329997779, 379.76819701228027, 301.1098355268674, 394.00890044723013, 336.15705166816997, 45.568148163002746, 46.48034309970974, 79.322047972529, 34.62070680921758, 30.059520587042602, 22.76132627856323, 22.761261642777423, 38.26925860572826, 23.67336564913855, 20.93688126449601, 20.93688541710513, 20.024604060169263, 24.585202948314294, 20.023173103596196, 41.73772298748839, 74.74396252825382, 18.199941592881213, 18.200165383772298, 17.287731403879654, 16.368349584321738, 15.462702981375825, 15.463159828921842, 14.551013124959304, 14.549841787673245, 30.78417470970559, 14.549759197728353, 14.55096147352244, 13.638698565900555, 13.63856996978644, 13.638315522258008, 60.17214879600957, 14.550778012529172, 43.556803995282266, 39.9054693176418, 49.18336814841452, 299.39656149943187, 27.859608606269905, 28.959213932246794, 56.66035311222835, 38.05188260311878, 143.07316198076649, 83.9655313720762, 153.9855894258707, 65.90189883886771, 89.8061909070679, 30.059077511109134, 100.44206918853105, 61.62261879766629, 48.54409790071048, 61.11205034142488, 178.49448252750088, 415.04528058637237, 88.00362067876732, 91.45183831791509, 300.69070310868057, 309.69270772112446, 789.8845830825013, 485.4356395025299, 1354.3920520951278, 636.1194856658624, 240.8340265117173, 264.95035320218494, 338.3962558283402, 803.9546606873539, 519.0393910790767, 394.00890044723013, 415.8719277908884, 487.6019688259431, 381.0022775688627, 580.6842732019329, 376.14071040994554, 209.162880623572, 219.2076479309339, 443.8258066058513, 519.2061690838098, 416.5988110460648, 379.76819701228027, 565.1019599185444, 311.98737091924727, 369.26173371173337, 261.1220581143281, 17.529728228012907, 16.081239515898094, 9.560453011339087, 8.836040284918624, 8.836059838638274, 30.946170966432717, 7.387135942420779, 8.86775866713792, 6.662960915212724, 6.664196585059448, 5.940412182604882, 5.942424954406839, 5.213539965157457, 5.213576994800108, 5.213607747281524, 5.213649108307961, 26.06398728614573, 5.215237952624519, 5.215681574974828, 11.924750556629437, 17.950271592535927, 4.489173134271518, 4.489232839368925, 4.489340400517063, 4.4893826797590535, 4.491211846753914, 15.732562641495932, 9.023697329522513, 3.7646089338341944, 3.764625125827505, 21.89314092908458, 8.304990257685715, 19.006298024961218, 36.79531538204016, 6.799430133090886, 13.023569195084107, 7.58017032377473, 17.198618349482537, 9.21736089751141, 67.25265052567383, 9.218212866677922, 49.77130691522875, 7.622181779654378, 15.949834066297857, 1354.3920520951278, 261.1220581143281, 143.65543076507643, 201.7632251161905, 803.9546606873539, 202.122088843067, 126.07073189647127, 519.2061690838098, 564.3713574225287, 233.01253686605475, 636.1194856658624, 789.8845830825013, 379.76819701228027, 376.14071040994554, 145.8939500485746, 264.95035320218494, 182.77710058680987, 247.98551168225256, 301.1098355268674, 443.8258066058513, 350.09707836262817, 369.26173371173337, 519.0393910790767, 487.6019688259431, 254.3672856401339, 406.68625286023246, 505.4602385302183, 637.9993704218994, 394.00890044723013], \"loglift\": [30.0, 29.0, 28.0, 27.0, 26.0, 25.0, 24.0, 23.0, 22.0, 21.0, 20.0, 19.0, 18.0, 17.0, 16.0, 15.0, 14.0, 13.0, 12.0, 11.0, 10.0, 9.0, 8.0, 7.0, 6.0, 5.0, 4.0, 3.0, 2.0, 1.0, 1.0557, 1.0536, 1.0532, 1.0522, 1.0508, 1.05, 1.0469, 1.0437, 1.0435, 1.0424, 1.0414, 1.0405, 1.0399, 1.0397, 1.0386, 1.0383, 1.0382, 1.0372, 1.0367, 1.0366, 1.0348, 1.0347, 1.0345, 1.0326, 1.0324, 1.0319, 1.0315, 1.0302, 1.0298, 1.0292, 1.0213, 1.0209, 0.9665, 0.9409, 1.0095, 1.0012, 1.0123, 0.8641, 1.0156, 0.8237, 0.8867, 0.8915, 0.9377, 0.9803, 0.7665, 0.7183, 0.9291, 0.666, 0.5137, 0.5246, 0.6156, 0.6468, 0.6911, 0.319, 0.3662, 0.0393, 0.2165, 0.7162, 0.4842, 0.4075, 0.1553, 0.3127, 0.1362, 0.003, 0.1391, -0.0116, -0.1062, 0.2084, 0.3527, 0.1565, 0.1127, 0.0674, 0.1398, -0.0778, 0.1486, -0.0725, -0.0537, 0.2294, 0.0345, -0.1389, -0.0604, -0.2781, 0.0493, -0.1092, 1.2023, 1.2022, 1.1987, 1.1937, 1.193, 1.1909, 1.1907, 1.1875, 1.1848, 1.1805, 1.1804, 1.1793, 1.179, 1.1723, 1.1696, 1.164, 1.1613, 1.1577, 1.1539, 1.1489, 1.1487, 1.1485, 1.1479, 1.1436, 1.1419, 1.1366, 1.1366, 1.1365, 1.1364, 1.1362, 1.1225, 1.1217, 1.0981, 1.1224, 1.0664, 1.0767, 1.0881, 0.9923, 1.0246, 0.981, 0.8941, 0.9638, 0.8939, 0.8955, 0.7929, 1.0022, 0.8528, 0.7071, 0.424, 0.7707, 0.3205, 0.4198, 0.0854, 0.6056, 0.2678, 0.0879, 0.2424, 0.1695, 0.0374, 0.3222, 0.2346, 0.2317, 0.3093, 0.1137, 0.1807, 0.0177, -0.0338, 0.1232, 0.1761, 0.433, -0.0757, 0.0949, 0.172, 0.0612, 0.2409, 0.011, 0.1424, 1.2556, 1.2556, 1.2489, 1.2486, 1.2485, 1.2419, 1.2418, 1.2412, 1.2407, 1.2394, 1.2393, 1.238, 1.2369, 1.2368, 1.2367, 1.2359, 1.2346, 1.2345, 1.2327, 1.2286, 1.2278, 1.2264, 1.2252, 1.2251, 1.2251, 1.225, 1.2249, 1.2225, 1.2222, 1.2221, 1.2081, 1.2217, 1.2092, 1.2106, 1.2033, 1.1172, 1.1924, 1.1872, 1.1339, 1.1618, 1.0351, 1.0472, 0.9591, 1.0447, 0.9449, 1.1581, 0.8963, 0.9997, 1.0516, 0.9983, 0.7126, 0.4854, 0.8858, 0.8675, 0.5269, 0.5073, 0.1353, 0.2943, -0.1536, 0.0736, 0.4525, 0.4081, 0.2808, -0.1141, 0.0798, 0.1625, 0.1239, 0.0424, 0.1624, -0.0602, 0.1579, 0.4131, 0.3767, -0.0346, -0.1512, -0.0496, 0.0082, -0.3039, 0.1165, -0.0225, 0.221, 2.4986, 2.4948, 2.4641, 2.4577, 2.4577, 2.4539, 2.441, 2.4394, 2.4296, 2.4286, 2.4137, 2.4119, 2.3975, 2.3975, 2.3975, 2.3974, 2.3974, 2.3958, 2.3953, 2.3932, 2.3736, 2.3727, 2.3726, 2.3725, 2.3724, 2.3702, 2.3642, 2.3437, 2.3375, 2.3375, 2.3207, 2.3241, 2.2789, 2.2285, 2.32, 2.2325, 2.2971, 2.0982, 2.2196, 1.581, 2.2154, 1.5927, 2.2639, 1.9523, -0.0045, 0.6369, 0.8805, 0.7097, 0.023, 0.6597, 0.8988, 0.1448, 0.0758, 0.5374, -0.1006, -0.2518, 0.1098, 0.0904, 0.6713, 0.2833, 0.5242, 0.3159, 0.1305, -0.1597, 0.004, -0.0564, -0.3282, -0.3654, 0.1853, -0.2349, -0.4495, -0.663, -0.2496], \"logprob\": [30.0, 29.0, 28.0, 27.0, 26.0, 25.0, 24.0, 23.0, 22.0, 21.0, 20.0, 19.0, 18.0, 17.0, 16.0, 15.0, 14.0, 13.0, 12.0, 11.0, 10.0, 9.0, 8.0, 7.0, 6.0, 5.0, 4.0, 3.0, 2.0, 1.0, -7.358099937438965, -7.634300231933594, -7.6346001625061035, -7.7179999351501465, -7.77839994430542, -7.779399871826172, -7.946800231933594, -6.685699939727783, -8.063799858093262, -8.105799674987793, -8.149399757385254, -8.150300025939941, -8.195500373840332, -7.439799785614014, -8.196800231933594, -8.24370002746582, -8.152600288391113, -8.244799613952637, -8.29419994354248, -8.294300079345703, -8.156000137329102, -8.347700119018555, -8.347800254821777, -6.599899768829346, -8.40410041809082, -8.404600143432617, -8.405099868774414, -8.463600158691406, -8.004400253295898, -8.464799880981445, -7.72130012512207, -7.841300010681152, -6.401899814605713, -6.798799991607666, -7.9842000007629395, -7.9232001304626465, -8.063699722290039, -6.361100196838379, -8.132599830627441, -6.7484002113342285, -7.236999988555908, -7.277400016784668, -7.619699954986572, -7.911200046539307, -6.988399982452393, -6.861800193786621, -7.7104997634887695, -6.7221999168396, -6.158299922943115, -6.205599784851074, -6.58620023727417, -6.7270002365112305, -6.885200023651123, -5.6605000495910645, -5.8541998863220215, -4.981400012969971, -5.557000160217285, -7.020299911499023, -6.44320011138916, -6.285999774932861, -5.740799903869629, -6.1194000244140625, -5.731400012969971, -5.539299964904785, -5.867300033569336, -5.788099765777588, -5.666100025177002, -6.165200233459473, -6.4274001121521, -6.1458001136779785, -6.111100196838379, -6.080699920654297, -6.180600166320801, -5.972599983215332, -6.251299858093262, -6.114799976348877, -6.190100193023682, -6.368800163269043, -6.267399787902832, -6.185699939727783, -6.2600998878479, -6.257900238037109, -6.3649001121521, -6.36460018157959, -6.471099853515625, -6.471099853515625, -6.885200023651123, -7.296000003814697, -7.173999786376953, -7.438899993896484, -7.464300155639648, -7.634799957275391, -6.583499908447266, -7.920100212097168, -7.920100212097168, -7.962100028991699, -7.962399959564209, -6.510900020599365, -8.260299682617188, -8.384099960327148, -8.451499938964844, -8.524399757385254, -8.60260009765625, -8.687999725341797, -8.688199996948242, -8.688400268554688, -7.342299938201904, -8.780699729919434, -7.959000110626221, -8.883600234985352, -8.883600234985352, -8.545700073242188, -8.88379955291748, -8.883899688720703, -7.30079984664917, -7.559800148010254, -7.250400066375732, -8.307900428771973, -6.592899799346924, -6.940700054168701, -7.2683000564575195, -6.507999897003174, -7.090000152587891, -6.671500205993652, -6.172500133514404, -7.0278000831604, -6.573400020599365, -6.678999900817871, -6.109300136566162, -7.357600212097168, -6.729599952697754, -6.248700141906738, -5.470799922943115, -6.701000213623047, -5.453000068664551, -5.728300094604492, -4.935299873352051, -6.274400234222412, -5.73859977722168, -5.454400062561035, -5.737500190734863, -5.726600170135498, -5.522600173950195, -6.077700138092041, -5.966899871826172, -5.992099761962891, -6.100599765777588, -5.928699970245361, -6.019000053405762, -5.849899768829346, -5.810299873352051, -6.013199806213379, -6.1128997802734375, -6.309500217437744, -6.122499942779541, -6.207399845123291, -6.260000228881836, -6.231100082397461, -6.2835001945495605, -6.244500160217285, -6.271900177001953, -7.1570000648498535, -7.137199878692627, -6.609399795532227, -7.438799858093262, -7.5802001953125, -7.8649001121521, -7.864999771118164, -7.3460001945495605, -7.826700210571289, -7.950900077819824, -7.951000213623047, -7.9969000816345215, -7.792799949645996, -7.9980998039245605, -7.263800144195557, -6.68179988861084, -8.095800399780273, -8.09589958190918, -8.149100303649902, -8.207900047302246, -8.265600204467773, -8.267000198364258, -8.329000473022461, -8.32919979095459, -7.579800128936768, -8.32919979095459, -8.329299926757812, -8.396499633789062, -8.396699905395508, -8.39680004119873, -6.926499843597412, -8.332500457763672, -7.248499870300293, -7.334799766540527, -7.132999897003174, -5.412899971008301, -7.712200164794922, -7.678800106048584, -7.0609002113342285, -7.431000232696533, -6.233399868011475, -6.754199981689453, -6.235899925231934, -6.999000072479248, -6.789299964904785, -7.670599937438965, -6.72599983215332, -7.111100196838379, -7.297800064086914, -7.1209001541137695, -6.33459997177124, -5.7179999351501465, -6.86870002746582, -6.848599910736084, -5.998899936676025, -5.988999843597412, -5.424600124359131, -5.752500057220459, -5.174300193786621, -5.7027997970581055, -6.295300006866455, -6.244100093841553, -6.126800060272217, -5.656400203704834, -5.900100231170654, -6.0929999351501465, -6.077600002288818, -5.999899864196777, -6.1265997886657715, -5.927800178527832, -6.144000053405762, -6.4756999015808105, -6.465099811553955, -6.171000003814697, -6.130799770355225, -6.249300003051758, -6.283999919891357, -6.198699951171875, -6.372399806976318, -6.342800140380859, -6.445899963378906, -6.86929988861084, -6.959400177001953, -7.5100998878479, -7.595300197601318, -7.595300197601318, -6.345699787139893, -7.791100025177002, -7.610000133514404, -7.905700206756592, -7.906499862670898, -8.036399841308594, -8.0378999710083, -8.182999610900879, -8.183099746704102, -8.183099746704102, -8.183099746704102, -6.57390022277832, -8.184499740600586, -8.184900283813477, -7.360000133514404, -6.970600128173828, -8.357500076293945, -8.357600212097168, -8.35770034790039, -8.35770034790039, -8.359600067138672, -7.1118998527526855, -7.688300132751465, -8.568699836730957, -8.568699836730957, -6.824999809265137, -7.790900230407715, -7.008200168609619, -6.3979997634887695, -7.994999885559082, -7.432499885559082, -7.909200191497803, -7.28879976272583, -7.791200160980225, -6.442399978637695, -7.795300006866455, -6.7316999435424805, -7.936800003051758, -7.5100998878479, -5.025300025939941, -6.03000020980835, -6.383900165557861, -6.215099811553955, -5.5192999839782715, -6.263299942016602, -6.496200084686279, -5.834799766540527, -5.820400238037109, -6.2434000968933105, -5.877099990844727, -5.811699867248535, -6.182499885559082, -6.211400032043457, -6.577700138092041, -6.36899995803833, -6.4994001388549805, -6.402599811553955, -6.393899917602539, -6.29610013961792, -6.36959981918335, -6.376699924468994, -6.308000087738037, -6.407800197601318, -6.507699966430664, -6.458700180053711, -6.455900192260742, -6.436500072479248, -6.505000114440918]}, \"token.table\": {\"Topic\": [2, 2, 1, 2, 3, 3, 2, 2, 3, 4, 1, 1, 1, 2, 2, 1, 3, 1, 4, 1, 2, 2, 1, 2, 3, 1, 2, 3, 4, 1, 4, 1, 3, 1, 2, 3, 4, 3, 3, 4, 3, 4, 1, 2, 4, 3, 1, 3, 4, 4, 1, 2, 3, 4, 1, 1, 3, 1, 2, 3, 4, 1, 2, 3, 4, 3, 4, 1, 2, 3, 4, 1, 4, 1, 2, 3, 4, 1, 2, 3, 4, 1, 2, 3, 4, 4, 3, 1, 2, 3, 4, 1, 2, 3, 4, 1, 2, 3, 4, 1, 2, 3, 4, 1, 2, 3, 1, 2, 3, 1, 2, 3, 4, 3, 1, 1, 2, 3, 4, 1, 2, 3, 4, 1, 3, 4, 1, 2, 3, 4, 1, 3, 1, 2, 3, 4, 1, 2, 3, 4, 1, 2, 4, 1, 2, 3, 4, 1, 1, 2, 3, 4, 1, 3, 1, 2, 3, 4, 1, 2, 3, 4, 2, 1, 2, 3, 4, 2, 3, 4, 2, 1, 2, 3, 4, 1, 2, 3, 4, 1, 2, 3, 4, 1, 2, 3, 4, 1, 2, 3, 4, 1, 3, 1, 1, 2, 3, 4, 1, 3, 4, 2, 1, 4, 1, 2, 3, 4, 1, 1, 2, 3, 4, 3, 1, 2, 3, 3, 4, 1, 2, 3, 4, 4, 1, 1, 1, 4, 1, 2, 4, 3, 4, 1, 2, 3, 4, 4, 2, 3, 1, 2, 3, 4, 1, 3, 2, 3, 1, 2, 3, 4, 4, 3, 2, 3, 3, 1, 1, 3, 4, 1, 4, 3, 4, 3, 4, 1, 2, 3, 4, 1, 4, 1, 2, 3, 4, 4, 3, 1, 2, 3, 4, 3, 4, 1, 2, 3, 1, 1, 2, 3, 4, 1, 2, 3, 2, 1, 2, 3, 4, 3, 4, 1, 2, 2, 2, 3, 4, 1, 1, 2, 1, 2, 3, 4, 1, 2, 3, 4, 1, 2, 3, 4, 3, 1, 3, 4, 1, 2, 3, 4, 1, 2, 3, 4, 1, 2, 4, 2, 4, 2, 1, 2, 3, 4, 2, 1, 2, 3, 4, 1, 3, 2, 3, 1, 2, 3, 4, 1, 2, 3, 4, 1, 1, 2, 3, 4, 1, 1, 3, 4, 1, 2, 3, 4, 4, 1, 2, 3, 4, 2, 3, 4, 3, 4, 1, 2, 3, 4, 3, 1, 2, 3, 4, 1, 2, 3, 4, 3, 4, 1, 4, 1, 2, 3, 1, 3, 1, 2, 3, 4, 2, 1, 1, 2, 3, 4, 2, 1, 2, 3, 4, 3, 3, 1, 1, 3, 4, 3, 1, 4, 1, 2, 3, 1, 2, 3, 4, 1, 2, 3, 4, 1, 2, 3, 4, 4, 4, 1, 2, 3, 4, 1, 2, 3, 4, 2, 4, 1, 3, 4, 1, 2, 3, 4, 1, 2, 3, 4, 1, 2, 3, 4, 1, 3, 1, 2, 3, 4, 1, 3, 4, 1, 2, 3, 4, 1, 2, 3, 4, 4, 1, 2, 3, 4, 1, 2, 3, 4, 1, 2, 3, 4, 1, 2, 3, 4, 1, 3, 1, 2, 4, 1, 2, 3, 4, 1, 2, 3, 4, 1, 2, 3, 4, 2, 4, 1, 2, 3, 1, 2, 3, 4, 1, 2, 3, 4, 1, 2, 3, 4, 1, 2, 3, 4, 1, 4, 2, 1, 2, 3, 4, 1, 4, 1, 4, 1, 2, 3, 4, 2, 4, 4, 1, 2, 3, 4, 1, 2, 3, 4, 1, 2, 1, 2, 3, 4, 1, 2, 3, 4, 3, 1, 2, 3, 4, 4, 1, 2, 3, 4, 3, 3, 3, 4, 1, 2, 3, 4, 3, 4, 1, 4, 2, 2, 1, 2, 3, 1, 2, 3, 4], \"Freq\": [0.9562774719393597, 0.9118057597926477, 0.02116229536104715, 0.9628844389276454, 0.010581147680523576, 0.9774962293892746, 0.9955604672479913, 0.9551497134548254, 0.11141892698891748, 0.8356419524168811, 0.9895044434828384, 0.9825686141468126, 0.043673870091841385, 0.9171512719286691, 0.995379522703908, 0.09980346199550767, 0.8982311579595691, 0.9619270407953527, 0.02346163514135007, 0.9706841893451931, 0.9473884567706593, 0.9551545642018452, 0.9752758593780059, 0.011082680220204612, 0.011082680220204612, 0.4045348133766763, 0.19036932394196532, 0.21416548943471098, 0.19036932394196532, 0.9371887454541158, 0.04259948842973253, 0.02613063425927768, 0.966833467593274, 0.28235212849664165, 0.1993073848211588, 0.440137141480059, 0.07889250649170869, 0.9833563237906923, 0.24459635436072147, 0.7337890630821644, 0.9332507275119654, 0.07178851750092041, 0.955703885015942, 0.9373538105903916, 0.7968920940941145, 0.9552519203099946, 0.9632824381860607, 0.034402944220930744, 0.9590211953528843, 0.9475932288997629, 0.31675699731390355, 0.4565547782513247, 0.20704228316048445, 0.021235105965177893, 0.9825556546633594, 0.9886760541262382, 0.9531791110650848, 0.083269692845262, 0.8118795052413046, 0.06245226963394651, 0.041634846422631, 0.48461763135742675, 0.18012336740718515, 0.23158718666638092, 0.09863898691345854, 0.11081931978462256, 0.7757352384923579, 0.23667744281523967, 0.25756074659305495, 0.313249556667229, 0.1879497340003374, 0.9397308659217382, 0.040857863735727744, 0.10299913308156913, 0.020599826616313828, 0.8033932380362393, 0.061799479848941484, 0.25816923012609044, 0.37954730100626727, 0.30440849522330066, 0.05779908137151278, 0.35995080097097737, 0.3450768009308543, 0.24095880064999312, 0.05652120015246752, 0.9003335846141576, 0.9621323188820334, 0.30763988208467075, 0.3101718975750795, 0.3215659672819192, 0.0607683717698115, 0.46994819115990466, 0.1964537520422552, 0.24075214711060688, 0.0905228073135882, 0.2987007714320166, 0.27604071290958776, 0.37698097360040717, 0.049440127685299304, 0.24217554411238135, 0.23571752960271783, 0.46497704469577217, 0.05812213058697152, 0.8959296309597031, 0.046341187808260506, 0.05406471910963726, 0.9210726221172817, 0.03542587008143391, 0.03542587008143391, 0.04321332010082752, 0.7778397618148953, 0.10083108023526421, 0.07202220016804586, 0.9665545058650566, 0.9654557656887054, 0.4925651771539148, 0.27201360529395296, 0.17889183050863572, 0.05391260645465734, 0.21284329491513435, 0.2660541186439179, 0.4755717370760033, 0.046559470762685636, 0.8623295621183925, 0.05072526835990544, 0.07608790253985817, 0.0923542812269356, 0.8004037706334419, 0.0923542812269356, 0.030784760408978533, 0.9615997171039494, 0.04579046271923569, 0.3535910799313558, 0.2312964207069771, 0.3296638639961513, 0.08773312509574993, 0.39264021865581505, 0.30309069510273445, 0.263482251992718, 0.039608443110016434, 0.10849092393355124, 0.10849092393355124, 0.7594364675348587, 0.31071585490394377, 0.3159822253260445, 0.2817508175823897, 0.08689511196466224, 0.9705250847345422, 0.15862860215854985, 0.8019557109126686, 0.026438100359758306, 0.008812700119919435, 0.9416904901505151, 0.039237103756271464, 0.2741717527469934, 0.33586039711506693, 0.2330459898349444, 0.1576487578295212, 0.46635755216256486, 0.3543106078118188, 0.12718842331706315, 0.05148102848547794, 0.8956048718005214, 0.044340910419228295, 0.8720379049114897, 0.05912121389230439, 0.014780303473076097, 0.9952187405794679, 0.9420424706353074, 0.03248422312535543, 0.8761516757616167, 0.4247653094403397, 0.4106587124478561, 0.12382457360068944, 0.040752391311619306, 0.36700150569216355, 0.45362297908534505, 0.1276526976320569, 0.05242878652745194, 0.17044753254815864, 0.09090535069235128, 0.6817901301926346, 0.06817901301926346, 0.06223599378381636, 0.8920492442347012, 0.02074533126127212, 0.04149066252254424, 0.3958645306815925, 0.4105261799660959, 0.1378195032743322, 0.05278193742421233, 0.060996229273019155, 0.9352755155196271, 0.9775439421033146, 0.4004455524322441, 0.3526047120974185, 0.161241350758116, 0.08505038281746777, 0.02295852560964556, 0.941299549995468, 0.02295852560964556, 0.9787637528055976, 0.13119603138687466, 0.787176188321248, 0.09785203462464916, 0.02795772417847119, 0.789805708041811, 0.07688374149079577, 0.9775480086365541, 0.27893202750229373, 0.3775200717056907, 0.3174054106060584, 0.0264504508838382, 0.982071226545487, 0.6523136358201981, 0.2795629867800849, 0.06989074669502122, 0.9583656495106525, 0.02395914123776631, 0.10390582690013643, 0.12988228362517054, 0.7338349024822135, 0.032470570906292635, 0.9021445328283849, 0.9557233394104729, 0.9670335351945849, 0.9422668074214554, 0.9327639194211884, 0.23874816411674243, 0.7332979326442803, 0.03410688058810606, 0.8648022348703805, 0.12354317641005437, 0.10408511702193413, 0.118954419453639, 0.38660186322432677, 0.38660186322432677, 0.8910208365495029, 0.991730609729691, 0.9489005514609254, 0.7764532972088402, 0.07575154119110636, 0.009468942648888295, 0.14203413973332443, 0.012606835369988459, 0.9833331588590998, 0.9486496879761167, 0.04743248439880584, 0.3155435601347422, 0.2103623734231615, 0.42550570987866754, 0.052590593355790374, 0.8910326869469473, 0.953170123761117, 0.9107447846222684, 0.06071631897481789, 0.9531968943513395, 0.9727496641075318, 0.03453132403177821, 0.9323457488580116, 0.03453132403177821, 0.9809421236120419, 0.8909994883745721, 0.0838591964881027, 0.8385919648810269, 0.11510134528014619, 0.8824436471477874, 0.4290658642545807, 0.31822384932214737, 0.17877744343940863, 0.07508652624455163, 0.21045655470343294, 0.7892120801378735, 0.7389011677258003, 0.1136771027270462, 0.09094168218163697, 0.06820626163622771, 0.890628217168392, 0.9700761903055933, 0.31788222753327233, 0.33428905218015087, 0.29327199056295444, 0.055373033183215174, 0.06462835102182425, 0.9047969143055395, 0.04763859567891987, 0.15482543595648957, 0.7979464776219078, 0.9557280118365097, 0.6846842971437721, 0.13313305777795567, 0.057057024761981004, 0.12362355365095884, 0.9492958044297338, 0.9118103840504145, 0.9622097754946672, 0.960517099329972, 0.4377446869248663, 0.2532052600839913, 0.1716645831077907, 0.1330400519085378, 0.18270562515249164, 0.8221753131862124, 0.1628937346267842, 0.8307580465965995, 0.8761526353074233, 0.02505922163300834, 0.9522504220543169, 0.02505922163300834, 0.9838344414084361, 0.9422616868391691, 0.9816839056699357, 0.8098673435380677, 0.10708989666619076, 0.07362430395800615, 0.0066931185416369225, 0.3937006016114224, 0.38974381164547844, 0.16618517856964563, 0.04945987457429929, 0.1884895495933883, 0.7311109802410213, 0.03998263173193085, 0.03998263173193085, 0.9621357341557811, 0.07678386662063894, 0.15356773324127787, 0.7678386662063893, 0.08233244186605299, 0.8850737500600695, 0.020583110466513246, 0.9587290254865164, 0.3686046639040586, 0.26603640960032054, 0.31411527880519774, 0.05128412715186902, 0.9493153747276603, 0.9118065792008988, 0.8909910972915058, 0.9094088740582406, 0.06654211273596883, 0.9254882217271629, 0.39894756114308494, 0.32713700013732966, 0.21809133342488643, 0.05319300815241133, 0.9854107963822798, 0.29685028659379037, 0.25232274360472184, 0.29685028659379037, 0.15337264807345838, 0.9895007387773538, 0.9552521097741172, 0.9606080648867462, 0.9761969445790393, 0.26985007477200407, 0.21684381008464615, 0.4553720011777569, 0.05541564035496512, 0.11454369409784049, 0.13090707896896056, 0.7690790889426432, 0.959041272036934, 0.9616161868513098, 0.3427933908903645, 0.22754388878067297, 0.37234454527746486, 0.05910230877420077, 0.9652330724592895, 0.29072102760803675, 0.05814420552160735, 0.6395862607376809, 0.051660726777980184, 0.867900209870067, 0.06199287213357622, 0.020664290711192072, 0.9005005546859706, 0.2830719004279535, 0.18871460028530232, 0.4227207046390772, 0.1056801761597693, 0.07883972604693457, 0.8935168951985918, 0.026279908682311524, 0.9896656722460222, 0.9697811499914535, 0.3406274553698319, 0.40579096857101715, 0.19252856173077457, 0.06220153532840409, 0.9890141629377855, 0.16073518048512817, 0.16073518048512817, 0.28128656584897427, 0.3817460536521794, 0.26509027884156194, 0.35695324675695467, 0.3307066844954139, 0.049868468296927496, 0.9715559815567225, 0.9590288035395637, 0.2169617938884464, 0.7593662786095624, 0.08960388881581964, 0.219031728216448, 0.6869631475879506, 0.8732828154962572, 0.12315526885203627, 0.053440827509404654, 0.010020155158013373, 0.8583932918698122, 0.08016124126410698, 0.9953527091397433, 0.9838316380882393, 0.3618102355271189, 0.28746566658319034, 0.1932958792542142, 0.15860174708038088, 0.8761525359308482, 0.34988776082594497, 0.40885760815616046, 0.14545895674786477, 0.09435175572834471, 0.9700475301266975, 0.9622152373618537, 0.9557289249293174, 0.032455615146231694, 0.7627069559364448, 0.19473369087739018, 0.948832743104904, 0.8536353661296516, 0.11014649885543892, 0.208822569621832, 0.730878993676412, 0.06644354487967381, 0.18808973106115423, 0.06269657702038474, 0.25078630808153896, 0.5642691931834627, 0.34330294169080305, 0.32588902435866085, 0.25001409884004133, 0.08085033047066013, 0.32279754854726994, 0.24073037518779453, 0.3009129689847432, 0.13130747737516066, 0.9590344604072935, 0.8414073443690784, 0.6696455916272622, 0.1260509348945435, 0.13392911832545246, 0.07878183430908968, 0.3216523822128315, 0.35765824589337236, 0.2664433912360022, 0.05280860006479323, 0.9793391472448779, 0.023043274052820657, 0.7063207247252185, 0.16226286919363125, 0.13362824521828456, 0.3926754027353271, 0.25727009144728324, 0.2735187288018485, 0.07582697432130453, 0.3070996616133691, 0.30202363414868527, 0.3299417852044461, 0.06091232957620544, 0.5152493255327949, 0.21239285174634295, 0.20845965078807735, 0.06293121533224977, 0.946285521929984, 0.03052533941709626, 0.1288555235675498, 0.28572311747587137, 0.5714462349517427, 0.011204828136308681, 0.7031719092191461, 0.26787501303586514, 0.03348437662948314, 0.5735834343013009, 0.3156633665282327, 0.10393793775929613, 0.011548659751032904, 0.5565566428969831, 0.37269418051137265, 0.05963106888181962, 0.014907767220454905, 0.7968955216138606, 0.34696876516807124, 0.4584944396863798, 0.10326451344287835, 0.09087277182973294, 0.3379868166983555, 0.2876818021199956, 0.3018300874701593, 0.07074142675081858, 0.838342415711289, 0.06575234633029718, 0.08219043291287147, 0.016438086582574295, 0.22749458097831754, 0.5450391002605525, 0.184839347044883, 0.04265523393343454, 0.026758014056907725, 0.9632885060486781, 0.8426725960945207, 0.13757919936237073, 0.01719739992029634, 0.310199760927648, 0.18765170722783647, 0.34849602770883914, 0.14935544044664534, 0.3244516156039619, 0.33797043292079365, 0.27037634633663493, 0.06759408658415873, 0.23125534201443568, 0.6423759500400992, 0.11134516467361719, 0.017130025334402645, 0.1470711486736639, 0.7353557433683195, 0.9152302796134342, 0.03660921118453737, 0.03660921118453737, 0.0222701795922913, 0.12248598775760215, 0.7237808367494672, 0.14475616734989344, 0.2471408183493087, 0.6590421822648233, 0.07753437438409685, 0.014537695197018159, 0.32878368063525587, 0.37859938982241587, 0.20258388402778393, 0.08966827653688797, 0.021869434631235914, 0.16402075973426936, 0.6670177562526954, 0.15308604241865142, 0.13192315703824786, 0.7915389422294873, 0.8761582528175651, 0.4227398888679174, 0.29134776124680795, 0.2085135938334998, 0.07997781681284924, 0.9656354629538652, 0.030176108217308286, 0.9775380568554715, 0.9413779858889149, 0.6342716442321319, 0.17001095618593226, 0.16347207325570412, 0.03269441465114082, 0.12040953318091695, 0.8428667322664186, 0.9053829251609932, 0.5793351501319428, 0.2162307250492463, 0.16727282503809618, 0.036718425008362574, 0.38358808271203887, 0.37621138881373045, 0.17949955152550537, 0.06147244915257033, 0.08614437532448987, 0.9188733367945587, 0.2782420615298312, 0.2822745551751911, 0.33066447891950956, 0.10887732842471656, 0.3558792295439031, 0.32486900622265014, 0.2406984000649635, 0.07826389695363845, 0.9621478650794538, 0.3147700395094789, 0.2280942315286079, 0.4105696167514942, 0.05018073093629374, 0.8416924358618312, 0.1789383907809046, 0.6032780032041926, 0.15337576352648966, 0.06135030541059586, 0.9875319014288135, 0.9890020019295666, 0.9647525786722189, 0.9586474803197953, 0.060696278414983616, 0.04552220881123771, 0.804225688998533, 0.09104441762247542, 0.9665517611212202, 0.905380921597842, 0.1271248712352071, 0.8263116630288462, 0.937226862284223, 0.9710696949986094, 0.03323796872836015, 0.016618984364180075, 0.9472821087582642, 0.16263661282898034, 0.6983807492067979, 0.10523545535992845, 0.028700578734525944], \"Term\": [\"330\", \"503\", \"i\", \"i\", \"i\", \"n\", \"r\", \"s\", \"\\u0430\\u0434\\u043c\\u0438\\u043d\\u0438\\u0441\\u0442\\u0440\\u0430\\u0442\\u043e\\u0440\", \"\\u0430\\u0434\\u043c\\u0438\\u043d\\u0438\\u0441\\u0442\\u0440\\u0430\\u0442\\u043e\\u0440\", \"\\u0430\\u0439\\u043d\\u0430\", \"\\u0430\\u043a\\u0438\\u043c\", \"\\u0430\\u043a\\u0442\\u0438\\u0432\", \"\\u0430\\u043a\\u0442\\u0438\\u0432\", \"\\u0430\\u043a\\u0442\\u0438\\u0432\\u0438\\u0441\\u0442\", \"\\u0430\\u043b\\u0435\\u043a\\u0441\\u0430\\u043d\\u0434\\u0440\\u043e\\u0432\\u0438\\u0447\", \"\\u0430\\u043b\\u0435\\u043a\\u0441\\u0430\\u043d\\u0434\\u0440\\u043e\\u0432\\u0438\\u0447\", \"\\u0430\\u0440\\u0435\\u0441\\u0442\\u0430\\u043d\\u0442\", \"\\u0430\\u0440\\u0435\\u0441\\u0442\\u0430\\u043d\\u0442\", \"\\u0430\\u0440\\u0435\\u0441\\u0442\\u043e\\u0432\\u0430\\u043d\\u043d\\u044b\\u0439\", \"\\u0430\\u0443\\u0434\\u0438\\u0442\\u043e\\u0440\\u0438\\u0443\\u043c\", \"\\u0430\\u044d\\u0440\\u043e\", \"\\u0431\\u0430\\u043b\\u043a\\u0430\", \"\\u0431\\u0430\\u043b\\u043a\\u0430\", \"\\u0431\\u0430\\u043b\\u043a\\u0430\", \"\\u0431\\u0435\\u0436\\u0430\\u0442\\u044c\", \"\\u0431\\u0435\\u0436\\u0430\\u0442\\u044c\", \"\\u0431\\u0435\\u0436\\u0430\\u0442\\u044c\", \"\\u0431\\u0435\\u0436\\u0430\\u0442\\u044c\", \"\\u0431\\u0435\\u0437\\u0434\\u0435\\u0442\\u043e\\u0432\", \"\\u0431\\u0435\\u0437\\u0434\\u0435\\u0442\\u043e\\u0432\", \"\\u0431\\u0435\\u0437\\u0434\\u043e\\u043c\\u043d\\u044b\\u0439\", \"\\u0431\\u0435\\u0437\\u0434\\u043e\\u043c\\u043d\\u044b\\u0439\", \"\\u0431\\u0435\\u043b\\u044b\\u0439\", \"\\u0431\\u0435\\u043b\\u044b\\u0439\", \"\\u0431\\u0435\\u043b\\u044b\\u0439\", \"\\u0431\\u0435\\u043b\\u044b\\u0439\", \"\\u0431\\u0435\\u043d\\u0433\\u0430\\u043b\\u044c\\u0441\\u043a\\u0438\\u0439\", \"\\u0431\\u0435\\u0440\\u0435\\u0437\\u043a\\u0438\\u043d\", \"\\u0431\\u0435\\u0440\\u0435\\u0437\\u043a\\u0438\\u043d\", \"\\u0431\\u043b\\u0438\\u043d\\u0434\\u0430\\u0436\", \"\\u0431\\u043b\\u0438\\u043d\\u0434\\u0430\\u0436\", \"\\u0431\\u043e\\u0431\\u044b\\u043b\\u044c\", \"\\u0431\\u043e\\u043b\\u0442\", \"\\u0431\\u043e\\u043b\\u044c\\u043d\\u0438\\u0447\\u043d\\u044b\\u0439\", \"\\u0431\\u0440\\u043e\\u043d\\u0441\\u043a\\u0438\\u0439\", \"\\u0431\\u044b\\u043a\", \"\\u0431\\u044b\\u043a\", \"\\u0432\\u0430\\u0441\\u044c\\u043a\\u0430\", \"\\u0432\\u0430\\u0441\\u044e\\u0442\\u043a\\u0430\", \"\\u0432\\u0435\\u0441\\u044c\", \"\\u0432\\u0435\\u0441\\u044c\", \"\\u0432\\u0435\\u0441\\u044c\", \"\\u0432\\u0435\\u0441\\u044c\", \"\\u0432\\u0438\\u043d\\u043e\\u0433\\u0440\\u0430\\u0434\\u043d\\u0438\\u043a\", \"\\u0432\\u0438\\u0441\\u043e\\u043a\\u043e\\u0432\\u0441\\u043a\\u0438\\u0439\", \"\\u0432\\u0438\\u0442\\u0435\\u043d\\u044c\\u043a\\u0430\", \"\\u0432\\u043d\\u0443\\u0442\\u0440\\u0438\", \"\\u0432\\u043d\\u0443\\u0442\\u0440\\u0438\", \"\\u0432\\u043d\\u0443\\u0442\\u0440\\u0438\", \"\\u0432\\u043d\\u0443\\u0442\\u0440\\u0438\", \"\\u0432\\u043e\\u0434\\u0430\", \"\\u0432\\u043e\\u0434\\u0430\", \"\\u0432\\u043e\\u0434\\u0430\", \"\\u0432\\u043e\\u0434\\u0430\", \"\\u0432\\u043e\\u0436\\u0436\\u0430\", \"\\u0432\\u043e\\u0436\\u0436\\u0430\", \"\\u0432\\u043e\\u0439\\u043d\\u0430\", \"\\u0432\\u043e\\u0439\\u043d\\u0430\", \"\\u0432\\u043e\\u0439\\u043d\\u0430\", \"\\u0432\\u043e\\u0439\\u043d\\u0430\", \"\\u0432\\u043e\\u043b\", \"\\u0432\\u043e\\u043b\", \"\\u0432\\u043e\\u0441\\u043a\\u043b\\u0438\\u0446\\u0430\\u0442\\u044c\", \"\\u0432\\u043e\\u0441\\u043a\\u043b\\u0438\\u0446\\u0430\\u0442\\u044c\", \"\\u0432\\u043e\\u0441\\u043a\\u043b\\u0438\\u0446\\u0430\\u0442\\u044c\", \"\\u0432\\u043e\\u0441\\u043a\\u043b\\u0438\\u0446\\u0430\\u0442\\u044c\", \"\\u0432\\u0440\\u0435\\u043c\\u044f\", \"\\u0432\\u0440\\u0435\\u043c\\u044f\", \"\\u0432\\u0440\\u0435\\u043c\\u044f\", \"\\u0432\\u0440\\u0435\\u043c\\u044f\", \"\\u0432\\u044b\\u0445\\u043e\\u0434\\u0438\\u0442\\u044c\", \"\\u0432\\u044b\\u0445\\u043e\\u0434\\u0438\\u0442\\u044c\", \"\\u0432\\u044b\\u0445\\u043e\\u0434\\u0438\\u0442\\u044c\", \"\\u0432\\u044b\\u0445\\u043e\\u0434\\u0438\\u0442\\u044c\", \"\\u0433\\u0430\\u0440\\u0434\\u0438\", \"\\u0433\\u0435\\u0442\\u0442\\u043e\", \"\\u0433\\u043b\\u0430\\u0437\", \"\\u0433\\u043b\\u0430\\u0437\", \"\\u0433\\u043b\\u0430\\u0437\", \"\\u0433\\u043b\\u0430\\u0437\", \"\\u0433\\u043e\\u0434\", \"\\u0433\\u043e\\u0434\", \"\\u0433\\u043e\\u0434\", \"\\u0433\\u043e\\u0434\", \"\\u0433\\u043e\\u043b\\u043e\\u0432\\u0430\", \"\\u0433\\u043e\\u043b\\u043e\\u0432\\u0430\", \"\\u0433\\u043e\\u043b\\u043e\\u0432\\u0430\", \"\\u0433\\u043e\\u043b\\u043e\\u0432\\u0430\", \"\\u0433\\u043e\\u043b\\u043e\\u0441\", \"\\u0433\\u043e\\u043b\\u043e\\u0441\", \"\\u0433\\u043e\\u043b\\u043e\\u0441\", \"\\u0433\\u043e\\u043b\\u043e\\u0441\", \"\\u0433\\u043e\\u0440\\u0430\", \"\\u0433\\u043e\\u0440\\u0430\", \"\\u0433\\u043e\\u0440\\u0430\", \"\\u0433\\u043e\\u0440\\u043a\\u0430\", \"\\u0433\\u043e\\u0440\\u043a\\u0430\", \"\\u0433\\u043e\\u0440\\u043a\\u0430\", \"\\u0433\\u043e\\u0441\\u0443\\u0434\\u0430\\u0440\\u0441\\u0442\\u0432\\u043e\", \"\\u0433\\u043e\\u0441\\u0443\\u0434\\u0430\\u0440\\u0441\\u0442\\u0432\\u043e\", \"\\u0433\\u043e\\u0441\\u0443\\u0434\\u0430\\u0440\\u0441\\u0442\\u0432\\u043e\", \"\\u0433\\u043e\\u0441\\u0443\\u0434\\u0430\\u0440\\u0441\\u0442\\u0432\\u043e\", \"\\u0433\\u0440\\u0438\\u0431\\u043e\\u0435\\u0434\\u043e\\u0432\", \"\\u0433\\u0443\\u0440\\u0442\", \"\\u0434\\u0430\\u0432\\u0430\\u0442\\u044c\", \"\\u0434\\u0430\\u0432\\u0430\\u0442\\u044c\", \"\\u0434\\u0430\\u0432\\u0430\\u0442\\u044c\", \"\\u0434\\u0430\\u0432\\u0430\\u0442\\u044c\", \"\\u0434\\u0432\\u0435\\u0440\\u044c\", \"\\u0434\\u0432\\u0435\\u0440\\u044c\", \"\\u0434\\u0432\\u0435\\u0440\\u044c\", \"\\u0434\\u0432\\u0435\\u0440\\u044c\", \"\\u0434\\u0432\\u043e\\u0440\\u0438\\u043a\", \"\\u0434\\u0432\\u043e\\u0440\\u0438\\u043a\", \"\\u0434\\u0432\\u043e\\u0440\\u0438\\u043a\", \"\\u0434\\u0435\\u0432\\u043e\\u0447\\u043a\\u0430\", \"\\u0434\\u0435\\u0432\\u043e\\u0447\\u043a\\u0430\", \"\\u0434\\u0435\\u0432\\u043e\\u0447\\u043a\\u0430\", \"\\u0434\\u0435\\u0432\\u043e\\u0447\\u043a\\u0430\", \"\\u0434\\u0435\\u0434\\u0443\\u0448\\u043a\\u0430\", \"\\u0434\\u0435\\u0434\\u0443\\u0448\\u043a\\u0430\", \"\\u0434\\u0435\\u043b\\u043e\", \"\\u0434\\u0435\\u043b\\u043e\", \"\\u0434\\u0435\\u043b\\u043e\", \"\\u0434\\u0435\\u043b\\u043e\", \"\\u0434\\u0435\\u043d\\u044c\", \"\\u0434\\u0435\\u043d\\u044c\", \"\\u0434\\u0435\\u043d\\u044c\", \"\\u0434\\u0435\\u043d\\u044c\", \"\\u0434\\u043e\\u0432\\u0435\\u0440\\u0438\\u0435\", \"\\u0434\\u043e\\u0432\\u0435\\u0440\\u0438\\u0435\", \"\\u0434\\u043e\\u0432\\u0435\\u0440\\u0438\\u0435\", \"\\u0434\\u043e\\u043c\", \"\\u0434\\u043e\\u043c\", \"\\u0434\\u043e\\u043c\", \"\\u0434\\u043e\\u043c\", \"\\u0434\\u043e\\u044f\\u0440\\u043a\\u0430\", \"\\u0434\\u0440\\u0435\\u0432\\u043d\\u0438\\u0439\", \"\\u0434\\u0440\\u0435\\u0432\\u043d\\u0438\\u0439\", \"\\u0434\\u0440\\u0435\\u0432\\u043d\\u0438\\u0439\", \"\\u0434\\u0440\\u0435\\u0432\\u043d\\u0438\\u0439\", \"\\u0434\\u0440\\u043e\\u0437\\u0434\", \"\\u0434\\u0440\\u043e\\u0437\\u0434\", \"\\u0434\\u0440\\u0443\\u0433\", \"\\u0434\\u0440\\u0443\\u0433\", \"\\u0434\\u0440\\u0443\\u0433\", \"\\u0434\\u0440\\u0443\\u0433\", \"\\u0434\\u0443\\u043c\\u0430\\u0442\\u044c\", \"\\u0434\\u0443\\u043c\\u0430\\u0442\\u044c\", \"\\u0434\\u0443\\u043c\\u0430\\u0442\\u044c\", \"\\u0434\\u0443\\u043c\\u0430\\u0442\\u044c\", \"\\u0435\\u0434\\u0438\\u043d\\u043e\\u0433\\u043b\\u0430\\u0441\\u0438\\u0435\", \"\\u0435\\u0434\\u0438\\u043d\\u044b\\u0439\", \"\\u0435\\u0434\\u0438\\u043d\\u044b\\u0439\", \"\\u0435\\u0434\\u0438\\u043d\\u044b\\u0439\", \"\\u0435\\u0434\\u0438\\u043d\\u044b\\u0439\", \"\\u0435\\u043b\\u0438\\u0441\\u0435\\u0439\", \"\\u0435\\u0440\\u0435\\u043c\\u0435\\u043d\\u043a\\u043e\", \"\\u0435\\u0440\\u0435\\u043c\\u0435\\u043d\\u043a\\u043e\", \"\\u0436\\u0430\\u0431\\u0440\\u0430\", \"\\u0436\\u0438\\u0437\\u043d\\u044c\", \"\\u0436\\u0438\\u0437\\u043d\\u044c\", \"\\u0436\\u0438\\u0437\\u043d\\u044c\", \"\\u0436\\u0438\\u0437\\u043d\\u044c\", \"\\u0436\\u0438\\u0442\\u044c\", \"\\u0436\\u0438\\u0442\\u044c\", \"\\u0436\\u0438\\u0442\\u044c\", \"\\u0436\\u0438\\u0442\\u044c\", \"\\u0437\\u0430\\u0433\\u043e\\u0432\\u0430\\u0440\\u0438\\u0432\\u0430\\u0442\\u044c\", \"\\u0437\\u0430\\u0433\\u043e\\u0432\\u0430\\u0440\\u0438\\u0432\\u0430\\u0442\\u044c\", \"\\u0437\\u0430\\u0433\\u043e\\u0432\\u0430\\u0440\\u0438\\u0432\\u0430\\u0442\\u044c\", \"\\u0437\\u0430\\u0433\\u043e\\u0432\\u0430\\u0440\\u0438\\u0432\\u0430\\u0442\\u044c\", \"\\u0437\\u0430\\u043f\\u0438\\u0441\\u044c\", \"\\u0437\\u0430\\u043f\\u0438\\u0441\\u044c\", \"\\u0437\\u0430\\u043f\\u0438\\u0441\\u044c\", \"\\u0437\\u0430\\u043f\\u0438\\u0441\\u044c\", \"\\u0437\\u0435\\u043c\\u043b\\u044f\", \"\\u0437\\u0435\\u043c\\u043b\\u044f\", \"\\u0437\\u0435\\u043c\\u043b\\u044f\", \"\\u0437\\u0435\\u043c\\u043b\\u044f\", \"\\u0438\\u0432\\u0430\\u043d\\u043e\\u0432\", \"\\u0438\\u0432\\u0430\\u043d\\u043e\\u0432\", \"\\u0438\\u0433\\u0435\\u043c\\u043e\\u043d\", \"\\u0438\\u0434\\u0442\\u0438\", \"\\u0438\\u0434\\u0442\\u0438\", \"\\u0438\\u0434\\u0442\\u0438\", \"\\u0438\\u0434\\u0442\\u0438\", \"\\u0438\\u043d\\u043e\\u0441\\u0442\\u0440\\u0430\\u043d\\u0435\\u0446\", \"\\u0438\\u043d\\u043e\\u0441\\u0442\\u0440\\u0430\\u043d\\u0435\\u0446\", \"\\u0438\\u043d\\u043e\\u0441\\u0442\\u0440\\u0430\\u043d\\u0435\\u0446\", \"\\u0438\\u043d\\u0442\\u0435\\u0433\\u0440\\u0430\\u043b\", \"\\u0438\\u0441\\u043f\\u043e\\u043b\\u043d\\u0438\\u0442\\u0435\\u043b\\u044c\", \"\\u0438\\u0441\\u043f\\u043e\\u043b\\u043d\\u0438\\u0442\\u0435\\u043b\\u044c\", \"\\u043a\\u0430\\u0431\\u0438\\u043d\\u0435\\u0442\", \"\\u043a\\u0430\\u0431\\u0438\\u043d\\u0435\\u0442\", \"\\u043a\\u0430\\u0431\\u0438\\u043d\\u0435\\u0442\", \"\\u043a\\u0430\\u0431\\u0438\\u043d\\u0435\\u0442\", \"\\u043a\\u0430\\u0438\\u0444\\u0430\", \"\\u043a\\u0430\\u043a\\u043e\\u0439-\\u0442\\u043e\", \"\\u043a\\u0430\\u043a\\u043e\\u0439-\\u0442\\u043e\", \"\\u043a\\u0430\\u043a\\u043e\\u0439-\\u0442\\u043e\", \"\\u043a\\u0430\\u043a\\u043e\\u0439-\\u0442\\u043e\", \"\\u043a\\u0430\\u043b\\u043e\\u0448\\u0430\", \"\\u043a\\u0430\\u043c\\u0435\\u043d\\u044c\", \"\\u043a\\u0430\\u043c\\u0435\\u043d\\u044c\", \"\\u043a\\u0430\\u043c\\u0435\\u043d\\u044c\", \"\\u043a\\u0430\\u043c\\u0435\\u0440\\u0430\", \"\\u043a\\u0430\\u043c\\u0435\\u0440\\u0430\", \"\\u043a\\u0432\\u0430\\u0440\\u0442\\u0438\\u0440\\u0430\", \"\\u043a\\u0432\\u0430\\u0440\\u0442\\u0438\\u0440\\u0430\", \"\\u043a\\u0432\\u0430\\u0440\\u0442\\u0438\\u0440\\u0430\", \"\\u043a\\u0432\\u0430\\u0440\\u0442\\u0438\\u0440\\u0430\", \"\\u043a\\u0438\\u043b\\u043e\\u043c\\u0435\\u0442\\u0440\", \"\\u043a\\u0438\\u043f\\u0430\\u0440\\u0438\\u0441\", \"\\u043a\\u043b\\u0430\\u0432\\u0434\\u0438\\u044f\", \"\\u043a\\u043b\\u0438\\u043c\\u043e\\u0432\\u043d\\u0430\", \"\\u043a\\u043e\\u043a\\u043e\\u0441\\u043e\\u0432\", \"\\u043a\\u043e\\u043b\\u0445\\u043e\\u0437\", \"\\u043a\\u043e\\u043b\\u0445\\u043e\\u0437\", \"\\u043a\\u043e\\u043b\\u0445\\u043e\\u0437\", \"\\u043a\\u043e\\u043c\\u0430\\u043d\\u0434\\u0430\\u0440\\u043c\", \"\\u043a\\u043e\\u043c\\u0430\\u043d\\u0434\\u0430\\u0440\\u043c\", \"\\u043a\\u043e\\u043c\\u0430\\u043d\\u0434\\u0438\\u0440\", \"\\u043a\\u043e\\u043c\\u0430\\u043d\\u0434\\u0438\\u0440\", \"\\u043a\\u043e\\u043c\\u0430\\u043d\\u0434\\u0438\\u0440\", \"\\u043a\\u043e\\u043c\\u0430\\u043d\\u0434\\u0438\\u0440\", \"\\u043a\\u043e\\u043c\\u043a\\u043e\\u0440\", \"\\u043a\\u043e\\u043d\\u0441\\u043f\\u0435\\u043a\\u0442\", \"\\u043a\\u043e\\u043d\\u0441\\u0443\\u043b\\u044c\\u0442\\u0430\\u043d\\u0442\", \"\\u043a\\u043e\\u0440\\u043e\\u0432\\u0430\", \"\\u043a\\u043e\\u0440\\u043e\\u0432\\u0430\", \"\\u043a\\u043e\\u0440\\u043e\\u0432\\u0430\", \"\\u043a\\u043e\\u0440\\u043e\\u0432\\u0430\", \"\\u043a\\u043e\\u0442\", \"\\u043a\\u043e\\u0442\", \"\\u043a\\u043e\\u0442\\u043b\\u043e\\u0432\\u0430\\u043d\", \"\\u043a\\u043e\\u0442\\u043b\\u043e\\u0432\\u0430\\u043d\", \"\\u043a\\u0440\\u0430\\u0441\\u043d\\u044b\\u0439\", \"\\u043a\\u0440\\u0430\\u0441\\u043d\\u044b\\u0439\", \"\\u043a\\u0440\\u0430\\u0441\\u043d\\u044b\\u0439\", \"\\u043a\\u0440\\u0430\\u0441\\u043d\\u044b\\u0439\", \"\\u043a\\u0440\\u0435\\u043c\", \"\\u043a\\u0440\\u044b\\u043b\\u043e\\u0432\", \"\\u043a\\u0443\\u0437\\u043d\\u044f\", \"\\u043a\\u0443\\u0437\\u043d\\u044f\", \"\\u043a\\u0443\\u0439\\u0431\\u044b\\u0448\\u0435\\u0432\", \"\\u043a\\u0443\\u043b\\u0435\\u0448\\u0430\", \"\\u043a\\u0443\\u0440\\u0438\\u043d\\u044b\\u0439\", \"\\u043a\\u0443\\u0440\\u0438\\u043d\\u044b\\u0439\", \"\\u043a\\u0443\\u0440\\u0438\\u043d\\u044b\\u0439\", \"\\u043a\\u0443\\u0440\\u043e\\u0447\\u043a\\u0430\", \"\\u043a\\u0443\\u0440\\u0441\\u0438\\u043d\", \"\\u043b\\u0430\\u0433\\u0435\\u0440\\u043d\\u044b\\u0439\", \"\\u043b\\u0430\\u0433\\u0435\\u0440\\u043d\\u044b\\u0439\", \"\\u043b\\u0430\\u0433\\u0435\\u0440\\u044c\", \"\\u043b\\u0430\\u0433\\u0435\\u0440\\u044c\", \"\\u043b\\u0435\\u0436\\u0430\\u0442\\u044c\", \"\\u043b\\u0435\\u0436\\u0430\\u0442\\u044c\", \"\\u043b\\u0435\\u0436\\u0430\\u0442\\u044c\", \"\\u043b\\u0435\\u0436\\u0430\\u0442\\u044c\", \"\\u043b\\u0435\\u043b\\u044f\", \"\\u043b\\u0435\\u043b\\u044f\", \"\\u043b\\u0435\\u0441\", \"\\u043b\\u0435\\u0441\", \"\\u043b\\u0435\\u0441\", \"\\u043b\\u0435\\u0441\", \"\\u043b\\u0435\\u0441\\u043f\\u0440\\u043e\\u043c\\u0445\\u043e\\u0437\", \"\\u043b\\u0438\\u043c\\u043e\\u043d\\u043e\\u0432\", \"\\u043b\\u0438\\u0446\\u043e\", \"\\u043b\\u0438\\u0446\\u043e\", \"\\u043b\\u0438\\u0446\\u043e\", \"\\u043b\\u0438\\u0446\\u043e\", \"\\u043b\\u043e\\u0437\\u043e\\u0432\\u0441\\u043a\\u0438\\u0439\", \"\\u043b\\u043e\\u0437\\u043e\\u0432\\u0441\\u043a\\u0438\\u0439\", \"\\u043b\\u0443\\u0447\", \"\\u043b\\u0443\\u0447\", \"\\u043b\\u0443\\u0447\", \"\\u043b\\u044f\\u043b\\u044f\", \"\\u043c\\u0430\\u043c\\u0430\", \"\\u043c\\u0430\\u043c\\u0430\", \"\\u043c\\u0430\\u043c\\u0430\", \"\\u043c\\u0430\\u043c\\u0430\", \"\\u043c\\u0430\\u0440\\u0438\\u044f\", \"\\u043c\\u0430\\u0440\\u0448\", \"\\u043c\\u0430\\u0441\\u0441\\u043e\\u043b\\u0438\\u0442\", \"\\u043c\\u0430\\u0441\\u0442\\u0435\\u0440\\u043e\\u0432\\u043e\\u0439\", \"\\u043c\\u0430\\u0442\\u044c\", \"\\u043c\\u0430\\u0442\\u044c\", \"\\u043c\\u0430\\u0442\\u044c\", \"\\u043c\\u0430\\u0442\\u044c\", \"\\u043c\\u0430\\u0449\\u0443\\u043a\", \"\\u043c\\u0430\\u0449\\u0443\\u043a\", \"\\u043c\\u0435\\u0434\\u0432\\u0435\\u0434\\u044c\", \"\\u043c\\u0435\\u0434\\u0432\\u0435\\u0434\\u044c\", \"\\u043c\\u0435\\u0444\\u0438\", \"\\u043c\\u0438\\u043b\\u0438\\u0446\\u0438\\u044f\", \"\\u043c\\u0438\\u043b\\u0438\\u0446\\u0438\\u044f\", \"\\u043c\\u0438\\u043b\\u0438\\u0446\\u0438\\u044f\", \"\\u043c\\u0438\\u043d\\u0434\\u0430\\u043b\\u044c\", \"\\u043c\\u0438\\u043d\\u0434\\u0430\\u043b\\u044c\\u043d\\u044b\\u0439\", \"\\u043c\\u043e\\u043b\\u043e\\u0442\\u043e\\u0431\\u043e\\u0435\\u0446\", \"\\u043c\\u043e\\u0440\\u0435\", \"\\u043c\\u043e\\u0440\\u0435\", \"\\u043c\\u043e\\u0440\\u0435\", \"\\u043c\\u043e\\u0440\\u0435\", \"\\u043c\\u043e\\u0447\\u044c\", \"\\u043c\\u043e\\u0447\\u044c\", \"\\u043c\\u043e\\u0447\\u044c\", \"\\u043c\\u043e\\u0447\\u044c\", \"\\u043c\\u0443\\u0436\\u0438\\u043a\", \"\\u043c\\u0443\\u0436\\u0438\\u043a\", \"\\u043c\\u0443\\u0436\\u0438\\u043a\", \"\\u043c\\u0443\\u0436\\u0438\\u043a\", \"\\u043d\\u0430\\u0436\\u0438\\u043c\\u0430\\u0442\\u044c\", \"\\u043d\\u0430\\u0440\\u044b\", \"\\u043d\\u0430\\u0440\\u044b\", \"\\u043d\\u0430\\u0440\\u044b\", \"\\u043d\\u0430\\u0441\\u0442\\u0430\\u0432\\u043d\\u0438\\u043a\", \"\\u043d\\u0430\\u0441\\u0442\\u0430\\u0432\\u043d\\u0438\\u043a\", \"\\u043d\\u0430\\u0441\\u0442\\u0430\\u0432\\u043d\\u0438\\u043a\", \"\\u043d\\u0430\\u0446\\u0438\\u043e\\u043d\\u0430\\u043b-\\u0441\\u043e\\u0446\\u0438\\u0430\\u043b\\u0438\\u0437\\u043c\", \"\\u043d\\u0430\\u0447\\u0438\\u043d\\u0430\\u0442\\u044c\", \"\\u043d\\u0430\\u0447\\u0438\\u043d\\u0430\\u0442\\u044c\", \"\\u043d\\u0430\\u0447\\u0438\\u043d\\u0430\\u0442\\u044c\", \"\\u043d\\u0430\\u0447\\u0438\\u043d\\u0430\\u0442\\u044c\", \"\\u043d\\u0435\\u0432\\u044b\\u044f\\u0441\\u043d\\u0435\\u043d\\u043d\\u044b\\u0439\", \"\\u043d\\u0435\\u043f\\u0440\\u043e\\u0437\\u0440\\u0430\\u0447\\u043d\\u044b\\u0439\", \"\\u043d\\u0435\\u0443\\u0434\\u043e\\u0431\\u043d\\u043e\\u0432\", \"\\u043d\\u0438\\u043a\\u0438\\u0442\\u0430\", \"\\u043d\\u0438\\u043a\\u0438\\u0442\\u0430\", \"\\u043d\\u043e\\u043b\\u044c\", \"\\u043d\\u043e\\u0447\\u044c\", \"\\u043d\\u043e\\u0447\\u044c\", \"\\u043d\\u043e\\u0447\\u044c\", \"\\u043d\\u043e\\u0447\\u044c\", \"\\u043d\\u0443\\u043c\\u0435\\u0440\", \"\\u043e\\u043a\\u043d\\u043e\", \"\\u043e\\u043a\\u043d\\u043e\", \"\\u043e\\u043a\\u043d\\u043e\", \"\\u043e\\u043a\\u043d\\u043e\", \"\\u043e\\u043b\\u044c\\u0433\\u0430\", \"\\u043e\\u0440\\u0430\\u043d\\u0436\\u0435\\u0440\\u0435\\u044f\", \"\\u043e\\u0440\\u0433\\u0434\\u0432\\u043e\\u0440\", \"\\u043e\\u0441\\u0432\\u0435\\u0434\\u043e\\u043c\\u043b\\u044f\\u0442\\u044c\\u0441\\u044f\", \"\\u043e\\u0442\\u0432\\u0435\\u0447\\u0430\\u0442\\u044c\", \"\\u043e\\u0442\\u0432\\u0435\\u0447\\u0430\\u0442\\u044c\", \"\\u043e\\u0442\\u0432\\u0435\\u0447\\u0430\\u0442\\u044c\", \"\\u043e\\u0442\\u0432\\u0435\\u0447\\u0430\\u0442\\u044c\", \"\\u043e\\u0442\\u0437\\u044b\\u0432\\u0430\\u0442\\u044c\\u0441\\u044f\", \"\\u043e\\u0442\\u0437\\u044b\\u0432\\u0430\\u0442\\u044c\\u0441\\u044f\", \"\\u043e\\u0442\\u0437\\u044b\\u0432\\u0430\\u0442\\u044c\\u0441\\u044f\", \"\\u043e\\u0442\\u043a\\u0443\\u0441\\u044b\\u0432\\u0430\\u0442\\u044c\", \"\\u043e\\u0445\\u043b\\u043e\\u043c\\u043e\\u043d\", \"\\u043e\\u0447\\u0435\\u043d\\u044c\", \"\\u043e\\u0447\\u0435\\u043d\\u044c\", \"\\u043e\\u0447\\u0435\\u043d\\u044c\", \"\\u043e\\u0447\\u0435\\u043d\\u044c\", \"\\u043f\\u0430\\u0432\\u043b\\u0438\\u043d\", \"\\u043f\\u0430\\u043b\\u0430\\u0442\\u0430\", \"\\u043f\\u0430\\u043b\\u0430\\u0442\\u0430\", \"\\u043f\\u0430\\u043b\\u0430\\u0442\\u0430\", \"\\u043f\\u0430\\u0440\\u043e\\u0432\\u043e\\u0437\", \"\\u043f\\u0430\\u0440\\u043e\\u0432\\u043e\\u0437\", \"\\u043f\\u0430\\u0440\\u043e\\u0432\\u043e\\u0437\", \"\\u043f\\u0430\\u0440\\u043e\\u0432\\u043e\\u0437\", \"\\u043f\\u0430\\u0440\\u0442\\u0438\\u0439\\u043d\\u043e\\u0441\\u0442\\u044c\", \"\\u043f\\u0435\\u0440\\u0432\\u044b\\u0439\", \"\\u043f\\u0435\\u0440\\u0432\\u044b\\u0439\", \"\\u043f\\u0435\\u0440\\u0432\\u044b\\u0439\", \"\\u043f\\u0435\\u0440\\u0432\\u044b\\u0439\", \"\\u043f\\u0435\\u0440\\u0435\\u0434\\u043d\\u044f\\u044f\", \"\\u043f\\u0435\\u0440\\u0435\\u0434\\u043d\\u044f\\u044f\", \"\\u043f\\u0435\\u0440\\u0435\\u0434\\u043d\\u044f\\u044f\", \"\\u043f\\u0435\\u0440\\u0441\\u0438\\u043a\\u043e\\u0432\\u044b\\u0439\", \"\\u043f\\u043e\\u0434\\u0447\\u0443\\u0444\\u0430\\u0440\\u043e\\u0432\", \"\\u043f\\u043e\\u0439\\u0442\\u0438\", \"\\u043f\\u043e\\u0439\\u0442\\u0438\", \"\\u043f\\u043e\\u0439\\u0442\\u0438\", \"\\u043f\\u043e\\u0439\\u0442\\u0438\", \"\\u043f\\u043e\\u043b\\u0430\\u0439\\u0442\\u0438\\u0441\", \"\\u043f\\u043e\\u043b\\u043a\", \"\\u043f\\u043e\\u043b\\u043a\", \"\\u043f\\u043e\\u043b\\u043a\", \"\\u043f\\u043e\\u043b\\u043a\", \"\\u043f\\u043e\\u043d\\u0438\\u043c\\u0430\\u0442\\u044c\", \"\\u043f\\u043e\\u043d\\u0438\\u043c\\u0430\\u0442\\u044c\", \"\\u043f\\u043e\\u043d\\u0438\\u043c\\u0430\\u0442\\u044c\", \"\\u043f\\u043e\\u043d\\u0438\\u043c\\u0430\\u0442\\u044c\", \"\\u043f\\u043e\\u043d\\u0442\\u0438\\u0439\", \"\\u043f\\u043e\\u043f\\u0435\\u0447\\u0438\\u0442\\u0435\\u043b\\u044c\", \"\\u043f\\u043e\\u0440\\u0443\\u0447\\u0438\\u043a\", \"\\u043f\\u043e\\u0440\\u0443\\u0447\\u0438\\u043a\", \"\\u043f\\u043e\\u044d\\u0442\", \"\\u043f\\u043e\\u044d\\u0442\", \"\\u043f\\u043e\\u044d\\u0442\", \"\\u043f\\u0440\\u043e\\u043a\\u0443\\u0440\\u0430\\u0442\\u043e\\u0440\", \"\\u043f\\u0440\\u043e\\u043a\\u0443\\u0440\\u0430\\u0442\\u043e\\u0440\", \"\\u043f\\u0440\\u043e\\u0444\\u0435\\u0441\\u0441\\u043e\\u0440\", \"\\u043f\\u0440\\u043e\\u0444\\u0435\\u0441\\u0441\\u043e\\u0440\", \"\\u043f\\u0440\\u043e\\u0444\\u0435\\u0441\\u0441\\u043e\\u0440\", \"\\u043f\\u0440\\u043e\\u0444\\u0435\\u0441\\u0441\\u043e\\u0440\", \"\\u043f\\u0440\\u0443\\u0448\\u0435\\u0432\\u0441\\u043a\\u0438\\u0439\", \"\\u043f\\u0448\\u0435\\u043d\\u0438\\u0446\\u0430\", \"\\u0440\\u0430\\u0431\\u043e\\u0442\\u0430\", \"\\u0440\\u0430\\u0431\\u043e\\u0442\\u0430\", \"\\u0440\\u0430\\u0431\\u043e\\u0442\\u0430\", \"\\u0440\\u0430\\u0431\\u043e\\u0442\\u0430\", \"\\u0440\\u0430\\u0437\\u0443\\u043c\\u0435\\u0435\\u0442\\u0441\\u044f\", \"\\u0440\\u0435\\u0431\\u0435\\u043d\\u043e\\u043a\", \"\\u0440\\u0435\\u0431\\u0435\\u043d\\u043e\\u043a\", \"\\u0440\\u0435\\u0431\\u0435\\u043d\\u043e\\u043a\", \"\\u0440\\u0435\\u0431\\u0435\\u043d\\u043e\\u043a\", \"\\u0440\\u0435\\u0433\\u0435\\u043d\\u0442\", \"\\u0440\\u0438\\u0437\\u0438\\u043d\", \"\\u0440\\u0438\\u043c\\u043c\\u0430\", \"\\u0440\\u0438\\u043c\\u0441\\u043a\\u0438\\u0439\", \"\\u0440\\u0438\\u043c\\u0441\\u043a\\u0438\\u0439\", \"\\u0440\\u0438\\u043c\\u0441\\u043a\\u0438\\u0439\", \"\\u0440\\u043e\\u0434\\u0438\\u043c\\u0446\\u0435\\u0432\", \"\\u0440\\u043e\\u0434\\u0438\\u0442\\u0435\\u043b\\u044c\\u0441\\u043a\\u0438\\u0439\", \"\\u0440\\u043e\\u0434\\u0438\\u0442\\u0435\\u043b\\u044c\\u0441\\u043a\\u0438\\u0439\", \"\\u0440\\u043e\\u0437\\u043e\\u0432\\u044b\\u0439\", \"\\u0440\\u043e\\u0437\\u043e\\u0432\\u044b\\u0439\", \"\\u0440\\u043e\\u0437\\u043e\\u0432\\u044b\\u0439\", \"\\u0440\\u043e\\u0442\\u0430\", \"\\u0440\\u043e\\u0442\\u0430\", \"\\u0440\\u043e\\u0442\\u0430\", \"\\u0440\\u043e\\u0442\\u0430\", \"\\u0440\\u0443\\u043a\\u0430\", \"\\u0440\\u0443\\u043a\\u0430\", \"\\u0440\\u0443\\u043a\\u0430\", \"\\u0440\\u0443\\u043a\\u0430\", \"\\u0440\\u0443\\u0441\\u0441\\u043a\\u0438\\u0439\", \"\\u0440\\u0443\\u0441\\u0441\\u043a\\u0438\\u0439\", \"\\u0440\\u0443\\u0441\\u0441\\u043a\\u0438\\u0439\", \"\\u0440\\u0443\\u0441\\u0441\\u043a\\u0438\\u0439\", \"\\u0440\\u044b\\u0431\\u043a\\u0430\", \"\\u0441\\u0430\\u0432\\u0435\\u043b\\u0438\\u0435\\u0432\\u0438\\u0447\", \"\\u0441\\u0430\\u0434\", \"\\u0441\\u0430\\u0434\", \"\\u0441\\u0430\\u0434\", \"\\u0441\\u0430\\u0434\", \"\\u0441\\u0430\\u043c\\u044b\\u0439\", \"\\u0441\\u0430\\u043c\\u044b\\u0439\", \"\\u0441\\u0430\\u043c\\u044b\\u0439\", \"\\u0441\\u0430\\u043c\\u044b\\u0439\", \"\\u0441\\u0430\\u0444\\u0440\\u043e\\u043d\\u043e\\u0432\", \"\\u0441\\u0430\\u0444\\u0440\\u043e\\u043d\\u043e\\u0432\", \"\\u0441\\u0435\\u043a\\u0440\\u0435\\u0442\\u0430\\u0440\\u044c\", \"\\u0441\\u0435\\u043a\\u0440\\u0435\\u0442\\u0430\\u0440\\u044c\", \"\\u0441\\u0435\\u043a\\u0440\\u0435\\u0442\\u0430\\u0440\\u044c\", \"\\u0441\\u0438\\u0434\\u0435\\u0442\\u044c\", \"\\u0441\\u0438\\u0434\\u0435\\u0442\\u044c\", \"\\u0441\\u0438\\u0434\\u0435\\u0442\\u044c\", \"\\u0441\\u0438\\u0434\\u0435\\u0442\\u044c\", \"\\u0441\\u043b\\u043e\\u0432\\u043e\", \"\\u0441\\u043b\\u043e\\u0432\\u043e\", \"\\u0441\\u043b\\u043e\\u0432\\u043e\", \"\\u0441\\u043b\\u043e\\u0432\\u043e\", \"\\u0441\\u043c\\u043e\\u0442\\u0440\\u0435\\u0442\\u044c\", \"\\u0441\\u043c\\u043e\\u0442\\u0440\\u0435\\u0442\\u044c\", \"\\u0441\\u043c\\u043e\\u0442\\u0440\\u0435\\u0442\\u044c\", \"\\u0441\\u043c\\u043e\\u0442\\u0440\\u0435\\u0442\\u044c\", \"\\u0441\\u043e\\u0432\\u0430\\u0442\\u044c\\u0441\\u044f\", \"\\u0441\\u043e\\u0432\\u0430\\u0442\\u044c\\u0441\\u044f\", \"\\u0441\\u043e\\u0432\\u0435\\u0440\\u0448\\u0435\\u043d\\u043d\\u043e\", \"\\u0441\\u043e\\u0432\\u0435\\u0440\\u0448\\u0435\\u043d\\u043d\\u043e\", \"\\u0441\\u043e\\u0432\\u0435\\u0440\\u0448\\u0435\\u043d\\u043d\\u043e\", \"\\u0441\\u043e\\u0432\\u0435\\u0440\\u0448\\u0435\\u043d\\u043d\\u043e\", \"\\u0441\\u043e\\u0432\\u0445\\u043e\\u0437\", \"\\u0441\\u043e\\u0432\\u0445\\u043e\\u0437\", \"\\u0441\\u043e\\u0432\\u0445\\u043e\\u0437\", \"\\u0441\\u043e\\u043b\\u043d\\u0446\\u0435\", \"\\u0441\\u043e\\u043b\\u043d\\u0446\\u0435\", \"\\u0441\\u043e\\u043b\\u043d\\u0446\\u0435\", \"\\u0441\\u043e\\u043b\\u043d\\u0446\\u0435\", \"\\u0441\\u043e\\u043d\", \"\\u0441\\u043e\\u043d\", \"\\u0441\\u043e\\u043d\", \"\\u0441\\u043e\\u043d\", \"\\u0441\\u043e\\u0448\\u043a\\u0438\\u043d\", \"\\u0441\\u043f\\u0430\\u0442\\u044c\", \"\\u0441\\u043f\\u0430\\u0442\\u044c\", \"\\u0441\\u043f\\u0430\\u0442\\u044c\", \"\\u0441\\u043f\\u0430\\u0442\\u044c\", \"\\u0441\\u0442\\u0430\\u043d\\u043e\\u0432\\u0438\\u0442\\u044c\\u0441\\u044f\", \"\\u0441\\u0442\\u0430\\u043d\\u043e\\u0432\\u0438\\u0442\\u044c\\u0441\\u044f\", \"\\u0441\\u0442\\u0430\\u043d\\u043e\\u0432\\u0438\\u0442\\u044c\\u0441\\u044f\", \"\\u0441\\u0442\\u0430\\u043d\\u043e\\u0432\\u0438\\u0442\\u044c\\u0441\\u044f\", \"\\u0441\\u0442\\u0430\\u0440\\u0443\\u0448\\u043a\\u0430\", \"\\u0441\\u0442\\u0430\\u0440\\u0443\\u0448\\u043a\\u0430\", \"\\u0441\\u0442\\u0430\\u0440\\u0443\\u0448\\u043a\\u0430\", \"\\u0441\\u0442\\u0430\\u0440\\u0443\\u0448\\u043a\\u0430\", \"\\u0441\\u0442\\u0435\\u043d\\u0430\", \"\\u0441\\u0442\\u0435\\u043d\\u0430\", \"\\u0441\\u0442\\u0435\\u043d\\u0430\", \"\\u0441\\u0442\\u0435\\u043d\\u0430\", \"\\u0441\\u0442\\u0435\\u043f\\u0430\", \"\\u0441\\u0442\\u0435\\u043f\\u0430\", \"\\u0441\\u0442\\u0435\\u043f\\u044c\", \"\\u0441\\u0442\\u0435\\u043f\\u044c\", \"\\u0441\\u0442\\u0435\\u043f\\u044c\", \"\\u0441\\u0442\\u043e\\u043b\", \"\\u0441\\u0442\\u043e\\u043b\", \"\\u0441\\u0442\\u043e\\u043b\", \"\\u0441\\u0442\\u043e\\u043b\", \"\\u0441\\u0442\\u043e\\u044f\\u0442\\u044c\", \"\\u0441\\u0442\\u043e\\u044f\\u0442\\u044c\", \"\\u0441\\u0442\\u043e\\u044f\\u0442\\u044c\", \"\\u0441\\u0442\\u043e\\u044f\\u0442\\u044c\", \"\\u0441\\u0447\\u0430\\u0441\\u0442\\u0438\\u0435\", \"\\u0441\\u0447\\u0430\\u0441\\u0442\\u0438\\u0435\", \"\\u0441\\u0447\\u0430\\u0441\\u0442\\u0438\\u0435\", \"\\u0441\\u0447\\u0430\\u0441\\u0442\\u0438\\u0435\", \"\\u0442\\u0430\\u0442\\u0430\", \"\\u0442\\u0430\\u0442\\u0430\", \"\\u0442\\u0430\\u0442\\u0430\\u0440\\u0438\\u043d\", \"\\u0442\\u0430\\u0442\\u0430\\u0440\\u0438\\u043d\", \"\\u0442\\u0430\\u0442\\u0430\\u0440\\u0438\\u043d\", \"\\u0442\\u0435\\u043b\\u0435\\u0444\\u043e\\u043d\", \"\\u0442\\u0435\\u043b\\u0435\\u0444\\u043e\\u043d\", \"\\u0442\\u0435\\u043b\\u0435\\u0444\\u043e\\u043d\", \"\\u0442\\u0435\\u043b\\u0435\\u0444\\u043e\\u043d\", \"\\u0442\\u0435\\u043b\\u043e\", \"\\u0442\\u0435\\u043b\\u043e\", \"\\u0442\\u0435\\u043b\\u043e\", \"\\u0442\\u0435\\u043b\\u043e\", \"\\u0442\\u043e\\u0432\\u0430\\u0440\\u0438\\u0449\", \"\\u0442\\u043e\\u0432\\u0430\\u0440\\u0438\\u0449\", \"\\u0442\\u043e\\u0432\\u0430\\u0440\\u0438\\u0449\", \"\\u0442\\u043e\\u0432\\u0430\\u0440\\u0438\\u0449\", \"\\u0442\\u0440\\u0443\\u0431\\u043a\\u0430\", \"\\u0442\\u0440\\u0443\\u0431\\u043a\\u0430\", \"\\u0442\\u0440\\u0443\\u0431\\u043a\\u0430\", \"\\u0442\\u0440\\u0443\\u0431\\u043a\\u0430\", \"\\u0443\\u0433\\u0440\\u043e\\u0437\\u044b\\u0441\\u043a\", \"\\u0443\\u0433\\u0440\\u043e\\u0437\\u044b\\u0441\\u043a\", \"\\u0443\\u0440\\u0430\\u0432\\u043d\\u0435\\u043d\\u0438\\u0435\", \"\\u0443\\u0445\\u043e\\u0434\\u0438\\u0442\\u044c\", \"\\u0443\\u0445\\u043e\\u0434\\u0438\\u0442\\u044c\", \"\\u0443\\u0445\\u043e\\u0434\\u0438\\u0442\\u044c\", \"\\u0443\\u0445\\u043e\\u0434\\u0438\\u0442\\u044c\", \"\\u0444\\u0435\\u0434\\u0435\\u0440\\u0430\\u0442\\u043e\\u0432\\u043d\\u0430\", \"\\u0444\\u0435\\u0434\\u0435\\u0440\\u0430\\u0442\\u043e\\u0432\\u043d\\u0430\", \"\\u0444\\u0435\\u043a\\u043b\\u0430\", \"\\u0444\\u0435\\u044f\", \"\\u0445\\u043b\\u0435\\u0431\", \"\\u0445\\u043b\\u0435\\u0431\", \"\\u0445\\u043b\\u0435\\u0431\", \"\\u0445\\u043b\\u0435\\u0431\", \"\\u0445\\u043b\\u043e\\u0440\\u043e\\u0444\\u043e\\u0440\\u043c\", \"\\u0445\\u043b\\u043e\\u0440\\u043e\\u0444\\u043e\\u0440\\u043c\", \"\\u0445\\u043b\\u043e\\u0440\\u043e\\u0444\\u043e\\u0440\\u043c\\u0430\\u0442\\u043e\\u0440\", \"\\u0445\\u043e\\u0434\\u0438\\u0442\\u044c\", \"\\u0445\\u043e\\u0434\\u0438\\u0442\\u044c\", \"\\u0445\\u043e\\u0434\\u0438\\u0442\\u044c\", \"\\u0445\\u043e\\u0434\\u0438\\u0442\\u044c\", \"\\u0445\\u043e\\u0442\\u0435\\u0442\\u044c\", \"\\u0445\\u043e\\u0442\\u0435\\u0442\\u044c\", \"\\u0445\\u043e\\u0442\\u0435\\u0442\\u044c\", \"\\u0445\\u043e\\u0442\\u0435\\u0442\\u044c\", \"\\u0445\\u0440\\u0430\\u043d\\u0438\\u0442\\u0435\\u043b\\u044c\", \"\\u0445\\u0440\\u0430\\u043d\\u0438\\u0442\\u0435\\u043b\\u044c\", \"\\u0447\\u0430\\u0441\", \"\\u0447\\u0430\\u0441\", \"\\u0447\\u0430\\u0441\", \"\\u0447\\u0430\\u0441\", \"\\u0447\\u0435\\u043b\\u043e\\u0432\\u0435\\u043a\", \"\\u0447\\u0435\\u043b\\u043e\\u0432\\u0435\\u043a\", \"\\u0447\\u0435\\u043b\\u043e\\u0432\\u0435\\u043a\", \"\\u0447\\u0435\\u043b\\u043e\\u0432\\u0435\\u043a\", \"\\u0447\\u0435\\u0440\\u0432\\u043e\\u043d\\u0435\\u0446\", \"\\u0447\\u0435\\u0440\\u043d\\u044b\\u0439\", \"\\u0447\\u0435\\u0440\\u043d\\u044b\\u0439\", \"\\u0447\\u0435\\u0440\\u043d\\u044b\\u0439\", \"\\u0447\\u0435\\u0440\\u043d\\u044b\\u0439\", \"\\u0447\\u0435\\u0440\\u0442\\u0435\\u0436\\u043d\\u0438\\u0446\\u0430\", \"\\u0447\\u0443\\u0432\\u0441\\u0442\\u0432\\u043e\\u0432\\u0430\\u0442\\u044c\", \"\\u0447\\u0443\\u0432\\u0441\\u0442\\u0432\\u043e\\u0432\\u0430\\u0442\\u044c\", \"\\u0447\\u0443\\u0432\\u0441\\u0442\\u0432\\u043e\\u0432\\u0430\\u0442\\u044c\", \"\\u0447\\u0443\\u0432\\u0441\\u0442\\u0432\\u043e\\u0432\\u0430\\u0442\\u044c\", \"\\u0448\\u0430\\u0440\\u0438\\u043a\\u043e\\u0432\", \"\\u0448\\u0430\\u0440\\u043e\\u0433\\u043e\\u0440\\u043e\\u0434\\u0441\\u043a\\u0438\\u0439\", \"\\u0448\\u0432\\u043e\\u043d\\u0434\\u0435\\u0440\", \"\\u0448\\u0435\\u0444\\u0441\\u0442\\u0432\\u043e\", \"\\u0448\\u0442\\u0430\\u0431\", \"\\u0448\\u0442\\u0430\\u0431\", \"\\u0448\\u0442\\u0430\\u0431\", \"\\u0448\\u0442\\u0430\\u0431\", \"\\u0449\\u0443\\u043a\\u0438\\u043d\", \"\\u044d\\u043b\\u044c\\u0432\\u0438\\u0440\\u0430\", \"\\u044e\\u043b\\u044f\", \"\\u044e\\u043b\\u044f\", \"\\u044e\\u043d\\u0438\\u0444\", \"\\u044e\\u043d\\u0438\\u0444\\u0430\", \"\\u044f\\u0439\\u0446\\u043e\", \"\\u044f\\u0439\\u0446\\u043e\", \"\\u044f\\u0439\\u0446\\u043e\", \"\\u044f\\u0441\\u043d\\u043e\", \"\\u044f\\u0441\\u043d\\u043e\", \"\\u044f\\u0441\\u043d\\u043e\", \"\\u044f\\u0441\\u043d\\u043e\"]}, \"R\": 30, \"lambda.step\": 0.01, \"plot.opts\": {\"xlab\": \"PC1\", \"ylab\": \"PC2\"}, \"topic.order\": [2, 4, 1, 3]};\n",
       "\n",
       "function LDAvis_load_lib(url, callback){\n",
       "  var s = document.createElement('script');\n",
       "  s.src = url;\n",
       "  s.async = true;\n",
       "  s.onreadystatechange = s.onload = callback;\n",
       "  s.onerror = function(){console.warn(\"failed to load library \" + url);};\n",
       "  document.getElementsByTagName(\"head\")[0].appendChild(s);\n",
       "}\n",
       "\n",
       "if(typeof(LDAvis) !== \"undefined\"){\n",
       "   // already loaded: just create the visualization\n",
       "   !function(LDAvis){\n",
       "       new LDAvis(\"#\" + \"ldavis_el65045696328112613994223\", ldavis_el65045696328112613994223_data);\n",
       "   }(LDAvis);\n",
       "}else if(typeof define === \"function\" && define.amd){\n",
       "   // require.js is available: use it to load d3/LDAvis\n",
       "   require.config({paths: {d3: \"https://cdnjs.cloudflare.com/ajax/libs/d3/3.5.5/d3.min\"}});\n",
       "   require([\"d3\"], function(d3){\n",
       "      window.d3 = d3;\n",
       "      LDAvis_load_lib(\"https://cdn.rawgit.com/bmabey/pyLDAvis/files/ldavis.v1.0.0.js\", function(){\n",
       "        new LDAvis(\"#\" + \"ldavis_el65045696328112613994223\", ldavis_el65045696328112613994223_data);\n",
       "      });\n",
       "    });\n",
       "}else{\n",
       "    // require.js not available: dynamically load d3 & LDAvis\n",
       "    LDAvis_load_lib(\"https://cdnjs.cloudflare.com/ajax/libs/d3/3.5.5/d3.min.js\", function(){\n",
       "         LDAvis_load_lib(\"https://cdn.rawgit.com/bmabey/pyLDAvis/files/ldavis.v1.0.0.js\", function(){\n",
       "                 new LDAvis(\"#\" + \"ldavis_el65045696328112613994223\", ldavis_el65045696328112613994223_data);\n",
       "            })\n",
       "         });\n",
       "}\n",
       "</script>"
      ],
      "text/plain": [
       "PreparedData(topic_coordinates=            Freq  cluster  topics         x         y\n",
       "topic                                                \n",
       "1      34.207917        1       1  0.042869  0.021806\n",
       "3      29.833048        1       2  0.081240 -0.017346\n",
       "0      28.064041        1       3 -0.063430 -0.074098\n",
       "2       7.894994        1       4 -0.060680  0.069638, topic_info=      Category         Freq         Term        Total  loglift  logprob\n",
       "term                                                                   \n",
       "1010   Default   299.000000    профессор   299.000000  30.0000  30.0000\n",
       "1378   Default  1354.000000      человек  1354.000000  29.0000  29.0000\n",
       "1087   Default   803.000000         рука   803.000000  28.0000  28.0000\n",
       "1203   Default   261.000000         стол   261.000000  27.0000  27.0000\n",
       "19469  Default    95.000000   прушевский    95.000000  26.0000  26.0000\n",
       "19695  Default    95.000000     активист    95.000000  25.0000  25.0000\n",
       "211    Default   519.000000          год   519.000000  24.0000  24.0000\n",
       "413    Default   564.000000         идти   564.000000  23.0000  23.0000\n",
       "449    Default   143.000000      кабинет   143.000000  22.0000  22.0000\n",
       "8461   Default    94.000000            i    94.000000  21.0000  21.0000\n",
       "1028   Default   201.000000       работа   201.000000  20.0000  20.0000\n",
       "503    Default    79.000000          кот    79.000000  19.0000  19.0000\n",
       "16498  Default    86.000000     сафронов    86.000000  18.0000  18.0000\n",
       "2750   Default   233.000000         мать   233.000000  17.0000  17.0000\n",
       "757    Default   202.000000         окно   202.000000  16.0000  16.0000\n",
       "3995   Default    67.000000     командир    67.000000  15.0000  15.0000\n",
       "11270  Default   105.000000       корова   105.000000  14.0000  14.0000\n",
       "18419  Default    99.000000  федератовна    99.000000  13.0000  13.0000\n",
       "2891   Default   143.000000        война   143.000000  12.0000  12.0000\n",
       "6682   Default    74.000000        степа    74.000000  11.0000  11.0000\n",
       "223    Default   129.000000         гора   129.000000  10.0000  10.0000\n",
       "13079  Default    90.000000        балка    90.000000   9.0000   9.0000\n",
       "13450  Default    36.000000     березкин    36.000000   8.0000   8.0000\n",
       "830    Default   264.000000       первый   264.000000   7.0000   7.0000\n",
       "24     Default   126.000000       бежать   126.000000   6.0000   6.0000\n",
       "14801  Default    30.000000    лозовский    30.000000   5.0000   5.0000\n",
       "8978   Default   175.000000        мужик   175.000000   4.0000   4.0000\n",
       "4031   Default   104.000000    секретарь   104.000000   3.0000   3.0000\n",
       "1195   Default   636.000000  становиться   636.000000   2.0000   2.0000\n",
       "19618  Default    63.000000       елисей    63.000000   1.0000   1.0000\n",
       "...        ...          ...          ...          ...      ...      ...\n",
       "10284   Topic4     8.870983         рота    15.949834   1.9523  -7.5101\n",
       "1378    Topic4   106.445624      человек  1354.392052  -0.0045  -5.0253\n",
       "1203    Topic4    38.974569         стол   261.122058   0.6369  -6.0300\n",
       "2891    Topic4    27.357086        война   143.655431   0.8805  -6.3839\n",
       "1028    Topic4    32.389370       работа   201.763225   0.7097  -6.2151\n",
       "1087    Topic4    64.947137         рука   803.954661   0.0230  -5.5193\n",
       "757     Topic4    30.863895         окно   202.122089   0.6597  -6.2633\n",
       "24      Topic4    24.451269       бежать   126.070732   0.8988  -6.4962\n",
       "211     Topic4    47.376344          год   519.206169   0.1448  -5.8348\n",
       "413     Topic4    48.063930         идти   564.371357   0.0758  -5.8204\n",
       "2750    Topic4    31.485386         мать   233.012537   0.5374  -6.2434\n",
       "1195    Topic4    45.413160  становиться   636.119486  -0.1006  -5.8771\n",
       "204     Topic4    48.481123         глаз   789.884583  -0.2518  -5.8117\n",
       "278     Topic4    33.460674          дом   379.768197   0.1098  -6.1825\n",
       "267     Topic4    32.506735         дело   376.140710   0.0904  -6.2114\n",
       "3514    Topic4    22.537733         друг   145.893950   0.6713  -6.5777\n",
       "830     Topic4    27.768008       первый   264.950353   0.2833  -6.3690\n",
       "2054    Topic4    24.373612      русский   182.777101   0.5242  -6.4994\n",
       "1377    Topic4    26.851462          час   247.985512   0.3159  -6.4026\n",
       "1257    Topic4    27.085484      товарищ   301.109836   0.1305  -6.3939\n",
       "1207    Topic4    29.867387       стоять   443.825807  -0.1597  -6.2961\n",
       "1332    Topic4    27.751240      уходить   350.097078   0.0040  -6.3696\n",
       "1122    Topic4    27.555188       сидеть   369.261734  -0.0564  -6.3767\n",
       "155     Topic4    29.513598        время   519.039391  -0.3282  -6.3080\n",
       "559     Topic4    26.712716         лицо   487.601969  -0.3654  -6.4078\n",
       "1068    Topic4    24.171487      ребенок   254.367286   0.1853  -6.5077\n",
       "1366    Topic4    25.386291       хотеть   406.686253  -0.2349  -6.4587\n",
       "622     Topic4    25.456985         мочь   505.460239  -0.4495  -6.4559\n",
       "329     Topic4    25.956337        жизнь   637.999370  -0.6630  -6.4365\n",
       "1148    Topic4    24.236457        слово   394.008900  -0.2496  -6.5050\n",
       "\n",
       "[345 rows x 6 columns], token_table=       Topic      Freq           Term\n",
       "term                                 \n",
       "22355      2  0.956277            330\n",
       "22356      2  0.911806            503\n",
       "8461       1  0.021162              i\n",
       "8461       2  0.962884              i\n",
       "8461       3  0.010581              i\n",
       "5459       3  0.977496              n\n",
       "22361      2  0.995560              r\n",
       "12595      2  0.955150              s\n",
       "7043       3  0.111419  администратор\n",
       "7043       4  0.835642  администратор\n",
       "18432      1  0.989504           айна\n",
       "15655      1  0.982569           аким\n",
       "18985      1  0.043674          актив\n",
       "18985      2  0.917151          актив\n",
       "19695      2  0.995380       активист\n",
       "1459       1  0.099803  александрович\n",
       "1459       3  0.898231  александрович\n",
       "2266       1  0.961927       арестант\n",
       "2266       4  0.023462       арестант\n",
       "4621       1  0.970684   арестованный\n",
       "22374      2  0.947388     аудиториум\n",
       "22532      2  0.955155           аэро\n",
       "13079      1  0.975276          балка\n",
       "13079      2  0.011083          балка\n",
       "13079      3  0.011083          балка\n",
       "24         1  0.404535         бежать\n",
       "24         2  0.190369         бежать\n",
       "24         3  0.214165         бежать\n",
       "24         4  0.190369         бежать\n",
       "15670      1  0.937189       бездетов\n",
       "...      ...       ...            ...\n",
       "1384       1  0.314770         черный\n",
       "1384       2  0.228094         черный\n",
       "1384       3  0.410570         черный\n",
       "1384       4  0.050181         черный\n",
       "18969      4  0.841692     чертежница\n",
       "1392       1  0.178938    чувствовать\n",
       "1392       2  0.603278    чувствовать\n",
       "1392       3  0.153376    чувствовать\n",
       "1392       4  0.061350    чувствовать\n",
       "1399       3  0.987532        шариков\n",
       "15179      3  0.989002  шарогородский\n",
       "2239       3  0.964753        швондер\n",
       "18973      4  0.958647        шефство\n",
       "9981       1  0.060696           штаб\n",
       "9981       2  0.045522           штаб\n",
       "9981       3  0.804226           штаб\n",
       "9981       4  0.091044           штаб\n",
       "9174       3  0.966552          щукин\n",
       "23468      4  0.905381        эльвира\n",
       "20454      1  0.127125            юля\n",
       "20454      4  0.826312            юля\n",
       "22520      2  0.937227           юниф\n",
       "22521      2  0.971070          юнифа\n",
       "6025       1  0.033238           яйцо\n",
       "6025       2  0.016619           яйцо\n",
       "6025       3  0.947282           яйцо\n",
       "1435       1  0.162637           ясно\n",
       "1435       2  0.698381           ясно\n",
       "1435       3  0.105235           ясно\n",
       "1435       4  0.028701           ясно\n",
       "\n",
       "[613 rows x 3 columns], R=30, lambda_step=0.01, plot_opts={'xlab': 'PC1', 'ylab': 'PC2'}, topic_order=[2, 4, 1, 3])"
      ]
     },
     "execution_count": 23,
     "metadata": {},
     "output_type": "execute_result"
    }
   ],
   "source": [
    "import pyLDAvis.gensim\n",
    "pyLDAvis.enable_notebook()\n",
    "pyLDAvis.gensim.prepare(ldamodel, doc_term_matrixb, dictionaryb)"
   ]
  },
  {
   "cell_type": "code",
   "execution_count": null,
   "metadata": {},
   "outputs": [],
   "source": []
  }
 ],
 "metadata": {
  "kernelspec": {
   "display_name": "Python 3",
   "language": "python",
   "name": "python3"
  },
  "language_info": {
   "codemirror_mode": {
    "name": "ipython",
    "version": 3
   },
   "file_extension": ".py",
   "mimetype": "text/x-python",
   "name": "python",
   "nbconvert_exporter": "python",
   "pygments_lexer": "ipython3",
   "version": "3.6.5"
  }
 },
 "nbformat": 4,
 "nbformat_minor": 2
}
