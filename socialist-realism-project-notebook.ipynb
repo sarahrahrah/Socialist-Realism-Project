{
 "cells": [
  {
   "cell_type": "markdown",
   "metadata": {},
   "source": [
    "# <center> Exploring Pre-WWII Soviet Socialist Realism with Text Analysis"
   ]
  },
  {
   "cell_type": "markdown",
   "metadata": {},
   "source": [
    "<img src=\"image.png\">"
   ]
  },
  {
   "cell_type": "markdown",
   "metadata": {},
   "source": [
    "About: This notebook uses logistic regression and topic modeling to explore the particularities of the Soviet literary genre of socialist realism in the pre-WII Soviet Union.  \n",
    "\n",
    "The python modules nltk, gensim, pymystem, and pyLDAvis are used in this notebook."
   ]
  },
  {
   "cell_type": "code",
   "execution_count": 4,
   "metadata": {},
   "outputs": [],
   "source": [
    "import numpy as np\n",
    "import pandas as pd\n",
    "from nltk.corpus import stopwords \n",
    "import string\n",
    "import gensim\n",
    "import scipy\n",
    "from gensim import corpora\n",
    "from gensim import models\n",
    "from gensim.models.coherencemodel import CoherenceModel\n",
    "import matplotlib.pyplot as plt\n",
    "from pymystem3 import Mystem\n",
    "import pyLDAvis\n",
    "import re"
   ]
  },
  {
   "cell_type": "markdown",
   "metadata": {},
   "source": [
    "# Section 1 : Logistic Regression"
   ]
  },
  {
   "cell_type": "markdown",
   "metadata": {},
   "source": [
    "This section uses predictive modeling using logistic regression. "
   ]
  },
  {
   "cell_type": "markdown",
   "metadata": {},
   "source": [
    "Results indicate that, logistic regression, with a certain degree of accuracy can differentiate between the socialist realism and banned literature corpora.  It is likely that accuracy might be even higher, were deep learning techniques to be applied. "
   ]
  },
  {
   "cell_type": "markdown",
   "metadata": {},
   "source": [
    "# Section 2: Topic Modeling"
   ]
  },
  {
   "cell_type": "markdown",
   "metadata": {},
   "source": [
    "Import .csv with data from entire socialist realist literature corpus. "
   ]
  },
  {
   "cell_type": "code",
   "execution_count": 2,
   "metadata": {},
   "outputs": [
    {
     "data": {
      "text/plain": [
       "0     СОДЕРЖАНИЕ I. Морозка II . Мечик III . Шестое...\n",
       "1     . Многие открыто роптали на `` подлость и нес...\n",
       "2     бровей на тоненькую девушку с длинными косами...\n",
       "3     время люди очнулись и поняли , что наступило ...\n",
       "4     кричал Рябец , навалившись на одно слово и вс...\n",
       "Name: text, dtype: object"
      ]
     },
     "execution_count": 2,
     "metadata": {},
     "output_type": "execute_result"
    }
   ],
   "source": [
    "litdata = pd.read_csv(\"csv_files/socialist_realism_for_tm.csv\")\n",
    "litdata['text'].head(5)"
   ]
  },
  {
   "cell_type": "markdown",
   "metadata": {},
   "source": [
    "Define stopwords, punctuation, read in output from named entity recognition (NER) script."
   ]
  },
  {
   "cell_type": "code",
   "execution_count": 3,
   "metadata": {},
   "outputs": [],
   "source": [
    "with open('NERoutput.txt') as fp:\n",
    "    lines = fp.read().splitlines()\n",
    "\n",
    "lines = [i.lower() for i in lines]\n",
    "\n",
    "stop = list(stopwords.words('russian'))\n",
    "stop.extend(['это', 'свой', 'то', ' ','который'])\n",
    "stop.extend(lines)\n",
    "\n",
    "punctuation = list(string.punctuation)\n",
    "punctuation.extend(['--', '—', '«', '»',\" -- \", \"\\n\", \"\\r\", \"\\t\",\"-\" ,\"-\", \"...\", \"…\", \" - \", \" « \", \" \", \"..\", \"``\", \"\\\"\\\"\",\"\\'\\'\"])\n"
   ]
  },
  {
   "cell_type": "markdown",
   "metadata": {},
   "source": [
    "Use function to create a new column in pandas df with cleaned text."
   ]
  },
  {
   "cell_type": "code",
   "execution_count": 4,
   "metadata": {},
   "outputs": [
    {
     "data": {
      "text/plain": [
       "0    [содержание, i, ii, iii, шестое, чувство, iv, ...\n",
       "1    [многие, открыто, роптали, подлость, несознани...\n",
       "2    [бровей, тоненькую, девушку, длинными, косами,...\n",
       "3    [время, люди, очнулись, поняли, наступило, утр...\n",
       "4    [кричал, рябец, навалившись, одно, слово, веря...\n",
       "Name: no_punc_or_stop, dtype: object"
      ]
     },
     "execution_count": 4,
     "metadata": {},
     "output_type": "execute_result"
    }
   ],
   "source": [
    "# Create new column in dataframe that is literary texts without stopwords and punctuation, as well as without\n",
    "# named entities for people, as identified in NERoutput.txt, which was created with NERscript.py\n",
    "\n",
    "def cleantext(text):\n",
    "    tokens = text.split(\" \")\n",
    "    tokenslower = [i.strip().lower() for i in tokens]\n",
    "#the following list comprehension gets rid of word-final punctuation, while retaining word-medial punctuation in words like \"кто-то\"\n",
    "    tokens_no_word_final_punc = [re.sub(r'[!|,|?|.|:|;]|\\.{1,}$\\)', \"\", item) for item in tokenslower]\n",
    "    tokens_no_stop_or_punc = [i for i in tokens_no_word_final_punc if i not in stop if i not in punctuation]\n",
    "#the following line gets rid of blank, empty spaces in each list    \n",
    "    tokens_no_stop_or_punc = list(filter(None, tokens_no_stop_or_punc))\n",
    "    return tokens_no_stop_or_punc\n",
    "    \n",
    "litdata[\"no_punc_or_stop\"] = litdata[\"text\"].apply(cleantext)\n",
    "no_punc_or_stop = litdata[\"no_punc_or_stop\"]\n",
    "\n",
    "# Print first five rows of new column\n",
    "\n",
    "no_punc_or_stop.head(5)"
   ]
  },
  {
   "cell_type": "markdown",
   "metadata": {},
   "source": [
    "Use pymystem to lemmatize the text. "
   ]
  },
  {
   "cell_type": "code",
   "execution_count": 2,
   "metadata": {},
   "outputs": [
    {
     "ename": "NameError",
     "evalue": "name 'Mystem' is not defined",
     "output_type": "error",
     "traceback": [
      "\u001b[0;31m---------------------------------------------------------------------------\u001b[0m",
      "\u001b[0;31mNameError\u001b[0m                                 Traceback (most recent call last)",
      "\u001b[0;32m<ipython-input-2-f1ae515da02e>\u001b[0m in \u001b[0;36m<module>\u001b[0;34m\u001b[0m\n\u001b[0;32m----> 1\u001b[0;31m \u001b[0mmystem\u001b[0m \u001b[0;34m=\u001b[0m \u001b[0mMystem\u001b[0m\u001b[0;34m(\u001b[0m\u001b[0;34m)\u001b[0m\u001b[0;34m\u001b[0m\u001b[0m\n\u001b[0m\u001b[1;32m      2\u001b[0m \u001b[0;34m\u001b[0m\u001b[0m\n\u001b[1;32m      3\u001b[0m \u001b[0;34m\u001b[0m\u001b[0m\n\u001b[1;32m      4\u001b[0m \u001b[0;32mdef\u001b[0m \u001b[0mlemmatize\u001b[0m\u001b[0;34m(\u001b[0m\u001b[0mtext\u001b[0m\u001b[0;34m)\u001b[0m\u001b[0;34m:\u001b[0m\u001b[0;34m\u001b[0m\u001b[0m\n\u001b[1;32m      5\u001b[0m     \u001b[0mjoinedtokens\u001b[0m \u001b[0;34m=\u001b[0m \u001b[0;34m\" \"\u001b[0m\u001b[0;34m.\u001b[0m\u001b[0mjoin\u001b[0m\u001b[0;34m(\u001b[0m\u001b[0mtext\u001b[0m\u001b[0;34m)\u001b[0m\u001b[0;34m\u001b[0m\u001b[0m\n",
      "\u001b[0;31mNameError\u001b[0m: name 'Mystem' is not defined"
     ]
    }
   ],
   "source": [
    "mystem = Mystem() \n",
    "\n",
    "\n",
    "def lemmatize(text):\n",
    "    joinedtokens = \" \".join(text)\n",
    "    lemmatized = mystem.lemmatize(joinedtokens)\n",
    "    lemmatized = [i for i in lemmatized if i not in stop if i not in punctuation]\n",
    "    return lemmatized\n",
    "    \n",
    "litdata[\"lemmatized\"] = litdata[\"no_punc_or_stop\"].apply(lemmatize)\n",
    "\n",
    "litdata[\"lemmatized\"].head(5)"
   ]
  },
  {
   "cell_type": "markdown",
   "metadata": {},
   "source": [
    "Topic modeling with gensim, using Latent Semantic Indexing (LSI)"
   ]
  },
  {
   "cell_type": "code",
   "execution_count": 6,
   "metadata": {},
   "outputs": [
    {
     "name": "stdout",
     "output_type": "stream",
     "text": [
      "[(0, '0.286*\"сказать\" + 0.255*\"человек\" + 0.228*\"рука\" + 0.204*\"говорить\"'), (1, '0.324*\"мать\" + 0.322*\"сказать\" + -0.246*\"казак\" + 0.227*\"человек\"'), (2, '-0.203*\"знать\" + -0.183*\"дело\" + 0.177*\"глаз\" + 0.168*\"голова\"'), (3, '0.286*\"казак\" + -0.228*\"человек\" + 0.224*\"мать\" + 0.157*\"говорить\"')]\n"
     ]
    }
   ],
   "source": [
    "dictionary = corpora.Dictionary(litdata[\"lemmatized\"] )\n",
    "doc_term_matrix = [dictionary.doc2bow(item) for item in litdata[\"lemmatized\"] ]\n",
    "lsi = models.LsiModel(doc_term_matrix, num_topics=4, id2word=dictionary)\n",
    "output = lsi.print_topics(num_topics=4, num_words = 4)\n",
    "print (output)"
   ]
  },
  {
   "cell_type": "markdown",
   "metadata": {},
   "source": [
    "Results are skewed because of the length of certain works in the corpus, primarily \"Quiet Flows the Don\".  Next step, try to rectify these results by using a smaller, more even amount of text from each work in the corpus."
   ]
  },
  {
   "cell_type": "markdown",
   "metadata": {},
   "source": [
    "## What are the results with smaller chunked files?"
   ]
  },
  {
   "cell_type": "code",
   "execution_count": 7,
   "metadata": {},
   "outputs": [
    {
     "data": {
      "text/html": [
       "<div>\n",
       "<style>\n",
       "    .dataframe thead tr:only-child th {\n",
       "        text-align: right;\n",
       "    }\n",
       "\n",
       "    .dataframe thead th {\n",
       "        text-align: left;\n",
       "    }\n",
       "\n",
       "    .dataframe tbody tr th {\n",
       "        vertical-align: top;\n",
       "    }\n",
       "</style>\n",
       "<table border=\"1\" class=\"dataframe\">\n",
       "  <thead>\n",
       "    <tr style=\"text-align: right;\">\n",
       "      <th></th>\n",
       "      <th>title</th>\n",
       "      <th>name</th>\n",
       "      <th>date</th>\n",
       "      <th>english metadata</th>\n",
       "      <th>source</th>\n",
       "      <th>text</th>\n",
       "    </tr>\n",
       "  </thead>\n",
       "  <tbody>\n",
       "    <tr>\n",
       "      <th>0</th>\n",
       "      <td>Разгром</td>\n",
       "      <td>Фадеев , Александр Александрович</td>\n",
       "      <td>1926</td>\n",
       "      <td>Aleksandr Fadeev , The Rout , 1926</td>\n",
       "      <td>http : //lib.ru/RUSSLIT/FADEEW/razgrom.txt</td>\n",
       "      <td>СОДЕРЖАНИЕ I. Морозка II . Мечик III . Шестое...</td>\n",
       "    </tr>\n",
       "    <tr>\n",
       "      <th>1</th>\n",
       "      <td>\\n\\nРазгром\\n\\n</td>\n",
       "      <td>Фадеев, Александр Александрович\\n\\n</td>\n",
       "      <td>2</td>\n",
       "      <td>\\n\\nAleksandr Fadeev, The Rout, 1926\\n\\n</td>\n",
       "      <td>\\n\\nhttp://lib.ru/RUSSLIT/FADEEW/razgrom.txt\\n\\n</td>\n",
       "      <td>пыльным , сумасшедшим карьером . -- Обожди-и ,...</td>\n",
       "    </tr>\n",
       "    <tr>\n",
       "      <th>2</th>\n",
       "      <td>\\n\\nРазгром\\n\\n</td>\n",
       "      <td>Фадеев, Александр Александрович\\n\\n</td>\n",
       "      <td>3</td>\n",
       "      <td>\\n\\nAleksandr Fadeev, The Rout, 1926\\n\\n</td>\n",
       "      <td>\\n\\nhttp://lib.ru/RUSSLIT/FADEEW/razgrom.txt\\n\\n</td>\n",
       "      <td>.. -- снова повторил Дубов . -- Блуди ! Посмот...</td>\n",
       "    </tr>\n",
       "    <tr>\n",
       "      <th>3</th>\n",
       "      <td>\\n\\nРазгром\\n\\n</td>\n",
       "      <td>Фадеев, Александр Александрович\\n\\n</td>\n",
       "      <td>4</td>\n",
       "      <td>\\n\\nAleksandr Fadeev, The Rout, 1926\\n\\n</td>\n",
       "      <td>\\n\\nhttp://lib.ru/RUSSLIT/FADEEW/razgrom.txt\\n\\n</td>\n",
       "      <td>Ведь надо как-то , умеют же другие ... '' В мы...</td>\n",
       "    </tr>\n",
       "    <tr>\n",
       "      <th>4</th>\n",
       "      <td>\\n\\nРазгром\\n\\n</td>\n",
       "      <td>Фадеев, Александр Александрович\\n\\n</td>\n",
       "      <td>5</td>\n",
       "      <td>\\n\\nAleksandr Fadeev, The Rout, 1926\\n\\n</td>\n",
       "      <td>\\n\\nhttp://lib.ru/RUSSLIT/FADEEW/razgrom.txt\\n\\n</td>\n",
       "      <td>ребят , вернувшихся из-за реки . Дубов узнал ,...</td>\n",
       "    </tr>\n",
       "  </tbody>\n",
       "</table>\n",
       "</div>"
      ],
      "text/plain": [
       "              title                                 name    date  \\\n",
       "0          Разгром     Фадеев , Александр Александрович    1926    \n",
       "1  \\n\\nРазгром\\n\\n   Фадеев, Александр Александрович\\n\\n       2   \n",
       "2  \\n\\nРазгром\\n\\n   Фадеев, Александр Александрович\\n\\n       3   \n",
       "3  \\n\\nРазгром\\n\\n   Фадеев, Александр Александрович\\n\\n       4   \n",
       "4  \\n\\nРазгром\\n\\n   Фадеев, Александр Александрович\\n\\n       5   \n",
       "\n",
       "                            english metadata  \\\n",
       "0        Aleksandr Fadeev , The Rout , 1926    \n",
       "1  \\n\\nAleksandr Fadeev, The Rout, 1926\\n\\n    \n",
       "2  \\n\\nAleksandr Fadeev, The Rout, 1926\\n\\n    \n",
       "3  \\n\\nAleksandr Fadeev, The Rout, 1926\\n\\n    \n",
       "4  \\n\\nAleksandr Fadeev, The Rout, 1926\\n\\n    \n",
       "\n",
       "                                              source  \\\n",
       "0        http : //lib.ru/RUSSLIT/FADEEW/razgrom.txt    \n",
       "1  \\n\\nhttp://lib.ru/RUSSLIT/FADEEW/razgrom.txt\\n\\n    \n",
       "2  \\n\\nhttp://lib.ru/RUSSLIT/FADEEW/razgrom.txt\\n\\n    \n",
       "3  \\n\\nhttp://lib.ru/RUSSLIT/FADEEW/razgrom.txt\\n\\n    \n",
       "4  \\n\\nhttp://lib.ru/RUSSLIT/FADEEW/razgrom.txt\\n\\n    \n",
       "\n",
       "                                                text  \n",
       "0   СОДЕРЖАНИЕ I. Морозка II . Мечик III . Шестое...  \n",
       "1  пыльным , сумасшедшим карьером . -- Обожди-и ,...  \n",
       "2  .. -- снова повторил Дубов . -- Блуди ! Посмот...  \n",
       "3  Ведь надо как-то , умеют же другие ... '' В мы...  \n",
       "4  ребят , вернувшихся из-за реки . Дубов узнал ,...  "
      ]
     },
     "execution_count": 7,
     "metadata": {},
     "output_type": "execute_result"
    }
   ],
   "source": [
    "import pandas as pd\n",
    "\n",
    "newsocreal = pd.read_csv(\"csv_files/socreal_files_chunked_smaller.csv\")\n",
    "newsocreal.head(5)"
   ]
  },
  {
   "cell_type": "markdown",
   "metadata": {},
   "source": [
    "Apply all of the same steps to the .csv with smaller chunks of each individual work in the corpus.  "
   ]
  },
  {
   "cell_type": "code",
   "execution_count": 8,
   "metadata": {},
   "outputs": [
    {
     "name": "stdout",
     "output_type": "stream",
     "text": [
      "[(0, '-0.268*\"человек\" + -0.246*\"рука\" + -0.218*\"глаз\" + -0.158*\"голова\"'), (1, '-0.416*\"мать\" + -0.205*\"человек\" + 0.173*\"крепость\" + 0.165*\"дело\"'), (2, '-0.176*\"крепость\" + -0.167*\"дело\" + 0.158*\"голова\" + 0.155*\"казак\"'), (3, '-0.335*\"товарищ\" + -0.191*\"завод\" + -0.191*\"рабочий\" + 0.140*\"крепость\"')]\n"
     ]
    }
   ],
   "source": [
    "with open('NERoutput.txt') as fp:\n",
    "    lines = fp.read().splitlines()\n",
    "\n",
    "lines = [i.lower() for i in lines]\n",
    "lines = \" \".join(lines)\n",
    "mystem = Mystem() \n",
    "lemmatizedlines = mystem.lemmatize(lines)\n",
    "lemmatizedlines = [i for i in lemmatizedlines if i != \" \"]\n",
    "\n",
    "stop = list(stopwords.words('russian'))\n",
    "stop.extend(['это', 'свой', 'то', ' ','который', 'говорить', 'сказать', 'знать', 'спрашивать', 'вопрос'])\n",
    "stop.extend(lemmatizedlines)\n",
    "\n",
    "punctuation = list(string.punctuation)\n",
    "punctuation.extend(['--', '—', \" – \", ' —', '«', '»',\" -- \", \" – – \", \"\\n\", \"\\r\", \"\\t\",\"-\" ,\"-\", \"...\", \"…\", \" - \", \" « \", \" \", \"..\", \"``\", \"\\\"\\\"\",\"\\'\\'\"])\n",
    "\n",
    "def cleantext(text):\n",
    "    tokens = text.split(\" \")\n",
    "    tokenslower = [i.strip().lower() for i in tokens]\n",
    "#the following list comprehension gets rid of word-final punctuation, while retaining word-medial punctuation in words like \"кто-то\"\n",
    "    tokens_no_word_final_punc = [re.sub(r'[!|,|?|.|:|;]|\\.{1,}$\\)', \"\", item) for item in tokenslower]\n",
    "    tokens_no_stop_or_punc = [i for i in tokens_no_word_final_punc if i not in stop if i not in punctuation]\n",
    "#the following line gets rid of blank, empty spaces in each list    \n",
    "    tokens_no_stop_or_punc = list(filter(None, tokens_no_stop_or_punc))\n",
    "    return tokens_no_stop_or_punc\n",
    "\n",
    "newsocreal[\"no_punc_or_stop\"] = newsocreal[\"text\"].apply(cleantext)\n",
    "cleaned = newsocreal[\"no_punc_or_stop\"]\n",
    "\n",
    "mystem = Mystem() \n",
    "\n",
    "def lemmatize(text):\n",
    "    joinedtokens = \" \".join(text)\n",
    "    lemmatized = mystem.lemmatize(joinedtokens)\n",
    "    lemmatized = [i for i in lemmatized if i not in stop if i not in punctuation]\n",
    "    return lemmatized\n",
    "\n",
    "newsocreal[\"lemmatized\"] = newsocreal[\"no_punc_or_stop\"].apply(lemmatize)\n",
    "\n",
    "#Topic Modeling with Gensim, using Latent Semantic Indexing\n",
    "dictionary = corpora.Dictionary(newsocreal[\"lemmatized\"] )\n",
    "doc_term_matrix = [dictionary.doc2bow(item) for item in newsocreal[\"lemmatized\"] ]\n",
    "lsi = models.LsiModel(doc_term_matrix, num_topics=4, id2word=dictionary)\n",
    "output = lsi.print_topics(num_topics=4, num_words = 4)\n",
    "\n",
    "print (output)\n",
    "\n",
    "\n"
   ]
  },
  {
   "cell_type": "markdown",
   "metadata": {},
   "source": [
    "What happens with Latent Dirichlet Allocation (LDA) as opposed to LSI?"
   ]
  },
  {
   "cell_type": "code",
   "execution_count": 9,
   "metadata": {},
   "outputs": [
    {
     "name": "stdout",
     "output_type": "stream",
     "text": [
      "[(0, '0.005*\"товарищ\" + 0.004*\"рука\" + 0.004*\"человек\" + 0.004*\"глаз\"'), (1, '0.005*\"рука\" + 0.005*\"глаз\" + 0.004*\"голова\" + 0.004*\"человек\"'), (2, '0.008*\"человек\" + 0.006*\"рука\" + 0.005*\"глаз\" + 0.004*\"лицо\"')]\n"
     ]
    }
   ],
   "source": [
    "import warnings\n",
    "warnings.filterwarnings(\"ignore\", category=DeprecationWarning) \n",
    "\n",
    "ldamodel = gensim.models.ldamodel.LdaModel(doc_term_matrix, num_topics=3, id2word = dictionary, passes=20)\n",
    "ldaoutput = ldamodel.print_topics(num_topics=3, num_words=4)\n",
    "print (ldaoutput)"
   ]
  },
  {
   "cell_type": "code",
   "execution_count": 10,
   "metadata": {},
   "outputs": [
    {
     "data": {
      "text/html": [
       "\n",
       "<link rel=\"stylesheet\" type=\"text/css\" href=\"https://cdn.rawgit.com/bmabey/pyLDAvis/files/ldavis.v1.0.0.css\">\n",
       "\n",
       "\n",
       "<div id=\"ldavis_el309349222773446626686549\"></div>\n",
       "<script type=\"text/javascript\">\n",
       "\n",
       "var ldavis_el309349222773446626686549_data = {\"mdsDat\": {\"Freq\": [46.73973112475346, 33.112773943951964, 20.14749493129458], \"cluster\": [1, 1, 1], \"topics\": [1, 2, 3], \"x\": [0.030532902292089423, -0.0784881743579598, 0.047955272065870365], \"y\": [0.06662459802773957, -0.009180059668557356, -0.05744453835918221]}, \"tinfo\": {\"Category\": [\"Default\", \"Default\", \"Default\", \"Default\", \"Default\", \"Default\", \"Default\", \"Default\", \"Default\", \"Default\", \"Default\", \"Default\", \"Default\", \"Default\", \"Default\", \"Default\", \"Default\", \"Default\", \"Default\", \"Default\", \"Default\", \"Default\", \"Default\", \"Default\", \"Default\", \"Default\", \"Default\", \"Default\", \"Default\", \"Default\", \"Topic1\", \"Topic1\", \"Topic1\", \"Topic1\", \"Topic1\", \"Topic1\", \"Topic1\", \"Topic1\", \"Topic1\", \"Topic1\", \"Topic1\", \"Topic1\", \"Topic1\", \"Topic1\", \"Topic1\", \"Topic1\", \"Topic1\", \"Topic1\", \"Topic1\", \"Topic1\", \"Topic1\", \"Topic1\", \"Topic1\", \"Topic1\", \"Topic1\", \"Topic1\", \"Topic1\", \"Topic1\", \"Topic1\", \"Topic1\", \"Topic1\", \"Topic1\", \"Topic1\", \"Topic1\", \"Topic1\", \"Topic1\", \"Topic1\", \"Topic1\", \"Topic1\", \"Topic1\", \"Topic1\", \"Topic1\", \"Topic1\", \"Topic1\", \"Topic1\", \"Topic1\", \"Topic1\", \"Topic1\", \"Topic1\", \"Topic1\", \"Topic1\", \"Topic1\", \"Topic1\", \"Topic1\", \"Topic1\", \"Topic1\", \"Topic1\", \"Topic1\", \"Topic1\", \"Topic1\", \"Topic1\", \"Topic1\", \"Topic1\", \"Topic1\", \"Topic1\", \"Topic1\", \"Topic1\", \"Topic1\", \"Topic1\", \"Topic1\", \"Topic1\", \"Topic1\", \"Topic1\", \"Topic1\", \"Topic1\", \"Topic1\", \"Topic1\", \"Topic1\", \"Topic1\", \"Topic1\", \"Topic1\", \"Topic1\", \"Topic2\", \"Topic2\", \"Topic2\", \"Topic2\", \"Topic2\", \"Topic2\", \"Topic2\", \"Topic2\", \"Topic2\", \"Topic2\", \"Topic2\", \"Topic2\", \"Topic2\", \"Topic2\", \"Topic2\", \"Topic2\", \"Topic2\", \"Topic2\", \"Topic2\", \"Topic2\", \"Topic2\", \"Topic2\", \"Topic2\", \"Topic2\", \"Topic2\", \"Topic2\", \"Topic2\", \"Topic2\", \"Topic2\", \"Topic2\", \"Topic2\", \"Topic2\", \"Topic2\", \"Topic2\", \"Topic2\", \"Topic2\", \"Topic2\", \"Topic2\", \"Topic2\", \"Topic2\", \"Topic2\", \"Topic2\", \"Topic2\", \"Topic2\", \"Topic2\", \"Topic2\", \"Topic2\", \"Topic2\", \"Topic2\", \"Topic2\", \"Topic2\", \"Topic2\", \"Topic2\", \"Topic2\", \"Topic2\", \"Topic2\", \"Topic2\", \"Topic2\", \"Topic2\", \"Topic2\", \"Topic2\", \"Topic2\", \"Topic2\", \"Topic2\", \"Topic2\", \"Topic2\", \"Topic2\", \"Topic2\", \"Topic2\", \"Topic2\", \"Topic2\", \"Topic2\", \"Topic2\", \"Topic2\", \"Topic2\", \"Topic2\", \"Topic2\", \"Topic2\", \"Topic2\", \"Topic2\", \"Topic2\", \"Topic2\", \"Topic2\", \"Topic2\", \"Topic2\", \"Topic2\", \"Topic2\", \"Topic3\", \"Topic3\", \"Topic3\", \"Topic3\", \"Topic3\", \"Topic3\", \"Topic3\", \"Topic3\", \"Topic3\", \"Topic3\", \"Topic3\", \"Topic3\", \"Topic3\", \"Topic3\", \"Topic3\", \"Topic3\", \"Topic3\", \"Topic3\", \"Topic3\", \"Topic3\", \"Topic3\", \"Topic3\", \"Topic3\", \"Topic3\", \"Topic3\", \"Topic3\", \"Topic3\", \"Topic3\", \"Topic3\", \"Topic3\", \"Topic3\", \"Topic3\", \"Topic3\", \"Topic3\", \"Topic3\", \"Topic3\", \"Topic3\", \"Topic3\", \"Topic3\", \"Topic3\", \"Topic3\", \"Topic3\", \"Topic3\", \"Topic3\", \"Topic3\", \"Topic3\", \"Topic3\", \"Topic3\", \"Topic3\", \"Topic3\", \"Topic3\", \"Topic3\", \"Topic3\", \"Topic3\", \"Topic3\", \"Topic3\", \"Topic3\", \"Topic3\", \"Topic3\", \"Topic3\", \"Topic3\", \"Topic3\", \"Topic3\", \"Topic3\", \"Topic3\", \"Topic3\", \"Topic3\", \"Topic3\", \"Topic3\", \"Topic3\", \"Topic3\", \"Topic3\", \"Topic3\", \"Topic3\", \"Topic3\", \"Topic3\", \"Topic3\", \"Topic3\", \"Topic3\", \"Topic3\"], \"Freq\": [874.0, 376.0, 288.0, 467.0, 838.0, 273.0, 374.0, 570.0, 116.0, 68.0, 148.0, 961.0, 174.0, 143.0, 186.0, 211.0, 430.0, 86.0, 819.0, 87.0, 468.0, 154.0, 403.0, 163.0, 104.0, 55.0, 773.0, 746.0, 194.0, 371.0, 147.73012711380449, 142.93412466693374, 84.52373056809131, 67.2877747555635, 59.64474222353633, 74.74254319058825, 51.002338861516755, 46.22936353575992, 41.466661689003885, 39.53605706247283, 49.86955808603525, 35.68562199079716, 36.60805068942452, 33.77990720202712, 46.89051898434436, 34.69760906258897, 29.987102196645292, 28.074276396273948, 28.072120522271508, 42.09384720475085, 27.120313824602476, 27.084979283190656, 27.98206932792894, 25.1746362402445, 24.227647181591752, 23.28813493265625, 30.694444197414366, 23.25337373439068, 21.37333615734043, 24.14227612768288, 29.698679462323756, 201.74991647349842, 155.36699555843117, 60.524535984310404, 100.24078364210625, 52.87684406635256, 49.004987753235085, 685.8648466960966, 237.62040141711367, 85.15304342039904, 53.568524200271185, 47.73811213366443, 65.709265084343, 249.6134325031074, 264.59893085425364, 143.99144206939124, 1350.3773776549547, 371.6802741686584, 566.0021955160432, 305.03052915667604, 558.3286746190622, 405.02699078909063, 519.4289246764189, 272.95919750205746, 416.57678870833496, 514.4205310227711, 344.58483461593966, 245.11169777747455, 354.7857766286373, 472.030579323264, 427.93568670869183, 688.7586885628415, 251.60960060471623, 621.992490034347, 996.4042643470348, 492.68027211486026, 883.1908578303318, 300.15840956993577, 648.3587201230397, 628.991406564779, 503.9582690623987, 422.00454785024544, 354.47607793439516, 361.27243051523567, 560.677337200165, 417.6281703229253, 402.2710833494958, 312.92286477912245, 409.99528674288075, 384.1169120024561, 362.6312693377407, 389.3299035469924, 52.02433363880242, 42.95190104864454, 39.31595265664584, 58.01355671589884, 56.091003643231, 28.404661340162004, 26.621464674994314, 26.620591652737414, 26.620422562110814, 77.04316654459639, 25.69366256890228, 23.89821418507251, 22.98991080134561, 36.23937811273681, 22.96990113121749, 31.800429362667526, 21.176878830291106, 21.17473762833471, 21.174686165970094, 23.817366810258918, 21.172554153721666, 21.160813382822575, 112.72809649271404, 21.157556550318947, 22.902671065669924, 19.361145085094197, 19.359895284810637, 26.37014270356152, 18.442304782211927, 20.200595500846497, 74.56637115676787, 42.113016718903026, 69.19575878531867, 24.584768077605567, 74.57448750684465, 97.56462253706465, 26.223958343041634, 81.1704628904272, 75.93452752718117, 311.86222365078265, 61.246341591720146, 146.0443534810639, 31.573388437626075, 53.36671839219207, 122.42986233977545, 87.86354040427601, 81.02159697312244, 100.05755505208384, 111.93498058453315, 252.41948722768407, 47.60120588996974, 44.793562635900535, 66.95521240991489, 232.88312381871793, 128.45134129183728, 105.14612425836539, 208.072309142473, 368.9829781823539, 301.73972356591025, 216.6296769804766, 504.61518668694714, 274.18977307055115, 646.0504090540359, 583.2162145814685, 217.03055409731172, 341.97970503455673, 213.81900847454455, 149.58317033573084, 420.2561083330729, 342.0024072891193, 190.26827185125046, 366.464174801465, 270.9209718912642, 459.70324590889436, 280.7676631088539, 316.6911284687386, 215.58719650865996, 238.65877440676985, 246.12815433910248, 207.55033372992727, 245.7880763301794, 162.4054742896171, 192.17895182122447, 194.45066233428713, 195.4633534487568, 196.78564214876346, 192.9322873215563, 67.7592090220071, 45.39137494546941, 40.24558901016873, 36.75212058296219, 31.557160887760922, 32.39077532854632, 29.830190338733367, 28.098927765451776, 27.224497717260498, 26.35639946722616, 34.80595262016874, 24.610961359957034, 23.745976449037666, 23.741950579492453, 22.887394907289377, 25.384304060462203, 19.39752963332581, 21.037731510683063, 17.668363867099018, 17.6680686366657, 20.190677375399233, 17.657838454832476, 17.657294962443874, 53.79032739141704, 19.31112999969715, 19.308325310580653, 26.024021440979162, 45.25809182439255, 15.9268711119842, 17.5688566732094, 44.59113496321383, 28.283498227940463, 26.383290039193994, 51.48525315866782, 21.598843788329734, 45.85612579895721, 56.02407216220185, 22.8965090286209, 66.21043911521002, 42.93753141345941, 57.07199258525571, 65.34752529051225, 38.977569825889674, 370.27235535435756, 157.07175161372948, 37.293494916866365, 187.18300132497933, 52.45623921471265, 148.76531812311924, 115.14053997135673, 230.09971899289, 86.07587319983405, 143.1543116495505, 190.8592643588863, 325.7747592334326, 220.51920514774096, 315.8302173176286, 228.13954995045597, 274.87422336751155, 139.83698619791798, 127.6607974366811, 202.40638863774168, 159.69711955430748, 203.9477956764594, 154.73592421084322, 110.7312913425412, 109.95080943337585, 140.15828637313308, 151.32882186835246, 105.09660380966982, 172.07860082321997, 125.9913677464256, 126.89222315499282, 113.4894414070971, 110.21067483933099, 132.9485086930157, 115.84512976640643, 133.3571433982316, 124.07263832117695, 113.2893020124394], \"Term\": [\"\\u0442\\u043e\\u0432\\u0430\\u0440\\u0438\\u0449\", \"\\u043a\\u0430\\u0437\\u0430\\u043a\", \"\\u0437\\u0430\\u0432\\u043e\\u0434\", \"\\u0440\\u0430\\u0431\\u043e\\u0447\\u0438\\u0439\", \"\\u043c\\u0430\\u0442\\u044c\", \"\\u0433\\u043e\\u0440\\u0430\", \"\\u0440\\u0430\\u0431\\u043e\\u0442\\u0430\", \"\\u043e\\u0447\\u0435\\u043d\\u044c\", \"\\u043a\\u043e\\u043b\\u0445\\u043e\\u0437\", \"\\u0447\\u0443\\u043c\\u0430\\u043b\\u043e\\u0432\", \"\\u0434\\u0440\\u043e\\u043d\\u043e\\u0432\", \"\\u0441\\u0442\\u043e\\u044f\\u0442\\u044c\", \"\\u0445\\u0443\\u0442\\u043e\\u0440\", \"\\u0432\\u0430\\u0440\\u0430\\u0432\\u043a\\u0430\", \"\\u0441\\u0442\\u0430\\u043d\\u0438\\u0446\\u0430\", \"\\u043a\\u0440\\u0435\\u043f\\u043e\\u0441\\u0442\\u044c\", \"\\u043a\\u0440\\u0430\\u0441\\u043d\\u044b\\u0439\", \"\\u0431\\u0440\\u0438\\u0433\\u0430\\u0434\\u0430\", \"\\u043f\\u043e\\u043d\\u0438\\u043c\\u0430\\u0442\\u044c\", \"\\u0430\\u043d\\u0434\\u0440\\u0438\\u0439\", \"\\u043c\\u0435\\u0441\\u0442\\u043e\", \"\\u0446\\u0430\\u0440\\u044c\", \"\\u043a\\u043e\\u043d\\u044c\", \"\\u0445\\u043e\\u0445\\u043e\\u043b\", \"\\u0431\\u044b\\u043a\", \"\\u0441\\u0442\\u0440\\u043e\\u0438\\u0442\\u0435\\u043b\\u044c\\u0441\\u0442\\u0432\\u043e\", \"\\u0432\\u0440\\u0435\\u043c\\u044f\", \"\\u043c\\u043e\\u0447\\u044c\", \"\\u043c\\u043e\\u0440\\u0435\", \"\\u043c\\u0438\\u043d\\u0443\\u0442\\u0430\", \"\\u0434\\u0440\\u043e\\u043d\\u043e\\u0432\", \"\\u0432\\u0430\\u0440\\u0430\\u0432\\u043a\\u0430\", \"\\u043a\\u043b\\u0435\\u043e\\u043f\\u0430\\u0442\\u0440\\u0430\", \"\\u0442\\u0430\\u0448\\u043a\\u0435\\u043d\\u0442\", \"\\u0433\\u0440\\u0435\\u043a\\u043e\\u0432\", \"\\u0431\\u0435\\u0441\\u0441\\u043e\\u043d\\u043e\\u0432\", \"\\u0432\\u0438\\u0440\\u0438\\u043d\\u0435\\u044f\", \"\\u043a\\u0440\\u0435\\u043f\\u043e\\u0441\\u0442\\u043d\\u0438\\u043a\", \"\\u044f\\u0433\\u043e\\u0434\\u0438\\u043d\", \"\\u0431\\u0435\\u043b\\u043e\\u0432\", \"\\u0434\\u0430\\u043a\", \"\\u0431\\u0440\\u043e\\u043d\\u043d\\u0438\\u043a\\u043e\\u0432\", \"\\u0448\\u0442\\u0430\\u0434\\u0438\\u0432\\u044b\\u0439\", \"\\u043c\\u044f\\u0442\\u0435\\u0436\\u043d\\u0438\\u043a\", \"\\u0441\\u0442\\u0435\\u0444\\u0430\\u043d\\u0438\\u044f\", \"\\u0447\\u0438\\u0436\", \"\\u0431\\u043e\\u0435\\u0441\\u043e\\u0432\\u0435\\u0442\", \"\\u043a\\u0430\\u044e\\u0442\\u043a\\u0438\\u043d\", \"\\u0431\\u0443\\u043a\\u0438\\u043d\", \"\\u043c\\u043e\\u0440\\u043e\\u0437\\u043a\\u0430\", \"\\u0438\\u0433\\u043e\\u0440\\u044c\", \"\\u0441\\u0435\\u043c\\u0438\\u0440\\u0435\\u0447\\u044c\\u0435\", \"\\u0433\\u043e\\u0441\\u0442\\u0438\\u043d\\u0430\\u044f\", \"\\u043c\\u043e\\u0439\\u0448\\u0435\", \"\\u0448\\u0442\\u0430\\u0434\\u0438\\u0432\", \"\\u043d\\u0435\\u043d\\u044c\\u043a\\u043e\", \"\\u0441\\u043c\\u0443\\u0449\\u0430\\u0442\\u044c\", \"\\u044f\\u043f\\u043e\\u043d\\u0435\\u0446\", \"\\u0431\\u043e\\u0435\\u0440\\u0435\\u0432\\u043a\\u043e\\u043c\", \"\\u0434\\u0435\\u043b\\u0435\\u0433\\u0430\\u0442\", \"\\u043c\\u0430\\u0440\\u0438\\u044f\", \"\\u043a\\u0440\\u0435\\u043f\\u043e\\u0441\\u0442\\u044c\", \"\\u0445\\u043e\\u0445\\u043e\\u043b\", \"\\u0444\\u0430\\u0431\\u0440\\u0438\\u043a\\u0430\", \"\\u0443\\u0447\\u0438\\u0442\\u0435\\u043b\\u044c\", \"\\u043f\\u0438\\u0441\\u0430\\u0442\\u0435\\u043b\\u044c\", \"\\u0434\\u0438\\u0432\\u0430\\u043d\", \"\\u043c\\u0430\\u0442\\u044c\", \"\\u0434\\u0435\\u0432\\u0443\\u0448\\u043a\\u0430\", \"\\u0434\\u043e\\u043a\\u0442\\u043e\\u0440\", \"\\u0434\\u0438\\u0440\\u0435\\u043a\\u0442\\u043e\\u0440\", \"\\u0432\\u0437\\u0440\\u043e\\u0441\\u043b\\u044b\\u0439\", \"\\u0443\\u0447\\u0438\\u0442\\u044c\\u0441\\u044f\", \"\\u0442\\u043e\\u0447\\u043d\\u043e\", \"\\u043b\\u044e\\u0431\\u0438\\u0442\\u044c\", \"\\u043a\\u043d\\u0438\\u0433\\u0430\", \"\\u0447\\u0435\\u043b\\u043e\\u0432\\u0435\\u043a\", \"\\u043e\\u0442\\u0435\\u0446\", \"\\u043f\\u043e\\u043d\\u0438\\u043c\\u0430\\u0442\\u044c\", \"\\u043a\\u043e\\u043c\\u043d\\u0430\\u0442\\u0430\", \"\\u0441\\u043b\\u043e\\u0432\\u043e\", \"\\u043e\\u0447\\u0435\\u043d\\u044c\", \"\\u0434\\u0443\\u043c\\u0430\\u0442\\u044c\", \"\\u0442\\u0438\\u0445\\u043e\", \"\\u0436\\u0438\\u0437\\u043d\\u044c\", \"\\u0445\\u043e\\u0442\\u0435\\u0442\\u044c\", \"\\u0447\\u0442\\u043e-\\u0442\\u043e\", \"\\u0447\\u0443\\u0432\\u0441\\u0442\\u0432\\u043e\\u0432\\u0430\\u0442\\u044c\", \"\\u043e\\u0442\\u0432\\u0435\\u0447\\u0430\\u0442\\u044c\", \"\\u043c\\u043e\\u0447\\u044c\", \"\\u0443\\u0445\\u043e\\u0434\\u0438\\u0442\\u044c\", \"\\u043b\\u0438\\u0446\\u043e\", \"\\u043a\\u0430\\u043a\\u043e\\u0439-\\u0442\\u043e\", \"\\u0434\\u0435\\u043b\\u043e\", \"\\u0440\\u0443\\u043a\\u0430\", \"\\u0432\\u0438\\u0434\\u0435\\u0442\\u044c\", \"\\u0433\\u043b\\u0430\\u0437\", \"\\u043f\\u0440\\u0438\\u0445\\u043e\\u0434\\u0438\\u0442\\u044c\", \"\\u0441\\u0442\\u0430\\u043d\\u043e\\u0432\\u0438\\u0442\\u044c\\u0441\\u044f\", \"\\u0438\\u0434\\u0442\\u0438\", \"\\u0432\\u0435\\u0441\\u044c\", \"\\u043d\\u0430\\u0448\", \"\\u0436\\u0438\\u0442\\u044c\", \"\\u0441\\u043c\\u043e\\u0442\\u0440\\u0435\\u0442\\u044c\", \"\\u0433\\u043e\\u043b\\u043e\\u0432\\u0430\", \"\\u0434\\u0435\\u043d\\u044c\", \"\\u0432\\u0440\\u0435\\u043c\\u044f\", \"\\u0434\\u043e\\u043c\", \"\\u043f\\u043e\\u0439\\u0442\\u0438\", \"\\u0433\\u043e\\u043b\\u043e\\u0441\", \"\\u0441\\u0430\\u043c\\u044b\\u0439\", \"\\u0441\\u0442\\u043e\\u044f\\u0442\\u044c\", \"\\u0440\\u0430\\u0437\\u043c\\u0435\\u0442\\u043d\\u043e\\u0432\", \"\\u0442\\u0438\\u0442\\u043e\\u043a\", \"\\u043a\\u0443\\u0440\\u0435\\u043d\\u044c\", \"\\u0433\\u0440\\u0438\\u0448\\u043a\\u0430\", \"\\u0446\\u0430\\u0440\\u0438\\u0446\\u0430\", \"\\u0445\\u043e\\u043b\\u043e\\u043f\", \"\\u0438\\u0448\\u043e\", \"\\u0438\\u0432\\u0430\\u0448\\u043a\\u0430\", \"\\u0434\\u0443\\u043d\\u044f\\u0448\\u043a\\u0430\", \"\\u0430\\u0442\\u0430\\u043c\\u0430\\u043d\", \"\\u0441\\u0432\\u0430\\u0442\", \"\\u0431\\u0430\\u0440\\u043a\\u0430\\u0441\", \"\\u0444\\u0440\\u043e\\u043b\", \"\\u043d\\u0438\\u043a\\u0438\\u0442\\u0430\", \"\\u0447\\u0435\\u0440\\u043d\\u044f\\u043a\", \"\\u043f\\u0430\\u043b\\u0430\\u0442\\u0430\", \"\\u043f\\u0440\\u043e\\u043a\\u043e\\u0444\\u0438\\u0439\", \"\\u0437\\u0438\\u043f\\u0443\\u043d\", \"\\u043a\\u043e\\u0440\\u0448\\u0443\\u043d\\u043e\\u0432\", \"\\u043a\\u043e\\u0441\\u0442\\u044b\\u043b\\u044c\", \"\\u0445\\u043e\\u043f\\u0435\\u0440\", \"\\u043c\\u0430\\u0442\\u0432\\u0435\\u0435\\u0432\", \"\\u043a\\u043e\\u043b\\u0445\\u043e\\u0437\", \"\\u0441\\u0430\\u043b\\u043e\\u043c\\u044b\\u0433\\u0430\", \"\\u043f\\u0430\\u0442\\u0440\\u0438\\u0430\\u0440\\u0445\", \"\\u043b\\u0430\\u043f\\u0448\\u0438\\u043d\", \"\\u0431\\u0440\\u0435\\u0434\\u0435\\u043d\\u044c\", \"\\u0434\\u044e\\u0436\\u0435\", \"\\u0445\\u043e\\u0432\\u0430\\u043d\\u0441\\u043a\\u0438\\u0439\", \"\\u0431\\u043e\\u044f\\u0440\\u0441\\u043a\\u0438\\u0439\", \"\\u0441\\u0442\\u0440\\u0435\\u043b\\u0435\\u0446\", \"\\u0441\\u0430\\u043d\\u0438\", \"\\u0431\\u0430\\u0437\\u0430\", \"\\u0441\\u0442\\u0435\\u043f\\u043a\\u0430\", \"\\u0430\\u043b\\u0435\\u0448\\u043a\\u0430\", \"\\u0431\\u044b\\u043a\", \"\\u0448\\u0430\\u0440\\u044b\\u0433\\u0438\\u043d\", \"\\u0441\\u0435\\u043c\\u0435\\u043d\", \"\\u0437\\u0430\\u0440\\u0430\\u0437\", \"\\u043a\\u0430\\u0437\\u0430\\u043a\", \"\\u0446\\u0430\\u0440\\u0441\\u043a\\u0438\\u0439\", \"\\u0445\\u0443\\u0442\\u043e\\u0440\", \"\\u0438\\u043d\\u043e\\u0433\\u043e\\u0440\\u043e\\u0434\\u043d\\u0438\\u0439\", \"\\u0431\\u0440\\u0438\\u0447\\u043a\\u0430\", \"\\u0446\\u0430\\u0440\\u044c\", \"\\u0445\\u0430\\u0442\\u0430\", \"\\u0434\\u0435\\u0432\\u043a\\u0430\", \"\\u043f\\u043e\\u0432\\u043e\\u0437\\u043a\\u0430\", \"\\u043a\\u0440\\u044b\\u043b\\u044c\\u0446\\u043e\", \"\\u043a\\u043e\\u043d\\u044c\", \"\\u043f\\u043b\\u0435\\u0442\\u0435\\u043d\\u044c\", \"\\u043a\\u0438\\u043d\\u0443\\u0442\\u044c\", \"\\u0430\\u043b\\u0435\\u043a\\u0441\\u0435\\u0439\", \"\\u043b\\u043e\\u0448\\u0430\\u0434\\u044c\", \"\\u0441\\u0442\\u0430\\u043d\\u0438\\u0446\\u0430\", \"\\u0448\\u043e\\u0441\\u0441\\u0435\", \"\\u0434\\u0432\\u043e\\u0440\", \"\\u043d\\u043e\\u0433\\u0430\", \"\\u0433\\u043b\\u044f\\u0434\\u0435\\u0442\\u044c\", \"\\u0431\\u0430\\u0431\\u0430\", \"\\u0433\\u043e\\u043b\\u043e\\u0432\\u0430\", \"\\u0437\\u0435\\u043c\\u043b\\u044f\", \"\\u0440\\u0443\\u043a\\u0430\", \"\\u0433\\u043b\\u0430\\u0437\", \"\\u0431\\u0435\\u043b\\u044b\\u0439\", \"\\u043f\\u043e\\u0439\\u0442\\u0438\", \"\\u043a\\u0440\\u0430\\u0441\\u043d\\u044b\\u0439\", \"\\u0441\\u0442\\u0435\\u043f\\u044c\", \"\\u0441\\u0442\\u0430\\u043d\\u043e\\u0432\\u0438\\u0442\\u044c\\u0441\\u044f\", \"\\u0441\\u0442\\u043e\\u044f\\u0442\\u044c\", \"\\u0432\\u043e\\u0434\\u0430\", \"\\u0438\\u0434\\u0442\\u0438\", \"\\u0433\\u043e\\u043b\\u043e\\u0441\", \"\\u0447\\u0435\\u043b\\u043e\\u0432\\u0435\\u043a\", \"\\u0432\\u0435\\u0441\\u044c\", \"\\u043b\\u0438\\u0446\\u043e\", \"\\u043d\\u043e\\u0447\\u044c\", \"\\u0434\\u0430\\u0432\\u0430\\u0442\\u044c\", \"\\u0434\\u0435\\u043d\\u044c\", \"\\u0433\\u043e\\u0434\", \"\\u0434\\u0435\\u043b\\u043e\", \"\\u043b\\u0435\\u0436\\u0430\\u0442\\u044c\", \"\\u0434\\u0432\\u0435\\u0440\\u044c\", \"\\u043d\\u0430\\u0448\", \"\\u0445\\u043e\\u0442\\u0435\\u0442\\u044c\", \"\\u0442\\u043e\\u0432\\u0430\\u0440\\u0438\\u0449\", \"\\u0432\\u0438\\u0434\\u0435\\u0442\\u044c\", \"\\u0447\\u0443\\u043c\\u0430\\u043b\\u043e\\u0432\", \"\\u0437\\u0430\\u043c\\u0435\\u0441\", \"\\u0431\\u0435\\u0442\\u043e\\u043d\", \"\\u0441\\u0430\\u0432\\u0447\\u0443\\u043a\", \"\\u0440\\u0443\\u043f\", \"\\u0430\\u043b\\u044f\\u0432\\u0434\\u0438\\u043d\", \"\\u0441\\u0435\\u043c\\u0435\\u0447\\u043a\\u0438\\u043d\", \"\\u0432\\u0438\\u043d\\u043a\\u0438\\u0447\", \"\\u0440\\u0435\\u043a\\u043e\\u0440\\u0434\", \"\\u0444\\u0438\\u043b\\u043e\\u043d\\u043e\\u0432\", \"\\u043c\\u043e\\u0442\\u043e\\u0440\\u0438\\u0441\\u0442\", \"\\u0442\\u0435\\u043f\\u043b\\u044f\\u043a\", \"\\u0441\\u0435\\u0440\\u043e\\u0448\\u0435\\u0432\\u0441\\u043a\\u0438\\u0439\", \"\\u0442\\u0435\\u0445\\u043d\\u043e\\u0440\\u0443\\u043a\", \"\\u044f\\u043a\\u043e\\u0431\", \"\\u0431\\u0440\\u0435\\u043c\\u0441\\u0431\\u0435\\u0440\\u0433\", \"\\u0431\\u0435\\u0442\\u043e\\u043d\\u043e\\u043c\\u0435\\u0448\\u0430\\u043b\\u043a\\u0430\", \"\\u0447\\u0435\\u0440\\u0435\\u043f\\u0430\\u0445\\u0430\", \"\\u043f\\u0440\\u043e\\u0440\\u0430\\u0431\", \"\\u043f\\u0435\\u0440\\u0435\\u043c\\u0435\\u0448\\u0438\\u0432\\u0430\\u043d\\u0438\\u0435\", \"\\u043b\\u043e\\u0448\\u0430\\u043a\", \"\\u0441\\u043e\\u0440\\u0435\\u0432\\u043d\\u043e\\u0432\\u0430\\u043d\\u0438\\u0435\", \"\\u043a\\u043e\\u0442\\u0435\\u043b\\u044c\\u043d\\u0438\\u043a\\u043e\\u0432\", \"\\u0441\\u0442\\u0440\\u043e\\u0438\\u0442\\u0435\\u043b\\u044c\\u0441\\u0442\\u0432\\u043e\", \"\\u0441\\u0430\\u0435\\u043d\\u043a\\u043e\", \"\\u0433\\u0430\\u0439\", \"\\u0432\\u0430\\u0445\\u0442\\u0430\", \"\\u0441\\u043c\\u0435\\u0442\\u0430\\u043d\\u0430\", \"\\u043d\\u0430\\u043b\\u0431\\u0430\\u043d\\u0434\\u043e\\u0432\\u043e\", \"\\u0441\\u043e\\u0432\\u043d\\u0430\\u0440\\u0445\\u043e\\u0437\", \"\\u043c\\u0438\\u0441\\u0442\\u0435\\u0440\", \"\\u0434\\u0437\\u0435\\u0431\\u0435\\u043a\", \"\\u043f\\u0440\\u0435\\u0434\\u0438\\u0441\\u043f\\u043e\\u043b\\u043a\\u043e\\u043c\", \"\\u0441\\u0443\\u0434\\u043d\\u043e\", \"\\u043b\\u0435\\u0433\\u0438\\u043e\\u043d\\u0435\\u0440\", \"\\u0434\\u0435\\u0440\\u0431\\u0435\\u043d\\u0442\", \"\\u0441\\u043c\\u0435\\u043d\\u0430\", \"\\u0442\\u043e\\u043f\\u043b\\u0438\\u0432\\u043e\", \"\\u0431\\u0440\\u0438\\u0433\\u0430\\u0434\\u0430\", \"\\u043c\\u0435\\u0445\\u0430\\u043d\\u0438\\u043a\", \"\\u0443\\u0447\\u0430\\u0441\\u0442\\u043e\\u043a\", \"\\u0430\\u043d\\u0434\\u0440\\u0438\\u0439\", \"\\u043f\\u0430\\u043b\\u0443\\u0431\\u0430\", \"\\u0442\\u043e\\u0432\\u0430\\u0440\\u0438\\u0449\", \"\\u0437\\u0430\\u0432\\u043e\\u0434\", \"\\u043e\\u0442\\u0434\\u0435\\u043b\\u0435\\u043d\\u0438\\u0435\", \"\\u0440\\u0430\\u0431\\u043e\\u0447\\u0438\\u0439\", \"\\u043a\\u0430\\u043f\\u0438\\u0442\\u0430\\u043d\", \"\\u0440\\u0430\\u0431\\u043e\\u0442\\u0430\", \"\\u0433\\u043e\\u0440\\u0430\", \"\\u0441\\u0442\\u043e\\u044f\\u0442\\u044c\", \"\\u043c\\u043e\\u0440\\u0435\", \"\\u043c\\u0435\\u0441\\u0442\\u043e\", \"\\u0432\\u0440\\u0435\\u043c\\u044f\", \"\\u0440\\u0443\\u043a\\u0430\", \"\\u0434\\u0435\\u043b\\u043e\", \"\\u0447\\u0435\\u043b\\u043e\\u0432\\u0435\\u043a\", \"\\u0438\\u0434\\u0442\\u0438\", \"\\u0433\\u043b\\u0430\\u0437\", \"\\u0434\\u0440\\u0443\\u0433\", \"\\u043e\\u043a\\u043d\\u043e\", \"\\u043b\\u0438\\u0446\\u043e\", \"\\u043c\\u043e\\u0447\\u044c\", \"\\u0433\\u043e\\u043b\\u043e\\u0432\\u0430\", \"\\u0434\\u0430\\u0432\\u0430\\u0442\\u044c\", \"\\u043c\\u0438\\u043d\\u0443\\u0442\\u0430\", \"\\u0447\\u0430\\u0441\", \"\\u0441\\u0430\\u043c\\u044b\\u0439\", \"\\u043f\\u043e\\u043d\\u0438\\u043c\\u0430\\u0442\\u044c\", \"\\u0434\\u0430\\u043b\\u0435\\u043a\\u043e\", \"\\u0441\\u0442\\u0430\\u043d\\u043e\\u0432\\u0438\\u0442\\u044c\\u0441\\u044f\", \"\\u043e\\u0447\\u0435\\u043d\\u044c\", \"\\u0441\\u043c\\u043e\\u0442\\u0440\\u0435\\u0442\\u044c\", \"\\u043d\\u043e\\u0432\\u044b\\u0439\", \"\\u043a\\u0440\\u0430\\u0441\\u043d\\u044b\\u0439\", \"\\u0432\\u0438\\u0434\\u0435\\u0442\\u044c\", \"\\u0441\\u0442\\u043e\\u0440\\u043e\\u043d\\u0430\", \"\\u0432\\u0435\\u0441\\u044c\", \"\\u0434\\u0435\\u043d\\u044c\", \"\\u0434\\u0432\\u0435\\u0440\\u044c\"], \"Total\": [874.0, 376.0, 288.0, 467.0, 838.0, 273.0, 374.0, 570.0, 116.0, 68.0, 148.0, 961.0, 174.0, 143.0, 186.0, 211.0, 430.0, 86.0, 819.0, 87.0, 468.0, 154.0, 403.0, 163.0, 104.0, 55.0, 773.0, 746.0, 194.0, 371.0, 148.35790146390158, 143.56978246672318, 85.16421022688252, 67.92983809780814, 60.271621533221165, 75.57952269948429, 51.653483748894054, 46.865841565575685, 42.08068527839174, 40.164279050336575, 50.68693404668958, 36.33357042250163, 37.286879052555136, 34.41838853679523, 47.79606797312226, 35.37227798196764, 30.591808280200635, 28.677169944278006, 28.676889429593018, 43.021156256301644, 27.719936358038122, 27.716724702810946, 28.67203264994597, 25.803291244351655, 24.84576780917739, 23.890009829699792, 31.530449992643543, 23.887453658940913, 21.974983925070443, 24.841361134567965, 30.573777274176567, 211.77972829389643, 163.2792039814019, 63.02995816381205, 106.85866941196468, 55.305313302262185, 51.5426432644075, 838.2512464461969, 277.1716729803586, 93.33568521446738, 57.10729495047374, 50.510148589962135, 71.44659814175259, 309.137852752106, 331.1844343194976, 172.10234903347688, 2125.9108408814777, 504.69571013499365, 819.7323964259035, 408.89929460523, 821.2133256717643, 570.1154270519124, 760.8839861334668, 366.2614229087923, 615.8966470648046, 797.1921747492962, 498.6861624489657, 338.6956520208061, 528.895847249109, 746.4048809677968, 669.207098622598, 1207.8562056693218, 354.9952318594751, 1088.2997715122674, 1968.2294326345032, 818.5610681294322, 1741.281295779312, 444.41939820933703, 1240.6934292793326, 1223.5951313167, 918.0830755694843, 723.445377261605, 563.8395273566967, 596.8595711302302, 1269.2403195635716, 787.8289629832047, 773.1881629418631, 482.49659912717544, 863.3462353428857, 764.9308192157895, 676.2346041263743, 961.4320298290016, 52.65973155531127, 43.580819630236896, 39.94985636202874, 59.0344654749394, 57.22368743765635, 29.056649824994505, 27.239361739052327, 27.23942366554165, 27.23948732168971, 78.95709995323628, 26.332577427046388, 24.515847553968413, 23.607993130241233, 37.2455663399084, 23.608992478833112, 32.70080530367145, 21.792319110941285, 21.792336786510113, 21.792322680147493, 24.51282767287886, 21.79240900077125, 21.79264961253121, 116.09523894442131, 21.792837601083917, 23.612420877233774, 19.976461618922066, 19.976619717215836, 27.252439615631097, 19.069072421684677, 20.887846186633645, 77.27847898857299, 43.55836798497291, 72.62778843302735, 25.435642882969997, 79.19271179312197, 104.49319300708859, 27.232852707971244, 88.40736028827705, 82.69594270398301, 376.71366085194285, 67.12443169637876, 174.42493995556683, 33.5359348211775, 60.14701517837281, 154.97882839155682, 106.78805675565953, 98.85701285866604, 127.73085856796072, 150.89831500344255, 403.991803862289, 54.81298766985793, 50.97059964936112, 83.13829134468585, 388.098711900023, 186.82160853719768, 146.74477564211227, 353.6888715872501, 766.7569810532003, 607.2153174181053, 398.31919706910935, 1269.2403195635716, 572.3013842940992, 1968.2294326345032, 1741.281295779312, 425.8209149631466, 863.3462353428857, 430.035632053682, 251.6280149054919, 1240.6934292793326, 961.4320298290016, 373.99829513598524, 1223.5951313167, 764.9308192157895, 2125.9108408814777, 918.0830755694843, 1207.8562056693218, 577.0748334446984, 725.7701364534514, 787.8289629832047, 576.6879956027814, 1088.2997715122674, 342.97890239864626, 620.4835460994572, 723.445377261605, 797.1921747492962, 874.7490464034572, 818.5610681294322, 68.75434989240392, 46.12737845485646, 40.9084531591438, 37.431062265751734, 32.212931616399665, 33.08720262285092, 30.47349616094192, 28.734337442833134, 27.865022417719437, 26.995550355410664, 35.714815942336884, 25.256966324827278, 24.387363470103313, 24.388308706058716, 23.51746741192169, 26.133093114934997, 20.040224452045667, 21.788924819468026, 18.300818678958112, 18.30091109390843, 20.915548832476727, 18.302104874564602, 18.30215354567217, 55.78638499277073, 20.044051468955956, 20.045090821687396, 27.029021878918908, 47.05751882181759, 16.56214052050695, 18.311185671636142, 47.16879545063236, 29.667325545715883, 27.90354470411778, 56.97695040430798, 22.67838210842272, 52.741391752068864, 67.6420653821909, 24.45425971132827, 86.09234913636396, 52.108004799553505, 73.47771262114541, 87.02952521913559, 46.523879300039745, 874.7490464034572, 288.23682583887, 44.941298158267145, 467.1262955686156, 74.92753571543912, 374.70656620961427, 273.2655998517801, 961.4320298290016, 194.77343146427057, 468.3637805987217, 773.1881629418631, 1968.2294326345032, 1088.2997715122674, 2125.9108408814777, 1223.5951313167, 1741.281295779312, 511.9644522095997, 437.4430328797712, 1207.8562056693218, 746.4048809677968, 1269.2403195635716, 725.7701364534514, 371.84197555883225, 376.79784140418974, 676.2346041263743, 819.7323964259035, 349.3763234170656, 1240.6934292793326, 570.1154270519124, 596.8595711302302, 436.2092782913329, 430.035632053682, 818.5610681294322, 522.1479871676343, 918.0830755694843, 787.8289629832047, 620.4835460994572], \"loglift\": [30.0, 29.0, 28.0, 27.0, 26.0, 25.0, 24.0, 23.0, 22.0, 21.0, 20.0, 19.0, 18.0, 17.0, 16.0, 15.0, 14.0, 13.0, 12.0, 11.0, 10.0, 9.0, 8.0, 7.0, 6.0, 5.0, 4.0, 3.0, 2.0, 1.0, 0.7563, 0.7561, 0.753, 0.7511, 0.7501, 0.7494, 0.7479, 0.7469, 0.7459, 0.7448, 0.7443, 0.7426, 0.7422, 0.7419, 0.7414, 0.7413, 0.7406, 0.7393, 0.7393, 0.7388, 0.7387, 0.7375, 0.7362, 0.7359, 0.7354, 0.7351, 0.7337, 0.7337, 0.7328, 0.732, 0.7315, 0.7121, 0.7109, 0.72, 0.6966, 0.7157, 0.7101, 0.5599, 0.6066, 0.6688, 0.6966, 0.7041, 0.6769, 0.5467, 0.5361, 0.5822, 0.3068, 0.4547, 0.3902, 0.4675, 0.3747, 0.4187, 0.3788, 0.4666, 0.3696, 0.3225, 0.3909, 0.4372, 0.3613, 0.3024, 0.3135, 0.1989, 0.4163, 0.2011, 0.0798, 0.2529, 0.0817, 0.3681, 0.1116, 0.0951, 0.1608, 0.2216, 0.2964, 0.2585, -0.0565, 0.1259, 0.1072, 0.3276, 0.0159, 0.0717, 0.1374, -0.1434, 1.0931, 1.0907, 1.0893, 1.0878, 1.0853, 1.0826, 1.0823, 1.0823, 1.0823, 1.0807, 1.0807, 1.0797, 1.0787, 1.0779, 1.0778, 1.0773, 1.0766, 1.0765, 1.0765, 1.0765, 1.0764, 1.0758, 1.0758, 1.0757, 1.0747, 1.074, 1.0739, 1.0723, 1.0718, 1.0718, 1.0695, 1.0715, 1.0568, 1.0712, 1.0452, 1.0366, 1.0675, 1.0198, 1.02, 0.9163, 1.0136, 0.9277, 1.0449, 0.9856, 0.8695, 0.9102, 0.9063, 0.8611, 0.8066, 0.6349, 0.9642, 0.9761, 0.8888, 0.5945, 0.7306, 0.7719, 0.5747, 0.3738, 0.4059, 0.4962, 0.1829, 0.3694, -0.0088, 0.0114, 0.4313, 0.1792, 0.4065, 0.5852, 0.0227, 0.0716, 0.4294, -0.1004, 0.0673, -0.4261, -0.0795, -0.2334, 0.1206, -0.0069, -0.0582, 0.0833, -0.3827, 0.3577, -0.0668, -0.2086, -0.3005, -0.3866, -0.34, 1.5875, 1.586, 1.5858, 1.5838, 1.5815, 1.5808, 1.5808, 1.5797, 1.5788, 1.5781, 1.5763, 1.5762, 1.5754, 1.5752, 1.5749, 1.573, 1.5695, 1.567, 1.5669, 1.5669, 1.5668, 1.5663, 1.5662, 1.5657, 1.5648, 1.5646, 1.5642, 1.5631, 1.563, 1.5607, 1.5459, 1.5543, 1.5461, 1.5007, 1.5533, 1.4622, 1.4136, 1.5363, 1.3395, 1.4085, 1.3494, 1.3156, 1.4251, 0.7424, 0.995, 1.4156, 0.6876, 1.2455, 0.6783, 0.7378, 0.1722, 0.7855, 0.4168, 0.2031, -0.1966, 0.0057, -0.3047, -0.0775, -0.244, 0.3043, 0.3705, -0.1842, 0.0601, -0.2262, 0.0566, 0.3907, 0.3704, 0.0283, -0.0874, 0.4008, -0.3734, 0.0925, 0.0537, 0.2557, 0.2406, -0.2155, 0.0964, -0.3272, -0.2463, -0.0985], \"logprob\": [30.0, 29.0, 28.0, 27.0, 26.0, 25.0, 24.0, 23.0, 22.0, 21.0, 20.0, 19.0, 18.0, 17.0, 16.0, 15.0, 14.0, 13.0, 12.0, 11.0, 10.0, 9.0, 8.0, 7.0, 6.0, 5.0, 4.0, 3.0, 2.0, 1.0, -7.095699787139893, -7.128699779510498, -7.654099941253662, -7.8821001052856445, -8.002699851989746, -7.777100086212158, -8.159199714660645, -8.257499694824219, -8.36620044708252, -8.413900375366211, -8.181699752807617, -8.516400337219238, -8.490799903869629, -8.571200370788574, -8.243300437927246, -8.544400215148926, -8.690299987792969, -8.75629997253418, -8.75629997253418, -8.351200103759766, -8.790800094604492, -8.792099952697754, -8.759499549865723, -8.865300178527832, -8.903599739074707, -8.94320011138916, -8.666999816894531, -8.944700241088867, -9.029000282287598, -8.907099723815918, -8.699999809265137, -6.78410005569458, -7.045300006866455, -7.988100051879883, -7.483500003814697, -8.123100280761719, -8.199199676513672, -5.560400009155273, -6.6203999519348145, -7.646699905395508, -8.110099792480469, -8.2253999710083, -7.905900001525879, -6.571199893951416, -6.512899875640869, -7.121399879455566, -4.882999897003174, -6.173099994659424, -5.752500057220459, -6.370699882507324, -5.766200065612793, -6.087200164794922, -5.838399887084961, -6.481800079345703, -6.059000015258789, -5.848100185394287, -6.248799800872803, -6.589399814605713, -6.219600200653076, -5.934100151062012, -6.032100200653076, -5.55620002746582, -6.563199996948242, -5.658199787139893, -5.186999797821045, -5.891200065612793, -5.307600021362305, -6.3867998123168945, -5.616700172424316, -5.646999835968018, -5.868599891662598, -6.04610013961792, -6.2204999923706055, -6.201499938964844, -5.76200008392334, -6.05649995803833, -6.093999862670898, -6.345200061798096, -6.074999809265137, -6.140200138092041, -6.197700023651123, -6.126699924468994, -7.7947001457214355, -7.986400127410889, -8.074799537658691, -7.685800075531006, -7.7195000648498535, -8.399900436401367, -8.464699745178223, -8.464699745178223, -8.464799880981445, -7.402100086212158, -8.500200271606445, -8.572600364685059, -8.61139965057373, -8.156299591064453, -8.612199783325195, -8.286999702453613, -8.693499565124512, -8.693599700927734, -8.693599700927734, -8.576000213623047, -8.693699836730957, -8.694299697875977, -7.021500110626221, -8.6943998336792, -8.61520004272461, -8.78320026397705, -8.78320026397705, -8.474200248718262, -8.83180046081543, -8.740699768066406, -7.434700012207031, -8.006099700927734, -7.509500026702881, -8.544300079345703, -7.434599876403809, -7.165900230407715, -8.4798002243042, -7.349899768829346, -7.416600227355957, -6.003900051116943, -7.631499767303467, -6.762499809265137, -8.294099807739258, -7.769199848175049, -6.938899993896484, -7.270599842071533, -7.3516998291015625, -7.140699863433838, -7.028500080108643, -6.2153000831604, -7.883600234985352, -7.944399833679199, -7.542399883270264, -6.295899868011475, -6.890900135040283, -7.091100215911865, -6.4085001945495605, -5.835700035095215, -6.036900043487549, -6.368199825286865, -5.522600173950195, -6.132599830627441, -5.275599956512451, -5.377900123596191, -6.366399765014648, -5.9116997718811035, -6.38129997253418, -6.73859977722168, -5.705599784851074, -5.911600112915039, -6.498000144958496, -5.84250020980835, -6.144599914550781, -5.615900039672852, -6.10890007019043, -5.988500118255615, -6.3730998039245605, -6.271399974822998, -6.240600109100342, -6.411099910736084, -6.242000102996826, -6.656300067901611, -6.48799991607666, -6.47629976272583, -6.471099853515625, -6.464300155639648, -6.484099864959717, -7.033599853515625, -7.434299945831299, -7.554599761962891, -7.645400047302246, -7.797800064086914, -7.771699905395508, -7.854100227355957, -7.913899898529053, -7.945499897003174, -7.97790002822876, -7.69980001449585, -8.04640007019043, -8.082200050354004, -8.08240032196045, -8.119000434875488, -8.01550006866455, -8.28439998626709, -8.203300476074219, -8.377799987792969, -8.377799987792969, -8.244400024414062, -8.378399848937988, -8.378399848937988, -7.264500141143799, -8.288900375366211, -8.28909969329834, -7.990600109100342, -7.43720006942749, -8.481599807739258, -8.383500099182129, -7.452099800109863, -7.907299995422363, -7.976900100708008, -7.308300018310547, -8.177000045776367, -7.424099922180176, -7.223800182342529, -8.118599891662598, -7.05679988861084, -7.489799976348877, -7.2052998542785645, -7.069900035858154, -7.586599826812744, -5.335400104522705, -6.19290018081665, -7.630799770355225, -6.017499923706055, -7.289599895477295, -6.247200012207031, -6.503399848937988, -5.811100006103516, -6.794400215148926, -6.285699844360352, -5.9980998039245605, -5.463399887084961, -5.853600025177002, -5.4944000244140625, -5.8196001052856445, -5.633299827575684, -6.309100151062012, -6.400199890136719, -5.939300060272217, -6.176300048828125, -5.931700229644775, -6.207900047302246, -6.542500019073486, -6.549600124359131, -6.30679988861084, -6.230100154876709, -6.594699859619141, -6.101600170135498, -6.413400173187256, -6.406300067901611, -6.517899990081787, -6.5472002029418945, -6.359600067138672, -6.497300148010254, -6.356599807739258, -6.428699970245361, -6.519700050354004]}, \"token.table\": {\"Topic\": [1, 2, 3, 1, 2, 3, 1, 2, 3, 1, 2, 3, 1, 2, 3, 1, 2, 3, 2, 1, 1, 2, 3, 1, 2, 3, 3, 1, 1, 2, 2, 3, 1, 2, 3, 1, 2, 3, 1, 1, 1, 2, 3, 1, 1, 3, 1, 2, 3, 1, 2, 3, 1, 2, 3, 3, 1, 1, 2, 3, 1, 2, 3, 3, 1, 2, 3, 1, 2, 3, 1, 2, 3, 1, 2, 3, 1, 2, 3, 1, 2, 3, 1, 1, 1, 2, 1, 2, 3, 1, 2, 1, 2, 3, 1, 2, 3, 1, 2, 3, 1, 2, 3, 1, 2, 3, 1, 1, 2, 3, 1, 2, 3, 1, 2, 3, 1, 3, 1, 2, 1, 3, 1, 2, 3, 1, 2, 3, 1, 1, 2, 3, 1, 2, 3, 2, 1, 2, 1, 2, 3, 1, 2, 3, 1, 2, 3, 3, 1, 2, 3, 1, 2, 3, 2, 2, 1, 1, 2, 3, 2, 3, 2, 1, 2, 3, 1, 2, 3, 1, 2, 3, 1, 1, 2, 3, 1, 1, 2, 3, 2, 3, 1, 2, 3, 1, 2, 3, 2, 2, 3, 1, 2, 3, 1, 1, 2, 3, 1, 2, 3, 2, 2, 1, 2, 3, 1, 2, 3, 1, 2, 3, 1, 2, 3, 3, 1, 2, 3, 1, 2, 2, 1, 2, 3, 1, 2, 3, 1, 2, 3, 1, 2, 3, 1, 3, 1, 1, 2, 3, 1, 2, 1, 3, 1, 2, 3, 1, 3, 1, 2, 3, 1, 1, 2, 1, 2, 3, 1, 2, 3, 1, 2, 3, 1, 2, 3, 1, 2, 3, 1, 2, 3, 1, 2, 3, 1, 2, 3, 1, 2, 1, 2, 3, 2, 3, 1, 3, 1, 2, 2, 3, 1, 2, 3, 1, 2, 3, 2, 3, 1, 2, 3, 2, 3, 1, 2, 3, 1, 2, 3, 2, 3, 1, 2, 3, 3, 3, 3, 2, 1, 2, 3, 2, 3, 2, 1, 2, 3, 1, 3, 1, 2, 3, 1, 2, 3, 1, 2, 3, 1, 2, 3, 1, 3, 3, 1, 2, 3, 1, 2, 3, 1, 2, 1, 2, 3, 1, 3, 1, 2, 3, 1, 2, 3, 1, 2, 1, 2, 3, 1, 2, 3, 1, 3, 3, 2, 1, 2, 3, 1, 2, 3, 1, 2, 3, 1, 2, 3, 1, 2, 3, 1, 2, 3, 1, 2, 1, 2, 3, 1, 2, 3, 3, 2, 1, 2, 3, 2, 2, 2, 1, 2, 3, 1, 2, 1, 2, 3, 1, 2, 1, 2, 3, 1, 2, 3, 1, 2, 3, 1, 2, 3, 3, 2, 1, 1, 2, 3, 1, 2, 3, 1, 3, 2, 3, 1, 2, 3, 1, 1, 1, 3, 1], \"Freq\": [0.15636597516904527, 0.8058861797173872, 0.03608445580824122, 0.05050969854965122, 0.9470568478059603, 0.9671412952239103, 0.20682636099274335, 0.03447106016545723, 0.7468729702515733, 0.01266510548883213, 0.9752131226400741, 0.01266510548883213, 0.3238608657308028, 0.5447892082448388, 0.13305911537777168, 0.02753766902656372, 0.9500495814164484, 0.02753766902656372, 0.97895860818873, 0.9959098220055017, 0.31468628076100313, 0.5096039024264006, 0.17378197594264352, 0.9923322789191384, 0.01323109705225518, 0.9777930210264931, 0.9480931735802249, 0.9556320983717252, 0.9806546813192583, 0.9574946033831967, 0.9511118632160682, 0.9566414465386252, 0.20907781214669052, 0.011615434008149475, 0.7666186445378653, 0.09975557360920269, 0.881174233547957, 0.016625928934867112, 0.990819222591594, 0.9763959954145339, 0.03828000547106115, 0.9378601340409982, 0.028710004103295862, 0.9960313204008981, 0.036997269249315415, 0.9619290004822008, 0.5489699281161132, 0.30607251944569014, 0.14486706436397434, 0.9503040743289166, 0.019798001548519097, 0.039596003097038195, 0.6022763837603452, 0.23577959851064223, 0.16248024146070164, 0.9744439055087282, 0.9873486994203359, 0.3262046955471842, 0.5080237061800409, 0.16577615675348703, 0.5199251867365006, 0.2328023224193286, 0.2470291310116209, 0.9478630039153187, 0.5070978492333789, 0.33481092423902586, 0.1579296812448235, 0.4479465392219531, 0.497352407518492, 0.05599331740274414, 0.49593541426340837, 0.3606803012824788, 0.14565935244100106, 0.44199667419397765, 0.3978757940605325, 0.16072606334326459, 0.5020061819363986, 0.3542804044394896, 0.14380385420053082, 0.10246441562782606, 0.47572764398633527, 0.42083599275714273, 0.9765613879507341, 0.995493376048105, 0.01693925729579965, 0.9824769231563799, 0.45744511013135825, 0.32930536542588745, 0.21356624117578474, 0.9864475123696214, 0.019728950247392428, 0.3978518024361648, 0.3005355342143691, 0.3005355342143691, 0.5076685787724478, 0.30943608610892054, 0.18211602984535427, 0.364727336263328, 0.5880874879284669, 0.04523749907142052, 0.17196554405608605, 0.8193652393260571, 0.010115620238593297, 0.8586736062918866, 0.12266765804169809, 0.018039361476720306, 0.966130634709981, 0.5715337044826245, 0.22604066125840133, 0.20306904934189712, 0.5305720145362454, 0.3122505157318573, 0.15739456890548906, 0.11376264070173386, 0.018960440116955645, 0.8721802453799596, 0.03370711655349753, 0.9437992634979309, 0.9506691332967917, 0.038802821767215986, 0.9455884759877257, 0.0525326931104292, 0.9106913374524055, 0.07499811014313927, 0.010714015734734182, 0.648709235601265, 0.2507789696733325, 0.10155511995035779, 0.9975875807060491, 0.5390999293189301, 0.18751301889354094, 0.27345648588641386, 0.6821013577081146, 0.19451059911522345, 0.12222625484943095, 0.991208082631606, 0.03669396259945965, 0.9540430275859509, 0.6770616498519813, 0.17860139444536677, 0.14612841363711826, 0.6278382107397947, 0.29263645415837886, 0.0780363877755677, 0.37469188638780704, 0.0832648636417349, 0.5446909829896824, 0.9755594509677199, 0.04836996676267821, 0.919029368490886, 0.03627747507200866, 0.3948968256974566, 0.4787687178809872, 0.1258078382752959, 0.9636414949772351, 0.9912103989981064, 0.9740282102837744, 0.5140589267653742, 0.29911854880147376, 0.18633614515501642, 0.9542003278164897, 0.059637520488530604, 0.9912126524349077, 0.05309072135788689, 0.8282152531830355, 0.1194541230552455, 0.7098686894469451, 0.15493165841103962, 0.13521308370418003, 0.253578338304872, 0.040038684995506106, 0.6940038732554391, 0.9763864444924726, 0.07847661254756569, 0.8828618911601139, 0.039238306273782844, 0.9980718399613517, 0.8367114150893403, 0.08715743907180629, 0.07553644719556545, 0.9733387951774396, 0.025840852969312555, 0.7459049306858327, 0.10271477734034418, 0.15162657607384142, 0.2896098358467749, 0.6237750310545921, 0.08663542097980446, 0.9636421187508715, 0.979079211924365, 0.9834908200874745, 0.2464912023540595, 0.4976331821110258, 0.25579275715987304, 0.9815251036436808, 0.9538212256069918, 0.023609436277400787, 0.023609436277400787, 0.1921823977911112, 0.7422216742277399, 0.06626979234176249, 0.9762237853017276, 0.9511193905332492, 0.044094856291737025, 0.044094856291737025, 0.9700868384182145, 0.37320079778908644, 0.47233225970181253, 0.15161282410181637, 0.5704321398242909, 0.26244845910638637, 0.167238450282303, 0.26797306152046996, 0.600362724367976, 0.13140986670715354, 0.9562264017162627, 0.8001583786523956, 0.12077862319281443, 0.08152557065514975, 0.981233026294687, 0.032707767543156234, 0.9636276622336266, 0.8183703906296915, 0.1622425264222129, 0.020280315802776613, 0.48253090730264897, 0.21350925101887122, 0.30531822895698585, 0.17271818475147446, 0.019190909416830496, 0.8252091049237112, 0.5647560356369022, 0.13715503722610484, 0.2985139045509341, 0.04240091316500191, 0.9540205462125431, 0.9688686518031883, 0.24644018251947863, 0.31318439861850406, 0.4415386603473992, 0.9762638584091503, 0.023244377581170247, 0.027999584307379415, 0.9799854507582796, 0.6323645678575944, 0.15407187564326982, 0.2143608704602015, 0.9878440405091032, 0.9660587035950505, 0.5833197823412183, 0.26816122695307193, 0.1479033571339108, 0.96274552266641, 0.026848833251019895, 0.9665579970367162, 0.5226848931161998, 0.21778537213174992, 0.25904996895671306, 0.40690858734855434, 0.48124765619107873, 0.11216070035889639, 0.44708239737286065, 0.374301541986581, 0.18021926095650195, 0.4434863180306265, 0.2651773860389313, 0.29260952942226903, 0.6712096565825286, 0.2249970398121716, 0.10399022848461711, 0.13350749190355274, 0.044502497301184246, 0.8232962000719085, 0.737077792677293, 0.2516367733064952, 0.011888351494795049, 0.7103824607838972, 0.06840719992733825, 0.22100787668832358, 0.030580286653910813, 0.978569172925146, 0.06448301485464127, 0.1074716914244021, 0.8382791931103364, 0.9740636133661226, 0.9835575894356108, 0.958316603512164, 0.036162890698572224, 0.12770695956515707, 0.8757048655896484, 0.7828961702844408, 0.211381965976799, 0.4748963778560577, 0.3961330761628579, 0.1285695071756644, 0.6904692341888691, 0.12443085139092692, 0.18420645647088202, 0.03583774071014096, 0.931781258463665, 0.6750380411133394, 0.20476153913771294, 0.11925672059668996, 0.9636422765788389, 0.9835625561765722, 0.46703211467637695, 0.13610650199140129, 0.39764448621017234, 0.4752462066597377, 0.12416342336155309, 0.40032000290707637, 0.9874718017766894, 0.9689566939960771, 0.5060385661781512, 0.32821376882639125, 0.165631096961925, 0.9933898715293811, 0.9884838356258422, 0.9479121538590651, 0.9636193498250781, 0.5367959548135794, 0.25582837515908885, 0.2070287429033089, 0.964223453332537, 0.022957701269822307, 0.9873701149092684, 0.07917892783105991, 0.9162133077594075, 0.9844620335506891, 0.974141075091089, 0.9841162218876925, 0.6794823982471887, 0.18752740023309508, 0.13273043263251535, 0.059134799882280605, 0.11826959976456121, 0.8278871983519285, 0.02125058917335785, 0.02125058917335785, 0.9562765128011032, 0.6048323884903114, 0.18262252173253168, 0.2127803693580874, 0.9831765803289422, 0.9830057060631433, 0.983493435501812, 0.03211619922866338, 0.6851455835448188, 0.27834039331508265, 0.5222885724287235, 0.3385203710186171, 0.13863215194095746, 0.039314909577910964, 0.9828727394477741, 0.1947318942940584, 0.5961180437573216, 0.2106283754609203, 0.9833444882208736, 0.020922223153635608, 0.463470138633909, 0.3160023672503925, 0.22215924000633655, 0.40460478529011223, 0.355719374213929, 0.23922647973451366, 0.025880426558288448, 0.9705159959358167, 0.017925520718533535, 0.017925520718533535, 0.967978118800811, 0.08775478442633453, 0.017550956885266904, 0.8950988011486121, 0.9863117869283109, 0.98982592281581, 0.9840780797578534, 0.9866725858952429, 0.7453692442733272, 0.19112031904444285, 0.0627966762574598, 0.35210098400946677, 0.2252074475644966, 0.4229784548165672, 0.04089267112578987, 0.04089267112578987, 0.940531435893167, 0.8087007067376897, 0.0776352678468182, 0.11645290177022732, 0.6395628511426958, 0.2600091964925913, 0.10161278943388626, 0.17692439702129295, 0.054438276006551684, 0.7757454330933614, 0.9358155080003575, 0.05614893048002145, 0.9237668652754278, 0.06998233827844151, 0.0139964676556883, 0.9677937567634699, 0.03173094284470393, 0.015865471422351965, 0.9631216870075358, 0.9742463017975717, 0.14046514615694639, 0.8240621907874187, 0.03745737230851903, 0.943936841916392, 0.9636348363848342, 0.9636383017250086, 0.6447629772101621, 0.2446085224824545, 0.1091330331075566, 0.9492941919146977, 0.04899582926011343, 0.1375950022176518, 0.8370362634907151, 0.02866562546201079, 0.01747528068842947, 0.9786157185520502, 0.029795410545098086, 0.9087600216254916, 0.05959082109019617, 0.20002732193637404, 0.787204299233472, 0.006452494256012065, 0.4830176290865988, 0.2255851564415434, 0.29193373186552674, 0.6350219275612905, 0.21637784198384716, 0.1486421697106428, 0.9637923933372272, 0.9742050627794002, 0.989475430953092, 0.6918178725989944, 0.17044788165482472, 0.1383635745197989, 0.723363286591437, 0.10038510915962799, 0.17715019263463763, 0.014544534295865422, 0.9890283321188488, 0.9547292117652302, 0.0367203542986627, 0.10903284242991734, 0.7155280284463326, 0.1771783689486157, 0.9659592806439661, 0.9923061661408887, 0.9743187338504046, 0.9779964652291016, 0.9628485450307197], \"Term\": [\"\\u0430\\u043b\\u0435\\u043a\\u0441\\u0435\\u0439\", \"\\u0430\\u043b\\u0435\\u043a\\u0441\\u0435\\u0439\", \"\\u0430\\u043b\\u0435\\u043a\\u0441\\u0435\\u0439\", \"\\u0430\\u043b\\u0435\\u0448\\u043a\\u0430\", \"\\u0430\\u043b\\u0435\\u0448\\u043a\\u0430\", \"\\u0430\\u043b\\u044f\\u0432\\u0434\\u0438\\u043d\", \"\\u0430\\u043d\\u0434\\u0440\\u0438\\u0439\", \"\\u0430\\u043d\\u0434\\u0440\\u0438\\u0439\", \"\\u0430\\u043d\\u0434\\u0440\\u0438\\u0439\", \"\\u0430\\u0442\\u0430\\u043c\\u0430\\u043d\", \"\\u0430\\u0442\\u0430\\u043c\\u0430\\u043d\", \"\\u0430\\u0442\\u0430\\u043c\\u0430\\u043d\", \"\\u0431\\u0430\\u0431\\u0430\", \"\\u0431\\u0430\\u0431\\u0430\", \"\\u0431\\u0430\\u0431\\u0430\", \"\\u0431\\u0430\\u0437\\u0430\", \"\\u0431\\u0430\\u0437\\u0430\", \"\\u0431\\u0430\\u0437\\u0430\", \"\\u0431\\u0430\\u0440\\u043a\\u0430\\u0441\", \"\\u0431\\u0435\\u043b\\u043e\\u0432\", \"\\u0431\\u0435\\u043b\\u044b\\u0439\", \"\\u0431\\u0435\\u043b\\u044b\\u0439\", \"\\u0431\\u0435\\u043b\\u044b\\u0439\", \"\\u0431\\u0435\\u0441\\u0441\\u043e\\u043d\\u043e\\u0432\", \"\\u0431\\u0435\\u0441\\u0441\\u043e\\u043d\\u043e\\u0432\", \"\\u0431\\u0435\\u0442\\u043e\\u043d\", \"\\u0431\\u0435\\u0442\\u043e\\u043d\\u043e\\u043c\\u0435\\u0448\\u0430\\u043b\\u043a\\u0430\", \"\\u0431\\u043e\\u0435\\u0440\\u0435\\u0432\\u043a\\u043e\\u043c\", \"\\u0431\\u043e\\u0435\\u0441\\u043e\\u0432\\u0435\\u0442\", \"\\u0431\\u043e\\u044f\\u0440\\u0441\\u043a\\u0438\\u0439\", \"\\u0431\\u0440\\u0435\\u0434\\u0435\\u043d\\u044c\", \"\\u0431\\u0440\\u0435\\u043c\\u0441\\u0431\\u0435\\u0440\\u0433\", \"\\u0431\\u0440\\u0438\\u0433\\u0430\\u0434\\u0430\", \"\\u0431\\u0440\\u0438\\u0433\\u0430\\u0434\\u0430\", \"\\u0431\\u0440\\u0438\\u0433\\u0430\\u0434\\u0430\", \"\\u0431\\u0440\\u0438\\u0447\\u043a\\u0430\", \"\\u0431\\u0440\\u0438\\u0447\\u043a\\u0430\", \"\\u0431\\u0440\\u0438\\u0447\\u043a\\u0430\", \"\\u0431\\u0440\\u043e\\u043d\\u043d\\u0438\\u043a\\u043e\\u0432\", \"\\u0431\\u0443\\u043a\\u0438\\u043d\", \"\\u0431\\u044b\\u043a\", \"\\u0431\\u044b\\u043a\", \"\\u0431\\u044b\\u043a\", \"\\u0432\\u0430\\u0440\\u0430\\u0432\\u043a\\u0430\", \"\\u0432\\u0430\\u0445\\u0442\\u0430\", \"\\u0432\\u0430\\u0445\\u0442\\u0430\", \"\\u0432\\u0435\\u0441\\u044c\", \"\\u0432\\u0435\\u0441\\u044c\", \"\\u0432\\u0435\\u0441\\u044c\", \"\\u0432\\u0437\\u0440\\u043e\\u0441\\u043b\\u044b\\u0439\", \"\\u0432\\u0437\\u0440\\u043e\\u0441\\u043b\\u044b\\u0439\", \"\\u0432\\u0437\\u0440\\u043e\\u0441\\u043b\\u044b\\u0439\", \"\\u0432\\u0438\\u0434\\u0435\\u0442\\u044c\", \"\\u0432\\u0438\\u0434\\u0435\\u0442\\u044c\", \"\\u0432\\u0438\\u0434\\u0435\\u0442\\u044c\", \"\\u0432\\u0438\\u043d\\u043a\\u0438\\u0447\", \"\\u0432\\u0438\\u0440\\u0438\\u043d\\u0435\\u044f\", \"\\u0432\\u043e\\u0434\\u0430\", \"\\u0432\\u043e\\u0434\\u0430\", \"\\u0432\\u043e\\u0434\\u0430\", \"\\u0432\\u0440\\u0435\\u043c\\u044f\", \"\\u0432\\u0440\\u0435\\u043c\\u044f\", \"\\u0432\\u0440\\u0435\\u043c\\u044f\", \"\\u0433\\u0430\\u0439\", \"\\u0433\\u043b\\u0430\\u0437\", \"\\u0433\\u043b\\u0430\\u0437\", \"\\u0433\\u043b\\u0430\\u0437\", \"\\u0433\\u043b\\u044f\\u0434\\u0435\\u0442\\u044c\", \"\\u0433\\u043b\\u044f\\u0434\\u0435\\u0442\\u044c\", \"\\u0433\\u043b\\u044f\\u0434\\u0435\\u0442\\u044c\", \"\\u0433\\u043e\\u0434\", \"\\u0433\\u043e\\u0434\", \"\\u0433\\u043e\\u0434\", \"\\u0433\\u043e\\u043b\\u043e\\u0432\\u0430\", \"\\u0433\\u043e\\u043b\\u043e\\u0432\\u0430\", \"\\u0433\\u043e\\u043b\\u043e\\u0432\\u0430\", \"\\u0433\\u043e\\u043b\\u043e\\u0441\", \"\\u0433\\u043e\\u043b\\u043e\\u0441\", \"\\u0433\\u043e\\u043b\\u043e\\u0441\", \"\\u0433\\u043e\\u0440\\u0430\", \"\\u0433\\u043e\\u0440\\u0430\", \"\\u0433\\u043e\\u0440\\u0430\", \"\\u0433\\u043e\\u0441\\u0442\\u0438\\u043d\\u0430\\u044f\", \"\\u0433\\u0440\\u0435\\u043a\\u043e\\u0432\", \"\\u0433\\u0440\\u0438\\u0448\\u043a\\u0430\", \"\\u0433\\u0440\\u0438\\u0448\\u043a\\u0430\", \"\\u0434\\u0430\\u0432\\u0430\\u0442\\u044c\", \"\\u0434\\u0430\\u0432\\u0430\\u0442\\u044c\", \"\\u0434\\u0430\\u0432\\u0430\\u0442\\u044c\", \"\\u0434\\u0430\\u043a\", \"\\u0434\\u0430\\u043a\", \"\\u0434\\u0430\\u043b\\u0435\\u043a\\u043e\", \"\\u0434\\u0430\\u043b\\u0435\\u043a\\u043e\", \"\\u0434\\u0430\\u043b\\u0435\\u043a\\u043e\", \"\\u0434\\u0432\\u0435\\u0440\\u044c\", \"\\u0434\\u0432\\u0435\\u0440\\u044c\", \"\\u0434\\u0432\\u0435\\u0440\\u044c\", \"\\u0434\\u0432\\u043e\\u0440\", \"\\u0434\\u0432\\u043e\\u0440\", \"\\u0434\\u0432\\u043e\\u0440\", \"\\u0434\\u0435\\u0432\\u043a\\u0430\", \"\\u0434\\u0435\\u0432\\u043a\\u0430\", \"\\u0434\\u0435\\u0432\\u043a\\u0430\", \"\\u0434\\u0435\\u0432\\u0443\\u0448\\u043a\\u0430\", \"\\u0434\\u0435\\u0432\\u0443\\u0448\\u043a\\u0430\", \"\\u0434\\u0435\\u0432\\u0443\\u0448\\u043a\\u0430\", \"\\u0434\\u0435\\u043b\\u0435\\u0433\\u0430\\u0442\", \"\\u0434\\u0435\\u043b\\u043e\", \"\\u0434\\u0435\\u043b\\u043e\", \"\\u0434\\u0435\\u043b\\u043e\", \"\\u0434\\u0435\\u043d\\u044c\", \"\\u0434\\u0435\\u043d\\u044c\", \"\\u0434\\u0435\\u043d\\u044c\", \"\\u0434\\u0435\\u0440\\u0431\\u0435\\u043d\\u0442\", \"\\u0434\\u0435\\u0440\\u0431\\u0435\\u043d\\u0442\", \"\\u0434\\u0435\\u0440\\u0431\\u0435\\u043d\\u0442\", \"\\u0434\\u0437\\u0435\\u0431\\u0435\\u043a\", \"\\u0434\\u0437\\u0435\\u0431\\u0435\\u043a\", \"\\u0434\\u0438\\u0432\\u0430\\u043d\", \"\\u0434\\u0438\\u0432\\u0430\\u043d\", \"\\u0434\\u0438\\u0440\\u0435\\u043a\\u0442\\u043e\\u0440\", \"\\u0434\\u0438\\u0440\\u0435\\u043a\\u0442\\u043e\\u0440\", \"\\u0434\\u043e\\u043a\\u0442\\u043e\\u0440\", \"\\u0434\\u043e\\u043a\\u0442\\u043e\\u0440\", \"\\u0434\\u043e\\u043a\\u0442\\u043e\\u0440\", \"\\u0434\\u043e\\u043c\", \"\\u0434\\u043e\\u043c\", \"\\u0434\\u043e\\u043c\", \"\\u0434\\u0440\\u043e\\u043d\\u043e\\u0432\", \"\\u0434\\u0440\\u0443\\u0433\", \"\\u0434\\u0440\\u0443\\u0433\", \"\\u0434\\u0440\\u0443\\u0433\", \"\\u0434\\u0443\\u043c\\u0430\\u0442\\u044c\", \"\\u0434\\u0443\\u043c\\u0430\\u0442\\u044c\", \"\\u0434\\u0443\\u043c\\u0430\\u0442\\u044c\", \"\\u0434\\u0443\\u043d\\u044f\\u0448\\u043a\\u0430\", \"\\u0434\\u044e\\u0436\\u0435\", \"\\u0434\\u044e\\u0436\\u0435\", \"\\u0436\\u0438\\u0437\\u043d\\u044c\", \"\\u0436\\u0438\\u0437\\u043d\\u044c\", \"\\u0436\\u0438\\u0437\\u043d\\u044c\", \"\\u0436\\u0438\\u0442\\u044c\", \"\\u0436\\u0438\\u0442\\u044c\", \"\\u0436\\u0438\\u0442\\u044c\", \"\\u0437\\u0430\\u0432\\u043e\\u0434\", \"\\u0437\\u0430\\u0432\\u043e\\u0434\", \"\\u0437\\u0430\\u0432\\u043e\\u0434\", \"\\u0437\\u0430\\u043c\\u0435\\u0441\", \"\\u0437\\u0430\\u0440\\u0430\\u0437\", \"\\u0437\\u0430\\u0440\\u0430\\u0437\", \"\\u0437\\u0430\\u0440\\u0430\\u0437\", \"\\u0437\\u0435\\u043c\\u043b\\u044f\", \"\\u0437\\u0435\\u043c\\u043b\\u044f\", \"\\u0437\\u0435\\u043c\\u043b\\u044f\", \"\\u0437\\u0438\\u043f\\u0443\\u043d\", \"\\u0438\\u0432\\u0430\\u0448\\u043a\\u0430\", \"\\u0438\\u0433\\u043e\\u0440\\u044c\", \"\\u0438\\u0434\\u0442\\u0438\", \"\\u0438\\u0434\\u0442\\u0438\", \"\\u0438\\u0434\\u0442\\u0438\", \"\\u0438\\u043d\\u043e\\u0433\\u043e\\u0440\\u043e\\u0434\\u043d\\u0438\\u0439\", \"\\u0438\\u043d\\u043e\\u0433\\u043e\\u0440\\u043e\\u0434\\u043d\\u0438\\u0439\", \"\\u0438\\u0448\\u043e\", \"\\u043a\\u0430\\u0437\\u0430\\u043a\", \"\\u043a\\u0430\\u0437\\u0430\\u043a\", \"\\u043a\\u0430\\u0437\\u0430\\u043a\", \"\\u043a\\u0430\\u043a\\u043e\\u0439-\\u0442\\u043e\", \"\\u043a\\u0430\\u043a\\u043e\\u0439-\\u0442\\u043e\", \"\\u043a\\u0430\\u043a\\u043e\\u0439-\\u0442\\u043e\", \"\\u043a\\u0430\\u043f\\u0438\\u0442\\u0430\\u043d\", \"\\u043a\\u0430\\u043f\\u0438\\u0442\\u0430\\u043d\", \"\\u043a\\u0430\\u043f\\u0438\\u0442\\u0430\\u043d\", \"\\u043a\\u0430\\u044e\\u0442\\u043a\\u0438\\u043d\", \"\\u043a\\u0438\\u043d\\u0443\\u0442\\u044c\", \"\\u043a\\u0438\\u043d\\u0443\\u0442\\u044c\", \"\\u043a\\u0438\\u043d\\u0443\\u0442\\u044c\", \"\\u043a\\u043b\\u0435\\u043e\\u043f\\u0430\\u0442\\u0440\\u0430\", \"\\u043a\\u043d\\u0438\\u0433\\u0430\", \"\\u043a\\u043d\\u0438\\u0433\\u0430\", \"\\u043a\\u043d\\u0438\\u0433\\u0430\", \"\\u043a\\u043e\\u043b\\u0445\\u043e\\u0437\", \"\\u043a\\u043e\\u043b\\u0445\\u043e\\u0437\", \"\\u043a\\u043e\\u043c\\u043d\\u0430\\u0442\\u0430\", \"\\u043a\\u043e\\u043c\\u043d\\u0430\\u0442\\u0430\", \"\\u043a\\u043e\\u043c\\u043d\\u0430\\u0442\\u0430\", \"\\u043a\\u043e\\u043d\\u044c\", \"\\u043a\\u043e\\u043d\\u044c\", \"\\u043a\\u043e\\u043d\\u044c\", \"\\u043a\\u043e\\u0440\\u0448\\u0443\\u043d\\u043e\\u0432\", \"\\u043a\\u043e\\u0441\\u0442\\u044b\\u043b\\u044c\", \"\\u043a\\u043e\\u0442\\u0435\\u043b\\u044c\\u043d\\u0438\\u043a\\u043e\\u0432\", \"\\u043a\\u0440\\u0430\\u0441\\u043d\\u044b\\u0439\", \"\\u043a\\u0440\\u0430\\u0441\\u043d\\u044b\\u0439\", \"\\u043a\\u0440\\u0430\\u0441\\u043d\\u044b\\u0439\", \"\\u043a\\u0440\\u0435\\u043f\\u043e\\u0441\\u0442\\u043d\\u0438\\u043a\", \"\\u043a\\u0440\\u0435\\u043f\\u043e\\u0441\\u0442\\u044c\", \"\\u043a\\u0440\\u0435\\u043f\\u043e\\u0441\\u0442\\u044c\", \"\\u043a\\u0440\\u0435\\u043f\\u043e\\u0441\\u0442\\u044c\", \"\\u043a\\u0440\\u044b\\u043b\\u044c\\u0446\\u043e\", \"\\u043a\\u0440\\u044b\\u043b\\u044c\\u0446\\u043e\", \"\\u043a\\u0440\\u044b\\u043b\\u044c\\u0446\\u043e\", \"\\u043a\\u0443\\u0440\\u0435\\u043d\\u044c\", \"\\u043b\\u0430\\u043f\\u0448\\u0438\\u043d\", \"\\u043b\\u0435\\u0433\\u0438\\u043e\\u043d\\u0435\\u0440\", \"\\u043b\\u0435\\u0433\\u0438\\u043e\\u043d\\u0435\\u0440\", \"\\u043b\\u0435\\u0433\\u0438\\u043e\\u043d\\u0435\\u0440\", \"\\u043b\\u0435\\u0436\\u0430\\u0442\\u044c\", \"\\u043b\\u0435\\u0436\\u0430\\u0442\\u044c\", \"\\u043b\\u0435\\u0436\\u0430\\u0442\\u044c\", \"\\u043b\\u0438\\u0446\\u043e\", \"\\u043b\\u0438\\u0446\\u043e\", \"\\u043b\\u0438\\u0446\\u043e\", \"\\u043b\\u043e\\u0448\\u0430\\u0434\\u044c\", \"\\u043b\\u043e\\u0448\\u0430\\u0434\\u044c\", \"\\u043b\\u043e\\u0448\\u0430\\u0434\\u044c\", \"\\u043b\\u043e\\u0448\\u0430\\u043a\", \"\\u043b\\u044e\\u0431\\u0438\\u0442\\u044c\", \"\\u043b\\u044e\\u0431\\u0438\\u0442\\u044c\", \"\\u043b\\u044e\\u0431\\u0438\\u0442\\u044c\", \"\\u043c\\u0430\\u0440\\u0438\\u044f\", \"\\u043c\\u0430\\u0440\\u0438\\u044f\", \"\\u043c\\u0430\\u0442\\u0432\\u0435\\u0435\\u0432\", \"\\u043c\\u0430\\u0442\\u044c\", \"\\u043c\\u0430\\u0442\\u044c\", \"\\u043c\\u0430\\u0442\\u044c\", \"\\u043c\\u0435\\u0441\\u0442\\u043e\", \"\\u043c\\u0435\\u0441\\u0442\\u043e\", \"\\u043c\\u0435\\u0441\\u0442\\u043e\", \"\\u043c\\u0435\\u0445\\u0430\\u043d\\u0438\\u043a\", \"\\u043c\\u0435\\u0445\\u0430\\u043d\\u0438\\u043a\", \"\\u043c\\u0435\\u0445\\u0430\\u043d\\u0438\\u043a\", \"\\u043c\\u0438\\u043d\\u0443\\u0442\\u0430\", \"\\u043c\\u0438\\u043d\\u0443\\u0442\\u0430\", \"\\u043c\\u0438\\u043d\\u0443\\u0442\\u0430\", \"\\u043c\\u0438\\u0441\\u0442\\u0435\\u0440\", \"\\u043c\\u0438\\u0441\\u0442\\u0435\\u0440\", \"\\u043c\\u043e\\u0439\\u0448\\u0435\", \"\\u043c\\u043e\\u0440\\u0435\", \"\\u043c\\u043e\\u0440\\u0435\", \"\\u043c\\u043e\\u0440\\u0435\", \"\\u043c\\u043e\\u0440\\u043e\\u0437\\u043a\\u0430\", \"\\u043c\\u043e\\u0440\\u043e\\u0437\\u043a\\u0430\", \"\\u043c\\u043e\\u0442\\u043e\\u0440\\u0438\\u0441\\u0442\", \"\\u043c\\u043e\\u0442\\u043e\\u0440\\u0438\\u0441\\u0442\", \"\\u043c\\u043e\\u0447\\u044c\", \"\\u043c\\u043e\\u0447\\u044c\", \"\\u043c\\u043e\\u0447\\u044c\", \"\\u043c\\u044f\\u0442\\u0435\\u0436\\u043d\\u0438\\u043a\", \"\\u043d\\u0430\\u043b\\u0431\\u0430\\u043d\\u0434\\u043e\\u0432\\u043e\", \"\\u043d\\u0430\\u0448\", \"\\u043d\\u0430\\u0448\", \"\\u043d\\u0430\\u0448\", \"\\u043d\\u0435\\u043d\\u044c\\u043a\\u043e\", \"\\u043d\\u0438\\u043a\\u0438\\u0442\\u0430\", \"\\u043d\\u0438\\u043a\\u0438\\u0442\\u0430\", \"\\u043d\\u043e\\u0432\\u044b\\u0439\", \"\\u043d\\u043e\\u0432\\u044b\\u0439\", \"\\u043d\\u043e\\u0432\\u044b\\u0439\", \"\\u043d\\u043e\\u0433\\u0430\", \"\\u043d\\u043e\\u0433\\u0430\", \"\\u043d\\u043e\\u0433\\u0430\", \"\\u043d\\u043e\\u0447\\u044c\", \"\\u043d\\u043e\\u0447\\u044c\", \"\\u043d\\u043e\\u0447\\u044c\", \"\\u043e\\u043a\\u043d\\u043e\", \"\\u043e\\u043a\\u043d\\u043e\", \"\\u043e\\u043a\\u043d\\u043e\", \"\\u043e\\u0442\\u0432\\u0435\\u0447\\u0430\\u0442\\u044c\", \"\\u043e\\u0442\\u0432\\u0435\\u0447\\u0430\\u0442\\u044c\", \"\\u043e\\u0442\\u0432\\u0435\\u0447\\u0430\\u0442\\u044c\", \"\\u043e\\u0442\\u0434\\u0435\\u043b\\u0435\\u043d\\u0438\\u0435\", \"\\u043e\\u0442\\u0434\\u0435\\u043b\\u0435\\u043d\\u0438\\u0435\", \"\\u043e\\u0442\\u0434\\u0435\\u043b\\u0435\\u043d\\u0438\\u0435\", \"\\u043e\\u0442\\u0435\\u0446\", \"\\u043e\\u0442\\u0435\\u0446\", \"\\u043e\\u0442\\u0435\\u0446\", \"\\u043e\\u0447\\u0435\\u043d\\u044c\", \"\\u043e\\u0447\\u0435\\u043d\\u044c\", \"\\u043e\\u0447\\u0435\\u043d\\u044c\", \"\\u043f\\u0430\\u043b\\u0430\\u0442\\u0430\", \"\\u043f\\u0430\\u043b\\u0430\\u0442\\u0430\", \"\\u043f\\u0430\\u043b\\u0443\\u0431\\u0430\", \"\\u043f\\u0430\\u043b\\u0443\\u0431\\u0430\", \"\\u043f\\u0430\\u043b\\u0443\\u0431\\u0430\", \"\\u043f\\u0430\\u0442\\u0440\\u0438\\u0430\\u0440\\u0445\", \"\\u043f\\u0435\\u0440\\u0435\\u043c\\u0435\\u0448\\u0438\\u0432\\u0430\\u043d\\u0438\\u0435\", \"\\u043f\\u0438\\u0441\\u0430\\u0442\\u0435\\u043b\\u044c\", \"\\u043f\\u0438\\u0441\\u0430\\u0442\\u0435\\u043b\\u044c\", \"\\u043f\\u043b\\u0435\\u0442\\u0435\\u043d\\u044c\", \"\\u043f\\u043b\\u0435\\u0442\\u0435\\u043d\\u044c\", \"\\u043f\\u043e\\u0432\\u043e\\u0437\\u043a\\u0430\", \"\\u043f\\u043e\\u0432\\u043e\\u0437\\u043a\\u0430\", \"\\u043f\\u043e\\u0439\\u0442\\u0438\", \"\\u043f\\u043e\\u0439\\u0442\\u0438\", \"\\u043f\\u043e\\u0439\\u0442\\u0438\", \"\\u043f\\u043e\\u043d\\u0438\\u043c\\u0430\\u0442\\u044c\", \"\\u043f\\u043e\\u043d\\u0438\\u043c\\u0430\\u0442\\u044c\", \"\\u043f\\u043e\\u043d\\u0438\\u043c\\u0430\\u0442\\u044c\", \"\\u043f\\u0440\\u0435\\u0434\\u0438\\u0441\\u043f\\u043e\\u043b\\u043a\\u043e\\u043c\", \"\\u043f\\u0440\\u0435\\u0434\\u0438\\u0441\\u043f\\u043e\\u043b\\u043a\\u043e\\u043c\", \"\\u043f\\u0440\\u0438\\u0445\\u043e\\u0434\\u0438\\u0442\\u044c\", \"\\u043f\\u0440\\u0438\\u0445\\u043e\\u0434\\u0438\\u0442\\u044c\", \"\\u043f\\u0440\\u0438\\u0445\\u043e\\u0434\\u0438\\u0442\\u044c\", \"\\u043f\\u0440\\u043e\\u043a\\u043e\\u0444\\u0438\\u0439\", \"\\u043f\\u0440\\u043e\\u0440\\u0430\\u0431\", \"\\u0440\\u0430\\u0431\\u043e\\u0442\\u0430\", \"\\u0440\\u0430\\u0431\\u043e\\u0442\\u0430\", \"\\u0440\\u0430\\u0431\\u043e\\u0442\\u0430\", \"\\u0440\\u0430\\u0431\\u043e\\u0447\\u0438\\u0439\", \"\\u0440\\u0430\\u0431\\u043e\\u0447\\u0438\\u0439\", \"\\u0440\\u0430\\u0431\\u043e\\u0447\\u0438\\u0439\", \"\\u0440\\u0430\\u0437\\u043c\\u0435\\u0442\\u043d\\u043e\\u0432\", \"\\u0440\\u0435\\u043a\\u043e\\u0440\\u0434\", \"\\u0440\\u0443\\u043a\\u0430\", \"\\u0440\\u0443\\u043a\\u0430\", \"\\u0440\\u0443\\u043a\\u0430\", \"\\u0440\\u0443\\u043f\", \"\\u0441\\u0430\\u0432\\u0447\\u0443\\u043a\", \"\\u0441\\u0430\\u0435\\u043d\\u043a\\u043e\", \"\\u0441\\u0430\\u043b\\u043e\\u043c\\u044b\\u0433\\u0430\", \"\\u0441\\u0430\\u043c\\u044b\\u0439\", \"\\u0441\\u0430\\u043c\\u044b\\u0439\", \"\\u0441\\u0430\\u043c\\u044b\\u0439\", \"\\u0441\\u0430\\u043d\\u0438\", \"\\u0441\\u0430\\u043d\\u0438\", \"\\u0441\\u0432\\u0430\\u0442\", \"\\u0441\\u0435\\u043c\\u0435\\u043d\", \"\\u0441\\u0435\\u043c\\u0435\\u043d\", \"\\u0441\\u0435\\u043c\\u0435\\u0447\\u043a\\u0438\\u043d\", \"\\u0441\\u0435\\u043c\\u0438\\u0440\\u0435\\u0447\\u044c\\u0435\", \"\\u0441\\u0435\\u0440\\u043e\\u0448\\u0435\\u0432\\u0441\\u043a\\u0438\\u0439\", \"\\u0441\\u043b\\u043e\\u0432\\u043e\", \"\\u0441\\u043b\\u043e\\u0432\\u043e\", \"\\u0441\\u043b\\u043e\\u0432\\u043e\", \"\\u0441\\u043c\\u0435\\u043d\\u0430\", \"\\u0441\\u043c\\u0435\\u043d\\u0430\", \"\\u0441\\u043c\\u0435\\u043d\\u0430\", \"\\u0441\\u043c\\u0435\\u0442\\u0430\\u043d\\u0430\", \"\\u0441\\u043c\\u0435\\u0442\\u0430\\u043d\\u0430\", \"\\u0441\\u043c\\u0435\\u0442\\u0430\\u043d\\u0430\", \"\\u0441\\u043c\\u043e\\u0442\\u0440\\u0435\\u0442\\u044c\", \"\\u0441\\u043c\\u043e\\u0442\\u0440\\u0435\\u0442\\u044c\", \"\\u0441\\u043c\\u043e\\u0442\\u0440\\u0435\\u0442\\u044c\", \"\\u0441\\u043c\\u0443\\u0449\\u0430\\u0442\\u044c\", \"\\u0441\\u043e\\u0432\\u043d\\u0430\\u0440\\u0445\\u043e\\u0437\", \"\\u0441\\u043e\\u0440\\u0435\\u0432\\u043d\\u043e\\u0432\\u0430\\u043d\\u0438\\u0435\", \"\\u0441\\u0442\\u0430\\u043d\\u0438\\u0446\\u0430\", \"\\u0441\\u0442\\u0430\\u043d\\u0438\\u0446\\u0430\", \"\\u0441\\u0442\\u0430\\u043d\\u0438\\u0446\\u0430\", \"\\u0441\\u0442\\u0430\\u043d\\u043e\\u0432\\u0438\\u0442\\u044c\\u0441\\u044f\", \"\\u0441\\u0442\\u0430\\u043d\\u043e\\u0432\\u0438\\u0442\\u044c\\u0441\\u044f\", \"\\u0441\\u0442\\u0430\\u043d\\u043e\\u0432\\u0438\\u0442\\u044c\\u0441\\u044f\", \"\\u0441\\u0442\\u0435\\u043f\\u043a\\u0430\", \"\\u0441\\u0442\\u0435\\u043f\\u043a\\u0430\", \"\\u0441\\u0442\\u0435\\u043f\\u044c\", \"\\u0441\\u0442\\u0435\\u043f\\u044c\", \"\\u0441\\u0442\\u0435\\u043f\\u044c\", \"\\u0441\\u0442\\u0435\\u0444\\u0430\\u043d\\u0438\\u044f\", \"\\u0441\\u0442\\u0435\\u0444\\u0430\\u043d\\u0438\\u044f\", \"\\u0441\\u0442\\u043e\\u0440\\u043e\\u043d\\u0430\", \"\\u0441\\u0442\\u043e\\u0440\\u043e\\u043d\\u0430\", \"\\u0441\\u0442\\u043e\\u0440\\u043e\\u043d\\u0430\", \"\\u0441\\u0442\\u043e\\u044f\\u0442\\u044c\", \"\\u0441\\u0442\\u043e\\u044f\\u0442\\u044c\", \"\\u0441\\u0442\\u043e\\u044f\\u0442\\u044c\", \"\\u0441\\u0442\\u0440\\u0435\\u043b\\u0435\\u0446\", \"\\u0441\\u0442\\u0440\\u0435\\u043b\\u0435\\u0446\", \"\\u0441\\u0442\\u0440\\u043e\\u0438\\u0442\\u0435\\u043b\\u044c\\u0441\\u0442\\u0432\\u043e\", \"\\u0441\\u0442\\u0440\\u043e\\u0438\\u0442\\u0435\\u043b\\u044c\\u0441\\u0442\\u0432\\u043e\", \"\\u0441\\u0442\\u0440\\u043e\\u0438\\u0442\\u0435\\u043b\\u044c\\u0441\\u0442\\u0432\\u043e\", \"\\u0441\\u0443\\u0434\\u043d\\u043e\", \"\\u0441\\u0443\\u0434\\u043d\\u043e\", \"\\u0441\\u0443\\u0434\\u043d\\u043e\", \"\\u0442\\u0430\\u0448\\u043a\\u0435\\u043d\\u0442\", \"\\u0442\\u0435\\u043f\\u043b\\u044f\\u043a\", \"\\u0442\\u0435\\u0445\\u043d\\u043e\\u0440\\u0443\\u043a\", \"\\u0442\\u0438\\u0442\\u043e\\u043a\", \"\\u0442\\u0438\\u0445\\u043e\", \"\\u0442\\u0438\\u0445\\u043e\", \"\\u0442\\u0438\\u0445\\u043e\", \"\\u0442\\u043e\\u0432\\u0430\\u0440\\u0438\\u0449\", \"\\u0442\\u043e\\u0432\\u0430\\u0440\\u0438\\u0449\", \"\\u0442\\u043e\\u0432\\u0430\\u0440\\u0438\\u0449\", \"\\u0442\\u043e\\u043f\\u043b\\u0438\\u0432\\u043e\", \"\\u0442\\u043e\\u043f\\u043b\\u0438\\u0432\\u043e\", \"\\u0442\\u043e\\u043f\\u043b\\u0438\\u0432\\u043e\", \"\\u0442\\u043e\\u0447\\u043d\\u043e\", \"\\u0442\\u043e\\u0447\\u043d\\u043e\", \"\\u0442\\u043e\\u0447\\u043d\\u043e\", \"\\u0443\\u0445\\u043e\\u0434\\u0438\\u0442\\u044c\", \"\\u0443\\u0445\\u043e\\u0434\\u0438\\u0442\\u044c\", \"\\u0443\\u0445\\u043e\\u0434\\u0438\\u0442\\u044c\", \"\\u0443\\u0447\\u0430\\u0441\\u0442\\u043e\\u043a\", \"\\u0443\\u0447\\u0430\\u0441\\u0442\\u043e\\u043a\", \"\\u0443\\u0447\\u0430\\u0441\\u0442\\u043e\\u043a\", \"\\u0443\\u0447\\u0438\\u0442\\u0435\\u043b\\u044c\", \"\\u0443\\u0447\\u0438\\u0442\\u0435\\u043b\\u044c\", \"\\u0443\\u0447\\u0438\\u0442\\u044c\\u0441\\u044f\", \"\\u0443\\u0447\\u0438\\u0442\\u044c\\u0441\\u044f\", \"\\u0443\\u0447\\u0438\\u0442\\u044c\\u0441\\u044f\", \"\\u0444\\u0430\\u0431\\u0440\\u0438\\u043a\\u0430\", \"\\u0444\\u0430\\u0431\\u0440\\u0438\\u043a\\u0430\", \"\\u0444\\u0430\\u0431\\u0440\\u0438\\u043a\\u0430\", \"\\u0444\\u0438\\u043b\\u043e\\u043d\\u043e\\u0432\", \"\\u0444\\u0440\\u043e\\u043b\", \"\\u0445\\u0430\\u0442\\u0430\", \"\\u0445\\u0430\\u0442\\u0430\", \"\\u0445\\u0430\\u0442\\u0430\", \"\\u0445\\u043e\\u0432\\u0430\\u043d\\u0441\\u043a\\u0438\\u0439\", \"\\u0445\\u043e\\u043b\\u043e\\u043f\", \"\\u0445\\u043e\\u043f\\u0435\\u0440\", \"\\u0445\\u043e\\u0442\\u0435\\u0442\\u044c\", \"\\u0445\\u043e\\u0442\\u0435\\u0442\\u044c\", \"\\u0445\\u043e\\u0442\\u0435\\u0442\\u044c\", \"\\u0445\\u043e\\u0445\\u043e\\u043b\", \"\\u0445\\u043e\\u0445\\u043e\\u043b\", \"\\u0445\\u0443\\u0442\\u043e\\u0440\", \"\\u0445\\u0443\\u0442\\u043e\\u0440\", \"\\u0445\\u0443\\u0442\\u043e\\u0440\", \"\\u0446\\u0430\\u0440\\u0438\\u0446\\u0430\", \"\\u0446\\u0430\\u0440\\u0438\\u0446\\u0430\", \"\\u0446\\u0430\\u0440\\u0441\\u043a\\u0438\\u0439\", \"\\u0446\\u0430\\u0440\\u0441\\u043a\\u0438\\u0439\", \"\\u0446\\u0430\\u0440\\u0441\\u043a\\u0438\\u0439\", \"\\u0446\\u0430\\u0440\\u044c\", \"\\u0446\\u0430\\u0440\\u044c\", \"\\u0446\\u0430\\u0440\\u044c\", \"\\u0447\\u0430\\u0441\", \"\\u0447\\u0430\\u0441\", \"\\u0447\\u0430\\u0441\", \"\\u0447\\u0435\\u043b\\u043e\\u0432\\u0435\\u043a\", \"\\u0447\\u0435\\u043b\\u043e\\u0432\\u0435\\u043a\", \"\\u0447\\u0435\\u043b\\u043e\\u0432\\u0435\\u043a\", \"\\u0447\\u0435\\u0440\\u0435\\u043f\\u0430\\u0445\\u0430\", \"\\u0447\\u0435\\u0440\\u043d\\u044f\\u043a\", \"\\u0447\\u0438\\u0436\", \"\\u0447\\u0442\\u043e-\\u0442\\u043e\", \"\\u0447\\u0442\\u043e-\\u0442\\u043e\", \"\\u0447\\u0442\\u043e-\\u0442\\u043e\", \"\\u0447\\u0443\\u0432\\u0441\\u0442\\u0432\\u043e\\u0432\\u0430\\u0442\\u044c\", \"\\u0447\\u0443\\u0432\\u0441\\u0442\\u0432\\u043e\\u0432\\u0430\\u0442\\u044c\", \"\\u0447\\u0443\\u0432\\u0441\\u0442\\u0432\\u043e\\u0432\\u0430\\u0442\\u044c\", \"\\u0447\\u0443\\u043c\\u0430\\u043b\\u043e\\u0432\", \"\\u0447\\u0443\\u043c\\u0430\\u043b\\u043e\\u0432\", \"\\u0448\\u0430\\u0440\\u044b\\u0433\\u0438\\u043d\", \"\\u0448\\u0430\\u0440\\u044b\\u0433\\u0438\\u043d\", \"\\u0448\\u043e\\u0441\\u0441\\u0435\", \"\\u0448\\u043e\\u0441\\u0441\\u0435\", \"\\u0448\\u043e\\u0441\\u0441\\u0435\", \"\\u0448\\u0442\\u0430\\u0434\\u0438\\u0432\", \"\\u0448\\u0442\\u0430\\u0434\\u0438\\u0432\\u044b\\u0439\", \"\\u044f\\u0433\\u043e\\u0434\\u0438\\u043d\", \"\\u044f\\u043a\\u043e\\u0431\", \"\\u044f\\u043f\\u043e\\u043d\\u0435\\u0446\"]}, \"R\": 30, \"lambda.step\": 0.01, \"plot.opts\": {\"xlab\": \"PC1\", \"ylab\": \"PC2\"}, \"topic.order\": [3, 2, 1]};\n",
       "\n",
       "function LDAvis_load_lib(url, callback){\n",
       "  var s = document.createElement('script');\n",
       "  s.src = url;\n",
       "  s.async = true;\n",
       "  s.onreadystatechange = s.onload = callback;\n",
       "  s.onerror = function(){console.warn(\"failed to load library \" + url);};\n",
       "  document.getElementsByTagName(\"head\")[0].appendChild(s);\n",
       "}\n",
       "\n",
       "if(typeof(LDAvis) !== \"undefined\"){\n",
       "   // already loaded: just create the visualization\n",
       "   !function(LDAvis){\n",
       "       new LDAvis(\"#\" + \"ldavis_el309349222773446626686549\", ldavis_el309349222773446626686549_data);\n",
       "   }(LDAvis);\n",
       "}else if(typeof define === \"function\" && define.amd){\n",
       "   // require.js is available: use it to load d3/LDAvis\n",
       "   require.config({paths: {d3: \"https://cdnjs.cloudflare.com/ajax/libs/d3/3.5.5/d3.min\"}});\n",
       "   require([\"d3\"], function(d3){\n",
       "      window.d3 = d3;\n",
       "      LDAvis_load_lib(\"https://cdn.rawgit.com/bmabey/pyLDAvis/files/ldavis.v1.0.0.js\", function(){\n",
       "        new LDAvis(\"#\" + \"ldavis_el309349222773446626686549\", ldavis_el309349222773446626686549_data);\n",
       "      });\n",
       "    });\n",
       "}else{\n",
       "    // require.js not available: dynamically load d3 & LDAvis\n",
       "    LDAvis_load_lib(\"https://cdnjs.cloudflare.com/ajax/libs/d3/3.5.5/d3.min.js\", function(){\n",
       "         LDAvis_load_lib(\"https://cdn.rawgit.com/bmabey/pyLDAvis/files/ldavis.v1.0.0.js\", function(){\n",
       "                 new LDAvis(\"#\" + \"ldavis_el309349222773446626686549\", ldavis_el309349222773446626686549_data);\n",
       "            })\n",
       "         });\n",
       "}\n",
       "</script>"
      ],
      "text/plain": [
       "PreparedData(topic_coordinates=            Freq  cluster  topics         x         y\n",
       "topic                                                \n",
       "2      46.739731        1       1  0.030533  0.066625\n",
       "1      33.112774        1       2 -0.078488 -0.009180\n",
       "0      20.147495        1       3  0.047955 -0.057445, topic_info=      Category        Freq           Term        Total  loglift  logprob\n",
       "term                                                                    \n",
       "1368   Default  874.000000        товарищ   874.000000  30.0000  30.0000\n",
       "5609   Default  376.000000          казак   376.000000  29.0000  29.0000\n",
       "6010   Default  288.000000          завод   288.000000  28.0000  28.0000\n",
       "3012   Default  467.000000        рабочий   467.000000  27.0000  27.0000\n",
       "1895   Default  838.000000           мать   838.000000  26.0000  26.0000\n",
       "3942   Default  273.000000           гора   273.000000  25.0000  25.0000\n",
       "1099   Default  374.000000         работа   374.000000  24.0000  24.0000\n",
       "854    Default  570.000000          очень   570.000000  23.0000  23.0000\n",
       "6057   Default  116.000000         колхоз   116.000000  22.0000  22.0000\n",
       "13861  Default   68.000000        чумалов    68.000000  21.0000  21.0000\n",
       "16671  Default  148.000000         дронов   148.000000  20.0000  20.0000\n",
       "1310   Default  961.000000         стоять   961.000000  19.0000  19.0000\n",
       "2444   Default  174.000000          хутор   174.000000  18.0000  18.0000\n",
       "16643  Default  143.000000        варавка   143.000000  17.0000  17.0000\n",
       "7987   Default  186.000000        станица   186.000000  16.0000  16.0000\n",
       "11721  Default  211.000000       крепость   211.000000  15.0000  15.0000\n",
       "521    Default  430.000000        красный   430.000000  14.0000  14.0000\n",
       "9623   Default   86.000000        бригада    86.000000  13.0000  13.0000\n",
       "973    Default  819.000000       понимать   819.000000  12.0000  12.0000\n",
       "21392  Default   87.000000         андрий    87.000000  11.0000  11.0000\n",
       "598    Default  468.000000          место   468.000000  10.0000  10.0000\n",
       "16057  Default  154.000000           царь   154.000000   9.0000   9.0000\n",
       "507    Default  403.000000           конь   403.000000   8.0000   8.0000\n",
       "16055  Default  163.000000          хохол   163.000000   7.0000   7.0000\n",
       "12420  Default  104.000000            бык   104.000000   6.0000   6.0000\n",
       "7740   Default   55.000000  строительство    55.000000   5.0000   5.0000\n",
       "175    Default  773.000000          время   773.000000   4.0000   4.0000\n",
       "627    Default  746.000000           мочь   746.000000   3.0000   3.0000\n",
       "7303   Default  194.000000           море   194.000000   2.0000   2.0000\n",
       "609    Default  371.000000         минута   371.000000   1.0000   1.0000\n",
       "...        ...         ...            ...          ...      ...      ...\n",
       "1310    Topic3  230.099719         стоять   961.432030   0.1722  -5.8111\n",
       "7303    Topic3   86.075873           море   194.773431   0.7855  -6.7944\n",
       "598     Topic3  143.154312          место   468.363781   0.4168  -6.2857\n",
       "175     Topic3  190.859264          время   773.188163   0.2031  -5.9981\n",
       "1167    Topic3  325.774759           рука  1968.229433  -0.1966  -5.4634\n",
       "269     Topic3  220.519205           дело  1088.299772   0.0057  -5.8536\n",
       "1484    Topic3  315.830217        человек  2125.910841  -0.3047  -5.4944\n",
       "426     Topic3  228.139550           идти  1223.595131  -0.0775  -5.8196\n",
       "224     Topic3  274.874223           глаз  1741.281296  -0.2440  -5.6333\n",
       "302     Topic3  139.836986           друг   511.964452   0.3043  -6.3091\n",
       "2028    Topic3  127.660797           окно   437.443033   0.3705  -6.4002\n",
       "567     Topic3  202.406389           лицо  1207.856206  -0.1842  -5.9393\n",
       "627     Topic3  159.697120           мочь   746.404881   0.0601  -6.1763\n",
       "232     Topic3  203.947796         голова  1269.240320  -0.2262  -5.9317\n",
       "254     Topic3  154.735924         давать   725.770136   0.0566  -6.2079\n",
       "609     Topic3  110.731291         минута   371.841976   0.3907  -6.5425\n",
       "2452    Topic3  109.950809            час   376.797841   0.3704  -6.5496\n",
       "1179    Topic3  140.158286          самый   676.234604   0.0283  -6.3068\n",
       "973     Topic3  151.328822       понимать   819.732396  -0.0874  -6.2301\n",
       "3338    Topic3  105.096604         далеко   349.376323   0.4008  -6.5947\n",
       "1293    Topic3  172.078601    становиться  1240.693429  -0.3734  -6.1016\n",
       "854     Topic3  125.991368          очень   570.115427   0.0925  -6.4134\n",
       "1255    Topic3  126.892223       смотреть   596.859571   0.0537  -6.4063\n",
       "735     Topic3  113.489441          новый   436.209278   0.2557  -6.5179\n",
       "521     Topic3  110.210675        красный   430.035632   0.2406  -6.5472\n",
       "130     Topic3  132.948509         видеть   818.561068  -0.2155  -6.3596\n",
       "1309    Topic3  115.845130        сторона   522.147987   0.0964  -6.4973\n",
       "118     Topic3  133.357143           весь   918.083076  -0.3272  -6.3566\n",
       "271     Topic3  124.072638           день   787.828963  -0.2463  -6.4287\n",
       "1698    Topic3  113.289302          дверь   620.483546  -0.0985  -6.5197\n",
       "\n",
       "[279 rows x 6 columns], token_table=       Topic      Freq           Term\n",
       "term                                 \n",
       "15810      1  0.156366        алексей\n",
       "15810      2  0.805886        алексей\n",
       "15810      3  0.036084        алексей\n",
       "12401      1  0.050510         алешка\n",
       "12401      2  0.947057         алешка\n",
       "20297      3  0.967141        алявдин\n",
       "21392      1  0.206826         андрий\n",
       "21392      2  0.034471         андрий\n",
       "21392      3  0.746873         андрий\n",
       "9236       1  0.012665         атаман\n",
       "9236       2  0.975213         атаман\n",
       "9236       3  0.012665         атаман\n",
       "26         1  0.323861           баба\n",
       "26         2  0.544789           баба\n",
       "26         3  0.133059           баба\n",
       "7780       1  0.027538           база\n",
       "7780       2  0.950050           база\n",
       "7780       3  0.027538           база\n",
       "25418      2  0.978959         баркас\n",
       "11615      1  0.995910          белов\n",
       "44         1  0.314686          белый\n",
       "44         2  0.509604          белый\n",
       "44         3  0.173782          белый\n",
       "31613      1  0.992332       бессонов\n",
       "31613      2  0.013231       бессонов\n",
       "13523      3  0.977793          бетон\n",
       "18250      3  0.948093  бетономешалка\n",
       "12409      1  0.955632      боеревком\n",
       "12410      1  0.980655       боесовет\n",
       "28793      2  0.957495       боярский\n",
       "...      ...       ...            ...\n",
       "16057      1  0.200027           царь\n",
       "16057      2  0.787204           царь\n",
       "16057      3  0.006452           царь\n",
       "2452       1  0.483018            час\n",
       "2452       2  0.225585            час\n",
       "2452       3  0.291934            час\n",
       "1484       1  0.635022        человек\n",
       "1484       2  0.216378        человек\n",
       "1484       3  0.148642        человек\n",
       "13859      3  0.963792       черепаха\n",
       "22597      2  0.974205         черняк\n",
       "2460       1  0.989475            чиж\n",
       "1504       1  0.691818         что-то\n",
       "1504       2  0.170448         что-то\n",
       "1504       3  0.138364         что-то\n",
       "2465       1  0.723363    чувствовать\n",
       "2465       2  0.100385    чувствовать\n",
       "2465       3  0.177150    чувствовать\n",
       "13861      1  0.014545        чумалов\n",
       "13861      3  0.989028        чумалов\n",
       "30931      2  0.954729        шарыгин\n",
       "30931      3  0.036720        шарыгин\n",
       "6415       1  0.109033          шоссе\n",
       "6415       2  0.715528          шоссе\n",
       "6415       3  0.177178          шоссе\n",
       "12169      1  0.965959         штадив\n",
       "11588      1  0.992306       штадивый\n",
       "15599      1  0.974319         ягодин\n",
       "14713      3  0.977996           якоб\n",
       "2488       1  0.962849         японец\n",
       "\n",
       "[454 rows x 3 columns], R=30, lambda_step=0.01, plot_opts={'xlab': 'PC1', 'ylab': 'PC2'}, topic_order=[3, 2, 1])"
      ]
     },
     "execution_count": 10,
     "metadata": {},
     "output_type": "execute_result"
    }
   ],
   "source": [
    "import pyLDAvis.gensim\n",
    "pyLDAvis.enable_notebook()\n",
    "\n",
    "pyLDAvis.gensim.prepare(ldamodel, doc_term_matrix, dictionary)"
   ]
  },
  {
   "cell_type": "markdown",
   "metadata": {},
   "source": [
    "## Now, let's examine the banned literature corpus. "
   ]
  },
  {
   "cell_type": "code",
   "execution_count": 6,
   "metadata": {},
   "outputs": [
    {
     "data": {
      "text/html": [
       "<div>\n",
       "<style>\n",
       "    .dataframe thead tr:only-child th {\n",
       "        text-align: right;\n",
       "    }\n",
       "\n",
       "    .dataframe thead th {\n",
       "        text-align: left;\n",
       "    }\n",
       "\n",
       "    .dataframe tbody tr th {\n",
       "        vertical-align: top;\n",
       "    }\n",
       "</style>\n",
       "<table border=\"1\" class=\"dataframe\">\n",
       "  <thead>\n",
       "    <tr style=\"text-align: right;\">\n",
       "      <th></th>\n",
       "      <th>title</th>\n",
       "      <th>name</th>\n",
       "      <th>date</th>\n",
       "      <th>english metadata</th>\n",
       "      <th>source</th>\n",
       "      <th>text</th>\n",
       "    </tr>\n",
       "  </thead>\n",
       "  <tbody>\n",
       "    <tr>\n",
       "      <th>0</th>\n",
       "      <td>Собачье сердце</td>\n",
       "      <td>Булгаков , Михаил</td>\n",
       "      <td>1925</td>\n",
       "      <td>Mikhail Bulgakov , A Dog ’ s Heart , 1924</td>\n",
       "      <td>http : //bulgakov.lit-info.ru/bulgakov/proza/...</td>\n",
       "      <td>У-у-у-у-у-гу-гуг-гуу ! О , гляньте на меня , ...</td>\n",
       "    </tr>\n",
       "    <tr>\n",
       "      <th>1</th>\n",
       "      <td>\\n\\nСобачье сердце\\n\\n</td>\n",
       "      <td>Булгаков, Михаил\\n</td>\n",
       "      <td>2</td>\n",
       "      <td>\\n\\nMikhail Bulgakov, A Dog’s Heart, 1924\\n\\n\\n</td>\n",
       "      <td>\\n\\nhttp://bulgakov.lit-info.ru/bulgakov/proza...</td>\n",
       "      <td>, дорогой профессор , только в виде опыта . - ...</td>\n",
       "    </tr>\n",
       "    <tr>\n",
       "      <th>2</th>\n",
       "      <td>\\n\\nСобачье сердце\\n\\n</td>\n",
       "      <td>Булгаков, Михаил\\n</td>\n",
       "      <td>3</td>\n",
       "      <td>\\n\\nMikhail Bulgakov, A Dog’s Heart, 1924\\n\\n\\n</td>\n",
       "      <td>\\n\\nhttp://bulgakov.lit-info.ru/bulgakov/proza...</td>\n",
       "      <td>Ястребиные ноздри его раздувались . Набравшись...</td>\n",
       "    </tr>\n",
       "    <tr>\n",
       "      <th>3</th>\n",
       "      <td>\\n\\nСобачье сердце\\n\\n</td>\n",
       "      <td>Булгаков, Михаил\\n</td>\n",
       "      <td>4</td>\n",
       "      <td>\\n\\nMikhail Bulgakov, A Dog’s Heart, 1924\\n\\n\\n</td>\n",
       "      <td>\\n\\nhttp://bulgakov.lit-info.ru/bulgakov/proza...</td>\n",
       "      <td>правом боку следы совершенно зажившего ожога ....</td>\n",
       "    </tr>\n",
       "    <tr>\n",
       "      <th>4</th>\n",
       "      <td>\\n\\nСобачье сердце\\n\\n</td>\n",
       "      <td>Булгаков, Михаил\\n</td>\n",
       "      <td>5</td>\n",
       "      <td>\\n\\nMikhail Bulgakov, A Dog’s Heart, 1924\\n\\n\\n</td>\n",
       "      <td>\\n\\nhttp://bulgakov.lit-info.ru/bulgakov/proza...</td>\n",
       "      <td>трубку в рогульки . Голубая радость разлилась ...</td>\n",
       "    </tr>\n",
       "  </tbody>\n",
       "</table>\n",
       "</div>"
      ],
      "text/plain": [
       "                     title                name    date  \\\n",
       "0          Собачье сердце   Булгаков , Михаил    1925    \n",
       "1  \\n\\nСобачье сердце\\n\\n   Булгаков, Михаил\\n       2   \n",
       "2  \\n\\nСобачье сердце\\n\\n   Булгаков, Михаил\\n       3   \n",
       "3  \\n\\nСобачье сердце\\n\\n   Булгаков, Михаил\\n       4   \n",
       "4  \\n\\nСобачье сердце\\n\\n   Булгаков, Михаил\\n       5   \n",
       "\n",
       "                                   english metadata  \\\n",
       "0        Mikhail Bulgakov , A Dog ’ s Heart , 1924    \n",
       "1  \\n\\nMikhail Bulgakov, A Dog’s Heart, 1924\\n\\n\\n    \n",
       "2  \\n\\nMikhail Bulgakov, A Dog’s Heart, 1924\\n\\n\\n    \n",
       "3  \\n\\nMikhail Bulgakov, A Dog’s Heart, 1924\\n\\n\\n    \n",
       "4  \\n\\nMikhail Bulgakov, A Dog’s Heart, 1924\\n\\n\\n    \n",
       "\n",
       "                                              source  \\\n",
       "0   http : //bulgakov.lit-info.ru/bulgakov/proza/...   \n",
       "1  \\n\\nhttp://bulgakov.lit-info.ru/bulgakov/proza...   \n",
       "2  \\n\\nhttp://bulgakov.lit-info.ru/bulgakov/proza...   \n",
       "3  \\n\\nhttp://bulgakov.lit-info.ru/bulgakov/proza...   \n",
       "4  \\n\\nhttp://bulgakov.lit-info.ru/bulgakov/proza...   \n",
       "\n",
       "                                                text  \n",
       "0   У-у-у-у-у-гу-гуг-гуу ! О , гляньте на меня , ...  \n",
       "1  , дорогой профессор , только в виде опыта . - ...  \n",
       "2  Ястребиные ноздри его раздувались . Набравшись...  \n",
       "3  правом боку следы совершенно зажившего ожога ....  \n",
       "4  трубку в рогульки . Голубая радость разлилась ...  "
      ]
     },
     "execution_count": 6,
     "metadata": {},
     "output_type": "execute_result"
    }
   ],
   "source": [
    "bannedlit = pd.read_csv(\"csv_files/banned_lit_for_tm_smaller_chunks.csv\")\n",
    "bannedlit.head(5)"
   ]
  },
  {
   "cell_type": "code",
   "execution_count": 8,
   "metadata": {},
   "outputs": [
    {
     "name": "stdout",
     "output_type": "stream",
     "text": [
      "[(0, '0.332*\"человек\" + 0.184*\"рука\" + 0.176*\"глаз\" + 0.154*\"жизнь\"'), (1, '-0.275*\"человек\" + 0.220*\"профессор\" + 0.176*\"глаз\" + -0.159*\"жизнь\"'), (2, '0.362*\"профессор\" + 0.218*\"человек\" + 0.215*\"отвечать\" + -0.165*\"наш\"'), (3, '0.206*\"год\" + 0.182*\"человек\" + 0.146*\"отец\" + -0.137*\"колхоз\"')]\n"
     ]
    }
   ],
   "source": [
    "with open('NERoutputBanned.txt') as fp:\n",
    "    lines = fp.read().splitlines()\n",
    "\n",
    "lines = [i.lower() for i in lines]\n",
    "joinedlines = \" \".join(lines)\n",
    "mystem = Mystem() \n",
    "lemmatizedlines = mystem.lemmatize(joinedlines)\n",
    "lemmatizedlines = [i for i in lemmatizedlines if i != \" \"]\n",
    "\n",
    "stop = list(stopwords.words('russian'))\n",
    "stop.extend(['это', 'свой', 'то', ' ','который', 'говорить', 'сказать', 'знать', 'спрашивать', 'вопрос'])\n",
    "stop.extend(lemmatizedlines)\n",
    "\n",
    "punctuation = list(string.punctuation)\n",
    "punctuation.extend(['--', '—', \" – \", ' —', '«', '»',\" -- \", \" – – \", \"\\n\", \"\\r\", \"\\t\",\"-\" ,\"-\", \"...\", \"…\", \" - \", \" « \", \" \", \"..\", \"``\", \"\\\"\\\"\",\"\\'\\'\"])\n",
    "\n",
    "def cleantext(text):\n",
    "    tokens = text.split(\" \")\n",
    "    tokenslower = [i.strip().lower() for i in tokens]\n",
    "#the following list comprehension gets rid of word-final punctuation, while retaining word-medial punctuation in words like \"кто-то\"\n",
    "    tokens_no_word_final_punc = [re.sub(r'[!|,|?|.|:|;]|\\.{1,}$\\)', \"\", item) for item in tokenslower]\n",
    "    tokens_no_stop_or_punc = [i for i in tokens_no_word_final_punc if i not in stop if i not in punctuation]\n",
    "#the following line gets rid of blank, empty spaces in each list    \n",
    "    tokens_no_stop_or_punc = list(filter(None, tokens_no_stop_or_punc))\n",
    "    return tokens_no_stop_or_punc\n",
    "\n",
    "bannedlit[\"no_punc_or_stop\"] = bannedlit[\"text\"].apply(cleantext)\n",
    "cleaned = bannedlit[\"no_punc_or_stop\"]\n",
    "\n",
    "mystem = Mystem() \n",
    "\n",
    "def lemmatize(text):\n",
    "    joinedtokens = \" \".join(text)\n",
    "    lemmatized = mystem.lemmatize(joinedtokens)\n",
    "    lemmatized = [i for i in lemmatized if i not in stop if i not in punctuation]\n",
    "    return lemmatized\n",
    "\n",
    "bannedlit[\"lemmatized\"] = bannedlit[\"no_punc_or_stop\"].apply(lemmatize)\n",
    "\n",
    "#Topic Modeling with Gensim, using Latent Semantic Indexing\n",
    "dictionaryb = corpora.Dictionary(bannedlit[\"lemmatized\"] )\n",
    "doc_term_matrixb = [dictionaryb.doc2bow(item) for item in bannedlit[\"lemmatized\"] ]\n",
    "lsi = models.LsiModel(doc_term_matrixb, num_topics=4, id2word=dictionaryb)\n",
    "output = lsi.print_topics(num_topics=4, num_words = 4)\n",
    "\n",
    "print (output)\n"
   ]
  },
  {
   "cell_type": "markdown",
   "metadata": {},
   "source": [
    "Now, what happens with LDA?"
   ]
  },
  {
   "cell_type": "code",
   "execution_count": 15,
   "metadata": {},
   "outputs": [
    {
     "name": "stdout",
     "output_type": "stream",
     "text": [
      "[(0, '0.005*\"человек\" + 0.004*\"рука\" + 0.004*\"глаз\" + 0.004*\"профессор\"'), (2, '0.009*\"человек\" + 0.004*\"жизнь\" + 0.004*\"весь\" + 0.004*\"становиться\"'), (1, '0.006*\"глаз\" + 0.006*\"рука\" + 0.004*\"стена\" + 0.004*\"i\"')]\n"
     ]
    }
   ],
   "source": [
    "import warnings\n",
    "warnings.filterwarnings(\"ignore\", category=DeprecationWarning) \n",
    "\n",
    "ldamodel = gensim.models.ldamodel.LdaModel(doc_term_matrixb, num_topics=4, id2word = dictionaryb, passes=20)\n",
    "ldaoutput = ldamodel.print_topics(num_topics=3, num_words=4)\n",
    "print (ldaoutput)"
   ]
  },
  {
   "cell_type": "code",
   "execution_count": 16,
   "metadata": {},
   "outputs": [
    {
     "data": {
      "text/html": [
       "\n",
       "<link rel=\"stylesheet\" type=\"text/css\" href=\"https://cdn.rawgit.com/bmabey/pyLDAvis/files/ldavis.v1.0.0.css\">\n",
       "\n",
       "\n",
       "<div id=\"ldavis_el330248202390082293298574\"></div>\n",
       "<script type=\"text/javascript\">\n",
       "\n",
       "var ldavis_el330248202390082293298574_data = {\"mdsDat\": {\"Freq\": [47.34269450252097, 26.398422791719184, 16.867803277992028, 9.391079427767817], \"cluster\": [1, 1, 1, 1], \"topics\": [1, 2, 3, 4], \"x\": [-0.05120303496729994, -0.016523451250316522, -0.05400668803097222, 0.12173317424858868], \"y\": [-0.0046761024437342105, -0.08765726228001391, 0.07356250623018326, 0.018770858493564923]}, \"tinfo\": {\"Category\": [\"Default\", \"Default\", \"Default\", \"Default\", \"Default\", \"Default\", \"Default\", \"Default\", \"Default\", \"Default\", \"Default\", \"Default\", \"Default\", \"Default\", \"Default\", \"Default\", \"Default\", \"Default\", \"Default\", \"Default\", \"Default\", \"Default\", \"Default\", \"Default\", \"Default\", \"Default\", \"Default\", \"Default\", \"Default\", \"Default\", \"Topic1\", \"Topic1\", \"Topic1\", \"Topic1\", \"Topic1\", \"Topic1\", \"Topic1\", \"Topic1\", \"Topic1\", \"Topic1\", \"Topic1\", \"Topic1\", \"Topic1\", \"Topic1\", \"Topic1\", \"Topic1\", \"Topic1\", \"Topic1\", \"Topic1\", \"Topic1\", \"Topic1\", \"Topic1\", \"Topic1\", \"Topic1\", \"Topic1\", \"Topic1\", \"Topic1\", \"Topic1\", \"Topic1\", \"Topic1\", \"Topic1\", \"Topic1\", \"Topic1\", \"Topic1\", \"Topic1\", \"Topic1\", \"Topic1\", \"Topic1\", \"Topic1\", \"Topic1\", \"Topic1\", \"Topic1\", \"Topic1\", \"Topic1\", \"Topic1\", \"Topic1\", \"Topic1\", \"Topic1\", \"Topic1\", \"Topic1\", \"Topic1\", \"Topic1\", \"Topic1\", \"Topic1\", \"Topic1\", \"Topic1\", \"Topic1\", \"Topic1\", \"Topic1\", \"Topic1\", \"Topic1\", \"Topic1\", \"Topic1\", \"Topic1\", \"Topic1\", \"Topic1\", \"Topic1\", \"Topic1\", \"Topic1\", \"Topic1\", \"Topic1\", \"Topic1\", \"Topic1\", \"Topic1\", \"Topic1\", \"Topic1\", \"Topic1\", \"Topic1\", \"Topic1\", \"Topic1\", \"Topic1\", \"Topic1\", \"Topic1\", \"Topic1\", \"Topic1\", \"Topic1\", \"Topic1\", \"Topic2\", \"Topic2\", \"Topic2\", \"Topic2\", \"Topic2\", \"Topic2\", \"Topic2\", \"Topic2\", \"Topic2\", \"Topic2\", \"Topic2\", \"Topic2\", \"Topic2\", \"Topic2\", \"Topic2\", \"Topic2\", \"Topic2\", \"Topic2\", \"Topic2\", \"Topic2\", \"Topic2\", \"Topic2\", \"Topic2\", \"Topic2\", \"Topic2\", \"Topic2\", \"Topic2\", \"Topic2\", \"Topic2\", \"Topic2\", \"Topic2\", \"Topic2\", \"Topic2\", \"Topic2\", \"Topic2\", \"Topic2\", \"Topic2\", \"Topic2\", \"Topic2\", \"Topic2\", \"Topic2\", \"Topic2\", \"Topic2\", \"Topic2\", \"Topic2\", \"Topic2\", \"Topic2\", \"Topic2\", \"Topic2\", \"Topic2\", \"Topic2\", \"Topic2\", \"Topic2\", \"Topic2\", \"Topic2\", \"Topic2\", \"Topic2\", \"Topic2\", \"Topic2\", \"Topic2\", \"Topic2\", \"Topic2\", \"Topic2\", \"Topic2\", \"Topic2\", \"Topic2\", \"Topic2\", \"Topic2\", \"Topic2\", \"Topic2\", \"Topic2\", \"Topic2\", \"Topic2\", \"Topic2\", \"Topic2\", \"Topic2\", \"Topic2\", \"Topic2\", \"Topic2\", \"Topic2\", \"Topic2\", \"Topic2\", \"Topic3\", \"Topic3\", \"Topic3\", \"Topic3\", \"Topic3\", \"Topic3\", \"Topic3\", \"Topic3\", \"Topic3\", \"Topic3\", \"Topic3\", \"Topic3\", \"Topic3\", \"Topic3\", \"Topic3\", \"Topic3\", \"Topic3\", \"Topic3\", \"Topic3\", \"Topic3\", \"Topic3\", \"Topic3\", \"Topic3\", \"Topic3\", \"Topic3\", \"Topic3\", \"Topic3\", \"Topic3\", \"Topic3\", \"Topic3\", \"Topic3\", \"Topic3\", \"Topic3\", \"Topic3\", \"Topic3\", \"Topic3\", \"Topic3\", \"Topic3\", \"Topic3\", \"Topic3\", \"Topic3\", \"Topic3\", \"Topic3\", \"Topic3\", \"Topic3\", \"Topic3\", \"Topic3\", \"Topic3\", \"Topic3\", \"Topic3\", \"Topic3\", \"Topic3\", \"Topic3\", \"Topic3\", \"Topic3\", \"Topic3\", \"Topic3\", \"Topic3\", \"Topic3\", \"Topic3\", \"Topic3\", \"Topic3\", \"Topic3\", \"Topic3\", \"Topic3\", \"Topic3\", \"Topic3\", \"Topic3\", \"Topic3\", \"Topic3\", \"Topic3\", \"Topic3\", \"Topic3\", \"Topic3\", \"Topic3\", \"Topic3\", \"Topic3\", \"Topic3\", \"Topic3\", \"Topic4\", \"Topic4\", \"Topic4\", \"Topic4\", \"Topic4\", \"Topic4\", \"Topic4\", \"Topic4\", \"Topic4\", \"Topic4\", \"Topic4\", \"Topic4\", \"Topic4\", \"Topic4\", \"Topic4\", \"Topic4\", \"Topic4\", \"Topic4\", \"Topic4\", \"Topic4\", \"Topic4\", \"Topic4\", \"Topic4\", \"Topic4\", \"Topic4\", \"Topic4\", \"Topic4\", \"Topic4\", \"Topic4\", \"Topic4\", \"Topic4\", \"Topic4\", \"Topic4\", \"Topic4\", \"Topic4\", \"Topic4\", \"Topic4\", \"Topic4\", \"Topic4\", \"Topic4\", \"Topic4\", \"Topic4\", \"Topic4\", \"Topic4\", \"Topic4\", \"Topic4\", \"Topic4\", \"Topic4\", \"Topic4\", \"Topic4\", \"Topic4\", \"Topic4\", \"Topic4\", \"Topic4\", \"Topic4\", \"Topic4\", \"Topic4\", \"Topic4\", \"Topic4\", \"Topic4\", \"Topic4\", \"Topic4\", \"Topic4\", \"Topic4\", \"Topic4\", \"Topic4\", \"Topic4\", \"Topic4\", \"Topic4\", \"Topic4\", \"Topic4\", \"Topic4\", \"Topic4\", \"Topic4\"], \"Freq\": [774.0, 298.0, 796.0, 196.0, 404.0, 78.0, 99.0, 372.0, 359.0, 94.0, 291.0, 407.0, 92.0, 123.0, 499.0, 85.0, 249.0, 573.0, 171.0, 120.0, 58.0, 144.0, 193.0, 62.0, 479.0, 420.0, 121.0, 107.0, 75.0, 99.0, 121.2883802450668, 103.40994879553728, 97.28000885730776, 51.33174044856282, 46.61603175195453, 46.57751952981328, 52.106297081639966, 44.601074442786505, 37.03533097871719, 30.519693671492316, 42.451031115854015, 26.737285174087255, 35.01629097168221, 25.78817833269128, 24.846024260598227, 29.42999016184525, 25.696358712654977, 22.006728886797642, 22.92073189296004, 21.99108090600708, 22.902488664948013, 63.24688309694428, 20.112153083298665, 26.514006082622156, 20.108101551064284, 176.49951097312066, 20.979112983713016, 21.88881654920011, 18.2207845067153, 18.21860999553356, 93.55955763745621, 94.25290796500755, 65.53215127036815, 31.603776034319093, 82.90439618213892, 34.97635929663927, 70.85164309975465, 41.732768114920205, 36.62789416438306, 59.52024974888613, 164.62897484466797, 46.52540209243462, 40.75937757927185, 60.55547573279702, 96.54639253247318, 103.0555898867129, 86.67136352522414, 61.97890083602702, 165.18247647914995, 235.86644847566626, 120.08137496089668, 856.9316838232887, 314.03030828499413, 421.0942518387818, 124.99764583606428, 237.68142158709722, 80.81251925854343, 343.61494798214125, 175.35201504772746, 315.0022453688689, 192.29913806529908, 335.0013791188839, 117.05896591291824, 136.13338701212328, 250.74134025112014, 342.3321932113848, 147.86231783912527, 286.65702321376705, 140.48749787343246, 259.5028268730437, 201.26411926848306, 215.0825300986118, 277.02206024098217, 249.1716350015536, 191.0051863327312, 320.232813148809, 192.5423886607643, 224.2822395133722, 155.75845384057095, 201.1648878943732, 287.7480016811102, 200.9073124408821, 188.7092425135317, 164.9981459286821, 184.32121211102668, 189.64831402123943, 180.49658834768292, 44.99959823718809, 44.113526403633514, 76.30841126360413, 62.07523510490263, 36.60606182408235, 22.59527252609314, 21.70494465097514, 20.817100256680337, 19.932289121406242, 20.789873597324696, 20.789538674974494, 19.02219766798146, 18.137138500589522, 17.23868085936707, 16.35006551173784, 28.380466852089647, 16.326496141253514, 32.62126628893734, 14.555488366454721, 17.126696727896416, 19.693547939140657, 14.525102062285846, 13.660217227026413, 13.655460381760088, 13.651831529692089, 32.439469805318275, 12.764317318280272, 12.76186306417159, 20.39775693653509, 11.869791855027886, 27.91381890962306, 91.85650520778125, 38.766633266661664, 45.2319711553326, 39.96766481448907, 241.50927125498393, 22.45618180176975, 35.37345278599148, 26.125695338870973, 114.97486167217257, 63.82876214477221, 104.01270148708237, 47.52046397782052, 164.24509903182454, 38.965703528474684, 31.547536830635153, 45.62568817622011, 52.83244619925094, 197.1874547459724, 69.93515490372528, 63.727691426486466, 47.441675074757704, 95.60632111781082, 60.65501267709153, 49.99061109991091, 141.71305257826663, 243.06839166878484, 243.56882885288414, 129.09119416568066, 95.36597325615772, 160.2822345913282, 188.2838537110214, 139.3815633091602, 108.9133990624637, 105.81324404177286, 257.260479806335, 113.10289850612371, 118.91139995208505, 118.10433819673021, 130.57904563107422, 114.57045241323706, 90.62926124658325, 125.41516228132973, 123.97466757239691, 119.34131386395296, 104.17322408217392, 112.74266108167723, 103.01285084380322, 109.0186152347444, 106.21420296857231, 99.36670288009586, 96.29820118114402, 53.80497246256146, 31.612100456365603, 23.14890466961799, 18.076949064234725, 18.07405595386176, 18.880896588511263, 17.127215426886323, 34.23728215907063, 15.47446606349988, 12.956982564766076, 12.119805659031988, 15.319724027459078, 11.270823126706183, 27.403517225724976, 10.416750900556059, 10.414524033325506, 9.570347536758844, 9.56986097737302, 24.78838569987733, 9.564890399746888, 9.558929542540897, 22.32561994286254, 9.53206480201201, 24.686658447705163, 8.717723884713816, 8.714967051347251, 9.50408359948993, 7.8687812260306265, 7.867751577537805, 7.866961170900669, 76.28600270352582, 17.988237780362994, 16.36617093260333, 16.34556786815383, 16.36505548006944, 22.932278740239997, 24.84644576136079, 27.714364067870605, 91.24648842859527, 13.816907635976376, 11.726243721296349, 24.885711709472336, 18.88957995746739, 43.49198489359915, 80.64482376278082, 68.01255498265634, 32.63692777153852, 24.75118106767004, 33.530466828202215, 84.59851246172691, 57.204068256250444, 83.07120860638257, 79.21975794601784, 224.04366248242374, 97.97362215645687, 52.13869028770956, 118.97898440453261, 103.29722789132298, 130.03895974693228, 125.95518808388915, 82.7004786192456, 53.37690114896739, 94.50251961150322, 67.6966951655937, 77.71290977406422, 74.81767549871543, 80.93434476761335, 48.9225206339041, 86.80496438726196, 84.59592824590179, 71.57019645505373, 62.109866859752884, 75.37727935997093, 77.37684865735613, 67.30834001896196, 68.64459764375977, 64.03670663300984, 60.81018396455499, 60.412654851744065, 34.35752575430952, 29.039041717549043, 24.48404011884375, 17.651428690404074, 17.650101217405805, 38.14979801141081, 75.35513214327868, 13.095366012519808, 11.577973329511256, 10.817166069894578, 10.059574644526876, 9.300172415602692, 8.541722797488017, 8.540555497988693, 7.781896811306976, 7.022659813992227, 7.022649697771242, 7.022088809518799, 7.021822977711778, 7.021359317583256, 6.263901089125204, 6.263861748265814, 6.262575302163768, 5.504514596544775, 5.504447155071535, 5.504435352813719, 5.503333246738527, 5.503114061950498, 12.334646426818342, 5.476806829276535, 24.487497618371837, 32.91416582452526, 70.25665568052064, 43.468084219849786, 13.839808598654882, 57.08977360575294, 40.429477170349095, 56.25251469207177, 26.39926780444399, 16.134369842688056, 34.374966119289304, 16.892119755517868, 37.92471434252253, 75.54827103434243, 32.44159218128938, 28.668898183869565, 19.97124564214095, 34.05537896199939, 41.976661000136716, 113.97733969034049, 25.950496505163493, 28.27162069745666, 25.030500392111904, 106.33123010326653, 72.82221924452188, 68.75366400009787, 63.05573175439994, 64.56601610612904, 36.37489130308213, 68.64288463615439, 34.597107091895225, 58.064622117039455, 55.5678263752516, 45.332804986140836, 47.79175706924481, 42.096171786815624, 48.41935842701671, 47.54720529508134, 40.95405493360009, 39.2594575316052, 40.30471494095393, 43.01496744164354, 37.31190514788119, 37.102220615382635], \"Term\": [\"\\u0433\\u043b\\u0430\\u0437\", \"\\u043f\\u0440\\u043e\\u0444\\u0435\\u0441\\u0441\\u043e\\u0440\", \"\\u0440\\u0443\\u043a\\u0430\", \"\\u0441\\u0442\\u0435\\u043d\\u0430\", \"\\u043a\\u0430\\u043a\\u043e\\u0439-\\u0442\\u043e\", \"i\", \"\\u0434\\u0440\\u0435\\u0432\\u043d\\u0438\\u0439\", \"\\u043f\\u043e\\u043d\\u0438\\u043c\\u0430\\u0442\\u044c\", \"\\u043d\\u0430\\u0448\", \"\\u044f\\u0441\\u043d\\u043e\", \"\\u0434\\u0432\\u0435\\u0440\\u044c\", \"\\u0441\\u0430\\u043c\\u044b\\u0439\", \"\\u0440\\u043e\\u0437\\u043e\\u0432\\u044b\\u0439\", \"\\u0433\\u043e\\u0440\\u0430\", \"\\u043c\\u043e\\u0447\\u044c\", \"\\u0431\\u0430\\u043b\\u043a\\u0430\", \"\\u0441\\u043e\\u043b\\u043d\\u0446\\u0435\", \"\\u0434\\u0435\\u043d\\u044c\", \"\\u0441\\u043e\\u0432\\u0435\\u0440\\u0448\\u0435\\u043d\\u043d\\u043e\", \"\\u0433\\u0443\\u0431\\u0430\", \"\\u0435\\u0434\\u0438\\u043d\\u044b\\u0439\", \"\\u043c\\u043e\\u0440\\u0435\", \"\\u0447\\u0443\\u0432\\u0441\\u0442\\u0432\\u043e\\u0432\\u0430\\u0442\\u044c\", \"\\u0433\\u043e\\u0441\\u0443\\u0434\\u0430\\u0440\\u0441\\u0442\\u0432\\u043e\", \"\\u0433\\u043e\\u043b\\u043e\\u0432\\u0430\", \"\\u043e\\u0442\\u0432\\u0435\\u0447\\u0430\\u0442\\u044c\", \"\\u043a\\u0430\\u043c\\u0435\\u043d\\u044c\", \"\\u0438\\u043c\\u0435\\u043d\\u043d\\u043e\", \"\\u0441\\u0442\\u0435\\u043a\\u043b\\u044f\\u043d\\u043d\\u044b\\u0439\", \"\\u043f\\u0435\\u0441\", \"\\u043a\\u043e\\u043b\\u0445\\u043e\\u0437\", \"\\u0444\\u0435\\u0434\\u0435\\u0440\\u0430\\u0442\\u043e\\u0432\\u043d\\u0430\", \"\\u0430\\u043a\\u0442\\u0438\\u0432\\u0438\\u0441\\u0442\", \"\\u0441\\u043e\\u043d\\u044f\", \"\\u0432\\u0438\\u0441\\u043e\\u043a\\u043e\\u0432\\u0441\\u043a\\u0438\\u0439\", \"\\u043d\\u0438\\u043a\\u0438\\u0442\\u0430\", \"\\u043c\\u0430\\u0448\\u0438\\u043d\\u0438\\u0441\\u0442\", \"\\u043e\\u0434\\u0435\\u0441\\u0441\\u0430\", \"\\u043c\\u043e\\u043b\\u043e\\u0442\\u043e\\u0431\\u043e\\u0435\\u0446\", \"\\u0433\\u0443\\u0440\\u0442\", \"\\u0431\\u0430\\u0440\\u0430\\u043a\", \"\\u043c\\u0430\\u0449\\u0443\\u043a\", \"\\u0445\\u0430\\u0442\\u0430\", \"\\u0444\\u0435\\u0432\\u0440\\u0430\\u043b\\u044c\", \"\\u0432\\u043e\\u043b\", \"\\u0431\\u044b\\u043a\", \"\\u0434\\u0430\\u0431\\u044b\", \"\\u043f\\u043e\\u0434\\u0447\\u0443\\u0444\\u0430\\u0440\\u043e\\u0432\", \"\\u043e\\u0440\\u0433\\u0434\\u0432\\u043e\\u0440\", \"\\u043a\\u0443\\u0442\\u043e\\u043d\", \"\\u0430\\u043a\\u0442\\u0438\\u0432\", \"\\u0435\\u043b\\u0438\\u0441\\u0435\\u0439\", \"\\u043a\\u043e\\u043d\\u0434\\u0430\\u0439\", \"\\u0441\\u0442\\u0435\\u043f\\u043d\\u043e\\u0439\", \"\\u043d\\u0435\\u0432\\u044b\\u044f\\u0441\\u043d\\u0435\\u043d\\u043d\\u044b\\u0439\", \"\\u043c\\u0443\\u0436\\u0438\\u043a\", \"\\u043a\\u043e\\u043b\\u0445\\u043e\\u0437\\u043d\\u044b\\u0439\", \"\\u0432\\u0441\\u0435\\u043e\\u0431\\u0449\\u0438\\u0439\", \"\\u0430\\u0439\\u043d\\u0430\", \"\\u0441\\u043e\\u0432\\u0445\\u043e\\u0437\\u043d\\u044b\\u0439\", \"\\u043f\\u0440\\u0443\\u0448\\u0435\\u0432\\u0441\\u043a\\u0438\\u0439\", \"\\u043f\\u0430\\u0440\\u043e\\u0432\\u043e\\u0437\", \"\\u0441\\u043e\\u0446\\u0438\\u0430\\u043b\\u0438\\u0437\\u043c\", \"\\u043b\\u0430\\u0433\\u0435\\u0440\\u044c\", \"\\u0441\\u0430\\u0444\\u0440\\u043e\\u043d\\u043e\\u0432\", \"\\u0431\\u0435\\u0434\\u043d\\u044f\\u043a\", \"\\u0431\\u0430\\u0431\\u0430\", \"\\u0430\\u0440\\u0435\\u0441\\u0442\\u0430\\u043d\\u0442\", \"\\u0440\\u043e\\u0434\\u0438\\u0442\\u0435\\u043b\\u044c\\u0441\\u043a\\u0438\\u0439\", \"\\u0438\\u0437\\u0431\\u0430\", \"\\u043d\\u0430\\u0440\\u043e\\u0434\", \"\\u043d\\u0430\\u0441\\u0442\\u0430\\u0432\\u043d\\u0438\\u043a\", \"\\u043a\\u043e\\u0442\\u043b\\u043e\\u0432\\u0430\\u043d\", \"\\u0431\\u043e\\u043b\\u044c\\u0448\\u0435\\u0432\\u0438\\u043a\", \"\\u0441\\u0435\\u043a\\u0440\\u0435\\u0442\\u0430\\u0440\\u044c\", \"\\u0440\\u0430\\u0431\\u043e\\u0447\\u0438\\u0439\", \"\\u0434\\u0435\\u0432\\u043e\\u0447\\u043a\\u0430\", \"\\u043c\\u0430\\u0441\\u0441\\u0430\", \"\\u0442\\u0435\\u043b\\u043e\", \"\\u0442\\u043e\\u0432\\u0430\\u0440\\u0438\\u0449\", \"\\u0434\\u0435\\u0440\\u0435\\u0432\\u043d\\u044f\", \"\\u0447\\u0435\\u043b\\u043e\\u0432\\u0435\\u043a\", \"\\u0436\\u0438\\u0442\\u044c\", \"\\u0436\\u0438\\u0437\\u043d\\u044c\", \"\\u0441\\u0440\\u0435\\u0434\\u0438\", \"\\u0437\\u0435\\u043c\\u043b\\u044f\", \"\\u0432\\u043b\\u0430\\u0441\\u0442\\u044c\", \"\\u0432\\u0435\\u0441\\u044c\", \"\\u0441\\u043f\\u0430\\u0442\\u044c\", \"\\u0432\\u0440\\u0435\\u043c\\u044f\", \"\\u0441\\u0438\\u043b\\u0430\", \"\\u0438\\u0434\\u0442\\u0438\", \"\\u0432\\u043e\\u0439\\u043d\\u0430\", \"\\u043b\\u0438\\u0448\\u044c\", \"\\u0434\\u0430\\u0432\\u0430\\u0442\\u044c\", \"\\u0441\\u0442\\u0430\\u043d\\u043e\\u0432\\u0438\\u0442\\u044c\\u0441\\u044f\", \"\\u0440\\u0430\\u0431\\u043e\\u0442\\u0430\", \"\\u0433\\u043e\\u0434\", \"\\u0434\\u043e\\u0440\\u043e\\u0433\\u0430\", \"\\u043b\\u0438\\u0446\\u043e\", \"\\u043f\\u043e\\u0439\\u0442\\u0438\", \"\\u043d\\u043e\\u0447\\u044c\", \"\\u0434\\u0435\\u043d\\u044c\", \"\\u043c\\u043e\\u0447\\u044c\", \"\\u0434\\u0443\\u043c\\u0430\\u0442\\u044c\", \"\\u0440\\u0443\\u043a\\u0430\", \"\\u0432\\u044b\\u0445\\u043e\\u0434\\u0438\\u0442\\u044c\", \"\\u0441\\u0442\\u043e\\u044f\\u0442\\u044c\", \"\\u043c\\u0435\\u0441\\u0442\\u043e\", \"\\u0434\\u0435\\u043b\\u043e\", \"\\u0433\\u043b\\u0430\\u0437\", \"\\u0445\\u043e\\u0442\\u0435\\u0442\\u044c\", \"\\u0441\\u0438\\u0434\\u0435\\u0442\\u044c\", \"\\u0432\\u0437\\u044f\\u0442\\u044c\", \"\\u043e\\u0442\\u0432\\u0435\\u0447\\u0430\\u0442\\u044c\", \"\\u0433\\u043e\\u043b\\u043e\\u0432\\u0430\", \"\\u0441\\u043b\\u043e\\u0432\\u043e\", \"\\u043f\\u0435\\u0440\\u0441\\u0438\\u043a\\u043e\\u0432\\u044b\\u0439\", \"\\u0448\\u0430\\u0440\\u0438\\u043a\\u043e\\u0432\", \"\\u043a\\u043e\\u0442\", \"\\u0440\\u0438\\u043c\\u0441\\u043a\\u0438\\u0439\", \"\\u0431\\u0435\\u0437\\u0434\\u043e\\u043c\\u043d\\u044b\\u0439\", \"\\u043f\\u043e\\u043d\\u0442\\u0438\\u0439\", \"\\u0433\\u0440\\u0438\\u0431\\u043e\\u0435\\u0434\\u043e\\u0432\", \"\\u0430\\u0434\\u043c\\u0438\\u043d\\u0438\\u0441\\u0442\\u0440\\u0430\\u0442\\u043e\\u0440\", \"\\u0431\\u0440\\u043e\\u043d\\u0441\\u043a\\u0438\\u0439\", \"\\u0444\\u0438\\u043d\\u0434\\u0438\\u0440\\u0435\\u043a\\u0442\\u043e\\u0440\", \"\\u043b\\u0438\\u0445\\u043e\\u0434\\u0435\\u0435\\u0432\", \"\\u043a\\u043e\\u043d\\u0441\\u0443\\u043b\\u044c\\u0442\\u0430\\u043d\\u0442\", \"\\u043c\\u0438\\u043a\\u0440\\u043e\\u0441\\u043a\\u043e\\u043f\", \"\\u043f\\u043e\\u043b\\u0430\\u0439\\u0442\\u0438\\u0441\", \"\\u0431\\u0435\\u043d\\u0433\\u0430\\u043b\\u044c\\u0441\\u043a\\u0438\\u0439\", \"\\u0448\\u0432\\u043e\\u043d\\u0434\\u0435\\u0440\", \"\\u0430\\u043d\\u043d\\u0443\\u0448\\u043a\\u0430\", \"\\u0430\\u043a\\u0438\\u043c\", \"\\u043f\\u0440\\u0435\\u0447\\u0438\\u0441\\u0442\\u0435\\u043d\\u043a\\u0430\", \"\\u043c\\u0430\\u0433\", \"\\u043e\\u0440\\u0430\\u043d\\u0436\\u0435\\u0440\\u0435\\u044f\", \"\\u0440\\u0435\\u0433\\u0435\\u043d\\u0442\", \"\\u0440\\u0438\\u0437\\u0438\\u043d\", \"\\u0447\\u0435\\u0440\\u0432\\u043e\\u043d\\u0435\\u0446\", \"\\u043c\\u0430\\u0441\\u0441\\u043e\\u043b\\u0438\\u0442\", \"\\u043a\\u0430\\u043b\\u043e\\u0448\\u0430\", \"\\u043f\\u0435\\u0440\\u0441\\u0438\\u043a\\u043e\\u0432\", \"\\u0444\\u0438\\u0442\\u044c\", \"\\u0434\\u0435\\u0434\\u0443\\u0448\\u043a\\u0430\", \"\\u0430\\u043b\\u044c\\u0444\\u0440\\u0435\\u0434\", \"\\u043c\\u043e\\u043b\\u0432\\u0438\\u0442\\u044c\", \"\\u043f\\u0435\\u0441\", \"\\u043a\\u0430\\u043c\\u0435\\u0440\\u0430\", \"\\u0438\\u0432\\u0430\\u043d\\u043e\\u0432\", \"\\u0438\\u043d\\u043e\\u0441\\u0442\\u0440\\u0430\\u043d\\u0435\\u0446\", \"\\u043f\\u0440\\u043e\\u0444\\u0435\\u0441\\u0441\\u043e\\u0440\", \"\\u043e\\u0441\\u0432\\u0435\\u0434\\u043e\\u043c\\u043b\\u044f\\u0442\\u044c\\u0441\\u044f\", \"\\u043c\\u0438\\u043b\\u0438\\u0446\\u0438\\u044f\", \"\\u043a\\u0443\\u0440\\u0438\\u043d\\u044b\\u0439\", \"\\u043a\\u0432\\u0430\\u0440\\u0442\\u0438\\u0440\\u0430\", \"\\u043b\\u0443\\u0447\", \"\\u043a\\u0430\\u0431\\u0438\\u043d\\u0435\\u0442\", \"\\u044f\\u0439\\u0446\\u043e\", \"\\u0434\\u0432\\u0435\\u0440\\u044c\", \"\\u0432\\u043e\\u0441\\u043a\\u043b\\u0438\\u0446\\u0430\\u0442\\u044c\", \"\\u043f\\u0435\\u0440\\u0435\\u0434\\u043d\\u044f\\u044f\", \"\\u043e\\u0442\\u0437\\u044b\\u0432\\u0430\\u0442\\u044c\\u0441\\u044f\", \"\\u0433\\u0440\\u0430\\u0436\\u0434\\u0430\\u043d\\u0438\\u043d\", \"\\u043e\\u0442\\u0432\\u0435\\u0447\\u0430\\u0442\\u044c\", \"\\u043c\\u0430\\u043c\\u0430\", \"\\u043f\\u043e\\u044d\\u0442\", \"\\u043f\\u043e\\u0437\\u0432\\u043e\\u043b\\u044f\\u0442\\u044c\", \"\\u0441\\u043e\\u0432\\u0435\\u0440\\u0448\\u0435\\u043d\\u043d\\u043e\", \"\\u0442\\u0440\\u0443\\u0431\\u043a\\u0430\", \"\\u043f\\u0440\\u0435\\u0434\\u0441\\u0435\\u0434\\u0430\\u0442\\u0435\\u043b\\u044c\", \"\\u043e\\u0447\\u0435\\u043d\\u044c\", \"\\u0433\\u043b\\u0430\\u0437\", \"\\u0440\\u0443\\u043a\\u0430\", \"\\u0433\\u043e\\u043b\\u043e\\u0441\", \"\\u043a\\u043e\\u043c\\u043d\\u0430\\u0442\\u0430\", \"\\u0433\\u043e\\u043b\\u043e\\u0432\\u0430\", \"\\u0441\\u0442\\u0430\\u043d\\u043e\\u0432\\u0438\\u0442\\u044c\\u0441\\u044f\", \"\\u043a\\u0430\\u043a\\u043e\\u0439-\\u0442\\u043e\", \"\\u043f\\u0435\\u0440\\u0432\\u044b\\u0439\", \"\\u0441\\u0442\\u043e\\u043b\", \"\\u0447\\u0435\\u043b\\u043e\\u0432\\u0435\\u043a\", \"\\u043d\\u0430\\u0447\\u0438\\u043d\\u0430\\u0442\\u044c\", \"\\u0434\\u043e\\u043c\", \"\\u0441\\u043b\\u043e\\u0432\\u043e\", \"\\u043b\\u0438\\u0446\\u043e\", \"\\u0434\\u0435\\u043b\\u043e\", \"\\u0431\\u0435\\u043b\\u044b\\u0439\", \"\\u0433\\u043e\\u0434\", \"\\u0438\\u0434\\u0442\\u0438\", \"\\u0434\\u0435\\u043d\\u044c\", \"\\u0441\\u0438\\u0434\\u0435\\u0442\\u044c\", \"\\u043c\\u043e\\u0447\\u044c\", \"\\u043f\\u043e\\u043d\\u0438\\u043c\\u0430\\u0442\\u044c\", \"\\u0436\\u0438\\u0437\\u043d\\u044c\", \"\\u0432\\u0435\\u0441\\u044c\", \"\\u0441\\u0430\\u043c\\u044b\\u0439\", \"\\u0432\\u0440\\u0435\\u043c\\u044f\", \"\\u043a\\u043e\\u043c\\u0430\\u043d\\u0434\\u0430\\u0440\\u043c\", \"\\u0432\\u0438\\u043d\\u043e\\u0433\\u0440\\u0430\\u0434\\u043d\\u0438\\u043a\", \"\\u043a\\u0443\\u0440\\u043e\\u0447\\u043a\\u0430\", \"\\u043a\\u043e\\u043a\\u043e\\u0441\\u043e\\u0432\", \"\\u0440\\u043e\\u0434\\u0438\\u043c\\u0446\\u0435\\u0432\", \"\\u043b\\u044f\\u043b\\u044f\", \"\\u043c\\u0438\\u043d\\u0434\\u0430\\u043b\\u044c\\u043d\\u044b\\u0439\", \"\\u043b\\u043e\\u0437\\u043e\\u0432\\u0441\\u043a\\u0438\\u0439\", \"\\u043f\\u0448\\u0435\\u043d\\u0438\\u0446\\u0430\", \"\\u0431\\u0430\\u0431\\u0443\\u0433\\u0430\\u043d\", \"\\u043a\\u0440\\u044b\\u043b\\u043e\\u0432\", \"\\u043c\\u0438\\u043d\\u0434\\u0430\\u043b\\u044c\", \"\\u0441\\u0442\\u0435\\u0440\\u0432\\u044f\\u0442\\u043d\\u0438\\u043a\", \"\\u0435\\u0440\\u0435\\u043c\\u0435\\u043d\\u043a\\u043e\", \"\\u0444\\u0435\\u044f\", \"\\u043b\\u044f\\u0440\\u0432\\u0430\", \"\\u0445\\u043b\\u043e\\u0440\\u043e\\u0444\\u043e\\u0440\\u043c\\u0430\\u0442\\u043e\\u0440\", \"\\u044f\\u0441\\u0442\\u0440\\u0435\\u0431\", \"\\u0433\\u043e\\u0440\\u043a\\u0430\", \"\\u044d\\u043b\\u044c\\u0432\\u0438\\u0440\\u0430\", \"\\u0430\\u0430\\u0430\\u0430\", \"\\u0434\\u0440\\u043e\\u0437\\u0434\", \"\\u0433\\u043e\\u043b\\u043e\\u0441\\u043e\\u043a\", \"\\u0431\\u043b\\u0438\\u043d\\u0434\\u0430\\u0436\", \"\\u0437\\u0430\\u0445\\u0430\\u0440\\u043e\\u0432\", \"\\u0445\\u043e\", \"\\u043a\\u0430\\u0441\\u0442\\u0435\\u043b\\u044c\", \"\\u043d\\u0435\\u0433\\u043e\\u0440\\u0431\\u0438\\u0442\\u044c\\u0441\\u044f\", \"\\u043e\\u0436\\u0435\\u0440\\u0435\\u043b\\u0438\\u0435\", \"\\u0446\\u0435\", \"\\u0431\\u0430\\u043b\\u043a\\u0430\", \"\\u043a\\u0438\\u043f\\u0430\\u0440\\u0438\\u0441\", \"\\u0438\\u043d\\u0434\\u044e\\u0448\\u043a\\u0430\", \"\\u044e\\u043b\\u044f\", \"\\u0434\\u0430\\u0447\\u043a\\u0430\", \"\\u0442\\u0430\\u0442\\u0430\\u0440\\u0438\\u043d\", \"\\u043f\\u0430\\u0432\\u043b\\u0438\\u043d\", \"- \", \"\\u0433\\u043e\\u0440\\u0430\", \"\\u0432\\u0438\\u043d\\u043e\\u0433\\u0440\\u0430\\u0434\\u043d\\u044b\\u0439\", \"\\u0448\\u0442\\u0430\\u0431\\u043d\\u043e\\u0439\", \"\\u043f\\u043e\\u043f\\u043e\\u0432\", \"\\u0447\\u0435\\u043b\\u043e\\u0432\\u0435\\u0447\\u0438\\u0439\", \"\\u0448\\u0442\\u0430\\u0431\", \"\\u043c\\u043e\\u0440\\u0435\", \"\\u043a\\u0430\\u043c\\u0435\\u043d\\u044c\", \"\\u043f\\u043e\\u0434\\u0432\\u0430\\u043b\", \"\\u0434\\u0438\\u0432\\u0438\\u0437\\u0438\\u044f\", \"\\u0432\\u0438\\u043d\\u043e\", \"\\u0441\\u043c\\u043e\\u0442\\u0440\\u0435\\u0442\\u044c\", \"\\u0443\\u0431\\u0438\\u0432\\u0430\\u0442\\u044c\", \"\\u0441\\u043e\\u043b\\u043d\\u0446\\u0435\", \"\\u0445\\u043e\\u0434\\u0438\\u0442\\u044c\", \"\\u0447\\u0435\\u043b\\u043e\\u0432\\u0435\\u043a\", \"\\u0443\\u0445\\u043e\\u0434\\u0438\\u0442\\u044c\", \"\\u0441\\u0430\\u0434\", \"\\u0434\\u0435\\u043d\\u044c\", \"\\u0441\\u0442\\u043e\\u044f\\u0442\\u044c\", \"\\u0433\\u043b\\u0430\\u0437\", \"\\u0440\\u0443\\u043a\\u0430\", \"\\u043d\\u043e\\u0447\\u044c\", \"\\u043e\\u0433\\u043e\\u043d\\u044c\", \"\\u0433\\u043e\\u0434\", \"\\u0433\\u043b\\u044f\\u0434\\u0435\\u0442\\u044c\", \"\\u0434\\u043e\\u043c\", \"\\u043d\\u0430\\u0448\", \"\\u0433\\u043e\\u043b\\u043e\\u0432\\u0430\", \"\\u043a\\u0440\\u043e\\u0432\\u044c\", \"\\u0441\\u0442\\u0430\\u043d\\u043e\\u0432\\u0438\\u0442\\u044c\\u0441\\u044f\", \"\\u0436\\u0438\\u0437\\u043d\\u044c\", \"\\u0441\\u0430\\u043c\\u044b\\u0439\", \"\\u0433\\u043e\\u0440\\u043e\\u0434\", \"\\u0432\\u0440\\u0435\\u043c\\u044f\", \"\\u0438\\u0434\\u0442\\u0438\", \"\\u0441\\u0438\\u0434\\u0435\\u0442\\u044c\", \"\\u043c\\u043e\\u0447\\u044c\", \"\\u0434\\u0430\\u0432\\u0430\\u0442\\u044c\", \"\\u0437\\u0435\\u043c\\u043b\\u044f\", \"\\u0436\\u0438\\u0442\\u044c\", \"r\", \"\\u0438\\u043d\\u0442\\u0435\\u0433\\u0440\\u0430\\u043b\", \"\\u043a\\u043e\\u043d\\u0441\\u043f\\u0435\\u043a\\u0442\", \"s\", \"\\u0430\\u044d\\u0440\\u043e\", \"\\u043d\\u0443\\u043c\\u0435\\u0440\", \"i\", \"\\u044e\\u043d\\u0438\\u0444\\u0430\", \"330\", \"\\u0430\\u0443\\u0434\\u0438\\u0442\\u043e\\u0440\\u0438\\u0443\\u043c\", \"\\u044e\\u043d\\u0438\\u0444\", \"\\u043d\\u043e\\u043b\\u044c\", \"503\", \"\\u043d\\u0435\\u043f\\u0440\\u043e\\u0437\\u0440\\u0430\\u0447\\u043d\\u044b\\u0439\", \"\\u0435\\u0434\\u0438\\u043d\\u043e\\u0433\\u043b\\u0430\\u0441\\u0438\\u0435\", \"\\u0431\\u0443\\u0434\\u0434\\u0430\", \"\\u0443\\u0440\\u0430\\u0432\\u043d\\u0435\\u043d\\u0438\\u0435\", \"\\u0436\\u0430\\u0431\\u0440\\u0430\", \"\\u0434\\u0432\\u0443\\u0445\\u0441\\u043e\\u0442\\u043b\\u0435\\u0442\\u043d\\u0438\\u0439\", \"\\u043c\\u0435\\u0444\\u0438\", \"\\u043b\\u0438\\u0444\\u0442\", \"\\u043d\\u043e\\u0436\\u043d\\u0438\\u0446\\u044b\", \"\\u0441\\u043a\\u043b\\u0430\\u0434\\u043e\\u0447\\u043a\\u0430\", \"\\u0434\\u0432\\u043e\\u044f\\u043a\\u043e\\u0438\\u0437\\u043e\\u0433\\u043d\\u0443\\u0442\\u044b\\u0439\", \"\\u043c\\u0430\\u0442\\u0435\\u043c\\u0430\\u0442\\u0438\\u043a\", \"\\u044d\\u043b\\u043b\\u0438\\u043d\\u0433\", \"\\u0438\\u0440\\u0440\\u0430\\u0446\\u0438\\u043e\\u043d\\u0430\\u043b\\u044c\\u043d\\u044b\\u0439\", \"90\", \"\\u0441\\u043a\\u0440\\u0438\\u0436\\u0430\\u043b\\u044c\", \"\\u0444\\u0440\\u0430\\u043d\\u0446\\u0435\\u0432\\u043d\\u0430\", \"\\u0445\\u0440\\u0430\\u043d\\u0438\\u0442\\u0435\\u043b\\u044c\", \"\\u0437\\u0430\\u043f\\u0438\\u0441\\u044c\", \"\\u0434\\u0440\\u0435\\u0432\\u043d\\u0438\\u0439\", \"\\u0435\\u0434\\u0438\\u043d\\u044b\\u0439\", \"\\u0442\\u0440\\u0435\\u0443\\u0433\\u043e\\u043b\\u044c\\u043d\\u0438\\u043a\", \"\\u0440\\u043e\\u0437\\u043e\\u0432\\u044b\\u0439\", \"\\u0433\\u043e\\u0441\\u0443\\u0434\\u0430\\u0440\\u0441\\u0442\\u0432\\u043e\", \"\\u044f\\u0441\\u043d\\u043e\", \"\\u0448\\u0442\\u043e\\u0440\\u0430\", \"\\u0442\\u0430\\u043b\\u043e\\u043d\", \"\\u0441\\u0435\\u043a\\u0443\\u043d\\u0434\\u0430\", \"13\", \"\\u0441\\u0442\\u0435\\u043a\\u043b\\u044f\\u043d\\u043d\\u044b\\u0439\", \"\\u0441\\u0442\\u0435\\u043d\\u0430\", \"\\u0441\\u0442\\u0435\\u043f\\u0430\", \"\\u0432\\u0432\\u0435\\u0440\\u0445\", \"\\u0431\\u044e\\u0440\\u043e\", \"\\u0432\\u043d\\u0438\\u0437\", \"\\u0433\\u0443\\u0431\\u0430\", \"\\u0433\\u043b\\u0430\\u0437\", \"\\u0434\\u0438\\u043a\\u0438\\u0439\", \"\\u0443\\u043b\\u044b\\u0431\\u043a\\u0430\", \"\\u043e\\u0441\\u0442\\u0440\\u044b\\u0439\", \"\\u0440\\u0443\\u043a\\u0430\", \"\\u043a\\u0430\\u043a\\u043e\\u0439-\\u0442\\u043e\", \"\\u043f\\u043e\\u043d\\u0438\\u043c\\u0430\\u0442\\u044c\", \"\\u043d\\u0430\\u0448\", \"\\u0441\\u0430\\u043c\\u044b\\u0439\", \"\\u0441\\u043a\\u0432\\u043e\\u0437\\u044c\", \"\\u043c\\u043e\\u0447\\u044c\", \"\\u0438\\u043c\\u0435\\u043d\\u043d\\u043e\", \"\\u0434\\u0435\\u043d\\u044c\", \"\\u0432\\u0435\\u0441\\u044c\", \"\\u0434\\u0432\\u0435\\u0440\\u044c\", \"\\u0445\\u043e\\u0442\\u0435\\u0442\\u044c\", \"\\u0447\\u0442\\u043e-\\u0442\\u043e\", \"\\u0433\\u043e\\u043b\\u043e\\u0432\\u0430\", \"\\u043b\\u0438\\u0446\\u043e\", \"\\u0443\\u0432\\u0438\\u0434\\u0435\\u0442\\u044c\", \"\\u0441\\u043e\\u043b\\u043d\\u0446\\u0435\", \"\\u0441\\u043b\\u043e\\u0432\\u043e\", \"\\u0447\\u0435\\u043b\\u043e\\u0432\\u0435\\u043a\", \"\\u043c\\u0438\\u0440\", \"\\u043e\\u0447\\u0435\\u043d\\u044c\"], \"Total\": [774.0, 298.0, 796.0, 196.0, 404.0, 78.0, 99.0, 372.0, 359.0, 94.0, 291.0, 407.0, 92.0, 123.0, 499.0, 85.0, 249.0, 573.0, 171.0, 120.0, 58.0, 144.0, 193.0, 62.0, 479.0, 420.0, 121.0, 107.0, 75.0, 99.0, 122.05187259520967, 104.06774143446968, 98.36230732848773, 51.99142795885859, 47.25803722446721, 47.25586646057854, 52.9289791905368, 45.34193539302942, 37.78333088250837, 31.161203112405513, 43.45070869511166, 27.37443358805488, 35.87529728999739, 26.427316660960475, 25.48089858557035, 30.206864088494633, 26.42257813311207, 22.640502149024336, 23.58528461575348, 22.638102576114743, 23.58441581159945, 65.17551493330117, 20.746766868304263, 27.352330072172, 20.745743543559925, 182.2556365920046, 21.689191079753055, 22.634176659742845, 18.85302868191736, 18.85294471743178, 98.16363167548269, 99.88610951083858, 69.64183218588822, 32.97310036126009, 89.52857471012389, 36.776999128988216, 77.08670106338592, 44.26346371154638, 38.61324157556799, 64.80237739813357, 193.18496831084656, 49.94159890782341, 43.32544998527367, 66.54050138401097, 111.4805178791475, 120.71507237702156, 100.2082853932744, 69.18214484302807, 207.59730196060437, 312.6107031154306, 147.0352704067033, 1381.2507935536912, 447.18405763598105, 644.4942073252222, 157.21151093176462, 344.55951527873356, 94.91897499326755, 561.9211626256496, 249.40966166992854, 522.5944355802194, 281.5622609847101, 572.7604238286689, 151.43808670361625, 184.813057938032, 413.4406430713888, 644.2726630283092, 211.15022886121648, 528.0377179199676, 198.0887335137489, 487.51941956230905, 340.7402114519144, 378.00748803115096, 573.4069806265072, 499.201778363145, 330.6531615938879, 796.0880601888489, 339.3735937164403, 445.0870649067391, 234.7001331544049, 382.25173966211435, 774.8326927871678, 404.0359379722195, 373.3780020611751, 277.0028466964522, 420.8764613103638, 479.28425180719773, 392.11021177933395, 45.671948393189325, 44.77532197400128, 77.97840284563469, 63.63336077236741, 37.59514621666599, 23.267854763633707, 22.370182713852934, 21.473935920783426, 20.57912944384388, 21.47017436434012, 21.46983970953741, 19.68239236169206, 18.786660778482858, 17.890652743903686, 16.994507437438497, 29.514713074420396, 16.99395751719381, 33.9842274792712, 15.201910621245688, 17.896367898747755, 20.59251943951229, 15.202403583561095, 14.305991546994843, 14.305574590298047, 14.305307398871001, 34.04913118387102, 13.409680293829549, 13.409410640988705, 21.49918996296873, 12.513493748445914, 29.49178782531472, 99.40059118594176, 41.29098743545149, 48.42503584961605, 42.96546466820556, 298.2750850630202, 24.219827709738023, 39.49231251467379, 28.654393020886005, 152.05309336895766, 80.55830637818502, 142.9945831876844, 59.34867182477868, 291.9212569798203, 48.73454509267423, 37.39780610791389, 60.582460001997894, 73.44968956819842, 420.8764613103638, 106.88827338620159, 96.46622610890682, 65.1612542143108, 171.8753220057185, 91.6642030000417, 72.17709510436825, 333.25315585270675, 774.8326927871678, 796.0880601888489, 307.81486493336485, 203.4925680322916, 479.28425180719773, 644.2726630283092, 404.7055007375503, 265.5669834033844, 263.12411182896824, 1381.2507935536912, 315.6135366856633, 380.4639368751124, 392.11021177933395, 487.51941956230905, 382.25173966211435, 236.86152925840244, 528.0377179199676, 572.7604238286689, 573.4069806265072, 373.3780020611751, 499.201778363145, 372.05400854412846, 644.4942073252222, 561.9211626256496, 407.8408964964716, 522.5944355802194, 54.47340142443024, 32.355614445500464, 23.8399962557933, 18.733453812337256, 18.733733048246552, 19.589513980285442, 17.893504669606013, 35.798045728849274, 16.185725862959483, 13.628303442340595, 12.77705082910903, 16.203662366599936, 11.92568949476217, 29.044206032197955, 11.075242034632769, 11.074535772606637, 10.223899414180048, 10.223915309151266, 26.49735031152836, 10.224396862862884, 10.225065385729453, 23.88441381163396, 10.228155614126031, 26.510185765710553, 9.373130541857957, 9.373241481830753, 10.230673642741797, 8.521961582170238, 8.522020936905284, 8.52206865055857, 85.07263962746228, 19.684696558506015, 17.928802482024754, 17.929485208592375, 17.976962807530327, 25.760422275520156, 28.384098629322818, 32.65944171203428, 123.42101520564506, 15.375551378921473, 12.821325614262463, 31.18786817911536, 23.03639757594516, 65.02409834943859, 144.14327822146547, 121.92894354474505, 48.01934276017649, 34.86923758137111, 56.295149527783174, 251.18864833546058, 135.2754077921641, 249.32054553394866, 243.3792505837315, 1381.2507935536912, 349.4530760792495, 126.7197718298253, 573.4069806265072, 445.0870649067391, 774.8326927871678, 796.0880601888489, 378.00748803115096, 153.7561192851653, 528.0377179199676, 257.2588782847836, 380.4639368751124, 359.95753110929024, 479.28425180719773, 145.2319983273267, 644.2726630283092, 644.4942073252222, 407.8408964964716, 279.2827330981258, 522.5944355802194, 572.7604238286689, 373.3780020611751, 499.201778363145, 413.4406430713888, 344.55951527873356, 447.18405763598105, 35.04469511235162, 29.728185291216555, 25.170523993973227, 18.334162558718557, 18.334300318097604, 39.789834407026426, 78.8520947877748, 13.776619757398166, 12.25733582000877, 11.498011685810404, 10.738160025639612, 9.978538107950047, 9.218871700915775, 9.219056840534186, 8.459338981009427, 7.699732848469042, 7.699758697694728, 7.699856773961162, 7.6999236779502835, 7.700013133561117, 6.940083281531864, 6.940080361577237, 6.9402314902345275, 6.180530078186494, 6.180539598728489, 6.180550043272496, 6.180660597792004, 6.1807708743642875, 13.868222325126213, 6.18474214828478, 29.808255742415948, 41.81956898110444, 99.09402490905279, 58.81715475945291, 17.222308113498737, 92.63367050003657, 62.27264158275935, 94.07854131636357, 38.26887872566993, 21.4615683742155, 60.25999839769216, 23.968496670852826, 75.61502980539134, 196.40168404187193, 67.5786270737274, 57.486611303110394, 33.64855736094104, 76.66955108060606, 120.22344424317049, 774.8326927871678, 54.994988137425324, 64.55591308623372, 51.95152061820276, 796.0880601888489, 404.7055007375503, 372.05400854412846, 359.95753110929024, 407.8408964964716, 117.1251960190115, 499.201778363145, 107.2653107114495, 573.4069806265072, 561.9211626256496, 291.9212569798203, 404.0359379722195, 259.16222651747154, 479.28425180719773, 487.51941956230905, 253.7171865303569, 249.32054553394866, 392.11021177933395, 1381.2507935536912, 242.31761242256556, 333.25315585270675], \"loglift\": [30.0, 29.0, 28.0, 27.0, 26.0, 25.0, 24.0, 23.0, 22.0, 21.0, 20.0, 19.0, 18.0, 17.0, 16.0, 15.0, 14.0, 13.0, 12.0, 11.0, 10.0, 9.0, 8.0, 7.0, 6.0, 5.0, 4.0, 3.0, 2.0, 1.0, 0.7415, 0.7414, 0.7367, 0.735, 0.7341, 0.7333, 0.7321, 0.7313, 0.7278, 0.727, 0.7245, 0.7242, 0.7235, 0.7233, 0.7225, 0.7217, 0.7199, 0.7194, 0.7192, 0.7188, 0.7184, 0.7177, 0.7167, 0.7166, 0.7165, 0.7157, 0.7145, 0.7143, 0.7136, 0.7135, 0.6997, 0.6897, 0.6869, 0.7053, 0.6709, 0.6976, 0.6634, 0.6889, 0.695, 0.6627, 0.5878, 0.6769, 0.6867, 0.6535, 0.6039, 0.5896, 0.6026, 0.6378, 0.5192, 0.4661, 0.5453, 0.2704, 0.3943, 0.3221, 0.5185, 0.3764, 0.5869, 0.2559, 0.3955, 0.2415, 0.3665, 0.2114, 0.4903, 0.442, 0.2477, 0.1154, 0.3915, 0.1369, 0.4042, 0.1172, 0.2213, 0.1839, 0.0203, 0.0529, 0.199, -0.1629, 0.181, 0.0624, 0.3378, 0.1058, -0.2428, 0.0491, 0.0654, 0.2297, -0.0779, -0.1794, -0.0281, 1.317, 1.317, 1.3102, 1.3071, 1.3052, 1.3025, 1.3017, 1.3008, 1.2999, 1.2997, 1.2997, 1.2977, 1.2967, 1.2947, 1.2932, 1.2927, 1.2918, 1.2909, 1.2884, 1.2879, 1.2872, 1.2863, 1.2857, 1.2854, 1.2851, 1.2834, 1.2825, 1.2824, 1.2793, 1.2791, 1.2769, 1.2529, 1.2688, 1.2637, 1.2595, 1.1208, 1.2563, 1.2217, 1.2395, 1.0523, 1.0991, 1.0136, 1.1096, 0.7567, 1.1082, 1.1617, 1.0483, 1.0024, 0.5737, 0.9077, 0.9173, 1.0145, 0.7453, 0.9189, 0.9646, 0.4768, 0.1726, 0.1476, 0.4629, 0.574, 0.2365, 0.1017, 0.2659, 0.4406, 0.4209, -0.3488, 0.3056, 0.1689, 0.1319, 0.0145, 0.127, 0.3712, -0.1057, -0.1985, -0.2377, 0.0553, -0.156, 0.0477, -0.4451, -0.334, -0.0802, -0.3595, 1.7674, 1.7565, 1.7503, 1.7441, 1.7439, 1.7429, 1.736, 1.7352, 1.7348, 1.7292, 1.727, 1.7237, 1.7233, 1.7216, 1.7185, 1.7183, 1.7137, 1.7137, 1.7131, 1.7131, 1.7124, 1.7123, 1.7093, 1.7085, 1.7073, 1.7069, 1.7061, 1.7, 1.6999, 1.6998, 1.6707, 1.6896, 1.6886, 1.6873, 1.6858, 1.6635, 1.6466, 1.6156, 1.4777, 1.6729, 1.6905, 1.554, 1.5813, 1.3776, 1.199, 1.196, 1.3936, 1.437, 1.2616, 0.6915, 0.9191, 0.6807, 0.6574, -0.0391, 0.5081, 0.8917, 0.2071, 0.3191, -0.005, -0.064, 0.2601, 0.7218, 0.0592, 0.4447, 0.1914, 0.2088, 0.0011, 0.6917, -0.2247, -0.2508, 0.0396, 0.2764, -0.1565, -0.222, 0.0665, -0.2043, -0.0853, 0.0453, -0.222, 2.3456, 2.342, 2.3378, 2.3275, 2.3274, 2.3233, 2.32, 2.3147, 2.3084, 2.3044, 2.3001, 2.295, 2.2891, 2.289, 2.2819, 2.2734, 2.2734, 2.2733, 2.2732, 2.2731, 2.2629, 2.2629, 2.2627, 2.2496, 2.2496, 2.2496, 2.2493, 2.2493, 2.2482, 2.2438, 2.1688, 2.1259, 2.0215, 2.063, 2.1468, 1.8814, 1.9334, 1.8511, 1.9941, 2.0801, 1.8041, 2.0155, 1.6754, 1.41, 1.6316, 1.6697, 1.8437, 1.5539, 1.3132, 0.4488, 1.6144, 1.5397, 1.6352, 0.3523, 0.6503, 0.6769, 0.6234, 0.5222, 1.196, 0.3813, 1.2339, 0.0754, 0.0517, 0.503, 0.2308, 0.5479, 0.073, 0.0378, 0.5416, 0.5169, 0.0903, -1.1038, 0.4945, 0.1702], \"logprob\": [30.0, 29.0, 28.0, 27.0, 26.0, 25.0, 24.0, 23.0, 22.0, 21.0, 20.0, 19.0, 18.0, 17.0, 16.0, 15.0, 14.0, 13.0, 12.0, 11.0, 10.0, 9.0, 8.0, 7.0, 6.0, 5.0, 4.0, 3.0, 2.0, 1.0, -6.687900066375732, -6.847400188446045, -6.9085001945495605, -7.547800064086914, -7.644100189208984, -7.644899845123291, -7.532800197601318, -7.688300132751465, -7.874199867248535, -8.067700386047363, -7.73769998550415, -8.199999809265137, -7.930200099945068, -8.236100196838379, -8.27340030670166, -8.104000091552734, -8.239700317382812, -8.394700050354004, -8.354000091552734, -8.395400047302246, -8.3548002243042, -7.339000225067139, -8.484700202941895, -8.208399772644043, -8.48490047454834, -6.312699794769287, -8.442500114440918, -8.400099754333496, -8.583499908447266, -8.583600044250488, -6.947500228881836, -6.940100193023682, -7.303500175476074, -8.03279972076416, -7.068399906158447, -7.931399822235107, -7.225500106811523, -7.754799842834473, -7.885300159454346, -7.399700164794922, -6.382400035858154, -7.646100044250488, -7.77839994430542, -7.382500171661377, -6.915999889373779, -6.850800037384033, -7.023900032043457, -7.359300136566162, -6.379000186920166, -6.022799968719482, -6.69789981842041, -4.732699871063232, -5.736599922180176, -5.44320011138916, -6.657800197601318, -6.015100002288818, -7.093900203704834, -5.646500110626221, -6.319300174713135, -5.733500003814697, -6.2270002365112305, -5.671899795532227, -6.723400115966797, -6.572400093078613, -5.961599826812744, -5.650300025939941, -6.489799976348877, -5.8277997970581055, -6.540900230407715, -5.927299976348877, -6.181399822235107, -6.114999771118164, -5.861999988555908, -5.967899799346924, -6.233799934387207, -5.7170000076293945, -6.2256999015808105, -6.073200225830078, -6.43779993057251, -6.1819000244140625, -5.823999881744385, -6.183199882507324, -6.2459001541137695, -6.380099773406982, -6.269400119781494, -6.240900039672852, -6.290299892425537, -7.095300197601318, -7.115200042724609, -6.567200183868408, -6.773600101470947, -7.301700115203857, -7.784200191497803, -7.824399948120117, -7.866199970245361, -7.909599781036377, -7.867499828338623, -7.867499828338623, -7.956299781799316, -8.003999710083008, -8.054800033569336, -8.10770034790039, -7.556300163269043, -8.109199523925781, -7.416999816894531, -8.223999977111816, -8.061300277709961, -7.9217000007629395, -8.226099967956543, -8.287500381469727, -8.287799835205078, -8.288100242614746, -7.422599792480469, -8.355299949645996, -8.355500221252441, -7.886499881744385, -8.428000450134277, -7.572800159454346, -6.381700038909912, -7.2444000244140625, -7.090099811553955, -7.213900089263916, -5.414999961853027, -7.79040002822876, -7.335999965667725, -7.638999938964844, -6.157199859619141, -6.745699882507324, -6.257400035858154, -7.040800094604492, -5.800600051879883, -7.239299774169922, -7.450500011444092, -7.081500053405762, -6.934800148010254, -5.617800235748291, -6.654399871826172, -6.747300148010254, -7.042500019073486, -6.341700077056885, -6.796800136566162, -6.990099906921387, -5.9481000900268555, -5.408599853515625, -5.406599998474121, -6.041399955749512, -6.344200134277344, -5.824999809265137, -5.664000034332275, -5.964700222015381, -6.211400032043457, -6.240300178527832, -5.351900100708008, -6.173699855804443, -6.123600006103516, -6.13040018081665, -6.03000020980835, -6.160799980163574, -6.395199775695801, -6.070300102233887, -6.081900119781494, -6.119999885559082, -6.255899906158447, -6.176799774169922, -6.267099857330322, -6.210400104522705, -6.236499786376953, -6.303100109100342, -6.334499835968018, -6.468699932098389, -7.000500202178955, -7.312099933624268, -7.5594000816345215, -7.559599876403809, -7.515900135040283, -7.613399982452393, -6.9207000732421875, -7.714900016784668, -7.892399787902832, -7.959199905395508, -7.724899768829346, -8.031800270080566, -7.143400192260742, -8.110600471496582, -8.110899925231934, -8.19540023803711, -8.19540023803711, -7.24370002746582, -8.196000099182129, -8.196599960327148, -7.348299980163574, -8.199399948120117, -7.247799873352051, -8.288700103759766, -8.288999557495117, -8.202300071716309, -8.391200065612793, -8.391300201416016, -8.391400337219238, -6.11959981918335, -7.564300060272217, -7.65880012512207, -7.660099983215332, -7.658899784088135, -7.321499824523926, -7.241300106048584, -7.1321001052856445, -5.940499782562256, -7.828199863433838, -7.992199897766113, -7.239799976348877, -7.515399932861328, -6.68149995803833, -6.064000129699707, -6.234399795532227, -6.968599796295166, -7.245200157165527, -6.9415998458862305, -6.01609992980957, -6.407400131225586, -6.03439998626709, -6.0817999839782715, -5.042200088500977, -5.8694000244140625, -6.500100135803223, -5.675099849700928, -5.816400051116943, -5.58620023727417, -5.618100166320801, -6.03879976272583, -6.4766998291015625, -5.905399799346924, -6.238999843597412, -6.10099983215332, -6.138999938964844, -6.060400009155273, -6.563799858093262, -5.9903998374938965, -6.016200065612793, -6.1834001541137695, -6.325200080871582, -6.1315999031066895, -6.105400085449219, -6.244800090789795, -6.225100040435791, -6.294600009918213, -6.34630012512207, -6.35290002822876, -6.331600189208984, -6.499800205230713, -6.670400142669678, -6.997600078582764, -6.997700214385986, -6.226900100708008, -5.546199798583984, -7.296199798583984, -7.419300079345703, -7.487299919128418, -7.559899806976318, -7.638400077819824, -7.723400115966797, -7.723599910736084, -7.8165998458862305, -7.919300079345703, -7.919300079345703, -7.919300079345703, -7.919400215148926, -7.91949987411499, -8.033599853515625, -8.033599853515625, -8.03380012512207, -8.162799835205078, -8.1628999710083, -8.1628999710083, -8.163100242614746, -8.163100242614746, -7.355999946594238, -8.167900085449219, -6.670199871063232, -6.374499797821045, -5.616300106048584, -6.096399784088135, -7.240900039672852, -5.823800086975098, -6.168799877166748, -5.838600158691406, -6.595099925994873, -7.087500095367432, -6.331099987030029, -7.041600227355957, -6.232800006866455, -5.543600082397461, -6.388999938964844, -6.512599945068359, -6.874100208282471, -6.340400218963623, -6.13129997253418, -5.132400035858154, -6.612199783325195, -6.526599884033203, -6.6483001708984375, -5.2017998695373535, -5.580399990081787, -5.637899875640869, -5.724400043487549, -5.700699806213379, -6.274499893188477, -5.639500141143799, -6.3246002197265625, -5.8069000244140625, -5.850800037384033, -6.0543999671936035, -6.0015997886657715, -6.128499984741211, -5.988500118255615, -6.006700038909912, -6.156000137329102, -6.198200225830078, -6.171899795532227, -6.106900215148926, -6.249100208282471, -6.254700183868408]}, \"token.table\": {\"Topic\": [1, 2, 3, 1, 2, 3, 4, 4, 4, 4, 1, 2, 4, 4, 4, 3, 2, 1, 2, 3, 1, 1, 2, 2, 2, 1, 2, 3, 4, 4, 1, 2, 3, 3, 1, 3, 1, 2, 1, 2, 2, 1, 2, 3, 4, 2, 1, 3, 1, 3, 2, 4, 1, 1, 2, 4, 1, 2, 3, 4, 1, 2, 3, 4, 1, 2, 3, 4, 1, 2, 3, 3, 2, 3, 1, 1, 2, 3, 4, 1, 2, 3, 4, 1, 2, 3, 4, 1, 1, 2, 3, 1, 2, 3, 4, 1, 1, 2, 3, 4, 1, 2, 3, 4, 1, 2, 3, 4, 1, 2, 3, 4, 1, 2, 3, 4, 1, 2, 3, 4, 3, 1, 2, 3, 4, 1, 3, 1, 2, 3, 4, 1, 2, 3, 4, 1, 2, 3, 2, 1, 2, 3, 4, 1, 1, 1, 2, 3, 4, 1, 3, 1, 2, 3, 4, 4, 4, 1, 2, 3, 1, 2, 1, 2, 3, 4, 1, 2, 3, 4, 1, 2, 3, 4, 1, 2, 3, 1, 2, 3, 4, 1, 2, 3, 4, 1, 2, 3, 4, 1, 2, 3, 4, 2, 3, 1, 2, 3, 4, 4, 1, 2, 3, 4, 1, 2, 1, 3, 4, 1, 2, 3, 4, 1, 2, 3, 4, 1, 2, 3, 4, 3, 1, 2, 3, 4, 1, 2, 3, 1, 2, 3, 4, 1, 2, 3, 1, 2, 3, 4, 2, 3, 1, 2, 3, 4, 4, 1, 2, 3, 4, 1, 2, 3, 4, 1, 2, 1, 2, 3, 4, 1, 2, 3, 1, 2, 3, 4, 1, 3, 3, 1, 1, 3, 1, 2, 3, 4, 1, 4, 2, 1, 2, 1, 2, 3, 1, 2, 3, 4, 3, 1, 2, 3, 3, 1, 1, 3, 4, 2, 1, 2, 3, 4, 1, 2, 3, 4, 2, 3, 1, 2, 3, 4, 3, 3, 2, 1, 2, 3, 1, 2, 3, 4, 2, 4, 1, 1, 1, 2, 3, 4, 4, 2, 1, 2, 3, 3, 3, 1, 2, 3, 4, 2, 3, 1, 1, 2, 3, 4, 1, 2, 3, 4, 1, 2, 3, 1, 2, 3, 1, 2, 1, 2, 3, 4, 1, 2, 3, 4, 1, 3, 4, 1, 4, 4, 1, 2, 3, 4, 1, 4, 1, 2, 3, 4, 1, 3, 2, 1, 1, 2, 1, 2, 3, 4, 1, 2, 3, 1, 2, 3, 1, 2, 3, 4, 1, 3, 1, 2, 3, 1, 2, 3, 4, 1, 2, 4, 2, 2, 1, 2, 3, 4, 1, 2, 3, 1, 1, 2, 3, 4, 1, 2, 3, 4, 2, 1, 2, 3, 4, 2, 1, 2, 3, 1, 2, 3, 4, 1, 2, 3, 2, 1, 2, 3, 4, 1, 2, 3, 1, 2, 3, 4, 1, 2, 3, 2, 2, 1, 2, 3, 1, 2, 3, 1, 2, 3, 4, 1, 2, 3, 4, 1, 2, 3, 1, 2, 3, 4, 1, 2, 1, 2, 3, 1, 2, 3, 4, 1, 2, 3, 4, 1, 2, 3, 4, 1, 2, 3, 4, 4, 3, 4, 1, 2, 3, 4, 1, 2, 3, 4, 1, 2, 3, 4, 1, 1, 2, 3, 4, 1, 1, 2, 3, 1, 2, 3, 4, 1, 2, 3, 4, 1, 2, 3, 4, 1, 2, 3, 4, 1, 2, 3, 4, 2, 3, 4, 1, 3, 1, 2, 3, 4, 1, 2, 3, 4, 1, 2, 4, 1, 3, 1, 2, 3, 4, 1, 2, 3, 4, 1, 2, 3, 4, 1, 2, 3, 4, 1, 2, 3, 4, 1, 2, 3, 4, 1, 2, 3, 4, 4, 1, 2, 3, 4, 1, 1, 3, 2, 2, 4, 1, 3, 3, 1, 2, 3, 4, 1, 2, 3, 4, 1, 3, 4, 3, 1, 2, 3, 4, 2, 3, 4, 2, 1, 2, 3, 4, 1, 2, 3, 4, 2, 2, 3, 1, 2, 3, 1, 3, 2, 4, 4, 3, 2, 3, 4, 4, 1, 2, 3, 1, 2, 3, 4, 3], \"Freq\": [0.06123803393929555, 0.09185705090894332, 0.8573324751501377, 0.12516429549994204, 0.12516429549994204, 0.04172143183331401, 0.7092643411663382, 0.9790055666429, 0.976258298410419, 0.9707526976749675, 0.02536394252280637, 0.012681971261403186, 0.9511478446052389, 0.9701896361488558, 0.9817737757234158, 0.9779888560865768, 0.9779297133729113, 0.9547537588623344, 0.9710386978820827, 0.029425415087335843, 0.9752202549230828, 0.9861501080496393, 0.010166495959274631, 0.9589647976201942, 0.9415111214566612, 0.9488638366329216, 0.02259199611030766, 0.02259199611030766, 0.956687147359139, 0.9817663989191003, 0.9210408412939993, 0.03891721864622533, 0.03891721864622533, 0.9538971637226265, 0.09403728431411598, 0.8933542009841018, 0.9666125423801231, 0.023014584342383883, 0.9516817801595031, 0.027190908004557233, 0.9841695996276733, 0.265978186484098, 0.3841907138103638, 0.24486880660440768, 0.10554689939845159, 0.9414806553764765, 0.03772135015717031, 0.9430337539292579, 0.9167349017700325, 0.09017064607574089, 0.9718584090048997, 0.9091224510980052, 0.9600466938587541, 0.29718956128585516, 0.11887582451434206, 0.5943791225717103, 0.12176748361615908, 0.2261396124300097, 0.15655819322077597, 0.5044652892669448, 0.6121855215287059, 0.18863856186640354, 0.10143771723004719, 0.09965810815583583, 0.5956617484903027, 0.18411363135154812, 0.16245320413371894, 0.05415106804457298, 0.24868927638411586, 0.1421081579337805, 0.6039596712185671, 0.9890091889276448, 0.06503831799950355, 0.9105364519930496, 0.9945398234962324, 0.8533594047527926, 0.031605903879733055, 0.10535301293244352, 0.021070602586488706, 0.3652036513238792, 0.1434728630200954, 0.0521719501891256, 0.44346157660756763, 0.7725929622247804, 0.026413434605975398, 0.14527389033286467, 0.059430227863444644, 0.9811270947154634, 0.16415460500938497, 0.8002536994207519, 0.020519325626173122, 0.6027618714505941, 0.18369885606113345, 0.14351473129776052, 0.06888707102292504, 0.9719814566583819, 0.5686948058818593, 0.2769808899113719, 0.09723797199016246, 0.05598549902463899, 0.37169314444390417, 0.31361609062454415, 0.1677781554781512, 0.14712853634237874, 0.5364246354492578, 0.15937253661898237, 0.2643251826851415, 0.04275848543436112, 0.5435217793352772, 0.23672551364776884, 0.17991139037230433, 0.039769886292825164, 0.3964244585203512, 0.33383112296450623, 0.16900200600078127, 0.10014933688935188, 0.37360119052370966, 0.41908307458746563, 0.12345082817305189, 0.08446635611840393, 0.9776933767207329, 0.2106610446906355, 0.032409391490867, 0.7373136564172244, 0.0162046957454335, 0.037739622575202324, 0.9434905643800581, 0.5585737373358829, 0.1826106448982694, 0.22199725458220987, 0.035806008803582236, 0.20875941134957648, 0.1124089138036181, 0.048175248772979185, 0.6423366503063892, 0.2586804670203323, 0.721582355372506, 0.02722952284424551, 0.9834519584132098, 0.33271380845730736, 0.19962828507438443, 0.11644983296005758, 0.34934949888017275, 0.9948268007552848, 0.9840069303236346, 0.6071004488948123, 0.2031730585942798, 0.154798520833737, 0.033862176432379966, 0.055626749118105334, 0.8900279858896853, 0.19183255299517676, 0.5617953337715891, 0.08906511389061779, 0.15415115865683848, 0.9707905186282233, 0.9090999200479604, 0.8681916835375681, 0.07983371802644305, 0.04989607376652691, 0.046513380351652756, 0.9302676070330552, 0.5258314852344973, 0.30084885971127956, 0.12818777500741477, 0.04708938673741767, 0.4830774813682046, 0.207531481165402, 0.207531481165402, 0.10114979754280097, 0.8161307125023605, 0.08161307125023605, 0.08841416052108905, 0.01360217854170601, 0.20075001593208766, 0.08603572111375185, 0.7169643426145987, 0.29093560235012833, 0.10910085088129813, 0.12728432602818116, 0.4727703538189586, 0.4152824609283892, 0.3127760306992299, 0.20501286045831874, 0.06833762015277291, 0.7067539759412057, 0.09086836833529788, 0.16154376592941844, 0.03533769879706029, 0.14127996125749276, 0.13118853545338613, 0.02018285160821325, 0.7063998062874638, 0.04186830825686439, 0.9211027816510167, 0.5776445598744598, 0.19053197524654955, 0.14819153630287188, 0.08468087788735536, 0.9457003694921544, 0.15301658226766823, 0.06800736989674143, 0.051005527422556075, 0.7310792263899704, 0.9666206713437165, 0.030686370518848143, 0.034430274970898345, 0.9296174242142553, 0.9091078192093275, 0.6532254211364178, 0.16912487150562835, 0.13188636768787532, 0.04654812977219129, 0.7021717224445506, 0.13864537194765011, 0.1341729405945001, 0.02459837244232502, 0.14347350166882428, 0.04782450055627476, 0.02391225027813738, 0.7891042591785336, 0.9601914706946998, 0.6907369828619256, 0.07545866199331962, 0.17703763006124987, 0.060947380840758146, 0.04130095032270084, 0.929271382260769, 0.02065047516135042, 0.5848867799919942, 0.216495405131365, 0.1344366628638315, 0.06285350471555759, 0.9258919565770146, 0.03086306521923382, 0.04629459782885073, 0.28900303177596687, 0.34493910244228304, 0.037290713777544116, 0.326293745553511, 0.0557761736179865, 0.892418777887784, 0.023274506809651704, 0.9309802723860681, 0.04654901361930341, 0.9755052222635432, 0.9707700180371426, 0.12587889414226616, 0.7273002772664268, 0.13287216603905874, 0.01398654379358513, 0.407703872814424, 0.34345962618912085, 0.0691861117503265, 0.18037807706335124, 0.02936932500861277, 0.9398184002756086, 0.2870524338395159, 0.03280599243880182, 0.5577018714596309, 0.12302247164550682, 0.04843672007424182, 0.9445160414477155, 0.9774527415498735, 0.15783960370844852, 0.7563147677696492, 0.03945990092711213, 0.04603655108163082, 0.050800884688663735, 0.9144159243959473, 0.9608479130605256, 0.9913817578309654, 0.9682242146690101, 0.9913094939539073, 0.24079503479569017, 0.4668475164406238, 0.1425113471239799, 0.1474255315075654, 0.9640056268504597, 0.9534962405131695, 0.9653298059934928, 0.01282406363181855, 0.9746288360182098, 0.9463260050140485, 0.04616224414702676, 0.02308112207351338, 0.3718188871731542, 0.1859094435865771, 0.33739121243489917, 0.11016855916241605, 0.9391838664882877, 0.03489866280786706, 0.9073652330045436, 0.03489866280786706, 0.9647652521929749, 0.9718128949204426, 0.9704880538803268, 0.03032775168376021, 0.8645429394149342, 0.978116291695988, 0.5333120888464831, 0.2687072447649588, 0.10256001708586213, 0.09845761640242763, 0.7358787388583816, 0.2218457962734827, 0.021643492319364167, 0.016232619239523124, 0.02793448579775712, 0.9497725171237421, 0.03724010762982465, 0.7944556294362592, 0.0248267384198831, 0.13654706130935707, 0.9699066561386506, 0.9029723868638765, 0.9499134179729019, 0.1964668277887154, 0.6548894259623846, 0.14968901164854506, 0.8961849931174567, 0.043363789989554355, 0.043363789989554355, 0.02890919332636957, 0.9786577533527804, 0.9707890232164145, 0.9824485715624213, 0.9863217776963148, 0.6646779356421177, 0.23860233587152943, 0.06391133996558825, 0.02982529198394118, 0.9090893584960194, 0.9581266310304675, 0.07596415122273019, 0.8862484309318522, 0.025321383740910065, 0.9257166473006124, 0.9500654183680559, 0.5695004940843866, 0.1815798676790798, 0.09491674901406444, 0.15269216145740802, 0.9494168398962161, 0.03390774428200772, 0.9792678182623912, 0.3260644587796039, 0.07631295843777963, 0.5619408757691046, 0.04162525005697071, 0.49879629999808334, 0.22636137309149967, 0.13822066144525202, 0.13822066144525202, 0.9656765809333601, 0.016460396265909547, 0.010973597510606364, 0.8541037195735892, 0.04141108943387099, 0.10870410976391134, 0.9410992244510896, 0.06007016326283551, 0.5069491051625986, 0.3580328055210853, 0.11723198056885094, 0.019010591443597447, 0.4528311978851471, 0.16390822500137225, 0.20835791313733762, 0.1750206470353636, 0.9640531783305774, 0.9387510050195141, 0.9762386929245255, 0.9945855090649541, 0.8645433031608889, 0.901935724715985, 0.5687718016376496, 0.17195426561138244, 0.2195723699345345, 0.04232720384280183, 0.025132047290536388, 0.9550177970403827, 0.3902283712605962, 0.16909896087959167, 0.34470172794685994, 0.09105328662747245, 0.9924587384710095, 0.9387444667444279, 0.9712264717655003, 0.9751843310229741, 0.04128848528505146, 0.9083466762711321, 0.11549228836042427, 0.26948200617432333, 0.11549228836042427, 0.4812178681684345, 0.4371829192517237, 0.4680708428945085, 0.09266377092835448, 0.2145835609774064, 0.7592956773046688, 0.0330128555349856, 0.3150757859481713, 0.42610249147276497, 0.15003608854674824, 0.11102670552459369, 0.1056929811010727, 0.8807748425089391, 0.9410717912664335, 0.03003420610424788, 0.020022804069498586, 0.3351320215315055, 0.4104425881677989, 0.17697983159528943, 0.07907609496810805, 0.08021860938428575, 0.8556651667657147, 0.05347907292285717, 0.9694489141536012, 0.9852875032305491, 0.05030151169470258, 0.9255478151825275, 0.020120604677881033, 0.010060302338940516, 0.18742447277857996, 0.12494964851905331, 0.6872230668547932, 0.9717098965028063, 0.15346543157549886, 0.7212875284048446, 0.061386172630199534, 0.046039629472649654, 0.5898922206555164, 0.22010903755802852, 0.12619584819993634, 0.061630530516247985, 0.9502168670616459, 0.42466952746528464, 0.2768415273982552, 0.11288683641482249, 0.18545694553863695, 0.9884882054510522, 0.1603187486648478, 0.03206374973296956, 0.801593743324239, 0.1451285135192758, 0.6634446332309751, 0.05183161197116993, 0.1451285135192758, 0.2216769735172074, 0.6927405422412731, 0.08312886506895277, 0.986718076018451, 0.03687870878546861, 0.8113315932803095, 0.15086744503146252, 0.0033526098895880554, 0.9575847836472966, 0.04074828866584241, 0.9267424968766474, 0.7009227543735059, 0.14681490125391003, 0.10892718480128809, 0.042623681009199686, 0.8532488774749418, 0.08283969684222736, 0.05798778778955915, 0.9866860801024937, 0.978610951503105, 0.01571502727283653, 0.9743316909158648, 0.9608335911290661, 0.9582205090859622, 0.025897851596917897, 0.025897851596917897, 0.1403377403683347, 0.07556647558294946, 0.17272337276102737, 0.61532701546116, 0.40196558145098826, 0.3064987558563786, 0.15827394769632663, 0.13315109885563986, 0.3393314190759878, 0.25252570721933976, 0.41035427423142706, 0.4217330863029035, 0.2427417182789968, 0.17653943147563403, 0.15937587563772518, 0.927078312915601, 0.06701770936739285, 0.8701071886403922, 0.08073159482230442, 0.05382106321486962, 0.08297378249169503, 0.2987056169701021, 0.04978426949501702, 0.5642217209435262, 0.5061894352550363, 0.27853810193927925, 0.17944281567242026, 0.034817262742409906, 0.6819095688765844, 0.12785804416435956, 0.11009998247486517, 0.07813547143377529, 0.36712852111701344, 0.23906043235526456, 0.07684085325704933, 0.3073634130281973, 0.8645244770930898, 0.07210729512089063, 0.8652875414506876, 0.45905460911917734, 0.3009357993114607, 0.13516607935175778, 0.1020121353598172, 0.35829644610295314, 0.2428453690253349, 0.3383910879861224, 0.059716074350492185, 0.23272683671637953, 0.5585444081193108, 0.023272683671637952, 0.18618146937310362, 0.9547580110048733, 0.4051009907093572, 0.10428342335092362, 0.3329047745433331, 0.15642513502638544, 0.9809309342370224, 0.9477062553988036, 0.01435918568786066, 0.04307755706358198, 0.701656859755485, 0.1323124364110343, 0.14434083972112832, 0.020047338850156714, 0.7951071728726941, 0.09541286074472329, 0.05724771644683397, 0.04452600168087086, 0.5308311521281674, 0.2918019198833201, 0.13503599483962156, 0.04190772253643427, 0.09257418820062278, 0.3041723326591892, 0.10579907222928318, 0.5025455930890952, 0.24439708974066954, 0.2393054837044056, 0.13238175694286267, 0.3869620587560601, 0.4883200714331978, 0.02959515584443623, 0.4735224935109797, 0.9871188278569929, 0.9223785345770794, 0.2888370794744965, 0.40285171610916615, 0.2204282974936947, 0.08361073353209109, 0.5032723205446009, 0.2111946345142522, 0.23141539739327632, 0.051675282913061706, 0.1397847514072774, 0.09318983427151827, 0.7455186741721461, 0.07763847884980433, 0.8928425067727498, 0.794808017453483, 0.072255274313953, 0.043353164588371795, 0.08670632917674359, 0.754932565161909, 0.131153538862874, 0.11196033805367293, 0.0031988668015335126, 0.058064226549065526, 0.058064226549065526, 0.058064226549065526, 0.8128991716869174, 0.09818445702294391, 0.6654724309332865, 0.17455014581856695, 0.07636568879562304, 0.37700865835389635, 0.177415839225363, 0.4213626181602371, 0.022176979903170375, 0.40202243054510556, 0.3192531066093485, 0.11824189133679575, 0.16159725149362086, 0.2633376121145002, 0.2013758210287354, 0.09294268662864712, 0.43373253760035324, 0.9091193990398384, 0.4149341068244501, 0.24896046409467004, 0.28043822392273177, 0.057232290596475874, 0.9838304937863129, 0.9897399384309495, 0.9029148048168664, 0.9781010458340276, 0.9694684090188681, 0.8084411411374126, 0.9756016714531467, 0.9781003895764555, 0.960180106043971, 0.4848400170391831, 0.15613492074143184, 0.3245962825940294, 0.036979323333497016, 0.4974804989100258, 0.23512759898732566, 0.14850164146567935, 0.11880131317254349, 0.13419101186481572, 0.03354775296620393, 0.8051460711888944, 0.9387392108693761, 0.6204521322265486, 0.1860632415195134, 0.16217185253062646, 0.03113120383400419, 0.13022869526842298, 0.8247817367000122, 0.04340956508947433, 0.9786394745370601, 0.4012930487498679, 0.33183848262008303, 0.10418184919467723, 0.16206065430283126, 0.646201787486038, 0.056865757298771344, 0.10856190029765438, 0.19127572909586724, 0.9826841675320287, 0.9486793901536127, 0.033881406791200455, 0.3075782749423188, 0.03075782749423188, 0.6612932911259854, 0.07799505527631234, 0.935940663315748, 0.28743983012550195, 0.6794032348420955, 0.970787382674941, 0.9780528019527548, 0.05577404974911206, 0.892384795985793, 0.9312582394118639, 0.9436276988786663, 0.1347966138756945, 0.8087796832541669, 0.06739830693784725, 0.27636482917574406, 0.0850353320540751, 0.04251766602703755, 0.5952473243785257, 0.9780988689381217], \"Term\": [\"- \", \"- \", \"- \", \"13\", \"13\", \"13\", \"13\", \"330\", \"503\", \"90\", \"i\", \"i\", \"i\", \"r\", \"s\", \"\\u0430\\u0430\\u0430\\u0430\", \"\\u0430\\u0434\\u043c\\u0438\\u043d\\u0438\\u0441\\u0442\\u0440\\u0430\\u0442\\u043e\\u0440\", \"\\u0430\\u0439\\u043d\\u0430\", \"\\u0430\\u043a\\u0438\\u043c\", \"\\u0430\\u043a\\u0438\\u043c\", \"\\u0430\\u043a\\u0442\\u0438\\u0432\", \"\\u0430\\u043a\\u0442\\u0438\\u0432\\u0438\\u0441\\u0442\", \"\\u0430\\u043a\\u0442\\u0438\\u0432\\u0438\\u0441\\u0442\", \"\\u0430\\u043b\\u044c\\u0444\\u0440\\u0435\\u0434\", \"\\u0430\\u043d\\u043d\\u0443\\u0448\\u043a\\u0430\", \"\\u0430\\u0440\\u0435\\u0441\\u0442\\u0430\\u043d\\u0442\", \"\\u0430\\u0440\\u0435\\u0441\\u0442\\u0430\\u043d\\u0442\", \"\\u0430\\u0440\\u0435\\u0441\\u0442\\u0430\\u043d\\u0442\", \"\\u0430\\u0443\\u0434\\u0438\\u0442\\u043e\\u0440\\u0438\\u0443\\u043c\", \"\\u0430\\u044d\\u0440\\u043e\", \"\\u0431\\u0430\\u0431\\u0430\", \"\\u0431\\u0430\\u0431\\u0430\", \"\\u0431\\u0430\\u0431\\u0430\", \"\\u0431\\u0430\\u0431\\u0443\\u0433\\u0430\\u043d\", \"\\u0431\\u0430\\u043b\\u043a\\u0430\", \"\\u0431\\u0430\\u043b\\u043a\\u0430\", \"\\u0431\\u0430\\u0440\\u0430\\u043a\", \"\\u0431\\u0430\\u0440\\u0430\\u043a\", \"\\u0431\\u0435\\u0434\\u043d\\u044f\\u043a\", \"\\u0431\\u0435\\u0434\\u043d\\u044f\\u043a\", \"\\u0431\\u0435\\u0437\\u0434\\u043e\\u043c\\u043d\\u044b\\u0439\", \"\\u0431\\u0435\\u043b\\u044b\\u0439\", \"\\u0431\\u0435\\u043b\\u044b\\u0439\", \"\\u0431\\u0435\\u043b\\u044b\\u0439\", \"\\u0431\\u0435\\u043b\\u044b\\u0439\", \"\\u0431\\u0435\\u043d\\u0433\\u0430\\u043b\\u044c\\u0441\\u043a\\u0438\\u0439\", \"\\u0431\\u043b\\u0438\\u043d\\u0434\\u0430\\u0436\", \"\\u0431\\u043b\\u0438\\u043d\\u0434\\u0430\\u0436\", \"\\u0431\\u043e\\u043b\\u044c\\u0448\\u0435\\u0432\\u0438\\u043a\", \"\\u0431\\u043e\\u043b\\u044c\\u0448\\u0435\\u0432\\u0438\\u043a\", \"\\u0431\\u0440\\u043e\\u043d\\u0441\\u043a\\u0438\\u0439\", \"\\u0431\\u0443\\u0434\\u0434\\u0430\", \"\\u0431\\u044b\\u043a\", \"\\u0431\\u044e\\u0440\\u043e\", \"\\u0431\\u044e\\u0440\\u043e\", \"\\u0431\\u044e\\u0440\\u043e\", \"\\u0432\\u0432\\u0435\\u0440\\u0445\", \"\\u0432\\u0432\\u0435\\u0440\\u0445\", \"\\u0432\\u0432\\u0435\\u0440\\u0445\", \"\\u0432\\u0432\\u0435\\u0440\\u0445\", \"\\u0432\\u0435\\u0441\\u044c\", \"\\u0432\\u0435\\u0441\\u044c\", \"\\u0432\\u0435\\u0441\\u044c\", \"\\u0432\\u0435\\u0441\\u044c\", \"\\u0432\\u0437\\u044f\\u0442\\u044c\", \"\\u0432\\u0437\\u044f\\u0442\\u044c\", \"\\u0432\\u0437\\u044f\\u0442\\u044c\", \"\\u0432\\u0437\\u044f\\u0442\\u044c\", \"\\u0432\\u0438\\u043d\\u043e\", \"\\u0432\\u0438\\u043d\\u043e\", \"\\u0432\\u0438\\u043d\\u043e\", \"\\u0432\\u0438\\u043d\\u043e\\u0433\\u0440\\u0430\\u0434\\u043d\\u0438\\u043a\", \"\\u0432\\u0438\\u043d\\u043e\\u0433\\u0440\\u0430\\u0434\\u043d\\u044b\\u0439\", \"\\u0432\\u0438\\u043d\\u043e\\u0433\\u0440\\u0430\\u0434\\u043d\\u044b\\u0439\", \"\\u0432\\u0438\\u0441\\u043e\\u043a\\u043e\\u0432\\u0441\\u043a\\u0438\\u0439\", \"\\u0432\\u043b\\u0430\\u0441\\u0442\\u044c\", \"\\u0432\\u043b\\u0430\\u0441\\u0442\\u044c\", \"\\u0432\\u043b\\u0430\\u0441\\u0442\\u044c\", \"\\u0432\\u043b\\u0430\\u0441\\u0442\\u044c\", \"\\u0432\\u043d\\u0438\\u0437\", \"\\u0432\\u043d\\u0438\\u0437\", \"\\u0432\\u043d\\u0438\\u0437\", \"\\u0432\\u043d\\u0438\\u0437\", \"\\u0432\\u043e\\u0439\\u043d\\u0430\", \"\\u0432\\u043e\\u0439\\u043d\\u0430\", \"\\u0432\\u043e\\u0439\\u043d\\u0430\", \"\\u0432\\u043e\\u0439\\u043d\\u0430\", \"\\u0432\\u043e\\u043b\", \"\\u0432\\u043e\\u0441\\u043a\\u043b\\u0438\\u0446\\u0430\\u0442\\u044c\", \"\\u0432\\u043e\\u0441\\u043a\\u043b\\u0438\\u0446\\u0430\\u0442\\u044c\", \"\\u0432\\u043e\\u0441\\u043a\\u043b\\u0438\\u0446\\u0430\\u0442\\u044c\", \"\\u0432\\u0440\\u0435\\u043c\\u044f\", \"\\u0432\\u0440\\u0435\\u043c\\u044f\", \"\\u0432\\u0440\\u0435\\u043c\\u044f\", \"\\u0432\\u0440\\u0435\\u043c\\u044f\", \"\\u0432\\u0441\\u0435\\u043e\\u0431\\u0449\\u0438\\u0439\", \"\\u0432\\u044b\\u0445\\u043e\\u0434\\u0438\\u0442\\u044c\", \"\\u0432\\u044b\\u0445\\u043e\\u0434\\u0438\\u0442\\u044c\", \"\\u0432\\u044b\\u0445\\u043e\\u0434\\u0438\\u0442\\u044c\", \"\\u0432\\u044b\\u0445\\u043e\\u0434\\u0438\\u0442\\u044c\", \"\\u0433\\u043b\\u0430\\u0437\", \"\\u0433\\u043b\\u0430\\u0437\", \"\\u0433\\u043b\\u0430\\u0437\", \"\\u0433\\u043b\\u0430\\u0437\", \"\\u0433\\u043b\\u044f\\u0434\\u0435\\u0442\\u044c\", \"\\u0433\\u043b\\u044f\\u0434\\u0435\\u0442\\u044c\", \"\\u0433\\u043b\\u044f\\u0434\\u0435\\u0442\\u044c\", \"\\u0433\\u043b\\u044f\\u0434\\u0435\\u0442\\u044c\", \"\\u0433\\u043e\\u0434\", \"\\u0433\\u043e\\u0434\", \"\\u0433\\u043e\\u0434\", \"\\u0433\\u043e\\u0434\", \"\\u0433\\u043e\\u043b\\u043e\\u0432\\u0430\", \"\\u0433\\u043e\\u043b\\u043e\\u0432\\u0430\", \"\\u0433\\u043e\\u043b\\u043e\\u0432\\u0430\", \"\\u0433\\u043e\\u043b\\u043e\\u0432\\u0430\", \"\\u0433\\u043e\\u043b\\u043e\\u0441\", \"\\u0433\\u043e\\u043b\\u043e\\u0441\", \"\\u0433\\u043e\\u043b\\u043e\\u0441\", \"\\u0433\\u043e\\u043b\\u043e\\u0441\", \"\\u0433\\u043e\\u043b\\u043e\\u0441\\u043e\\u043a\", \"\\u0433\\u043e\\u0440\\u0430\", \"\\u0433\\u043e\\u0440\\u0430\", \"\\u0433\\u043e\\u0440\\u0430\", \"\\u0433\\u043e\\u0440\\u0430\", \"\\u0433\\u043e\\u0440\\u043a\\u0430\", \"\\u0433\\u043e\\u0440\\u043a\\u0430\", \"\\u0433\\u043e\\u0440\\u043e\\u0434\", \"\\u0433\\u043e\\u0440\\u043e\\u0434\", \"\\u0433\\u043e\\u0440\\u043e\\u0434\", \"\\u0433\\u043e\\u0440\\u043e\\u0434\", \"\\u0433\\u043e\\u0441\\u0443\\u0434\\u0430\\u0440\\u0441\\u0442\\u0432\\u043e\", \"\\u0433\\u043e\\u0441\\u0443\\u0434\\u0430\\u0440\\u0441\\u0442\\u0432\\u043e\", \"\\u0433\\u043e\\u0441\\u0443\\u0434\\u0430\\u0440\\u0441\\u0442\\u0432\\u043e\", \"\\u0433\\u043e\\u0441\\u0443\\u0434\\u0430\\u0440\\u0441\\u0442\\u0432\\u043e\", \"\\u0433\\u0440\\u0430\\u0436\\u0434\\u0430\\u043d\\u0438\\u043d\", \"\\u0433\\u0440\\u0430\\u0436\\u0434\\u0430\\u043d\\u0438\\u043d\", \"\\u0433\\u0440\\u0430\\u0436\\u0434\\u0430\\u043d\\u0438\\u043d\", \"\\u0433\\u0440\\u0438\\u0431\\u043e\\u0435\\u0434\\u043e\\u0432\", \"\\u0433\\u0443\\u0431\\u0430\", \"\\u0433\\u0443\\u0431\\u0430\", \"\\u0433\\u0443\\u0431\\u0430\", \"\\u0433\\u0443\\u0431\\u0430\", \"\\u0433\\u0443\\u0440\\u0442\", \"\\u0434\\u0430\\u0431\\u044b\", \"\\u0434\\u0430\\u0432\\u0430\\u0442\\u044c\", \"\\u0434\\u0430\\u0432\\u0430\\u0442\\u044c\", \"\\u0434\\u0430\\u0432\\u0430\\u0442\\u044c\", \"\\u0434\\u0430\\u0432\\u0430\\u0442\\u044c\", \"\\u0434\\u0430\\u0447\\u043a\\u0430\", \"\\u0434\\u0430\\u0447\\u043a\\u0430\", \"\\u0434\\u0432\\u0435\\u0440\\u044c\", \"\\u0434\\u0432\\u0435\\u0440\\u044c\", \"\\u0434\\u0432\\u0435\\u0440\\u044c\", \"\\u0434\\u0432\\u0435\\u0440\\u044c\", \"\\u0434\\u0432\\u043e\\u044f\\u043a\\u043e\\u0438\\u0437\\u043e\\u0433\\u043d\\u0443\\u0442\\u044b\\u0439\", \"\\u0434\\u0432\\u0443\\u0445\\u0441\\u043e\\u0442\\u043b\\u0435\\u0442\\u043d\\u0438\\u0439\", \"\\u0434\\u0435\\u0432\\u043e\\u0447\\u043a\\u0430\", \"\\u0434\\u0435\\u0432\\u043e\\u0447\\u043a\\u0430\", \"\\u0434\\u0435\\u0432\\u043e\\u0447\\u043a\\u0430\", \"\\u0434\\u0435\\u0434\\u0443\\u0448\\u043a\\u0430\", \"\\u0434\\u0435\\u0434\\u0443\\u0448\\u043a\\u0430\", \"\\u0434\\u0435\\u043b\\u043e\", \"\\u0434\\u0435\\u043b\\u043e\", \"\\u0434\\u0435\\u043b\\u043e\", \"\\u0434\\u0435\\u043b\\u043e\", \"\\u0434\\u0435\\u043d\\u044c\", \"\\u0434\\u0435\\u043d\\u044c\", \"\\u0434\\u0435\\u043d\\u044c\", \"\\u0434\\u0435\\u043d\\u044c\", \"\\u0434\\u0435\\u0440\\u0435\\u0432\\u043d\\u044f\", \"\\u0434\\u0435\\u0440\\u0435\\u0432\\u043d\\u044f\", \"\\u0434\\u0435\\u0440\\u0435\\u0432\\u043d\\u044f\", \"\\u0434\\u0435\\u0440\\u0435\\u0432\\u043d\\u044f\", \"\\u0434\\u0438\\u0432\\u0438\\u0437\\u0438\\u044f\", \"\\u0434\\u0438\\u0432\\u0438\\u0437\\u0438\\u044f\", \"\\u0434\\u0438\\u0432\\u0438\\u0437\\u0438\\u044f\", \"\\u0434\\u0438\\u043a\\u0438\\u0439\", \"\\u0434\\u0438\\u043a\\u0438\\u0439\", \"\\u0434\\u0438\\u043a\\u0438\\u0439\", \"\\u0434\\u0438\\u043a\\u0438\\u0439\", \"\\u0434\\u043e\\u043c\", \"\\u0434\\u043e\\u043c\", \"\\u0434\\u043e\\u043c\", \"\\u0434\\u043e\\u043c\", \"\\u0434\\u043e\\u0440\\u043e\\u0433\\u0430\", \"\\u0434\\u043e\\u0440\\u043e\\u0433\\u0430\", \"\\u0434\\u043e\\u0440\\u043e\\u0433\\u0430\", \"\\u0434\\u043e\\u0440\\u043e\\u0433\\u0430\", \"\\u0434\\u0440\\u0435\\u0432\\u043d\\u0438\\u0439\", \"\\u0434\\u0440\\u0435\\u0432\\u043d\\u0438\\u0439\", \"\\u0434\\u0440\\u0435\\u0432\\u043d\\u0438\\u0439\", \"\\u0434\\u0440\\u0435\\u0432\\u043d\\u0438\\u0439\", \"\\u0434\\u0440\\u043e\\u0437\\u0434\", \"\\u0434\\u0440\\u043e\\u0437\\u0434\", \"\\u0434\\u0443\\u043c\\u0430\\u0442\\u044c\", \"\\u0434\\u0443\\u043c\\u0430\\u0442\\u044c\", \"\\u0434\\u0443\\u043c\\u0430\\u0442\\u044c\", \"\\u0434\\u0443\\u043c\\u0430\\u0442\\u044c\", \"\\u0435\\u0434\\u0438\\u043d\\u043e\\u0433\\u043b\\u0430\\u0441\\u0438\\u0435\", \"\\u0435\\u0434\\u0438\\u043d\\u044b\\u0439\", \"\\u0435\\u0434\\u0438\\u043d\\u044b\\u0439\", \"\\u0435\\u0434\\u0438\\u043d\\u044b\\u0439\", \"\\u0435\\u0434\\u0438\\u043d\\u044b\\u0439\", \"\\u0435\\u043b\\u0438\\u0441\\u0435\\u0439\", \"\\u0435\\u043b\\u0438\\u0441\\u0435\\u0439\", \"\\u0435\\u0440\\u0435\\u043c\\u0435\\u043d\\u043a\\u043e\", \"\\u0435\\u0440\\u0435\\u043c\\u0435\\u043d\\u043a\\u043e\", \"\\u0436\\u0430\\u0431\\u0440\\u0430\", \"\\u0436\\u0438\\u0437\\u043d\\u044c\", \"\\u0436\\u0438\\u0437\\u043d\\u044c\", \"\\u0436\\u0438\\u0437\\u043d\\u044c\", \"\\u0436\\u0438\\u0437\\u043d\\u044c\", \"\\u0436\\u0438\\u0442\\u044c\", \"\\u0436\\u0438\\u0442\\u044c\", \"\\u0436\\u0438\\u0442\\u044c\", \"\\u0436\\u0438\\u0442\\u044c\", \"\\u0437\\u0430\\u043f\\u0438\\u0441\\u044c\", \"\\u0437\\u0430\\u043f\\u0438\\u0441\\u044c\", \"\\u0437\\u0430\\u043f\\u0438\\u0441\\u044c\", \"\\u0437\\u0430\\u043f\\u0438\\u0441\\u044c\", \"\\u0437\\u0430\\u0445\\u0430\\u0440\\u043e\\u0432\", \"\\u0437\\u0435\\u043c\\u043b\\u044f\", \"\\u0437\\u0435\\u043c\\u043b\\u044f\", \"\\u0437\\u0435\\u043c\\u043b\\u044f\", \"\\u0437\\u0435\\u043c\\u043b\\u044f\", \"\\u0438\\u0432\\u0430\\u043d\\u043e\\u0432\", \"\\u0438\\u0432\\u0430\\u043d\\u043e\\u0432\", \"\\u0438\\u0432\\u0430\\u043d\\u043e\\u0432\", \"\\u0438\\u0434\\u0442\\u0438\", \"\\u0438\\u0434\\u0442\\u0438\", \"\\u0438\\u0434\\u0442\\u0438\", \"\\u0438\\u0434\\u0442\\u0438\", \"\\u0438\\u0437\\u0431\\u0430\", \"\\u0438\\u0437\\u0431\\u0430\", \"\\u0438\\u0437\\u0431\\u0430\", \"\\u0438\\u043c\\u0435\\u043d\\u043d\\u043e\", \"\\u0438\\u043c\\u0435\\u043d\\u043d\\u043e\", \"\\u0438\\u043c\\u0435\\u043d\\u043d\\u043e\", \"\\u0438\\u043c\\u0435\\u043d\\u043d\\u043e\", \"\\u0438\\u043d\\u0434\\u044e\\u0448\\u043a\\u0430\", \"\\u0438\\u043d\\u0434\\u044e\\u0448\\u043a\\u0430\", \"\\u0438\\u043d\\u043e\\u0441\\u0442\\u0440\\u0430\\u043d\\u0435\\u0446\", \"\\u0438\\u043d\\u043e\\u0441\\u0442\\u0440\\u0430\\u043d\\u0435\\u0446\", \"\\u0438\\u043d\\u043e\\u0441\\u0442\\u0440\\u0430\\u043d\\u0435\\u0446\", \"\\u0438\\u043d\\u0442\\u0435\\u0433\\u0440\\u0430\\u043b\", \"\\u0438\\u0440\\u0440\\u0430\\u0446\\u0438\\u043e\\u043d\\u0430\\u043b\\u044c\\u043d\\u044b\\u0439\", \"\\u043a\\u0430\\u0431\\u0438\\u043d\\u0435\\u0442\", \"\\u043a\\u0430\\u0431\\u0438\\u043d\\u0435\\u0442\", \"\\u043a\\u0430\\u0431\\u0438\\u043d\\u0435\\u0442\", \"\\u043a\\u0430\\u0431\\u0438\\u043d\\u0435\\u0442\", \"\\u043a\\u0430\\u043a\\u043e\\u0439-\\u0442\\u043e\", \"\\u043a\\u0430\\u043a\\u043e\\u0439-\\u0442\\u043e\", \"\\u043a\\u0430\\u043a\\u043e\\u0439-\\u0442\\u043e\", \"\\u043a\\u0430\\u043a\\u043e\\u0439-\\u0442\\u043e\", \"\\u043a\\u0430\\u043b\\u043e\\u0448\\u0430\", \"\\u043a\\u0430\\u043b\\u043e\\u0448\\u0430\", \"\\u043a\\u0430\\u043c\\u0435\\u043d\\u044c\", \"\\u043a\\u0430\\u043c\\u0435\\u043d\\u044c\", \"\\u043a\\u0430\\u043c\\u0435\\u043d\\u044c\", \"\\u043a\\u0430\\u043c\\u0435\\u043d\\u044c\", \"\\u043a\\u0430\\u043c\\u0435\\u0440\\u0430\", \"\\u043a\\u0430\\u043c\\u0435\\u0440\\u0430\", \"\\u043a\\u0430\\u0441\\u0442\\u0435\\u043b\\u044c\", \"\\u043a\\u0432\\u0430\\u0440\\u0442\\u0438\\u0440\\u0430\", \"\\u043a\\u0432\\u0430\\u0440\\u0442\\u0438\\u0440\\u0430\", \"\\u043a\\u0432\\u0430\\u0440\\u0442\\u0438\\u0440\\u0430\", \"\\u043a\\u0432\\u0430\\u0440\\u0442\\u0438\\u0440\\u0430\", \"\\u043a\\u0438\\u043f\\u0430\\u0440\\u0438\\u0441\", \"\\u043a\\u0438\\u043f\\u0430\\u0440\\u0438\\u0441\", \"\\u043a\\u043e\\u043a\\u043e\\u0441\\u043e\\u0432\", \"\\u043a\\u043e\\u043b\\u0445\\u043e\\u0437\", \"\\u043a\\u043e\\u043b\\u0445\\u043e\\u0437\\u043d\\u044b\\u0439\", \"\\u043a\\u043e\\u043c\\u0430\\u043d\\u0434\\u0430\\u0440\\u043c\", \"\\u043a\\u043e\\u043c\\u043d\\u0430\\u0442\\u0430\", \"\\u043a\\u043e\\u043c\\u043d\\u0430\\u0442\\u0430\", \"\\u043a\\u043e\\u043c\\u043d\\u0430\\u0442\\u0430\", \"\\u043a\\u043e\\u043c\\u043d\\u0430\\u0442\\u0430\", \"\\u043a\\u043e\\u043d\\u0434\\u0430\\u0439\", \"\\u043a\\u043e\\u043d\\u0441\\u043f\\u0435\\u043a\\u0442\", \"\\u043a\\u043e\\u043d\\u0441\\u0443\\u043b\\u044c\\u0442\\u0430\\u043d\\u0442\", \"\\u043a\\u043e\\u0442\", \"\\u043a\\u043e\\u0442\", \"\\u043a\\u043e\\u0442\\u043b\\u043e\\u0432\\u0430\\u043d\", \"\\u043a\\u043e\\u0442\\u043b\\u043e\\u0432\\u0430\\u043d\", \"\\u043a\\u043e\\u0442\\u043b\\u043e\\u0432\\u0430\\u043d\", \"\\u043a\\u0440\\u043e\\u0432\\u044c\", \"\\u043a\\u0440\\u043e\\u0432\\u044c\", \"\\u043a\\u0440\\u043e\\u0432\\u044c\", \"\\u043a\\u0440\\u043e\\u0432\\u044c\", \"\\u043a\\u0440\\u044b\\u043b\\u043e\\u0432\", \"\\u043a\\u0443\\u0440\\u0438\\u043d\\u044b\\u0439\", \"\\u043a\\u0443\\u0440\\u0438\\u043d\\u044b\\u0439\", \"\\u043a\\u0443\\u0440\\u0438\\u043d\\u044b\\u0439\", \"\\u043a\\u0443\\u0440\\u043e\\u0447\\u043a\\u0430\", \"\\u043a\\u0443\\u0442\\u043e\\u043d\", \"\\u043b\\u0430\\u0433\\u0435\\u0440\\u044c\", \"\\u043b\\u0430\\u0433\\u0435\\u0440\\u044c\", \"\\u043b\\u0438\\u0444\\u0442\", \"\\u043b\\u0438\\u0445\\u043e\\u0434\\u0435\\u0435\\u0432\", \"\\u043b\\u0438\\u0446\\u043e\", \"\\u043b\\u0438\\u0446\\u043e\", \"\\u043b\\u0438\\u0446\\u043e\", \"\\u043b\\u0438\\u0446\\u043e\", \"\\u043b\\u0438\\u0448\\u044c\", \"\\u043b\\u0438\\u0448\\u044c\", \"\\u043b\\u0438\\u0448\\u044c\", \"\\u043b\\u0438\\u0448\\u044c\", \"\\u043b\\u043e\\u0437\\u043e\\u0432\\u0441\\u043a\\u0438\\u0439\", \"\\u043b\\u043e\\u0437\\u043e\\u0432\\u0441\\u043a\\u0438\\u0439\", \"\\u043b\\u0443\\u0447\", \"\\u043b\\u0443\\u0447\", \"\\u043b\\u0443\\u0447\", \"\\u043b\\u0443\\u0447\", \"\\u043b\\u044f\\u043b\\u044f\", \"\\u043b\\u044f\\u0440\\u0432\\u0430\", \"\\u043c\\u0430\\u0433\", \"\\u043c\\u0430\\u043c\\u0430\", \"\\u043c\\u0430\\u043c\\u0430\", \"\\u043c\\u0430\\u043c\\u0430\", \"\\u043c\\u0430\\u0441\\u0441\\u0430\", \"\\u043c\\u0430\\u0441\\u0441\\u0430\", \"\\u043c\\u0430\\u0441\\u0441\\u0430\", \"\\u043c\\u0430\\u0441\\u0441\\u0430\", \"\\u043c\\u0430\\u0441\\u0441\\u043e\\u043b\\u0438\\u0442\", \"\\u043c\\u0430\\u0442\\u0435\\u043c\\u0430\\u0442\\u0438\\u043a\", \"\\u043c\\u0430\\u0448\\u0438\\u043d\\u0438\\u0441\\u0442\", \"\\u043c\\u0430\\u0449\\u0443\\u043a\", \"\\u043c\\u0435\\u0441\\u0442\\u043e\", \"\\u043c\\u0435\\u0441\\u0442\\u043e\", \"\\u043c\\u0435\\u0441\\u0442\\u043e\", \"\\u043c\\u0435\\u0441\\u0442\\u043e\", \"\\u043c\\u0435\\u0444\\u0438\", \"\\u043c\\u0438\\u043a\\u0440\\u043e\\u0441\\u043a\\u043e\\u043f\", \"\\u043c\\u0438\\u043b\\u0438\\u0446\\u0438\\u044f\", \"\\u043c\\u0438\\u043b\\u0438\\u0446\\u0438\\u044f\", \"\\u043c\\u0438\\u043b\\u0438\\u0446\\u0438\\u044f\", \"\\u043c\\u0438\\u043d\\u0434\\u0430\\u043b\\u044c\", \"\\u043c\\u0438\\u043d\\u0434\\u0430\\u043b\\u044c\\u043d\\u044b\\u0439\", \"\\u043c\\u0438\\u0440\", \"\\u043c\\u0438\\u0440\", \"\\u043c\\u0438\\u0440\", \"\\u043c\\u0438\\u0440\", \"\\u043c\\u043e\\u043b\\u0432\\u0438\\u0442\\u044c\", \"\\u043c\\u043e\\u043b\\u0432\\u0438\\u0442\\u044c\", \"\\u043c\\u043e\\u043b\\u043e\\u0442\\u043e\\u0431\\u043e\\u0435\\u0446\", \"\\u043c\\u043e\\u0440\\u0435\", \"\\u043c\\u043e\\u0440\\u0435\", \"\\u043c\\u043e\\u0440\\u0435\", \"\\u043c\\u043e\\u0440\\u0435\", \"\\u043c\\u043e\\u0447\\u044c\", \"\\u043c\\u043e\\u0447\\u044c\", \"\\u043c\\u043e\\u0447\\u044c\", \"\\u043c\\u043e\\u0447\\u044c\", \"\\u043c\\u0443\\u0436\\u0438\\u043a\", \"\\u043c\\u0443\\u0436\\u0438\\u043a\", \"\\u043c\\u0443\\u0436\\u0438\\u043a\", \"\\u043d\\u0430\\u0440\\u043e\\u0434\", \"\\u043d\\u0430\\u0440\\u043e\\u0434\", \"\\u043d\\u0430\\u0440\\u043e\\u0434\", \"\\u043d\\u0430\\u0441\\u0442\\u0430\\u0432\\u043d\\u0438\\u043a\", \"\\u043d\\u0430\\u0441\\u0442\\u0430\\u0432\\u043d\\u0438\\u043a\", \"\\u043d\\u0430\\u0447\\u0438\\u043d\\u0430\\u0442\\u044c\", \"\\u043d\\u0430\\u0447\\u0438\\u043d\\u0430\\u0442\\u044c\", \"\\u043d\\u0430\\u0447\\u0438\\u043d\\u0430\\u0442\\u044c\", \"\\u043d\\u0430\\u0447\\u0438\\u043d\\u0430\\u0442\\u044c\", \"\\u043d\\u0430\\u0448\", \"\\u043d\\u0430\\u0448\", \"\\u043d\\u0430\\u0448\", \"\\u043d\\u0430\\u0448\", \"\\u043d\\u0435\\u0432\\u044b\\u044f\\u0441\\u043d\\u0435\\u043d\\u043d\\u044b\\u0439\", \"\\u043d\\u0435\\u0433\\u043e\\u0440\\u0431\\u0438\\u0442\\u044c\\u0441\\u044f\", \"\\u043d\\u0435\\u043f\\u0440\\u043e\\u0437\\u0440\\u0430\\u0447\\u043d\\u044b\\u0439\", \"\\u043d\\u0438\\u043a\\u0438\\u0442\\u0430\", \"\\u043d\\u043e\\u0436\\u043d\\u0438\\u0446\\u044b\", \"\\u043d\\u043e\\u043b\\u044c\", \"\\u043d\\u043e\\u0447\\u044c\", \"\\u043d\\u043e\\u0447\\u044c\", \"\\u043d\\u043e\\u0447\\u044c\", \"\\u043d\\u043e\\u0447\\u044c\", \"\\u043d\\u0443\\u043c\\u0435\\u0440\", \"\\u043d\\u0443\\u043c\\u0435\\u0440\", \"\\u043e\\u0433\\u043e\\u043d\\u044c\", \"\\u043e\\u0433\\u043e\\u043d\\u044c\", \"\\u043e\\u0433\\u043e\\u043d\\u044c\", \"\\u043e\\u0433\\u043e\\u043d\\u044c\", \"\\u043e\\u0434\\u0435\\u0441\\u0441\\u0430\", \"\\u043e\\u0436\\u0435\\u0440\\u0435\\u043b\\u0438\\u0435\", \"\\u043e\\u0440\\u0430\\u043d\\u0436\\u0435\\u0440\\u0435\\u044f\", \"\\u043e\\u0440\\u0433\\u0434\\u0432\\u043e\\u0440\", \"\\u043e\\u0441\\u0432\\u0435\\u0434\\u043e\\u043c\\u043b\\u044f\\u0442\\u044c\\u0441\\u044f\", \"\\u043e\\u0441\\u0432\\u0435\\u0434\\u043e\\u043c\\u043b\\u044f\\u0442\\u044c\\u0441\\u044f\", \"\\u043e\\u0441\\u0442\\u0440\\u044b\\u0439\", \"\\u043e\\u0441\\u0442\\u0440\\u044b\\u0439\", \"\\u043e\\u0441\\u0442\\u0440\\u044b\\u0439\", \"\\u043e\\u0441\\u0442\\u0440\\u044b\\u0439\", \"\\u043e\\u0442\\u0432\\u0435\\u0447\\u0430\\u0442\\u044c\", \"\\u043e\\u0442\\u0432\\u0435\\u0447\\u0430\\u0442\\u044c\", \"\\u043e\\u0442\\u0432\\u0435\\u0447\\u0430\\u0442\\u044c\", \"\\u043e\\u0442\\u0437\\u044b\\u0432\\u0430\\u0442\\u044c\\u0441\\u044f\", \"\\u043e\\u0442\\u0437\\u044b\\u0432\\u0430\\u0442\\u044c\\u0441\\u044f\", \"\\u043e\\u0442\\u0437\\u044b\\u0432\\u0430\\u0442\\u044c\\u0441\\u044f\", \"\\u043e\\u0447\\u0435\\u043d\\u044c\", \"\\u043e\\u0447\\u0435\\u043d\\u044c\", \"\\u043e\\u0447\\u0435\\u043d\\u044c\", \"\\u043e\\u0447\\u0435\\u043d\\u044c\", \"\\u043f\\u0430\\u0432\\u043b\\u0438\\u043d\", \"\\u043f\\u0430\\u0432\\u043b\\u0438\\u043d\", \"\\u043f\\u0430\\u0440\\u043e\\u0432\\u043e\\u0437\", \"\\u043f\\u0430\\u0440\\u043e\\u0432\\u043e\\u0437\", \"\\u043f\\u0430\\u0440\\u043e\\u0432\\u043e\\u0437\", \"\\u043f\\u0435\\u0440\\u0432\\u044b\\u0439\", \"\\u043f\\u0435\\u0440\\u0432\\u044b\\u0439\", \"\\u043f\\u0435\\u0440\\u0432\\u044b\\u0439\", \"\\u043f\\u0435\\u0440\\u0432\\u044b\\u0439\", \"\\u043f\\u0435\\u0440\\u0435\\u0434\\u043d\\u044f\\u044f\", \"\\u043f\\u0435\\u0440\\u0435\\u0434\\u043d\\u044f\\u044f\", \"\\u043f\\u0435\\u0440\\u0435\\u0434\\u043d\\u044f\\u044f\", \"\\u043f\\u0435\\u0440\\u0441\\u0438\\u043a\\u043e\\u0432\", \"\\u043f\\u0435\\u0440\\u0441\\u0438\\u043a\\u043e\\u0432\\u044b\\u0439\", \"\\u043f\\u0435\\u0441\", \"\\u043f\\u0435\\u0441\", \"\\u043f\\u0435\\u0441\", \"\\u043f\\u0435\\u0441\", \"\\u043f\\u043e\\u0434\\u0432\\u0430\\u043b\", \"\\u043f\\u043e\\u0434\\u0432\\u0430\\u043b\", \"\\u043f\\u043e\\u0434\\u0432\\u0430\\u043b\", \"\\u043f\\u043e\\u0434\\u0447\\u0443\\u0444\\u0430\\u0440\\u043e\\u0432\", \"\\u043f\\u043e\\u0437\\u0432\\u043e\\u043b\\u044f\\u0442\\u044c\", \"\\u043f\\u043e\\u0437\\u0432\\u043e\\u043b\\u044f\\u0442\\u044c\", \"\\u043f\\u043e\\u0437\\u0432\\u043e\\u043b\\u044f\\u0442\\u044c\", \"\\u043f\\u043e\\u0437\\u0432\\u043e\\u043b\\u044f\\u0442\\u044c\", \"\\u043f\\u043e\\u0439\\u0442\\u0438\", \"\\u043f\\u043e\\u0439\\u0442\\u0438\", \"\\u043f\\u043e\\u0439\\u0442\\u0438\", \"\\u043f\\u043e\\u0439\\u0442\\u0438\", \"\\u043f\\u043e\\u043b\\u0430\\u0439\\u0442\\u0438\\u0441\", \"\\u043f\\u043e\\u043d\\u0438\\u043c\\u0430\\u0442\\u044c\", \"\\u043f\\u043e\\u043d\\u0438\\u043c\\u0430\\u0442\\u044c\", \"\\u043f\\u043e\\u043d\\u0438\\u043c\\u0430\\u0442\\u044c\", \"\\u043f\\u043e\\u043d\\u0438\\u043c\\u0430\\u0442\\u044c\", \"\\u043f\\u043e\\u043d\\u0442\\u0438\\u0439\", \"\\u043f\\u043e\\u043f\\u043e\\u0432\", \"\\u043f\\u043e\\u043f\\u043e\\u0432\", \"\\u043f\\u043e\\u043f\\u043e\\u0432\", \"\\u043f\\u043e\\u044d\\u0442\", \"\\u043f\\u043e\\u044d\\u0442\", \"\\u043f\\u043e\\u044d\\u0442\", \"\\u043f\\u043e\\u044d\\u0442\", \"\\u043f\\u0440\\u0435\\u0434\\u0441\\u0435\\u0434\\u0430\\u0442\\u0435\\u043b\\u044c\", \"\\u043f\\u0440\\u0435\\u0434\\u0441\\u0435\\u0434\\u0430\\u0442\\u0435\\u043b\\u044c\", \"\\u043f\\u0440\\u0435\\u0434\\u0441\\u0435\\u0434\\u0430\\u0442\\u0435\\u043b\\u044c\", \"\\u043f\\u0440\\u0435\\u0447\\u0438\\u0441\\u0442\\u0435\\u043d\\u043a\\u0430\", \"\\u043f\\u0440\\u043e\\u0444\\u0435\\u0441\\u0441\\u043e\\u0440\", \"\\u043f\\u0440\\u043e\\u0444\\u0435\\u0441\\u0441\\u043e\\u0440\", \"\\u043f\\u0440\\u043e\\u0444\\u0435\\u0441\\u0441\\u043e\\u0440\", \"\\u043f\\u0440\\u043e\\u0444\\u0435\\u0441\\u0441\\u043e\\u0440\", \"\\u043f\\u0440\\u0443\\u0448\\u0435\\u0432\\u0441\\u043a\\u0438\\u0439\", \"\\u043f\\u0440\\u0443\\u0448\\u0435\\u0432\\u0441\\u043a\\u0438\\u0439\", \"\\u043f\\u0448\\u0435\\u043d\\u0438\\u0446\\u0430\", \"\\u0440\\u0430\\u0431\\u043e\\u0442\\u0430\", \"\\u0440\\u0430\\u0431\\u043e\\u0442\\u0430\", \"\\u0440\\u0430\\u0431\\u043e\\u0442\\u0430\", \"\\u0440\\u0430\\u0431\\u043e\\u0442\\u0430\", \"\\u0440\\u0430\\u0431\\u043e\\u0447\\u0438\\u0439\", \"\\u0440\\u0430\\u0431\\u043e\\u0447\\u0438\\u0439\", \"\\u0440\\u0430\\u0431\\u043e\\u0447\\u0438\\u0439\", \"\\u0440\\u0435\\u0433\\u0435\\u043d\\u0442\", \"\\u0440\\u0438\\u0437\\u0438\\u043d\", \"\\u0440\\u0438\\u043c\\u0441\\u043a\\u0438\\u0439\", \"\\u0440\\u0438\\u043c\\u0441\\u043a\\u0438\\u0439\", \"\\u0440\\u043e\\u0434\\u0438\\u043c\\u0446\\u0435\\u0432\", \"\\u0440\\u043e\\u0434\\u0438\\u0442\\u0435\\u043b\\u044c\\u0441\\u043a\\u0438\\u0439\", \"\\u0440\\u043e\\u0434\\u0438\\u0442\\u0435\\u043b\\u044c\\u0441\\u043a\\u0438\\u0439\", \"\\u0440\\u043e\\u0434\\u0438\\u0442\\u0435\\u043b\\u044c\\u0441\\u043a\\u0438\\u0439\", \"\\u0440\\u043e\\u0437\\u043e\\u0432\\u044b\\u0439\", \"\\u0440\\u043e\\u0437\\u043e\\u0432\\u044b\\u0439\", \"\\u0440\\u043e\\u0437\\u043e\\u0432\\u044b\\u0439\", \"\\u0440\\u043e\\u0437\\u043e\\u0432\\u044b\\u0439\", \"\\u0440\\u0443\\u043a\\u0430\", \"\\u0440\\u0443\\u043a\\u0430\", \"\\u0440\\u0443\\u043a\\u0430\", \"\\u0440\\u0443\\u043a\\u0430\", \"\\u0441\\u0430\\u0434\", \"\\u0441\\u0430\\u0434\", \"\\u0441\\u0430\\u0434\", \"\\u0441\\u0430\\u043c\\u044b\\u0439\", \"\\u0441\\u0430\\u043c\\u044b\\u0439\", \"\\u0441\\u0430\\u043c\\u044b\\u0439\", \"\\u0441\\u0430\\u043c\\u044b\\u0439\", \"\\u0441\\u0430\\u0444\\u0440\\u043e\\u043d\\u043e\\u0432\", \"\\u0441\\u0430\\u0444\\u0440\\u043e\\u043d\\u043e\\u0432\", \"\\u0441\\u0435\\u043a\\u0440\\u0435\\u0442\\u0430\\u0440\\u044c\", \"\\u0441\\u0435\\u043a\\u0440\\u0435\\u0442\\u0430\\u0440\\u044c\", \"\\u0441\\u0435\\u043a\\u0440\\u0435\\u0442\\u0430\\u0440\\u044c\", \"\\u0441\\u0435\\u043a\\u0443\\u043d\\u0434\\u0430\", \"\\u0441\\u0435\\u043a\\u0443\\u043d\\u0434\\u0430\", \"\\u0441\\u0435\\u043a\\u0443\\u043d\\u0434\\u0430\", \"\\u0441\\u0435\\u043a\\u0443\\u043d\\u0434\\u0430\", \"\\u0441\\u0438\\u0434\\u0435\\u0442\\u044c\", \"\\u0441\\u0438\\u0434\\u0435\\u0442\\u044c\", \"\\u0441\\u0438\\u0434\\u0435\\u0442\\u044c\", \"\\u0441\\u0438\\u0434\\u0435\\u0442\\u044c\", \"\\u0441\\u0438\\u043b\\u0430\", \"\\u0441\\u0438\\u043b\\u0430\", \"\\u0441\\u0438\\u043b\\u0430\", \"\\u0441\\u0438\\u043b\\u0430\", \"\\u0441\\u043a\\u0432\\u043e\\u0437\\u044c\", \"\\u0441\\u043a\\u0432\\u043e\\u0437\\u044c\", \"\\u0441\\u043a\\u0432\\u043e\\u0437\\u044c\", \"\\u0441\\u043a\\u0432\\u043e\\u0437\\u044c\", \"\\u0441\\u043a\\u043b\\u0430\\u0434\\u043e\\u0447\\u043a\\u0430\", \"\\u0441\\u043a\\u0440\\u0438\\u0436\\u0430\\u043b\\u044c\", \"\\u0441\\u043a\\u0440\\u0438\\u0436\\u0430\\u043b\\u044c\", \"\\u0441\\u043b\\u043e\\u0432\\u043e\", \"\\u0441\\u043b\\u043e\\u0432\\u043e\", \"\\u0441\\u043b\\u043e\\u0432\\u043e\", \"\\u0441\\u043b\\u043e\\u0432\\u043e\", \"\\u0441\\u043c\\u043e\\u0442\\u0440\\u0435\\u0442\\u044c\", \"\\u0441\\u043c\\u043e\\u0442\\u0440\\u0435\\u0442\\u044c\", \"\\u0441\\u043c\\u043e\\u0442\\u0440\\u0435\\u0442\\u044c\", \"\\u0441\\u043c\\u043e\\u0442\\u0440\\u0435\\u0442\\u044c\", \"\\u0441\\u043e\\u0432\\u0435\\u0440\\u0448\\u0435\\u043d\\u043d\\u043e\", \"\\u0441\\u043e\\u0432\\u0435\\u0440\\u0448\\u0435\\u043d\\u043d\\u043e\", \"\\u0441\\u043e\\u0432\\u0435\\u0440\\u0448\\u0435\\u043d\\u043d\\u043e\", \"\\u0441\\u043e\\u0432\\u0435\\u0440\\u0448\\u0435\\u043d\\u043d\\u043e\", \"\\u0441\\u043e\\u0432\\u0445\\u043e\\u0437\\u043d\\u044b\\u0439\", \"\\u0441\\u043e\\u043b\\u043d\\u0446\\u0435\", \"\\u0441\\u043e\\u043b\\u043d\\u0446\\u0435\", \"\\u0441\\u043e\\u043b\\u043d\\u0446\\u0435\", \"\\u0441\\u043e\\u043b\\u043d\\u0446\\u0435\", \"\\u0441\\u043e\\u043d\\u044f\", \"\\u0441\\u043e\\u0446\\u0438\\u0430\\u043b\\u0438\\u0437\\u043c\", \"\\u0441\\u043e\\u0446\\u0438\\u0430\\u043b\\u0438\\u0437\\u043c\", \"\\u0441\\u043e\\u0446\\u0438\\u0430\\u043b\\u0438\\u0437\\u043c\", \"\\u0441\\u043f\\u0430\\u0442\\u044c\", \"\\u0441\\u043f\\u0430\\u0442\\u044c\", \"\\u0441\\u043f\\u0430\\u0442\\u044c\", \"\\u0441\\u043f\\u0430\\u0442\\u044c\", \"\\u0441\\u0440\\u0435\\u0434\\u0438\", \"\\u0441\\u0440\\u0435\\u0434\\u0438\", \"\\u0441\\u0440\\u0435\\u0434\\u0438\", \"\\u0441\\u0440\\u0435\\u0434\\u0438\", \"\\u0441\\u0442\\u0430\\u043d\\u043e\\u0432\\u0438\\u0442\\u044c\\u0441\\u044f\", \"\\u0441\\u0442\\u0430\\u043d\\u043e\\u0432\\u0438\\u0442\\u044c\\u0441\\u044f\", \"\\u0441\\u0442\\u0430\\u043d\\u043e\\u0432\\u0438\\u0442\\u044c\\u0441\\u044f\", \"\\u0441\\u0442\\u0430\\u043d\\u043e\\u0432\\u0438\\u0442\\u044c\\u0441\\u044f\", \"\\u0441\\u0442\\u0435\\u043a\\u043b\\u044f\\u043d\\u043d\\u044b\\u0439\", \"\\u0441\\u0442\\u0435\\u043a\\u043b\\u044f\\u043d\\u043d\\u044b\\u0439\", \"\\u0441\\u0442\\u0435\\u043a\\u043b\\u044f\\u043d\\u043d\\u044b\\u0439\", \"\\u0441\\u0442\\u0435\\u043a\\u043b\\u044f\\u043d\\u043d\\u044b\\u0439\", \"\\u0441\\u0442\\u0435\\u043d\\u0430\", \"\\u0441\\u0442\\u0435\\u043d\\u0430\", \"\\u0441\\u0442\\u0435\\u043d\\u0430\", \"\\u0441\\u0442\\u0435\\u043d\\u0430\", \"\\u0441\\u0442\\u0435\\u043f\\u0430\", \"\\u0441\\u0442\\u0435\\u043f\\u0430\", \"\\u0441\\u0442\\u0435\\u043f\\u0430\", \"\\u0441\\u0442\\u0435\\u043f\\u043d\\u043e\\u0439\", \"\\u0441\\u0442\\u0435\\u0440\\u0432\\u044f\\u0442\\u043d\\u0438\\u043a\", \"\\u0441\\u0442\\u043e\\u043b\", \"\\u0441\\u0442\\u043e\\u043b\", \"\\u0441\\u0442\\u043e\\u043b\", \"\\u0441\\u0442\\u043e\\u043b\", \"\\u0441\\u0442\\u043e\\u044f\\u0442\\u044c\", \"\\u0441\\u0442\\u043e\\u044f\\u0442\\u044c\", \"\\u0441\\u0442\\u043e\\u044f\\u0442\\u044c\", \"\\u0441\\u0442\\u043e\\u044f\\u0442\\u044c\", \"\\u0442\\u0430\\u043b\\u043e\\u043d\", \"\\u0442\\u0430\\u043b\\u043e\\u043d\", \"\\u0442\\u0430\\u043b\\u043e\\u043d\", \"\\u0442\\u0430\\u0442\\u0430\\u0440\\u0438\\u043d\", \"\\u0442\\u0430\\u0442\\u0430\\u0440\\u0438\\u043d\", \"\\u0442\\u0435\\u043b\\u043e\", \"\\u0442\\u0435\\u043b\\u043e\", \"\\u0442\\u0435\\u043b\\u043e\", \"\\u0442\\u0435\\u043b\\u043e\", \"\\u0442\\u043e\\u0432\\u0430\\u0440\\u0438\\u0449\", \"\\u0442\\u043e\\u0432\\u0430\\u0440\\u0438\\u0449\", \"\\u0442\\u043e\\u0432\\u0430\\u0440\\u0438\\u0449\", \"\\u0442\\u043e\\u0432\\u0430\\u0440\\u0438\\u0449\", \"\\u0442\\u0440\\u0435\\u0443\\u0433\\u043e\\u043b\\u044c\\u043d\\u0438\\u043a\", \"\\u0442\\u0440\\u0435\\u0443\\u0433\\u043e\\u043b\\u044c\\u043d\\u0438\\u043a\", \"\\u0442\\u0440\\u0435\\u0443\\u0433\\u043e\\u043b\\u044c\\u043d\\u0438\\u043a\", \"\\u0442\\u0440\\u0435\\u0443\\u0433\\u043e\\u043b\\u044c\\u043d\\u0438\\u043a\", \"\\u0442\\u0440\\u0443\\u0431\\u043a\\u0430\", \"\\u0442\\u0440\\u0443\\u0431\\u043a\\u0430\", \"\\u0442\\u0440\\u0443\\u0431\\u043a\\u0430\", \"\\u0442\\u0440\\u0443\\u0431\\u043a\\u0430\", \"\\u0443\\u0431\\u0438\\u0432\\u0430\\u0442\\u044c\", \"\\u0443\\u0431\\u0438\\u0432\\u0430\\u0442\\u044c\", \"\\u0443\\u0431\\u0438\\u0432\\u0430\\u0442\\u044c\", \"\\u0443\\u0431\\u0438\\u0432\\u0430\\u0442\\u044c\", \"\\u0443\\u0432\\u0438\\u0434\\u0435\\u0442\\u044c\", \"\\u0443\\u0432\\u0438\\u0434\\u0435\\u0442\\u044c\", \"\\u0443\\u0432\\u0438\\u0434\\u0435\\u0442\\u044c\", \"\\u0443\\u0432\\u0438\\u0434\\u0435\\u0442\\u044c\", \"\\u0443\\u043b\\u044b\\u0431\\u043a\\u0430\", \"\\u0443\\u043b\\u044b\\u0431\\u043a\\u0430\", \"\\u0443\\u043b\\u044b\\u0431\\u043a\\u0430\", \"\\u0443\\u043b\\u044b\\u0431\\u043a\\u0430\", \"\\u0443\\u0440\\u0430\\u0432\\u043d\\u0435\\u043d\\u0438\\u0435\", \"\\u0443\\u0445\\u043e\\u0434\\u0438\\u0442\\u044c\", \"\\u0443\\u0445\\u043e\\u0434\\u0438\\u0442\\u044c\", \"\\u0443\\u0445\\u043e\\u0434\\u0438\\u0442\\u044c\", \"\\u0443\\u0445\\u043e\\u0434\\u0438\\u0442\\u044c\", \"\\u0444\\u0435\\u0432\\u0440\\u0430\\u043b\\u044c\", \"\\u0444\\u0435\\u0434\\u0435\\u0440\\u0430\\u0442\\u043e\\u0432\\u043d\\u0430\", \"\\u0444\\u0435\\u044f\", \"\\u0444\\u0438\\u043d\\u0434\\u0438\\u0440\\u0435\\u043a\\u0442\\u043e\\u0440\", \"\\u0444\\u0438\\u0442\\u044c\", \"\\u0444\\u0440\\u0430\\u043d\\u0446\\u0435\\u0432\\u043d\\u0430\", \"\\u0445\\u0430\\u0442\\u0430\", \"\\u0445\\u043b\\u043e\\u0440\\u043e\\u0444\\u043e\\u0440\\u043c\\u0430\\u0442\\u043e\\u0440\", \"\\u0445\\u043e\", \"\\u0445\\u043e\\u0434\\u0438\\u0442\\u044c\", \"\\u0445\\u043e\\u0434\\u0438\\u0442\\u044c\", \"\\u0445\\u043e\\u0434\\u0438\\u0442\\u044c\", \"\\u0445\\u043e\\u0434\\u0438\\u0442\\u044c\", \"\\u0445\\u043e\\u0442\\u0435\\u0442\\u044c\", \"\\u0445\\u043e\\u0442\\u0435\\u0442\\u044c\", \"\\u0445\\u043e\\u0442\\u0435\\u0442\\u044c\", \"\\u0445\\u043e\\u0442\\u0435\\u0442\\u044c\", \"\\u0445\\u0440\\u0430\\u043d\\u0438\\u0442\\u0435\\u043b\\u044c\", \"\\u0445\\u0440\\u0430\\u043d\\u0438\\u0442\\u0435\\u043b\\u044c\", \"\\u0445\\u0440\\u0430\\u043d\\u0438\\u0442\\u0435\\u043b\\u044c\", \"\\u0446\\u0435\", \"\\u0447\\u0435\\u043b\\u043e\\u0432\\u0435\\u043a\", \"\\u0447\\u0435\\u043b\\u043e\\u0432\\u0435\\u043a\", \"\\u0447\\u0435\\u043b\\u043e\\u0432\\u0435\\u043a\", \"\\u0447\\u0435\\u043b\\u043e\\u0432\\u0435\\u043a\", \"\\u0447\\u0435\\u043b\\u043e\\u0432\\u0435\\u0447\\u0438\\u0439\", \"\\u0447\\u0435\\u043b\\u043e\\u0432\\u0435\\u0447\\u0438\\u0439\", \"\\u0447\\u0435\\u043b\\u043e\\u0432\\u0435\\u0447\\u0438\\u0439\", \"\\u0447\\u0435\\u0440\\u0432\\u043e\\u043d\\u0435\\u0446\", \"\\u0447\\u0442\\u043e-\\u0442\\u043e\", \"\\u0447\\u0442\\u043e-\\u0442\\u043e\", \"\\u0447\\u0442\\u043e-\\u0442\\u043e\", \"\\u0447\\u0442\\u043e-\\u0442\\u043e\", \"\\u0447\\u0443\\u0432\\u0441\\u0442\\u0432\\u043e\\u0432\\u0430\\u0442\\u044c\", \"\\u0447\\u0443\\u0432\\u0441\\u0442\\u0432\\u043e\\u0432\\u0430\\u0442\\u044c\", \"\\u0447\\u0443\\u0432\\u0441\\u0442\\u0432\\u043e\\u0432\\u0430\\u0442\\u044c\", \"\\u0447\\u0443\\u0432\\u0441\\u0442\\u0432\\u043e\\u0432\\u0430\\u0442\\u044c\", \"\\u0448\\u0430\\u0440\\u0438\\u043a\\u043e\\u0432\", \"\\u0448\\u0432\\u043e\\u043d\\u0434\\u0435\\u0440\", \"\\u0448\\u0432\\u043e\\u043d\\u0434\\u0435\\u0440\", \"\\u0448\\u0442\\u0430\\u0431\", \"\\u0448\\u0442\\u0430\\u0431\", \"\\u0448\\u0442\\u0430\\u0431\", \"\\u0448\\u0442\\u0430\\u0431\\u043d\\u043e\\u0439\", \"\\u0448\\u0442\\u0430\\u0431\\u043d\\u043e\\u0439\", \"\\u0448\\u0442\\u043e\\u0440\\u0430\", \"\\u0448\\u0442\\u043e\\u0440\\u0430\", \"\\u044d\\u043b\\u043b\\u0438\\u043d\\u0433\", \"\\u044d\\u043b\\u044c\\u0432\\u0438\\u0440\\u0430\", \"\\u044e\\u043b\\u044f\", \"\\u044e\\u043b\\u044f\", \"\\u044e\\u043d\\u0438\\u0444\", \"\\u044e\\u043d\\u0438\\u0444\\u0430\", \"\\u044f\\u0439\\u0446\\u043e\", \"\\u044f\\u0439\\u0446\\u043e\", \"\\u044f\\u0439\\u0446\\u043e\", \"\\u044f\\u0441\\u043d\\u043e\", \"\\u044f\\u0441\\u043d\\u043e\", \"\\u044f\\u0441\\u043d\\u043e\", \"\\u044f\\u0441\\u043d\\u043e\", \"\\u044f\\u0441\\u0442\\u0440\\u0435\\u0431\"]}, \"R\": 30, \"lambda.step\": 0.01, \"plot.opts\": {\"xlab\": \"PC1\", \"ylab\": \"PC2\"}, \"topic.order\": [3, 1, 4, 2]};\n",
       "\n",
       "function LDAvis_load_lib(url, callback){\n",
       "  var s = document.createElement('script');\n",
       "  s.src = url;\n",
       "  s.async = true;\n",
       "  s.onreadystatechange = s.onload = callback;\n",
       "  s.onerror = function(){console.warn(\"failed to load library \" + url);};\n",
       "  document.getElementsByTagName(\"head\")[0].appendChild(s);\n",
       "}\n",
       "\n",
       "if(typeof(LDAvis) !== \"undefined\"){\n",
       "   // already loaded: just create the visualization\n",
       "   !function(LDAvis){\n",
       "       new LDAvis(\"#\" + \"ldavis_el330248202390082293298574\", ldavis_el330248202390082293298574_data);\n",
       "   }(LDAvis);\n",
       "}else if(typeof define === \"function\" && define.amd){\n",
       "   // require.js is available: use it to load d3/LDAvis\n",
       "   require.config({paths: {d3: \"https://cdnjs.cloudflare.com/ajax/libs/d3/3.5.5/d3.min\"}});\n",
       "   require([\"d3\"], function(d3){\n",
       "      window.d3 = d3;\n",
       "      LDAvis_load_lib(\"https://cdn.rawgit.com/bmabey/pyLDAvis/files/ldavis.v1.0.0.js\", function(){\n",
       "        new LDAvis(\"#\" + \"ldavis_el330248202390082293298574\", ldavis_el330248202390082293298574_data);\n",
       "      });\n",
       "    });\n",
       "}else{\n",
       "    // require.js not available: dynamically load d3 & LDAvis\n",
       "    LDAvis_load_lib(\"https://cdnjs.cloudflare.com/ajax/libs/d3/3.5.5/d3.min.js\", function(){\n",
       "         LDAvis_load_lib(\"https://cdn.rawgit.com/bmabey/pyLDAvis/files/ldavis.v1.0.0.js\", function(){\n",
       "                 new LDAvis(\"#\" + \"ldavis_el330248202390082293298574\", ldavis_el330248202390082293298574_data);\n",
       "            })\n",
       "         });\n",
       "}\n",
       "</script>"
      ],
      "text/plain": [
       "PreparedData(topic_coordinates=            Freq  cluster  topics         x         y\n",
       "topic                                                \n",
       "2      47.342695        1       1 -0.051203 -0.004676\n",
       "0      26.398423        1       2 -0.016523 -0.087657\n",
       "3      16.867803        1       3 -0.054007  0.073563\n",
       "1       9.391079        1       4  0.121733  0.018771, topic_info=      Category        Freq         Term        Total  loglift  logprob\n",
       "term                                                                  \n",
       "204    Default  774.000000         глаз   774.000000  30.0000  30.0000\n",
       "1011   Default  298.000000    профессор   298.000000  29.0000  29.0000\n",
       "1088   Default  796.000000         рука   796.000000  28.0000  28.0000\n",
       "1201   Default  196.000000        стена   196.000000  27.0000  27.0000\n",
       "452    Default  404.000000     какой-то   404.000000  26.0000  26.0000\n",
       "8462   Default   78.000000            i    78.000000  25.0000  25.0000\n",
       "2345   Default   99.000000      древний    99.000000  24.0000  24.0000\n",
       "928    Default  372.000000     понимать   372.000000  23.0000  23.0000\n",
       "671    Default  359.000000          наш   359.000000  22.0000  22.0000\n",
       "1436   Default   94.000000         ясно    94.000000  21.0000  21.0000\n",
       "253    Default  291.000000        дверь   291.000000  20.0000  20.0000\n",
       "1098   Default  407.000000        самый   407.000000  19.0000  19.0000\n",
       "1082   Default   92.000000      розовый    92.000000  18.0000  18.0000\n",
       "223    Default  123.000000         гора   123.000000  17.0000  17.0000\n",
       "622    Default  499.000000         мочь   499.000000  16.0000  16.0000\n",
       "13080  Default   85.000000        балка    85.000000  15.0000  15.0000\n",
       "4530   Default  249.000000       солнце   249.000000  14.0000  14.0000\n",
       "268    Default  573.000000         день   573.000000  13.0000  13.0000\n",
       "1173   Default  171.000000   совершенно   171.000000  12.0000  12.0000\n",
       "241    Default  120.000000         губа   120.000000  11.0000  11.0000\n",
       "7761   Default   58.000000       единый    58.000000  10.0000  10.0000\n",
       "4784   Default  144.000000         море   144.000000   9.0000   9.0000\n",
       "1393   Default  193.000000  чувствовать   193.000000   8.0000   8.0000\n",
       "8148   Default   62.000000  государство    62.000000   7.0000   7.0000\n",
       "214    Default  479.000000       голова   479.000000   6.0000   6.0000\n",
       "1865   Default  420.000000     отвечать   420.000000   5.0000   5.0000\n",
       "456    Default  121.000000       камень   121.000000   4.0000   4.0000\n",
       "431    Default  107.000000       именно   107.000000   3.0000   3.0000\n",
       "2129   Default   75.000000   стеклянный    75.000000   2.0000   2.0000\n",
       "843    Default   99.000000          пес    99.000000   1.0000   1.0000\n",
       "...        ...         ...          ...          ...      ...      ...\n",
       "6683    Topic4   32.441592        степа    67.578627   1.6316  -6.3890\n",
       "2869    Topic4   28.668898        вверх    57.486611   1.6697  -6.5126\n",
       "5070    Topic4   19.971246         бюро    33.648557   1.8437  -6.8741\n",
       "126     Topic4   34.055379         вниз    76.669551   1.5539  -6.3404\n",
       "241     Topic4   41.976661         губа   120.223444   1.3132  -6.1313\n",
       "204     Topic4  113.977340         глаз   774.832693   0.4488  -5.1324\n",
       "272     Topic4   25.950497        дикий    54.994988   1.6144  -6.6122\n",
       "2827    Topic4   28.271621       улыбка    64.555913   1.5397  -6.5266\n",
       "786     Topic4   25.030500       острый    51.951521   1.6352  -6.6483\n",
       "1088    Topic4  106.331230         рука   796.088060   0.3523  -5.2018\n",
       "452     Topic4   72.822219     какой-то   404.705501   0.6503  -5.5804\n",
       "928     Topic4   68.753664     понимать   372.054009   0.6769  -5.6379\n",
       "671     Topic4   63.055732          наш   359.957531   0.6234  -5.7244\n",
       "1098    Topic4   64.566016        самый   407.840896   0.5222  -5.7007\n",
       "2083    Topic4   36.374891       сквозь   117.125196   1.1960  -6.2745\n",
       "622     Topic4   68.642885         мочь   499.201778   0.3813  -5.6395\n",
       "431     Topic4   34.597107       именно   107.265311   1.2339  -6.3246\n",
       "268     Topic4   58.064622         день   573.406981   0.0754  -5.8069\n",
       "102     Topic4   55.567826         весь   561.921163   0.0517  -5.8508\n",
       "253     Topic4   45.332805        дверь   291.921257   0.5030  -6.0544\n",
       "1367    Topic4   47.791757       хотеть   404.035938   0.2308  -6.0016\n",
       "2237    Topic4   42.096172       что-то   259.162227   0.5479  -6.1285\n",
       "214     Topic4   48.419358       голова   479.284252   0.0730  -5.9885\n",
       "559     Topic4   47.547205         лицо   487.519420   0.0378  -6.0067\n",
       "1295    Topic4   40.954055      увидеть   253.717187   0.5416  -6.1560\n",
       "4530    Topic4   39.259458       солнце   249.320546   0.5169  -6.1982\n",
       "1149    Topic4   40.304715        слово   392.110212   0.0903  -6.1719\n",
       "1379    Topic4   43.014967      человек  1381.250794  -1.1038  -6.1069\n",
       "4268    Topic4   37.311905          мир   242.317612   0.4945  -6.2491\n",
       "816     Topic4   37.102221        очень   333.253156   0.1702  -6.2547\n",
       "\n",
       "[352 rows x 6 columns], token_table=       Topic      Freq           Term\n",
       "term                                 \n",
       "7667       1  0.061238             - \n",
       "7667       2  0.091857             - \n",
       "7667       3  0.857332             - \n",
       "2673       1  0.125164             13\n",
       "2673       2  0.125164             13\n",
       "2673       3  0.041721             13\n",
       "2673       4  0.709264             13\n",
       "22356      4  0.979006            330\n",
       "22357      4  0.976258            503\n",
       "22359      4  0.970753             90\n",
       "8462       1  0.025364              i\n",
       "8462       2  0.012682              i\n",
       "8462       4  0.951148              i\n",
       "22362      4  0.970190              r\n",
       "12596      4  0.981774              s\n",
       "20149      3  0.977989           аааа\n",
       "7044       2  0.977930  администратор\n",
       "18433      1  0.954754           айна\n",
       "15656      2  0.971039           аким\n",
       "15656      3  0.029425           аким\n",
       "18986      1  0.975220          актив\n",
       "19696      1  0.986150       активист\n",
       "19696      2  0.010166       активист\n",
       "7686       2  0.958965        альфред\n",
       "4058       2  0.941511        аннушка\n",
       "2267       1  0.948864       арестант\n",
       "2267       2  0.022592       арестант\n",
       "2267       3  0.022592       арестант\n",
       "22375      4  0.956687     аудиториум\n",
       "22533      4  0.981766           аэро\n",
       "...      ...       ...            ...\n",
       "2237       3  0.104182         что-то\n",
       "2237       4  0.162061         что-то\n",
       "1393       1  0.646202    чувствовать\n",
       "1393       2  0.056866    чувствовать\n",
       "1393       3  0.108562    чувствовать\n",
       "1393       4  0.191276    чувствовать\n",
       "1400       2  0.982684        шариков\n",
       "2240       2  0.948679        швондер\n",
       "2240       3  0.033881        швондер\n",
       "9982       1  0.307578           штаб\n",
       "9982       2  0.030758           штаб\n",
       "9982       3  0.661293           штаб\n",
       "13436      1  0.077995        штабной\n",
       "13436      3  0.935941        штабной\n",
       "2664       2  0.287440          штора\n",
       "2664       4  0.679403          штора\n",
       "22518      4  0.970787         эллинг\n",
       "23469      3  0.978053        эльвира\n",
       "20455      2  0.055774            юля\n",
       "20455      3  0.892385            юля\n",
       "22521      4  0.931258           юниф\n",
       "22522      4  0.943628          юнифа\n",
       "6026       1  0.134797           яйцо\n",
       "6026       2  0.808780           яйцо\n",
       "6026       3  0.067398           яйцо\n",
       "1436       1  0.276365           ясно\n",
       "1436       2  0.085035           ясно\n",
       "1436       3  0.042518           ясно\n",
       "1436       4  0.595247           ясно\n",
       "20460      3  0.978099         ястреб\n",
       "\n",
       "[667 rows x 3 columns], R=30, lambda_step=0.01, plot_opts={'xlab': 'PC1', 'ylab': 'PC2'}, topic_order=[3, 1, 4, 2])"
      ]
     },
     "execution_count": 16,
     "metadata": {},
     "output_type": "execute_result"
    }
   ],
   "source": [
    "import pyLDAvis.gensim\n",
    "pyLDAvis.enable_notebook()\n",
    "pyLDAvis.gensim.prepare(ldamodel, doc_term_matrixb, dictionaryb)"
   ]
  },
  {
   "cell_type": "code",
   "execution_count": null,
   "metadata": {},
   "outputs": [],
   "source": []
  }
 ],
 "metadata": {
  "kernelspec": {
   "display_name": "Python 3",
   "language": "python",
   "name": "python3"
  },
  "language_info": {
   "codemirror_mode": {
    "name": "ipython",
    "version": 3
   },
   "file_extension": ".py",
   "mimetype": "text/x-python",
   "name": "python",
   "nbconvert_exporter": "python",
   "pygments_lexer": "ipython3",
   "version": "3.6.5"
  }
 },
 "nbformat": 4,
 "nbformat_minor": 2
}
